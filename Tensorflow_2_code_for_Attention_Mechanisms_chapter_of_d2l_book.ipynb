{
 "cells": [
  {
   "cell_type": "markdown",
   "metadata": {},
   "source": [
    "\n",
    "# <center>Tensorflow 2 code for Attention Mechanisms chapter of Dive into Deep Learning (D2L) book</center>\n",
    "Author: [Biswajit Sahoo](https://biswajitsahoo1111.github.io/)"
   ]
  },
  {
   "cell_type": "markdown",
   "metadata": {},
   "source": [
    "<table class=\"tfo-notebook-buttons\" align=\"center\">\n",
    "  \n",
    "  <tr>\n",
    "  <td align=\"center\">\n",
    "    <a href=\"https://github.com/biswajitsahoo1111/D2L_Attention_Mechanisms_in_TF\"><img src=\"https://www.tensorflow.org/images/GitHub-Mark-32px.png\" />View source on GitHub</a>\n",
    "  </td>\n",
    "  \n",
    "  <td align=\"center\">\n",
    "    <a href=\"https://codeload.github.com/biswajitsahoo1111/D2L_Attention_Mechanisms_in_TF/zip/master\"><img src=\"https://www.tensorflow.org/images/download_logo_32px.png\" />Download code (.zip)</a>\n",
    "  </td>\n",
    "  </tr>\n",
    "\n",
    "</table>"
   ]
  },
  {
   "cell_type": "markdown",
   "metadata": {},
   "source": [
    "This post contains `Tensorflow 2` code for Attention Mechanisms chapter of [Dive into Deep Learning (D2L)](http://d2l.ai/) book. The chapter has 7 sections and code for each section can be found at the following links. We have given only code implementations. For theory, readers should refer the book.\n",
    "\n",
    "10.1. [Attention Cues](https://github.com/biswajitsahoo1111/D2L_Attention_Mechanisms_in_TF/blob/master/10_1_Visualization_of_attention.ipynb)\n",
    "\n",
    "10.2. [Attention Pooling: Nadaraya-Watson Kernel Regression](https://github.com/biswajitsahoo1111/D2L_Attention_Mechanisms_in_TF/blob/master/10_2_Attention_based_regression.ipynb)\n",
    "\n",
    "10.3. [Attention Scoring Functions](https://github.com/biswajitsahoo1111/D2L_Attention_Mechanisms_in_TF/blob/master/10_3_Attention_scoring_functions.ipynb)\n",
    "\n",
    "10.4. [Bahdanau Attention](https://github.com/biswajitsahoo1111/D2L_Attention_Mechanisms_in_TF/blob/master/10_4_Bahdanau_attention.ipynb)\n",
    "\n",
    "10.5. [Multi-Head Attention](https://github.com/biswajitsahoo1111/D2L_Attention_Mechanisms_in_TF/blob/master/10_5_Multi-head_attention.ipynb)\n",
    "\n",
    "10.6. [Self-Attention and Positional Encoding](https://github.com/biswajitsahoo1111/D2L_Attention_Mechanisms_in_TF/blob/master/10_6_Self-attention_and_positional_encoding.ipynb)\n",
    "\n",
    "10.7. [Transformer](https://github.com/biswajitsahoo1111/D2L_Attention_Mechanisms_in_TF/blob/master/10_7_Transformer.ipynb)\n",
    "\n",
    "### Additional sections:\n",
    "\n",
    "9.7. [Sequence to Sequence Learning](https://github.com/biswajitsahoo1111/D2L_Attention_Mechanisms_in_TF/blob/master/additional_sections/9_7_Sequence_to_Sequence_Learning.ipynb)\n",
    "\n",
    "### How to run these code:\n",
    "\n",
    "The best way (in our opinion) is to either clone the repo (or download the zipped repo) and then run each notebook from the cloned (or extracted) folder. All the notebooks will run without any issue.\n",
    "\n",
    "**Note**: We claim no originality for the code. Credit goes to the authors of this excellent [book](http://d2l.ai/). However, all errors and omissions are my own and readers are encouraged to bring it to my notice. Finally, no TF code was available (to the best of my knowledge) for `Attention Mechanisms` chapter when [this repo](https://github.com/biswajitsahoo1111/D2L_Attention_Mechanisms_in_TF) was first made public."
   ]
  }
 ],
 "metadata": {
  "kernelspec": {
   "display_name": "tf_24_env",
   "language": "python",
   "name": "tf_24_env"
  },
  "language_info": {
   "codemirror_mode": {
    "name": "ipython",
    "version": 3
   },
   "file_extension": ".py",
   "mimetype": "text/x-python",
   "name": "python",
   "nbconvert_exporter": "python",
   "pygments_lexer": "ipython3",
   "version": "3.8.5"
  }
 },
 "nbformat": 4,
 "nbformat_minor": 4
}
