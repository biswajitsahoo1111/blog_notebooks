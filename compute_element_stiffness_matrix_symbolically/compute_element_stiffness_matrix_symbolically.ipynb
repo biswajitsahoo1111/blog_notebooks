{
 "cells": [
  {
   "cell_type": "markdown",
   "metadata": {},
   "source": [
    "# Symbolically Computing the Stiffness Matrix of Rectangular Element used in Finite Element Analysis (FEA)\n",
    "In this notebook, we will try to compute the stiffness matrix of a rectangular element using symbolic computations in Julia. Traditionally in undergraduate curriculum, computations of stiffness matrix for different elements are taught using hand calculations. However, using symbolic calculations along with matrix notation it is straight forward to derive those matrices. Though MATLAB is still widely used in engineering courses and also contains symbolic computation module, we will use Julia as it is open source and Julia's matrix notations are nearly identical to that of MATLAB's. Steps to run this notebook in VS Code along with different required installations can be found [here](https://code.visualstudio.com/docs/languages/julia).\n",
    "\n",
    "Below, we will go over the steps followed to derive the element stiffness matrix. We will briefly go over the theory and use only the required equations. For a detailed exploration, readers are directed to the books mentioned in the references. Our example is focused on rectangular element only. However, the same approach can be followed for other elements with minor modifications.\n",
    "\n",
    "Steps to derive element stiffness matrix:\n",
    "1. Select the element type\n",
    "2. Select displacement function\n",
    "3. Define the strain-displacement and stress-strain relationships\n",
    "4. Derive the element stiffness matrix\n",
    "\n",
    "All the steps are briefly elaborated below along with the code to implement it. The notebook can be run from beginning to end sequentially to get the required results."
   ]
  },
  {
   "cell_type": "markdown",
   "metadata": {},
   "source": [
    "## 1. Select the element type\n",
    "### Bilinear Rectangle (Q4) Element\n",
    "\n",
    "![Image of Bilinear Rectangle (Q4) element](./rectangular_element_fea.png \"Bilinear Rectangle (Q4)\")\n",
    "\n",
    "The element has 4 nodes and 8 degrees of freedom. It's also called Q4 because it is a quadrilateral having 4 nodes. Standard counter-clockwise convention is used to name the nodes. "
   ]
  },
  {
   "cell_type": "markdown",
   "metadata": {},
   "source": [
    "First load the relevant libraries. If a library is not installed, follow the instructions given in [this link](https://docs.julialang.org/en/v1/stdlib/Pkg/) to download those."
   ]
  },
  {
   "cell_type": "code",
   "execution_count": 1,
   "metadata": {},
   "outputs": [],
   "source": [
    "using Symbolics, SymbolicNumericIntegration\n",
    "ENV[\"COLUMNS\"] = 240;  # For better display of symbolic columns"
   ]
  },
  {
   "cell_type": "markdown",
   "metadata": {},
   "source": [
    "The variables to be used in the symbolic computation are defined below."
   ]
  },
  {
   "cell_type": "code",
   "execution_count": 2,
   "metadata": {},
   "outputs": [],
   "source": [
    "@variables x y a b ν;   # Last symbol \"nu\" can be obtained in Julia by \"\\nu\" command."
   ]
  },
  {
   "cell_type": "markdown",
   "metadata": {},
   "source": [
    "## 2. Select the displacement function\n",
    "In FEA, usually we are interested in the values of certain field quantities (for e.g., displacement) at the nodes and between the nodes. Therefore, interpolation is used to devise a continuous function that satisfies prescribed conditions (for e.g., for a compatible displacement field, element displacement must be linear along the edge between two nodes) at the nodes. For the rectangular element, following displacement function is used\n",
    "$$u = a_1 + a_2x + a_3y + a_4 xy$$\n",
    "$$v = a_5 + a_6x + a_7y + a_8 xy$$\n",
    "Where, $a_1, a_2, \\ldots, a_8$ are called generalized degrees of freedom. In matrix form, it can be written as\n",
    "$$\\begin{bmatrix}\n",
    "u \\\\\n",
    "v \n",
    "\\end{bmatrix} = \n",
    "\\begin{bmatrix}\n",
    "1 & x & y & xy & 0 & 0 & 0 & 0 \\\\\n",
    "0 & 0 & 0 & 0 & 1 & x & y & xy\n",
    "\\end{bmatrix}\n",
    "\\begin{bmatrix}\n",
    "a_1 \\\\\n",
    "a_2 \\\\\n",
    "a_3 \\\\\n",
    "a_4 \\\\\n",
    "a_5 \\\\\n",
    "a_6 \\\\\n",
    "a_7 \\\\\n",
    "a_8\n",
    "\\end{bmatrix} = [X]_{2 \\times 8} [a]_{8 \\times 1}$$\n",
    "\n",
    "In terms of nodal displacements, the displacement functions can be written as\n",
    "\n",
    "$$\\begin{bmatrix}\n",
    "\\phi_1 \\\\\n",
    "\\phi_2 \\\\\n",
    "\\phi_3 \\\\\n",
    "\\phi_4 \\\\\n",
    "\\phi_5 \\\\\n",
    "\\phi_6 \\\\\n",
    "\\phi_7 \\\\\n",
    "\\phi_8 \n",
    "\\end{bmatrix} = \n",
    "\\begin{bmatrix}\n",
    "1 & -a & -b & ab & 0 & 0 & 0 & 0 \\\\\n",
    "0 & 0 & 0 & 0 & 1 & -a & -b & ab \\\\\n",
    "1 & a & -a & -ab & 0 & 0 & 0 & 0 \\\\\n",
    "0 & 0 & 0 & 0 & 1 & a & -b & -ab \\\\\n",
    "1 & a & b & ab & 0 & 0 & 0 & 0 \\\\\n",
    "0 & 0 & 0 & 0 & 1 & a & b & ab \\\\\n",
    "1 & -a & b & -ab & 0 & 0 & 0 & 0 \\\\\n",
    "0 & 0 & 0 & 0 & 1 & -a & b & -ab \\\\\n",
    "\\end{bmatrix}\n",
    "\\begin{bmatrix}\n",
    "a_1 \\\\\n",
    "a_2 \\\\\n",
    "a_3 \\\\\n",
    "a_4 \\\\\n",
    "a_5 \\\\\n",
    "a_6 \\\\\n",
    "a_7 \\\\\n",
    "a_8\n",
    "\\end{bmatrix} = [A]_{8 \\times 8} [a]_{8 \\times 1}\n",
    "$$\n",
    "\n",
    "Where displacements $\\phi_1$, $\\phi_2$, etc. are displacements at node 1, 2, etc. respectively. By substituting generalized coordinates obtained from nodal equations in displacement function, we get shape functions (or basis functions).\n",
    "\n",
    "$$\\begin{bmatrix}\n",
    "u \\\\\n",
    "v \n",
    "\\end{bmatrix} = [X]_{2 \\times 8} \n",
    "\\begin{bmatrix}\n",
    "a_1 \\\\\n",
    "a_2 \\\\\n",
    "a_3 \\\\\n",
    "a_4 \\\\\n",
    "a_5 \\\\\n",
    "a_6 \\\\\n",
    "a_7 \\\\\n",
    "a_8\n",
    "\\end{bmatrix} = [X]_{2 \\times 8} [A^{-1}]_{8 \\times 8}\n",
    "\\begin{bmatrix}\n",
    "\\phi_1 \\\\\n",
    "\\phi_2 \\\\\n",
    "\\phi_3 \\\\\n",
    "\\phi_4 \\\\\n",
    "\\phi_5 \\\\\n",
    "\\phi_6 \\\\\n",
    "\\phi_7 \\\\\n",
    "\\phi_8 \n",
    "\\end{bmatrix} = [N]_{2 \\times 8}\n",
    "\\begin{bmatrix}\n",
    "\\phi_1 \\\\\n",
    "\\phi_2 \\\\\n",
    "\\phi_3 \\\\\n",
    "\\phi_4 \\\\\n",
    "\\phi_5 \\\\\n",
    "\\phi_6 \\\\\n",
    "\\phi_7 \\\\\n",
    "\\phi_8 \n",
    "\\end{bmatrix}\n",
    "$$\n",
    "\n",
    "By running following code cells, we can obtain the expression for shape function matrix."
   ]
  },
  {
   "cell_type": "code",
   "execution_count": 3,
   "metadata": {},
   "outputs": [
    {
     "data": {
      "text/latex": [
       "$$ \\begin{equation}\n",
       "\\left[\n",
       "\\begin{array}{cccccccc}\n",
       "1 & x & y & x y & 0 & 0 & 0 & 0 \\\\\n",
       "0 & 0 & 0 & 0 & 1 & x & y & x y \\\\\n",
       "\\end{array}\n",
       "\\right]\n",
       "\\end{equation}\n",
       " $$"
      ],
      "text/plain": [
       "2×8 Matrix{Num}:\n",
       " 1  x  y  x*y  0  0  0    0\n",
       " 0  0  0    0  1  x  y  x*y"
      ]
     },
     "metadata": {},
     "output_type": "display_data"
    }
   ],
   "source": [
    "X = [1 x y x*y 0 0 0 0; 0 0 0 0 1 x y x*y]"
   ]
  },
  {
   "cell_type": "code",
   "execution_count": 4,
   "metadata": {},
   "outputs": [
    {
     "data": {
      "text/latex": [
       "$$ \\begin{equation}\n",
       "\\left[\n",
       "\\begin{array}{cccccccc}\n",
       "1 &  - a &  - b & a b & 0 & 0 & 0 & 0 \\\\\n",
       "0 & 0 & 0 & 0 & 1 &  - a &  - b & a b \\\\\n",
       "1 & a &  - b &  - a b & 0 & 0 & 0 & 0 \\\\\n",
       "0 & 0 & 0 & 0 & 1 & a &  - b &  - a b \\\\\n",
       "1 & a & b & a b & 0 & 0 & 0 & 0 \\\\\n",
       "0 & 0 & 0 & 0 & 1 & a & b & a b \\\\\n",
       "1 &  - a & b &  - a b & 0 & 0 & 0 & 0 \\\\\n",
       "0 & 0 & 0 & 0 & 1 &  - a & b &  - a b \\\\\n",
       "\\end{array}\n",
       "\\right]\n",
       "\\end{equation}\n",
       " $$"
      ],
      "text/plain": [
       "8×8 Matrix{Num}:\n",
       " 1  -a  -b   a*b  0   0   0     0\n",
       " 0   0   0     0  1  -a  -b   a*b\n",
       " 1   a  -b  -a*b  0   0   0     0\n",
       " 0   0   0     0  1   a  -b  -a*b\n",
       " 1   a   b   a*b  0   0   0     0\n",
       " 0   0   0     0  1   a   b   a*b\n",
       " 1  -a   b  -a*b  0   0   0     0\n",
       " 0   0   0     0  1  -a   b  -a*b"
      ]
     },
     "metadata": {},
     "output_type": "display_data"
    }
   ],
   "source": [
    "A = [1 -a -b a*b 0 0 0 0;\n",
    "    0 0 0 0 1 -a -b a*b;\n",
    "    1 a -b -a*b 0 0 0 0;\n",
    "    0 0 0 0 1 a -b -a*b;\n",
    "    1 a b a*b 0 0 0 0;\n",
    "    0 0 0 0 1 a b a*b;\n",
    "    1 -a b -a*b 0 0 0 0;\n",
    "    0 0 0 0 1 -a b -a*b]"
   ]
  },
  {
   "cell_type": "code",
   "execution_count": 5,
   "metadata": {},
   "outputs": [
    {
     "data": {
      "text/latex": [
       "$$ \\begin{equation}\n",
       "\\left[\n",
       "\\begin{array}{cccccccc}\n",
       "\\frac{1}{4} + \\frac{ - y}{4 b} + \\frac{x y}{4 a b} + \\frac{ - x}{4 a} & 0 & \\frac{1}{4} + \\frac{ - x y}{4 a b} + \\frac{ - y}{4 b} + \\frac{x}{4 a} & 0 & \\frac{1}{4} + \\frac{y}{4 b} + \\frac{x y}{4 a b} + \\frac{x}{4 a} & 0 & \\frac{1}{4} + \\frac{ - x y}{4 a b} + \\frac{y}{4 b} + \\frac{ - x}{4 a} & 0 \\\\\n",
       "0 & \\frac{1}{4} + \\frac{ - y}{4 b} + \\frac{x y}{4 a b} + \\frac{ - x}{4 a} & 0 & \\frac{1}{4} + \\frac{ - x y}{4 a b} + \\frac{ - y}{4 b} + \\frac{x}{4 a} & 0 & \\frac{1}{4} + \\frac{y}{4 b} + \\frac{x y}{4 a b} + \\frac{x}{4 a} & 0 & \\frac{1}{4} + \\frac{ - x y}{4 a b} + \\frac{y}{4 b} + \\frac{ - x}{4 a} \\\\\n",
       "\\end{array}\n",
       "\\right]\n",
       "\\end{equation}\n",
       " $$"
      ],
      "text/plain": [
       "2×8 Matrix{Num}:\n",
       " (1//4) + (-y) / (4b) + (x*y) / (4a*b) + (-x) / (4a)                                                 0//1  …  (1//4) + (-x*y) / (4a*b) + y / (4b) + (-x) / (4a)                                               0//1\n",
       "                                                0//1  (1//4) + (-y) / (4b) + (x*y) / (4a*b) + (-x) / (4a)                                                  0//1  (1//4) + (-x*y) / (4a*b) + y / (4b) + (-x) / (4a)"
      ]
     },
     "metadata": {},
     "output_type": "display_data"
    }
   ],
   "source": [
    "N = X * inv(A)"
   ]
  },
  {
   "cell_type": "markdown",
   "metadata": {},
   "source": [
    "### 3. Define strain-displacement and stress-strain relationship\n",
    "Using the definition of axial and shear strain, the strain-displacement equation (in matrix form) can be written as follows:\n",
    "$$\\begin{bmatrix}\n",
    "\\epsilon_x \\\\\n",
    "\\epsilon_y \\\\\n",
    "\\gamma_{xy}\n",
    "\\end{bmatrix} = \n",
    "\\begin{bmatrix}\n",
    "\\frac{\\partial}{\\partial x} & 0 \\\\\n",
    "0 & \\frac{\\partial}{\\partial y} \\\\\n",
    "\\frac{\\partial}{\\partial y} & \\frac{\\partial}{\\partial x}\n",
    "\\end{bmatrix}\n",
    "\\begin{bmatrix}\n",
    "u \\\\\n",
    "v\n",
    "\\end{bmatrix}\n",
    "$$\n",
    "In terms of nodal coordinates, the above equation can also be written as:\n",
    "$$\n",
    "\\begin{bmatrix}\n",
    "\\epsilon_x \\\\\n",
    "\\epsilon_y \\\\\n",
    "\\gamma_{xy}\n",
    "\\end{bmatrix} = \n",
    "\\begin{bmatrix}\n",
    "\\frac{\\partial}{\\partial x} & 0 \\\\\n",
    "0 & \\frac{\\partial}{\\partial y} \\\\\n",
    "\\frac{\\partial}{\\partial y} & \\frac{\\partial}{\\partial x}\n",
    "\\end{bmatrix}\n",
    "[N]_{2 \\times 8}\n",
    "\\begin{bmatrix}\n",
    "\\phi_1 \\\\\n",
    "\\phi_2 \\\\\n",
    "\\phi_3 \\\\\n",
    "\\phi_4 \\\\\n",
    "\\phi_5 \\\\\n",
    "\\phi_6 \\\\\n",
    "\\phi_7 \\\\\n",
    "\\phi_8 \n",
    "\\end{bmatrix} = \n",
    "[B]_{3 \\times 8}\n",
    "\\begin{bmatrix}\n",
    "\\phi_1 \\\\\n",
    "\\phi_2 \\\\\n",
    "\\phi_3 \\\\\n",
    "\\phi_4 \\\\\n",
    "\\phi_5 \\\\\n",
    "\\phi_6 \\\\\n",
    "\\phi_7 \\\\\n",
    "\\phi_8 \n",
    "\\end{bmatrix}\n",
    "$$\n",
    "\n",
    "We need the [B] matrix as that would be used in the computation of stiffness matrix. In the cell below we define the differentia operators with respect to x and y."
   ]
  },
  {
   "cell_type": "code",
   "execution_count": 6,
   "metadata": {},
   "outputs": [
    {
     "data": {
      "text/plain": [
       "(::Differential) (generic function with 3 methods)"
      ]
     },
     "metadata": {},
     "output_type": "display_data"
    }
   ],
   "source": [
    "D_x = Differential(x)\n",
    "D_y = Differential(y)"
   ]
  },
  {
   "cell_type": "markdown",
   "metadata": {},
   "source": [
    "Then we apply the operator to the first row of [N] matrix."
   ]
  },
  {
   "cell_type": "code",
   "execution_count": 7,
   "metadata": {},
   "outputs": [
    {
     "data": {
      "text/latex": [
       "$$ \\begin{equation}\n",
       "\\left[\n",
       "\\begin{array}{c}\n",
       "\\frac{-1}{4 a} + \\frac{y}{4 a b} \\\\\n",
       "0 \\\\\n",
       "\\frac{1}{4 a} + \\frac{ - y}{4 a b} \\\\\n",
       "0 \\\\\n",
       "\\frac{y}{4 a b} + \\frac{1}{4 a} \\\\\n",
       "0 \\\\\n",
       "\\frac{-1}{4 a} + \\frac{ - y}{4 a b} \\\\\n",
       "0 \\\\\n",
       "\\end{array}\n",
       "\\right]\n",
       "\\end{equation}\n",
       " $$"
      ],
      "text/plain": [
       "8-element Vector{Num}:\n",
       "    -1 / (4a) + y / (4a*b)\n",
       "                         0\n",
       "  1 / (4a) + (-y) / (4a*b)\n",
       "                         0\n",
       "     y / (4a*b) + 1 / (4a)\n",
       "                         0\n",
       " -1 / (4a) + (-y) / (4a*b)\n",
       "                         0"
      ]
     },
     "metadata": {},
     "output_type": "display_data"
    }
   ],
   "source": [
    "[expand_derivatives(D_x(item)) for item in N[1, :]]"
   ]
  },
  {
   "cell_type": "code",
   "execution_count": 8,
   "metadata": {},
   "outputs": [
    {
     "data": {
      "text/latex": [
       "$$ \\begin{equation}\n",
       "\\left[\n",
       "\\begin{array}{cccccccc}\n",
       "\\frac{-1}{4 a} + \\frac{y}{4 a b} & 0 & \\frac{1}{4 a} + \\frac{ - y}{4 a b} & 0 & \\frac{y}{4 a b} + \\frac{1}{4 a} & 0 & \\frac{-1}{4 a} + \\frac{ - y}{4 a b} & 0 \\\\\n",
       "0 & \\frac{x}{4 a b} + \\frac{-1}{4 b} & 0 & \\frac{ - x}{4 a b} + \\frac{-1}{4 b} & 0 & \\frac{x}{4 a b} + \\frac{1}{4 b} & 0 & \\frac{ - x}{4 a b} + \\frac{1}{4 b} \\\\\n",
       "\\frac{x}{4 a b} + \\frac{-1}{4 b} & \\frac{-1}{4 a} + \\frac{y}{4 a b} & \\frac{ - x}{4 a b} + \\frac{-1}{4 b} & \\frac{1}{4 a} + \\frac{ - y}{4 a b} & \\frac{x}{4 a b} + \\frac{1}{4 b} & \\frac{y}{4 a b} + \\frac{1}{4 a} & \\frac{ - x}{4 a b} + \\frac{1}{4 b} & \\frac{-1}{4 a} + \\frac{ - y}{4 a b} \\\\\n",
       "\\end{array}\n",
       "\\right]\n",
       "\\end{equation}\n",
       " $$"
      ],
      "text/plain": [
       "3×8 Matrix{Num}:\n",
       " -1 / (4a) + y / (4a*b)                       0   1 / (4a) + (-y) / (4a*b)                          0  y / (4a*b) + 1 / (4a)                      0  -1 / (4a) + (-y) / (4a*b)                          0\n",
       "                      0  x / (4a*b) + -1 / (4b)                          0  (-x) / (4a*b) + -1 / (4b)                      0  x / (4a*b) + 1 / (4b)                          0   (-x) / (4a*b) + 1 / (4b)\n",
       " x / (4a*b) + -1 / (4b)  -1 / (4a) + y / (4a*b)  (-x) / (4a*b) + -1 / (4b)   1 / (4a) + (-y) / (4a*b)  x / (4a*b) + 1 / (4b)  y / (4a*b) + 1 / (4a)   (-x) / (4a*b) + 1 / (4b)  -1 / (4a) + (-y) / (4a*b)"
      ]
     },
     "metadata": {},
     "output_type": "display_data"
    }
   ],
   "source": [
    "B = vcat([expand_derivatives(D_x(item)) for item in N[1, :]]',\n",
    "        [expand_derivatives(D_y(item)) for item in N[2, :]]',\n",
    "    [expand_derivatives(D_y(item)) for item in N[1, :]]' + [expand_derivatives(D_x(item)) for item in N[2, :]]')"
   ]
  },
  {
   "cell_type": "markdown",
   "metadata": {},
   "source": [
    "## 4. Derive the element stiffness matrix\n",
    "Without derivation, we define the stiffness matrix as:\n",
    "$$[k]_{8 \\times 8} = \\int_{-b}^b \\int_{-a}^{a}[B]^T_{8 \\times 3}[E]_{3 \\times 3} [B]_{3 \\times 8} t dx dy$$\n",
    "\n",
    "Where $t$ is the element thickness. Matrix $[E]$ is called the constitutive matrix (it is also named as [D] in some literature).For a derivation, readers are directed to the the excellent books in the references. In the following cell, we define $[E] * (1 - \\nu^2)$. We do so to remove $(1 - \\nu^2)$ term from all the entries of stiffness matrix."
   ]
  },
  {
   "cell_type": "code",
   "execution_count": 9,
   "metadata": {},
   "outputs": [
    {
     "data": {
      "text/latex": [
       "$$ \\begin{equation}\n",
       "\\left[\n",
       "\\begin{array}{ccc}\n",
       "1 & \\nu & 0 \\\\\n",
       "\\nu & 1 & 0 \\\\\n",
       "0 & 0 & \\frac{1}{2} \\left( 1 - \\nu \\right) \\\\\n",
       "\\end{array}\n",
       "\\right]\n",
       "\\end{equation}\n",
       " $$"
      ],
      "text/plain": [
       "3×3 Matrix{Num}:\n",
       " 1  ν               0\n",
       " ν  1               0\n",
       " 0  0  (1//2)*(1 - ν)"
      ]
     },
     "metadata": {},
     "output_type": "display_data"
    }
   ],
   "source": [
    "# Consider the [E] (constitutive matrix) below as product of E (elastic modulus) and (1 - ν^2)\n",
    "E = [1 ν 0;\n",
    "    ν 1 0\n",
    "    0 0 (1 - ν)/ 2]"
   ]
  },
  {
   "cell_type": "code",
   "execution_count": 10,
   "metadata": {},
   "outputs": [
    {
     "data": {
      "text/latex": [
       "$$ \\begin{equation}\n",
       "\\left[\n",
       "\\begin{array}{cccccccc}\n",
       "\\left( \\frac{-1}{4 a} + \\frac{y}{4 a b} \\right)^{2} + \\frac{1}{2} \\left( \\frac{x}{4 a b} + \\frac{-1}{4 b} \\right)^{2} \\left( 1 - \\nu \\right) & \\left( \\frac{-1}{4 a} + \\frac{y}{4 a b} \\right) \\left( \\frac{x}{4 a b} + \\frac{-1}{4 b} \\right) \\nu + \\frac{1}{2} \\left( \\frac{-1}{4 a} + \\frac{y}{4 a b} \\right) \\left( \\frac{x}{4 a b} + \\frac{-1}{4 b} \\right) \\left( 1 - \\nu \\right) & \\left( \\frac{-1}{4 a} + \\frac{y}{4 a b} \\right) \\left( \\frac{1}{4 a} + \\frac{ - y}{4 a b} \\right) + \\frac{1}{2} \\left( \\frac{ - x}{4 a b} + \\frac{-1}{4 b} \\right) \\left( \\frac{x}{4 a b} + \\frac{-1}{4 b} \\right) \\left( 1 - \\nu \\right) & \\left( \\frac{ - x}{4 a b} + \\frac{-1}{4 b} \\right) \\left( \\frac{-1}{4 a} + \\frac{y}{4 a b} \\right) \\nu + \\frac{1}{2} \\left( \\frac{x}{4 a b} + \\frac{-1}{4 b} \\right) \\left( \\frac{1}{4 a} + \\frac{ - y}{4 a b} \\right) \\left( 1 - \\nu \\right) & \\left( \\frac{-1}{4 a} + \\frac{y}{4 a b} \\right) \\left( \\frac{y}{4 a b} + \\frac{1}{4 a} \\right) + \\frac{1}{2} \\left( \\frac{x}{4 a b} + \\frac{-1}{4 b} \\right) \\left( \\frac{x}{4 a b} + \\frac{1}{4 b} \\right) \\left( 1 - \\nu \\right) & \\left( \\frac{-1}{4 a} + \\frac{y}{4 a b} \\right) \\left( \\frac{x}{4 a b} + \\frac{1}{4 b} \\right) \\nu + \\frac{1}{2} \\left( \\frac{y}{4 a b} + \\frac{1}{4 a} \\right) \\left( \\frac{x}{4 a b} + \\frac{-1}{4 b} \\right) \\left( 1 - \\nu \\right) & \\left( \\frac{-1}{4 a} + \\frac{ - y}{4 a b} \\right) \\left( \\frac{-1}{4 a} + \\frac{y}{4 a b} \\right) + \\frac{1}{2} \\left( \\frac{ - x}{4 a b} + \\frac{1}{4 b} \\right) \\left( \\frac{x}{4 a b} + \\frac{-1}{4 b} \\right) \\left( 1 - \\nu \\right) & \\left( \\frac{ - x}{4 a b} + \\frac{1}{4 b} \\right) \\left( \\frac{-1}{4 a} + \\frac{y}{4 a b} \\right) \\nu + \\frac{1}{2} \\left( \\frac{-1}{4 a} + \\frac{ - y}{4 a b} \\right) \\left( \\frac{x}{4 a b} + \\frac{-1}{4 b} \\right) \\left( 1 - \\nu \\right) \\\\\n",
       "\\left( \\frac{-1}{4 a} + \\frac{y}{4 a b} \\right) \\left( \\frac{x}{4 a b} + \\frac{-1}{4 b} \\right) \\nu + \\frac{1}{2} \\left( \\frac{-1}{4 a} + \\frac{y}{4 a b} \\right) \\left( \\frac{x}{4 a b} + \\frac{-1}{4 b} \\right) \\left( 1 - \\nu \\right) & \\left( \\frac{x}{4 a b} + \\frac{-1}{4 b} \\right)^{2} + \\frac{1}{2} \\left( \\frac{-1}{4 a} + \\frac{y}{4 a b} \\right)^{2} \\left( 1 - \\nu \\right) & \\frac{1}{2} \\left( \\frac{ - x}{4 a b} + \\frac{-1}{4 b} \\right) \\left( \\frac{-1}{4 a} + \\frac{y}{4 a b} \\right) \\left( 1 - \\nu \\right) + \\left( \\frac{x}{4 a b} + \\frac{-1}{4 b} \\right) \\left( \\frac{1}{4 a} + \\frac{ - y}{4 a b} \\right) \\nu & \\left( \\frac{ - x}{4 a b} + \\frac{-1}{4 b} \\right) \\left( \\frac{x}{4 a b} + \\frac{-1}{4 b} \\right) + \\frac{1}{2} \\left( \\frac{-1}{4 a} + \\frac{y}{4 a b} \\right) \\left( \\frac{1}{4 a} + \\frac{ - y}{4 a b} \\right) \\left( 1 - \\nu \\right) & \\frac{1}{2} \\left( \\frac{-1}{4 a} + \\frac{y}{4 a b} \\right) \\left( \\frac{x}{4 a b} + \\frac{1}{4 b} \\right) \\left( 1 - \\nu \\right) + \\left( \\frac{y}{4 a b} + \\frac{1}{4 a} \\right) \\left( \\frac{x}{4 a b} + \\frac{-1}{4 b} \\right) \\nu & \\left( \\frac{x}{4 a b} + \\frac{-1}{4 b} \\right) \\left( \\frac{x}{4 a b} + \\frac{1}{4 b} \\right) + \\frac{1}{2} \\left( \\frac{-1}{4 a} + \\frac{y}{4 a b} \\right) \\left( \\frac{y}{4 a b} + \\frac{1}{4 a} \\right) \\left( 1 - \\nu \\right) & \\frac{1}{2} \\left( \\frac{ - x}{4 a b} + \\frac{1}{4 b} \\right) \\left( \\frac{-1}{4 a} + \\frac{y}{4 a b} \\right) \\left( 1 - \\nu \\right) + \\left( \\frac{-1}{4 a} + \\frac{ - y}{4 a b} \\right) \\left( \\frac{x}{4 a b} + \\frac{-1}{4 b} \\right) \\nu & \\left( \\frac{ - x}{4 a b} + \\frac{1}{4 b} \\right) \\left( \\frac{x}{4 a b} + \\frac{-1}{4 b} \\right) + \\frac{1}{2} \\left( \\frac{-1}{4 a} + \\frac{ - y}{4 a b} \\right) \\left( \\frac{-1}{4 a} + \\frac{y}{4 a b} \\right) \\left( 1 - \\nu \\right) \\\\\n",
       "\\left( \\frac{-1}{4 a} + \\frac{y}{4 a b} \\right) \\left( \\frac{1}{4 a} + \\frac{ - y}{4 a b} \\right) + \\frac{1}{2} \\left( \\frac{ - x}{4 a b} + \\frac{-1}{4 b} \\right) \\left( \\frac{x}{4 a b} + \\frac{-1}{4 b} \\right) \\left( 1 - \\nu \\right) & \\frac{1}{2} \\left( \\frac{ - x}{4 a b} + \\frac{-1}{4 b} \\right) \\left( \\frac{-1}{4 a} + \\frac{y}{4 a b} \\right) \\left( 1 - \\nu \\right) + \\left( \\frac{x}{4 a b} + \\frac{-1}{4 b} \\right) \\left( \\frac{1}{4 a} + \\frac{ - y}{4 a b} \\right) \\nu & \\left( \\frac{1}{4 a} + \\frac{ - y}{4 a b} \\right)^{2} + \\frac{1}{2} \\left( \\frac{ - x}{4 a b} + \\frac{-1}{4 b} \\right)^{2} \\left( 1 - \\nu \\right) & \\left( \\frac{ - x}{4 a b} + \\frac{-1}{4 b} \\right) \\left( \\frac{1}{4 a} + \\frac{ - y}{4 a b} \\right) \\nu + \\frac{1}{2} \\left( \\frac{ - x}{4 a b} + \\frac{-1}{4 b} \\right) \\left( \\frac{1}{4 a} + \\frac{ - y}{4 a b} \\right) \\left( 1 - \\nu \\right) & \\left( \\frac{y}{4 a b} + \\frac{1}{4 a} \\right) \\left( \\frac{1}{4 a} + \\frac{ - y}{4 a b} \\right) + \\frac{1}{2} \\left( \\frac{ - x}{4 a b} + \\frac{-1}{4 b} \\right) \\left( \\frac{x}{4 a b} + \\frac{1}{4 b} \\right) \\left( 1 - \\nu \\right) & \\frac{1}{2} \\left( \\frac{ - x}{4 a b} + \\frac{-1}{4 b} \\right) \\left( \\frac{y}{4 a b} + \\frac{1}{4 a} \\right) \\left( 1 - \\nu \\right) + \\left( \\frac{x}{4 a b} + \\frac{1}{4 b} \\right) \\left( \\frac{1}{4 a} + \\frac{ - y}{4 a b} \\right) \\nu & \\left( \\frac{-1}{4 a} + \\frac{ - y}{4 a b} \\right) \\left( \\frac{1}{4 a} + \\frac{ - y}{4 a b} \\right) + \\frac{1}{2} \\left( \\frac{ - x}{4 a b} + \\frac{-1}{4 b} \\right) \\left( \\frac{ - x}{4 a b} + \\frac{1}{4 b} \\right) \\left( 1 - \\nu \\right) & \\frac{1}{2} \\left( \\frac{ - x}{4 a b} + \\frac{-1}{4 b} \\right) \\left( \\frac{-1}{4 a} + \\frac{ - y}{4 a b} \\right) \\left( 1 - \\nu \\right) + \\left( \\frac{ - x}{4 a b} + \\frac{1}{4 b} \\right) \\left( \\frac{1}{4 a} + \\frac{ - y}{4 a b} \\right) \\nu \\\\\n",
       "\\left( \\frac{ - x}{4 a b} + \\frac{-1}{4 b} \\right) \\left( \\frac{-1}{4 a} + \\frac{y}{4 a b} \\right) \\nu + \\frac{1}{2} \\left( \\frac{x}{4 a b} + \\frac{-1}{4 b} \\right) \\left( \\frac{1}{4 a} + \\frac{ - y}{4 a b} \\right) \\left( 1 - \\nu \\right) & \\left( \\frac{ - x}{4 a b} + \\frac{-1}{4 b} \\right) \\left( \\frac{x}{4 a b} + \\frac{-1}{4 b} \\right) + \\frac{1}{2} \\left( \\frac{-1}{4 a} + \\frac{y}{4 a b} \\right) \\left( \\frac{1}{4 a} + \\frac{ - y}{4 a b} \\right) \\left( 1 - \\nu \\right) & \\left( \\frac{ - x}{4 a b} + \\frac{-1}{4 b} \\right) \\left( \\frac{1}{4 a} + \\frac{ - y}{4 a b} \\right) \\nu + \\frac{1}{2} \\left( \\frac{ - x}{4 a b} + \\frac{-1}{4 b} \\right) \\left( \\frac{1}{4 a} + \\frac{ - y}{4 a b} \\right) \\left( 1 - \\nu \\right) & \\left( \\frac{ - x}{4 a b} + \\frac{-1}{4 b} \\right)^{2} + \\frac{1}{2} \\left( \\frac{1}{4 a} + \\frac{ - y}{4 a b} \\right)^{2} \\left( 1 - \\nu \\right) & \\left( \\frac{ - x}{4 a b} + \\frac{-1}{4 b} \\right) \\left( \\frac{y}{4 a b} + \\frac{1}{4 a} \\right) \\nu + \\frac{1}{2} \\left( \\frac{x}{4 a b} + \\frac{1}{4 b} \\right) \\left( \\frac{1}{4 a} + \\frac{ - y}{4 a b} \\right) \\left( 1 - \\nu \\right) & \\left( \\frac{ - x}{4 a b} + \\frac{-1}{4 b} \\right) \\left( \\frac{x}{4 a b} + \\frac{1}{4 b} \\right) + \\frac{1}{2} \\left( \\frac{y}{4 a b} + \\frac{1}{4 a} \\right) \\left( \\frac{1}{4 a} + \\frac{ - y}{4 a b} \\right) \\left( 1 - \\nu \\right) & \\left( \\frac{ - x}{4 a b} + \\frac{-1}{4 b} \\right) \\left( \\frac{-1}{4 a} + \\frac{ - y}{4 a b} \\right) \\nu + \\frac{1}{2} \\left( \\frac{ - x}{4 a b} + \\frac{1}{4 b} \\right) \\left( \\frac{1}{4 a} + \\frac{ - y}{4 a b} \\right) \\left( 1 - \\nu \\right) & \\left( \\frac{ - x}{4 a b} + \\frac{-1}{4 b} \\right) \\left( \\frac{ - x}{4 a b} + \\frac{1}{4 b} \\right) + \\frac{1}{2} \\left( \\frac{-1}{4 a} + \\frac{ - y}{4 a b} \\right) \\left( \\frac{1}{4 a} + \\frac{ - y}{4 a b} \\right) \\left( 1 - \\nu \\right) \\\\\n",
       "\\left( \\frac{-1}{4 a} + \\frac{y}{4 a b} \\right) \\left( \\frac{y}{4 a b} + \\frac{1}{4 a} \\right) + \\frac{1}{2} \\left( \\frac{x}{4 a b} + \\frac{-1}{4 b} \\right) \\left( \\frac{x}{4 a b} + \\frac{1}{4 b} \\right) \\left( 1 - \\nu \\right) & \\frac{1}{2} \\left( \\frac{-1}{4 a} + \\frac{y}{4 a b} \\right) \\left( \\frac{x}{4 a b} + \\frac{1}{4 b} \\right) \\left( 1 - \\nu \\right) + \\left( \\frac{y}{4 a b} + \\frac{1}{4 a} \\right) \\left( \\frac{x}{4 a b} + \\frac{-1}{4 b} \\right) \\nu & \\left( \\frac{y}{4 a b} + \\frac{1}{4 a} \\right) \\left( \\frac{1}{4 a} + \\frac{ - y}{4 a b} \\right) + \\frac{1}{2} \\left( \\frac{ - x}{4 a b} + \\frac{-1}{4 b} \\right) \\left( \\frac{x}{4 a b} + \\frac{1}{4 b} \\right) \\left( 1 - \\nu \\right) & \\left( \\frac{ - x}{4 a b} + \\frac{-1}{4 b} \\right) \\left( \\frac{y}{4 a b} + \\frac{1}{4 a} \\right) \\nu + \\frac{1}{2} \\left( \\frac{x}{4 a b} + \\frac{1}{4 b} \\right) \\left( \\frac{1}{4 a} + \\frac{ - y}{4 a b} \\right) \\left( 1 - \\nu \\right) & \\left( \\frac{y}{4 a b} + \\frac{1}{4 a} \\right)^{2} + \\frac{1}{2} \\left( \\frac{x}{4 a b} + \\frac{1}{4 b} \\right)^{2} \\left( 1 - \\nu \\right) & \\left( \\frac{y}{4 a b} + \\frac{1}{4 a} \\right) \\left( \\frac{x}{4 a b} + \\frac{1}{4 b} \\right) \\nu + \\frac{1}{2} \\left( \\frac{y}{4 a b} + \\frac{1}{4 a} \\right) \\left( \\frac{x}{4 a b} + \\frac{1}{4 b} \\right) \\left( 1 - \\nu \\right) & \\left( \\frac{-1}{4 a} + \\frac{ - y}{4 a b} \\right) \\left( \\frac{y}{4 a b} + \\frac{1}{4 a} \\right) + \\frac{1}{2} \\left( \\frac{ - x}{4 a b} + \\frac{1}{4 b} \\right) \\left( \\frac{x}{4 a b} + \\frac{1}{4 b} \\right) \\left( 1 - \\nu \\right) & \\left( \\frac{ - x}{4 a b} + \\frac{1}{4 b} \\right) \\left( \\frac{y}{4 a b} + \\frac{1}{4 a} \\right) \\nu + \\frac{1}{2} \\left( \\frac{-1}{4 a} + \\frac{ - y}{4 a b} \\right) \\left( \\frac{x}{4 a b} + \\frac{1}{4 b} \\right) \\left( 1 - \\nu \\right) \\\\\n",
       "\\left( \\frac{-1}{4 a} + \\frac{y}{4 a b} \\right) \\left( \\frac{x}{4 a b} + \\frac{1}{4 b} \\right) \\nu + \\frac{1}{2} \\left( \\frac{y}{4 a b} + \\frac{1}{4 a} \\right) \\left( \\frac{x}{4 a b} + \\frac{-1}{4 b} \\right) \\left( 1 - \\nu \\right) & \\left( \\frac{x}{4 a b} + \\frac{-1}{4 b} \\right) \\left( \\frac{x}{4 a b} + \\frac{1}{4 b} \\right) + \\frac{1}{2} \\left( \\frac{-1}{4 a} + \\frac{y}{4 a b} \\right) \\left( \\frac{y}{4 a b} + \\frac{1}{4 a} \\right) \\left( 1 - \\nu \\right) & \\frac{1}{2} \\left( \\frac{ - x}{4 a b} + \\frac{-1}{4 b} \\right) \\left( \\frac{y}{4 a b} + \\frac{1}{4 a} \\right) \\left( 1 - \\nu \\right) + \\left( \\frac{x}{4 a b} + \\frac{1}{4 b} \\right) \\left( \\frac{1}{4 a} + \\frac{ - y}{4 a b} \\right) \\nu & \\left( \\frac{ - x}{4 a b} + \\frac{-1}{4 b} \\right) \\left( \\frac{x}{4 a b} + \\frac{1}{4 b} \\right) + \\frac{1}{2} \\left( \\frac{y}{4 a b} + \\frac{1}{4 a} \\right) \\left( \\frac{1}{4 a} + \\frac{ - y}{4 a b} \\right) \\left( 1 - \\nu \\right) & \\left( \\frac{y}{4 a b} + \\frac{1}{4 a} \\right) \\left( \\frac{x}{4 a b} + \\frac{1}{4 b} \\right) \\nu + \\frac{1}{2} \\left( \\frac{y}{4 a b} + \\frac{1}{4 a} \\right) \\left( \\frac{x}{4 a b} + \\frac{1}{4 b} \\right) \\left( 1 - \\nu \\right) & \\left( \\frac{x}{4 a b} + \\frac{1}{4 b} \\right)^{2} + \\frac{1}{2} \\left( \\frac{y}{4 a b} + \\frac{1}{4 a} \\right)^{2} \\left( 1 - \\nu \\right) & \\frac{1}{2} \\left( \\frac{ - x}{4 a b} + \\frac{1}{4 b} \\right) \\left( \\frac{y}{4 a b} + \\frac{1}{4 a} \\right) \\left( 1 - \\nu \\right) + \\left( \\frac{-1}{4 a} + \\frac{ - y}{4 a b} \\right) \\left( \\frac{x}{4 a b} + \\frac{1}{4 b} \\right) \\nu & \\left( \\frac{ - x}{4 a b} + \\frac{1}{4 b} \\right) \\left( \\frac{x}{4 a b} + \\frac{1}{4 b} \\right) + \\frac{1}{2} \\left( \\frac{-1}{4 a} + \\frac{ - y}{4 a b} \\right) \\left( \\frac{y}{4 a b} + \\frac{1}{4 a} \\right) \\left( 1 - \\nu \\right) \\\\\n",
       "\\left( \\frac{-1}{4 a} + \\frac{ - y}{4 a b} \\right) \\left( \\frac{-1}{4 a} + \\frac{y}{4 a b} \\right) + \\frac{1}{2} \\left( \\frac{ - x}{4 a b} + \\frac{1}{4 b} \\right) \\left( \\frac{x}{4 a b} + \\frac{-1}{4 b} \\right) \\left( 1 - \\nu \\right) & \\frac{1}{2} \\left( \\frac{ - x}{4 a b} + \\frac{1}{4 b} \\right) \\left( \\frac{-1}{4 a} + \\frac{y}{4 a b} \\right) \\left( 1 - \\nu \\right) + \\left( \\frac{-1}{4 a} + \\frac{ - y}{4 a b} \\right) \\left( \\frac{x}{4 a b} + \\frac{-1}{4 b} \\right) \\nu & \\left( \\frac{-1}{4 a} + \\frac{ - y}{4 a b} \\right) \\left( \\frac{1}{4 a} + \\frac{ - y}{4 a b} \\right) + \\frac{1}{2} \\left( \\frac{ - x}{4 a b} + \\frac{-1}{4 b} \\right) \\left( \\frac{ - x}{4 a b} + \\frac{1}{4 b} \\right) \\left( 1 - \\nu \\right) & \\left( \\frac{ - x}{4 a b} + \\frac{-1}{4 b} \\right) \\left( \\frac{-1}{4 a} + \\frac{ - y}{4 a b} \\right) \\nu + \\frac{1}{2} \\left( \\frac{ - x}{4 a b} + \\frac{1}{4 b} \\right) \\left( \\frac{1}{4 a} + \\frac{ - y}{4 a b} \\right) \\left( 1 - \\nu \\right) & \\left( \\frac{-1}{4 a} + \\frac{ - y}{4 a b} \\right) \\left( \\frac{y}{4 a b} + \\frac{1}{4 a} \\right) + \\frac{1}{2} \\left( \\frac{ - x}{4 a b} + \\frac{1}{4 b} \\right) \\left( \\frac{x}{4 a b} + \\frac{1}{4 b} \\right) \\left( 1 - \\nu \\right) & \\frac{1}{2} \\left( \\frac{ - x}{4 a b} + \\frac{1}{4 b} \\right) \\left( \\frac{y}{4 a b} + \\frac{1}{4 a} \\right) \\left( 1 - \\nu \\right) + \\left( \\frac{-1}{4 a} + \\frac{ - y}{4 a b} \\right) \\left( \\frac{x}{4 a b} + \\frac{1}{4 b} \\right) \\nu & \\left( \\frac{-1}{4 a} + \\frac{ - y}{4 a b} \\right)^{2} + \\frac{1}{2} \\left( \\frac{ - x}{4 a b} + \\frac{1}{4 b} \\right)^{2} \\left( 1 - \\nu \\right) & \\left( \\frac{ - x}{4 a b} + \\frac{1}{4 b} \\right) \\left( \\frac{-1}{4 a} + \\frac{ - y}{4 a b} \\right) \\nu + \\frac{1}{2} \\left( \\frac{ - x}{4 a b} + \\frac{1}{4 b} \\right) \\left( \\frac{-1}{4 a} + \\frac{ - y}{4 a b} \\right) \\left( 1 - \\nu \\right) \\\\\n",
       "\\left( \\frac{ - x}{4 a b} + \\frac{1}{4 b} \\right) \\left( \\frac{-1}{4 a} + \\frac{y}{4 a b} \\right) \\nu + \\frac{1}{2} \\left( \\frac{-1}{4 a} + \\frac{ - y}{4 a b} \\right) \\left( \\frac{x}{4 a b} + \\frac{-1}{4 b} \\right) \\left( 1 - \\nu \\right) & \\left( \\frac{ - x}{4 a b} + \\frac{1}{4 b} \\right) \\left( \\frac{x}{4 a b} + \\frac{-1}{4 b} \\right) + \\frac{1}{2} \\left( \\frac{-1}{4 a} + \\frac{ - y}{4 a b} \\right) \\left( \\frac{-1}{4 a} + \\frac{y}{4 a b} \\right) \\left( 1 - \\nu \\right) & \\frac{1}{2} \\left( \\frac{ - x}{4 a b} + \\frac{-1}{4 b} \\right) \\left( \\frac{-1}{4 a} + \\frac{ - y}{4 a b} \\right) \\left( 1 - \\nu \\right) + \\left( \\frac{ - x}{4 a b} + \\frac{1}{4 b} \\right) \\left( \\frac{1}{4 a} + \\frac{ - y}{4 a b} \\right) \\nu & \\left( \\frac{ - x}{4 a b} + \\frac{-1}{4 b} \\right) \\left( \\frac{ - x}{4 a b} + \\frac{1}{4 b} \\right) + \\frac{1}{2} \\left( \\frac{-1}{4 a} + \\frac{ - y}{4 a b} \\right) \\left( \\frac{1}{4 a} + \\frac{ - y}{4 a b} \\right) \\left( 1 - \\nu \\right) & \\left( \\frac{ - x}{4 a b} + \\frac{1}{4 b} \\right) \\left( \\frac{y}{4 a b} + \\frac{1}{4 a} \\right) \\nu + \\frac{1}{2} \\left( \\frac{-1}{4 a} + \\frac{ - y}{4 a b} \\right) \\left( \\frac{x}{4 a b} + \\frac{1}{4 b} \\right) \\left( 1 - \\nu \\right) & \\left( \\frac{ - x}{4 a b} + \\frac{1}{4 b} \\right) \\left( \\frac{x}{4 a b} + \\frac{1}{4 b} \\right) + \\frac{1}{2} \\left( \\frac{-1}{4 a} + \\frac{ - y}{4 a b} \\right) \\left( \\frac{y}{4 a b} + \\frac{1}{4 a} \\right) \\left( 1 - \\nu \\right) & \\left( \\frac{ - x}{4 a b} + \\frac{1}{4 b} \\right) \\left( \\frac{-1}{4 a} + \\frac{ - y}{4 a b} \\right) \\nu + \\frac{1}{2} \\left( \\frac{ - x}{4 a b} + \\frac{1}{4 b} \\right) \\left( \\frac{-1}{4 a} + \\frac{ - y}{4 a b} \\right) \\left( 1 - \\nu \\right) & \\left( \\frac{ - x}{4 a b} + \\frac{1}{4 b} \\right)^{2} + \\frac{1}{2} \\left( \\frac{-1}{4 a} + \\frac{ - y}{4 a b} \\right)^{2} \\left( 1 - \\nu \\right) \\\\\n",
       "\\end{array}\n",
       "\\right]\n",
       "\\end{equation}\n",
       " $$"
      ],
      "text/plain": [
       "8×8 Matrix{Num}:\n",
       "                                                    (-1 / (4a) + y / (4a*b))^2 + (1//2)*((x / (4a*b) + -1 / (4b))^2)*(1 - ν)  …       ((-x) / (4a*b) + 1 / (4b))*(-1 / (4a) + y / (4a*b))*ν + (1//2)*(-1 / (4a) + (-y) / (4a*b))*(x / (4a*b) + -1 / (4b))*(1 - ν)\n",
       "      (-1 / (4a) + y / (4a*b))*(x / (4a*b) + -1 / (4b))*ν + (1//2)*(-1 / (4a) + y / (4a*b))*(x / (4a*b) + -1 / (4b))*(1 - ν)            ((-x) / (4a*b) + 1 / (4b))*(x / (4a*b) + -1 / (4b)) + (1//2)*(-1 / (4a) + (-y) / (4a*b))*(-1 / (4a) + y / (4a*b))*(1 - ν)\n",
       "   (-1 / (4a) + y / (4a*b))*(1 / (4a) + (-y) / (4a*b)) + (1//2)*((-x) / (4a*b) + -1 / (4b))*(x / (4a*b) + -1 / (4b))*(1 - ν)     (1//2)*((-x) / (4a*b) + -1 / (4b))*(-1 / (4a) + (-y) / (4a*b))*(1 - ν) + ((-x) / (4a*b) + 1 / (4b))*(1 / (4a) + (-y) / (4a*b))*ν\n",
       " ((-x) / (4a*b) + -1 / (4b))*(-1 / (4a) + y / (4a*b))*ν + (1//2)*(x / (4a*b) + -1 / (4b))*(1 / (4a) + (-y) / (4a*b))*(1 - ν)       ((-x) / (4a*b) + -1 / (4b))*((-x) / (4a*b) + 1 / (4b)) + (1//2)*(-1 / (4a) + (-y) / (4a*b))*(1 / (4a) + (-y) / (4a*b))*(1 - ν)\n",
       "          (-1 / (4a) + y / (4a*b))*(y / (4a*b) + 1 / (4a)) + (1//2)*(x / (4a*b) + -1 / (4b))*(x / (4a*b) + 1 / (4b))*(1 - ν)            ((-x) / (4a*b) + 1 / (4b))*(y / (4a*b) + 1 / (4a))*ν + (1//2)*(-1 / (4a) + (-y) / (4a*b))*(x / (4a*b) + 1 / (4b))*(1 - ν)\n",
       "        (-1 / (4a) + y / (4a*b))*(x / (4a*b) + 1 / (4b))*ν + (1//2)*(y / (4a*b) + 1 / (4a))*(x / (4a*b) + -1 / (4b))*(1 - ν)  …           ((-x) / (4a*b) + 1 / (4b))*(x / (4a*b) + 1 / (4b)) + (1//2)*(-1 / (4a) + (-y) / (4a*b))*(y / (4a*b) + 1 / (4a))*(1 - ν)\n",
       "   (-1 / (4a) + (-y) / (4a*b))*(-1 / (4a) + y / (4a*b)) + (1//2)*((-x) / (4a*b) + 1 / (4b))*(x / (4a*b) + -1 / (4b))*(1 - ν)     ((-x) / (4a*b) + 1 / (4b))*(-1 / (4a) + (-y) / (4a*b))*ν + (1//2)*((-x) / (4a*b) + 1 / (4b))*(-1 / (4a) + (-y) / (4a*b))*(1 - ν)\n",
       " ((-x) / (4a*b) + 1 / (4b))*(-1 / (4a) + y / (4a*b))*ν + (1//2)*(-1 / (4a) + (-y) / (4a*b))*(x / (4a*b) + -1 / (4b))*(1 - ν)                                                        ((-x) / (4a*b) + 1 / (4b))^2 + (1//2)*((-1 / (4a) + (-y) / (4a*b))^2)*(1 - ν)"
      ]
     },
     "metadata": {},
     "output_type": "display_data"
    }
   ],
   "source": [
    "K = B' * E * B"
   ]
  },
  {
   "cell_type": "markdown",
   "metadata": {},
   "source": [
    "Substituting values in place of a (width) and b (height). We do so to reduce the number of symbolic variables and simplify expressions further."
   ]
  },
  {
   "cell_type": "code",
   "execution_count": 11,
   "metadata": {},
   "outputs": [
    {
     "data": {
      "text/latex": [
       "$$ \\begin{equation}\n",
       "\\left[\n",
       "\\begin{array}{cccccccc}\n",
       "\\left( -0.5 + y \\right)^{2} + \\frac{1}{2} \\left( -0.5 + x \\right)^{2} \\left( 1 - \\nu \\right) & \\left( -0.5 + x \\right) \\left( -0.5 + y \\right) \\nu + \\frac{1}{2} \\left( -0.5 + x \\right) \\left( -0.5 + y \\right) \\left( 1 - \\nu \\right) & \\left( -0.5 + y \\right) \\left( 0.5 - y \\right) + \\frac{1}{2} \\left( -0.5 - x \\right) \\left( -0.5 + x \\right) \\left( 1 - \\nu \\right) & \\frac{1}{2} \\left( -0.5 + x \\right) \\left( 0.5 - y \\right) \\left( 1 - \\nu \\right) + \\left( -0.5 - x \\right) \\left( -0.5 + y \\right) \\nu & \\left( -0.5 + y \\right) \\left( 0.5 + y \\right) + \\frac{1}{2} \\left( 0.5 + x \\right) \\left( -0.5 + x \\right) \\left( 1 - \\nu \\right) & \\frac{1}{2} \\left( -0.5 + x \\right) \\left( 0.5 + y \\right) \\left( 1 - \\nu \\right) + \\left( 0.5 + x \\right) \\left( -0.5 + y \\right) \\nu & \\left( -0.5 - y \\right) \\left( -0.5 + y \\right) + \\frac{1}{2} \\left( -0.5 + x \\right) \\left( 0.5 - x \\right) \\left( 1 - \\nu \\right) & \\frac{1}{2} \\left( -0.5 + x \\right) \\left( -0.5 - y \\right) \\left( 1 - \\nu \\right) + \\left( 0.5 - x \\right) \\left( -0.5 + y \\right) \\nu \\\\\n",
       "\\left( -0.5 + x \\right) \\left( -0.5 + y \\right) \\nu + \\frac{1}{2} \\left( -0.5 + x \\right) \\left( -0.5 + y \\right) \\left( 1 - \\nu \\right) & \\left( -0.5 + x \\right)^{2} + \\frac{1}{2} \\left( -0.5 + y \\right)^{2} \\left( 1 - \\nu \\right) & \\left( -0.5 + x \\right) \\left( 0.5 - y \\right) \\nu + \\frac{1}{2} \\left( -0.5 - x \\right) \\left( -0.5 + y \\right) \\left( 1 - \\nu \\right) & \\left( -0.5 - x \\right) \\left( -0.5 + x \\right) + \\frac{1}{2} \\left( -0.5 + y \\right) \\left( 0.5 - y \\right) \\left( 1 - \\nu \\right) & \\left( -0.5 + x \\right) \\left( 0.5 + y \\right) \\nu + \\frac{1}{2} \\left( 0.5 + x \\right) \\left( -0.5 + y \\right) \\left( 1 - \\nu \\right) & \\left( 0.5 + x \\right) \\left( -0.5 + x \\right) + \\frac{1}{2} \\left( -0.5 + y \\right) \\left( 0.5 + y \\right) \\left( 1 - \\nu \\right) & \\frac{1}{2} \\left( 0.5 - x \\right) \\left( -0.5 + y \\right) \\left( 1 - \\nu \\right) + \\left( -0.5 + x \\right) \\left( -0.5 - y \\right) \\nu & \\left( -0.5 + x \\right) \\left( 0.5 - x \\right) + \\frac{1}{2} \\left( -0.5 - y \\right) \\left( -0.5 + y \\right) \\left( 1 - \\nu \\right) \\\\\n",
       "\\left( -0.5 + y \\right) \\left( 0.5 - y \\right) + \\frac{1}{2} \\left( -0.5 - x \\right) \\left( -0.5 + x \\right) \\left( 1 - \\nu \\right) & \\left( -0.5 + x \\right) \\left( 0.5 - y \\right) \\nu + \\frac{1}{2} \\left( -0.5 - x \\right) \\left( -0.5 + y \\right) \\left( 1 - \\nu \\right) & \\left( 0.5 - y \\right)^{2} + \\frac{1}{2} \\left( -0.5 - x \\right)^{2} \\left( 1 - \\nu \\right) & \\left( -0.5 - x \\right) \\left( 0.5 - y \\right) \\nu + \\frac{1}{2} \\left( -0.5 - x \\right) \\left( 0.5 - y \\right) \\left( 1 - \\nu \\right) & \\left( 0.5 + y \\right) \\left( 0.5 - y \\right) + \\frac{1}{2} \\left( 0.5 + x \\right) \\left( -0.5 - x \\right) \\left( 1 - \\nu \\right) & \\left( 0.5 + x \\right) \\left( 0.5 - y \\right) \\nu + \\frac{1}{2} \\left( -0.5 - x \\right) \\left( 0.5 + y \\right) \\left( 1 - \\nu \\right) & \\left( -0.5 - y \\right) \\left( 0.5 - y \\right) + \\frac{1}{2} \\left( -0.5 - x \\right) \\left( 0.5 - x \\right) \\left( 1 - \\nu \\right) & \\frac{1}{2} \\left( -0.5 - x \\right) \\left( -0.5 - y \\right) \\left( 1 - \\nu \\right) + \\left( 0.5 - x \\right) \\left( 0.5 - y \\right) \\nu \\\\\n",
       "\\frac{1}{2} \\left( -0.5 + x \\right) \\left( 0.5 - y \\right) \\left( 1 - \\nu \\right) + \\left( -0.5 - x \\right) \\left( -0.5 + y \\right) \\nu & \\left( -0.5 - x \\right) \\left( -0.5 + x \\right) + \\frac{1}{2} \\left( -0.5 + y \\right) \\left( 0.5 - y \\right) \\left( 1 - \\nu \\right) & \\left( -0.5 - x \\right) \\left( 0.5 - y \\right) \\nu + \\frac{1}{2} \\left( -0.5 - x \\right) \\left( 0.5 - y \\right) \\left( 1 - \\nu \\right) & \\left( -0.5 - x \\right)^{2} + \\frac{1}{2} \\left( 0.5 - y \\right)^{2} \\left( 1 - \\nu \\right) & \\frac{1}{2} \\left( 0.5 + x \\right) \\left( 0.5 - y \\right) \\left( 1 - \\nu \\right) + \\left( -0.5 - x \\right) \\left( 0.5 + y \\right) \\nu & \\left( 0.5 + x \\right) \\left( -0.5 - x \\right) + \\frac{1}{2} \\left( 0.5 + y \\right) \\left( 0.5 - y \\right) \\left( 1 - \\nu \\right) & \\left( -0.5 - x \\right) \\left( -0.5 - y \\right) \\nu + \\frac{1}{2} \\left( 0.5 - x \\right) \\left( 0.5 - y \\right) \\left( 1 - \\nu \\right) & \\left( -0.5 - x \\right) \\left( 0.5 - x \\right) + \\frac{1}{2} \\left( -0.5 - y \\right) \\left( 0.5 - y \\right) \\left( 1 - \\nu \\right) \\\\\n",
       "\\left( -0.5 + y \\right) \\left( 0.5 + y \\right) + \\frac{1}{2} \\left( 0.5 + x \\right) \\left( -0.5 + x \\right) \\left( 1 - \\nu \\right) & \\left( -0.5 + x \\right) \\left( 0.5 + y \\right) \\nu + \\frac{1}{2} \\left( 0.5 + x \\right) \\left( -0.5 + y \\right) \\left( 1 - \\nu \\right) & \\left( 0.5 + y \\right) \\left( 0.5 - y \\right) + \\frac{1}{2} \\left( 0.5 + x \\right) \\left( -0.5 - x \\right) \\left( 1 - \\nu \\right) & \\frac{1}{2} \\left( 0.5 + x \\right) \\left( 0.5 - y \\right) \\left( 1 - \\nu \\right) + \\left( -0.5 - x \\right) \\left( 0.5 + y \\right) \\nu & \\left( 0.5 + y \\right)^{2} + \\frac{1}{2} \\left( 0.5 + x \\right)^{2} \\left( 1 - \\nu \\right) & \\left( 0.5 + x \\right) \\left( 0.5 + y \\right) \\nu + \\frac{1}{2} \\left( 0.5 + x \\right) \\left( 0.5 + y \\right) \\left( 1 - \\nu \\right) & \\left( -0.5 - y \\right) \\left( 0.5 + y \\right) + \\frac{1}{2} \\left( 0.5 + x \\right) \\left( 0.5 - x \\right) \\left( 1 - \\nu \\right) & \\left( 0.5 - x \\right) \\left( 0.5 + y \\right) \\nu + \\frac{1}{2} \\left( 0.5 + x \\right) \\left( -0.5 - y \\right) \\left( 1 - \\nu \\right) \\\\\n",
       "\\frac{1}{2} \\left( -0.5 + x \\right) \\left( 0.5 + y \\right) \\left( 1 - \\nu \\right) + \\left( 0.5 + x \\right) \\left( -0.5 + y \\right) \\nu & \\left( 0.5 + x \\right) \\left( -0.5 + x \\right) + \\frac{1}{2} \\left( -0.5 + y \\right) \\left( 0.5 + y \\right) \\left( 1 - \\nu \\right) & \\left( 0.5 + x \\right) \\left( 0.5 - y \\right) \\nu + \\frac{1}{2} \\left( -0.5 - x \\right) \\left( 0.5 + y \\right) \\left( 1 - \\nu \\right) & \\left( 0.5 + x \\right) \\left( -0.5 - x \\right) + \\frac{1}{2} \\left( 0.5 + y \\right) \\left( 0.5 - y \\right) \\left( 1 - \\nu \\right) & \\left( 0.5 + x \\right) \\left( 0.5 + y \\right) \\nu + \\frac{1}{2} \\left( 0.5 + x \\right) \\left( 0.5 + y \\right) \\left( 1 - \\nu \\right) & \\left( 0.5 + x \\right)^{2} + \\frac{1}{2} \\left( 0.5 + y \\right)^{2} \\left( 1 - \\nu \\right) & \\left( 0.5 + x \\right) \\left( -0.5 - y \\right) \\nu + \\frac{1}{2} \\left( 0.5 - x \\right) \\left( 0.5 + y \\right) \\left( 1 - \\nu \\right) & \\left( 0.5 + x \\right) \\left( 0.5 - x \\right) + \\frac{1}{2} \\left( -0.5 - y \\right) \\left( 0.5 + y \\right) \\left( 1 - \\nu \\right) \\\\\n",
       "\\left( -0.5 - y \\right) \\left( -0.5 + y \\right) + \\frac{1}{2} \\left( -0.5 + x \\right) \\left( 0.5 - x \\right) \\left( 1 - \\nu \\right) & \\frac{1}{2} \\left( 0.5 - x \\right) \\left( -0.5 + y \\right) \\left( 1 - \\nu \\right) + \\left( -0.5 + x \\right) \\left( -0.5 - y \\right) \\nu & \\left( -0.5 - y \\right) \\left( 0.5 - y \\right) + \\frac{1}{2} \\left( -0.5 - x \\right) \\left( 0.5 - x \\right) \\left( 1 - \\nu \\right) & \\left( -0.5 - x \\right) \\left( -0.5 - y \\right) \\nu + \\frac{1}{2} \\left( 0.5 - x \\right) \\left( 0.5 - y \\right) \\left( 1 - \\nu \\right) & \\left( -0.5 - y \\right) \\left( 0.5 + y \\right) + \\frac{1}{2} \\left( 0.5 + x \\right) \\left( 0.5 - x \\right) \\left( 1 - \\nu \\right) & \\left( 0.5 + x \\right) \\left( -0.5 - y \\right) \\nu + \\frac{1}{2} \\left( 0.5 - x \\right) \\left( 0.5 + y \\right) \\left( 1 - \\nu \\right) & \\left( -0.5 - y \\right)^{2} + \\frac{1}{2} \\left( 0.5 - x \\right)^{2} \\left( 1 - \\nu \\right) & \\frac{1}{2} \\left( 0.5 - x \\right) \\left( -0.5 - y \\right) \\left( 1 - \\nu \\right) + \\left( 0.5 - x \\right) \\left( -0.5 - y \\right) \\nu \\\\\n",
       "\\frac{1}{2} \\left( -0.5 + x \\right) \\left( -0.5 - y \\right) \\left( 1 - \\nu \\right) + \\left( 0.5 - x \\right) \\left( -0.5 + y \\right) \\nu & \\left( -0.5 + x \\right) \\left( 0.5 - x \\right) + \\frac{1}{2} \\left( -0.5 - y \\right) \\left( -0.5 + y \\right) \\left( 1 - \\nu \\right) & \\frac{1}{2} \\left( -0.5 - x \\right) \\left( -0.5 - y \\right) \\left( 1 - \\nu \\right) + \\left( 0.5 - x \\right) \\left( 0.5 - y \\right) \\nu & \\left( -0.5 - x \\right) \\left( 0.5 - x \\right) + \\frac{1}{2} \\left( -0.5 - y \\right) \\left( 0.5 - y \\right) \\left( 1 - \\nu \\right) & \\left( 0.5 - x \\right) \\left( 0.5 + y \\right) \\nu + \\frac{1}{2} \\left( 0.5 + x \\right) \\left( -0.5 - y \\right) \\left( 1 - \\nu \\right) & \\left( 0.5 + x \\right) \\left( 0.5 - x \\right) + \\frac{1}{2} \\left( -0.5 - y \\right) \\left( 0.5 + y \\right) \\left( 1 - \\nu \\right) & \\frac{1}{2} \\left( 0.5 - x \\right) \\left( -0.5 - y \\right) \\left( 1 - \\nu \\right) + \\left( 0.5 - x \\right) \\left( -0.5 - y \\right) \\nu & \\left( 0.5 - x \\right)^{2} + \\frac{1}{2} \\left( -0.5 - y \\right)^{2} \\left( 1 - \\nu \\right) \\\\\n",
       "\\end{array}\n",
       "\\right]\n",
       "\\end{equation}\n",
       " $$"
      ],
      "text/plain": [
       "8×8 Matrix{Num}:\n",
       "        (-0.5 + y)^2 + (1//2)*((-0.5 + x)^2)*(1 - ν)                          (-0.5 + x)*(-0.5 + y)*ν + (1//2)*(-0.5 + x)*(-0.5 + y)*(1 - ν)  …  (1//2)*(-0.5 + x)*(-0.5 - y)*(1 - ν) + (0.5 - x)*(-0.5 + y)*ν\n",
       "        (-0.5 + x)*(-0.5 + y)*ν + (1//2)*(-0.5 + x)*(-0.5 + y)*(1 - ν)        (-0.5 + x)^2 + (1//2)*((-0.5 + y)^2)*(1 - ν)                              (-0.5 + x)*(0.5 - x) + (1//2)*(-0.5 - y)*(-0.5 + y)*(1 - ν)\n",
       "        (-0.5 + y)*(0.5 - y) + (1//2)*(-0.5 - x)*(-0.5 + x)*(1 - ν)           (-0.5 + x)*(0.5 - y)*ν + (1//2)*(-0.5 - x)*(-0.5 + y)*(1 - ν)      (1//2)*(-0.5 - x)*(-0.5 - y)*(1 - ν) + (0.5 - x)*(0.5 - y)*ν\n",
       " (1//2)*(-0.5 + x)*(0.5 - y)*(1 - ν) + (-0.5 - x)*(-0.5 + y)*ν                (-0.5 - x)*(-0.5 + x) + (1//2)*(-0.5 + y)*(0.5 - y)*(1 - ν)               (-0.5 - x)*(0.5 - x) + (1//2)*(-0.5 - y)*(0.5 - y)*(1 - ν)\n",
       "        (-0.5 + y)*(0.5 + y) + (1//2)*(0.5 + x)*(-0.5 + x)*(1 - ν)            (-0.5 + x)*(0.5 + y)*ν + (1//2)*(0.5 + x)*(-0.5 + y)*(1 - ν)               (0.5 - x)*(0.5 + y)*ν + (1//2)*(0.5 + x)*(-0.5 - y)*(1 - ν)\n",
       " (1//2)*(-0.5 + x)*(0.5 + y)*(1 - ν) + (0.5 + x)*(-0.5 + y)*ν                  (0.5 + x)*(-0.5 + x) + (1//2)*(-0.5 + y)*(0.5 + y)*(1 - ν)     …          (0.5 + x)*(0.5 - x) + (1//2)*(-0.5 - y)*(0.5 + y)*(1 - ν)\n",
       "        (-0.5 - y)*(-0.5 + y) + (1//2)*(-0.5 + x)*(0.5 - x)*(1 - ν)     (1//2)*(0.5 - x)*(-0.5 + y)*(1 - ν) + (-0.5 + x)*(-0.5 - y)*ν             (1//2)*(0.5 - x)*(-0.5 - y)*(1 - ν) + (0.5 - x)*(-0.5 - y)*ν\n",
       " (1//2)*(-0.5 + x)*(-0.5 - y)*(1 - ν) + (0.5 - x)*(-0.5 + y)*ν                (-0.5 + x)*(0.5 - x) + (1//2)*(-0.5 - y)*(-0.5 + y)*(1 - ν)                (0.5 - x)^2 + (1//2)*((-0.5 - y)^2)*(1 - ν)"
      ]
     },
     "metadata": {},
     "output_type": "display_data"
    }
   ],
   "source": [
    "K_evaluated = substitute(K, Dict(a => 0.5, b => 0.5))"
   ]
  },
  {
   "cell_type": "markdown",
   "metadata": {},
   "source": [
    "First, integrating with respect to x and applying limits."
   ]
  },
  {
   "cell_type": "code",
   "execution_count": 12,
   "metadata": {},
   "outputs": [
    {
     "data": {
      "text/plain": [
       "8×8 Matrix{SymbolicUtils.BasicSymbolic{Real}}:\n",
       " 0.416667 - y - 0.166667ν + y^2      0.125 - 0.25y + 0.125ν - 0.25y*ν                            -0.166667 + y - 0.0833333ν - (y^2)  …  0.0833333 + 0.166667ν - (y^2)       0.125 + 0.25y - 0.375ν + 0.25y*ν\n",
       " 0.125 - 0.25y + 0.125ν - 0.25y*ν    0.458333 - 0.5y - 0.125ν + 0.5(y^2) + 0.5y*ν - 0.5(y^2)*ν   0.125 - 0.25y - 0.375ν + 0.75y*ν       -0.125 + 0.25y + 0.375ν + 0.25y*ν   -0.208333 - 0.125ν - 0.5(y^2) + 0.5(y^2)*ν\n",
       " -0.166667 + y - 0.0833333ν - (y^2)  0.125 - 0.25y - 0.375ν + 0.75y*ν                            0.416667 - y - 0.166667ν + y^2         -0.333333 + 0.0833333ν + y^2        0.125 + 0.25y + 0.125ν - 0.75y*ν\n",
       " -0.125 + 0.25y + 0.375ν - 0.75y*ν   0.0416667 + 0.5y + 0.125ν - 0.5(y^2) - 0.5y*ν + 0.5(y^2)*ν  -0.125 + 0.25y - 0.125ν + 0.25y*ν      0.125 - 0.25y + 0.125ν + 0.75y*ν    -0.291667 + 0.125ν + 0.5(y^2) - 0.5(y^2)*ν\n",
       " -0.333333 + 0.0833333ν + y^2        -0.125 + 0.25y - 0.125ν - 0.75y*ν                           0.0833333 + 0.166667ν - (y^2)          -0.166667 - y - 0.0833333ν - (y^2)  -0.125 - 0.25y + 0.375ν + 0.75y*ν\n",
       " -0.125 - 0.25y - 0.125ν + 0.75y*ν   -0.291667 + 0.125ν + 0.5(y^2) - 0.5(y^2)*ν                  -0.125 - 0.25y + 0.375ν - 0.25y*ν   …  0.125 + 0.25y - 0.375ν - 0.75y*ν    0.0416667 - 0.5y + 0.125ν - 0.5(y^2) + 0.5y*ν + 0.5(y^2)*ν\n",
       " 0.0833333 + 0.166667ν - (y^2)       -0.125 + 0.25y + 0.375ν + 0.25y*ν                           -0.333333 + 0.0833333ν + y^2           0.416667 + y - 0.166667ν + y^2      -0.125 - 0.25y - 0.125ν - 0.25y*ν\n",
       " 0.125 + 0.25y - 0.375ν + 0.25y*ν    -0.208333 - 0.125ν - 0.5(y^2) + 0.5(y^2)*ν                  0.125 + 0.25y + 0.125ν - 0.75y*ν       -0.125 - 0.25y - 0.125ν - 0.25y*ν   0.458333 + 0.5y - 0.125ν + 0.5(y^2) - 0.5y*ν - 0.5(y^2)*ν"
      ]
     },
     "metadata": {},
     "output_type": "display_data"
    }
   ],
   "source": [
    "first_integration_wrt_x_elementwise = map(element -> integrate(element, (x, -0.5, 0.5); detailed = false, symbolic = true), K_evaluated)"
   ]
  },
  {
   "cell_type": "markdown",
   "metadata": {},
   "source": [
    "Then integrate with respect to y and apply limits."
   ]
  },
  {
   "cell_type": "code",
   "execution_count": 13,
   "metadata": {},
   "outputs": [
    {
     "data": {
      "text/plain": [
       "8×8 Matrix{SymbolicUtils.BasicSymbolic{Real}}:\n",
       " 0.5 - 0.166667ν     0.125 + 0.125ν           -0.25 - 0.0833333ν  -0.125 + 0.375ν          -0.25 + 0.0833333ν  -0.125 - 0.125ν          0.166667ν           0.125 - 0.375ν\n",
       " 0.125 + 0.125ν      0.5 - 0.166667ν          0.125 - 0.375ν      6.93889e-18 + 0.166667ν  -0.125 - 0.125ν     -0.25 + 0.0833333ν       -0.125 + 0.375ν     -0.25 - 0.0833333ν\n",
       " -0.25 - 0.0833333ν  0.125 - 0.375ν           0.5 - 0.166667ν     -0.125 - 0.125ν          0.166667ν           -0.125 + 0.375ν          -0.25 + 0.0833333ν  0.125 + 0.125ν\n",
       " -0.125 + 0.375ν     6.93889e-18 + 0.166667ν  -0.125 - 0.125ν     0.5 - 0.166667ν          0.125 - 0.375ν      -0.25 - 0.0833333ν       0.125 + 0.125ν      -0.25 + 0.0833333ν\n",
       " -0.25 + 0.0833333ν  -0.125 - 0.125ν          0.166667ν           0.125 - 0.375ν           0.5 - 0.166667ν     0.125 + 0.125ν           -0.25 - 0.0833333ν  -0.125 + 0.375ν\n",
       " -0.125 - 0.125ν     -0.25 + 0.0833333ν       -0.125 + 0.375ν     -0.25 - 0.0833333ν       0.125 + 0.125ν      0.5 - 0.166667ν          0.125 - 0.375ν      6.93889e-18 + 0.166667ν\n",
       " 0.166667ν           -0.125 + 0.375ν          -0.25 + 0.0833333ν  0.125 + 0.125ν           -0.25 - 0.0833333ν  0.125 - 0.375ν           0.5 - 0.166667ν     -0.125 - 0.125ν\n",
       " 0.125 - 0.375ν      -0.25 - 0.0833333ν       0.125 + 0.125ν      -0.25 + 0.0833333ν       -0.125 + 0.375ν     6.93889e-18 + 0.166667ν  -0.125 - 0.125ν     0.5 - 0.166667ν"
      ]
     },
     "metadata": {},
     "output_type": "display_data"
    }
   ],
   "source": [
    "second_integration_wrt_y_elementwise = map(element -> integrate(element, (y, -0.5, 0.5); detailed = false, symbolic = true), first_integration_wrt_x_elementwise)"
   ]
  },
  {
   "cell_type": "markdown",
   "metadata": {},
   "source": [
    "For a check of the results, we can compare our obtained stiffness matrix with the stiffness matrix reported in reference 3 (code line number 87 to 99 in paper). \n",
    "\n",
    "### Caveat\n",
    "Though the symbolic approach works well for the rectangular element, it might not work for more complex elements. This is because the symbolic integrations are not always exact. Symbolic integrations in Julia usually produce the solution along with an unsolved portion and error. Fortunately, in our case we did not require the error term. It is also a good practice to substitute values (of symbols) wherever possible to simplify the expression rather than doing all the computations symbolically and then substituting the values at the end.\n",
    "\n",
    "### References\n",
    "1. Concepts and applications of finite element analysis by Robert D. Cook, et. al. (John Wiley & Sons, Inc., Fourth Edition)\n",
    "2. A first course in the finite element method by Daryl L. Logan (Cengage Learning, Fifth Edition)\n",
    "3. A 99 line topology optimization code written in MATLAB (Springer, 2001) by [Ole Sigmund](https://www.dtu.dk/english/Person/cwis?id=2278&cpid=927&tab=1&entity=profile) (Link: [https://www.topopt.mek.dtu.dk/apps-and-software/a-99-line-topology-optimization-code-written-in-matlab](https://www.topopt.mek.dtu.dk/apps-and-software/a-99-line-topology-optimization-code-written-in-matlab), Last accessed: 25 Feb 2024)"
   ]
  }
 ],
 "metadata": {
  "kernelspec": {
   "display_name": "Julia 1.8.4",
   "language": "julia",
   "name": "julia-1.8"
  },
  "language_info": {
   "file_extension": ".jl",
   "mimetype": "application/julia",
   "name": "julia",
   "version": "1.8.4"
  }
 },
 "nbformat": 4,
 "nbformat_minor": 2
}
