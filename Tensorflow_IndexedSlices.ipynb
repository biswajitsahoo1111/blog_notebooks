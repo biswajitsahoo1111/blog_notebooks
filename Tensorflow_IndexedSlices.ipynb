{
 "cells": [
  {
   "cell_type": "markdown",
   "metadata": {},
   "source": [
    "## Tensorflow IndexedSlices\n",
    "Author: [Biswajit Sahoo](https://biswajitsahoo1111.github.io/)"
   ]
  },
  {
   "cell_type": "markdown",
   "metadata": {},
   "source": [
    "<table class=\"tfo-notebook-buttons\" align=\"left\">\n",
    "  <td>\n",
    "    <a href=\"https://colab.research.google.com/github/biswajitsahoo1111/blog_notebooks/blob/master/Tensorflow_IndexedSlices.ipynb\">\n",
    "    <img src=\"https://www.tensorflow.org/images/colab_logo_32px.png\" />\n",
    "    Run in Google Colab</a>\n",
    "  </td>\n",
    "  <td>\n",
    "    <a href=\"https://github.com/biswajitsahoo1111/blog_notebooks/blob/master/Tensorflow_IndexedSlices.ipynb\">\n",
    "    <img src=\"https://www.tensorflow.org/images/GitHub-Mark-32px.png\" />\n",
    "    View source on GitHub</a>\n",
    "  </td>\n",
    "  <td>\n",
    "    <a href=\"https://www.dropbox.com/s/paze6mubda9bvv4/Tensorflow_IndexedSlices.ipynb?dl=1\"><img src=\"https://www.tensorflow.org/images/download_logo_32px.png\" />Download notebook</a>\n",
    "  </td>\n",
    "</table>"
   ]
  },
  {
   "cell_type": "markdown",
   "metadata": {},
   "source": [
    "In this post, we will discuss about `IndexedSlices` class of `Tensorflow`. We will try to answer the following questions in this blog:\n",
    "\n",
    "* [What are `IndexedSlices`?](#q1)\n",
    "* [Where do we get it?](#q2)\n",
    "* [How to convert from IndexedSlices to tensors?](#q3)"
   ]
  },
  {
   "cell_type": "markdown",
   "metadata": {},
   "source": [
    "<a id = \"q1\"></a>\n",
    "\n",
    "## What are `IndexedSlices`?\n",
    "According to [`Tensorflow` documentation](https://www.tensorflow.org/api_docs/python/tf/IndexedSlices), `IndexedSlices` are sparse representation of a set of tensor slices at a given index. At an high level it appears to be some kind of sparse representation. Let's try to understand it with examples."
   ]
  },
  {
   "cell_type": "markdown",
   "metadata": {},
   "source": [
    "<a id = \"q2\"></a>\n",
    "\n",
    "## Where do we get it?\n",
    "We get `IndexedSlices` while taking gradients of an `Embedding` layer. Embedding matrices can be huge (depending on vocabulary size). But each batch only contains a small fraction of tokens. So while computing the gradient of loss with respect to embedding layer, in each pass we have to only consider the corresponding token embeedings of the present batch. Naturally a sparse tensor seems to be a better option to record those gradients. `Tensorflow` does that using `IndexedSlices`. We will show that below using a contrived example."
   ]
  },
  {
   "cell_type": "code",
   "execution_count": 1,
   "metadata": {},
   "outputs": [
    {
     "name": "stdout",
     "output_type": "stream",
     "text": [
      "Tensorflow version:  2.4.0\n"
     ]
    }
   ],
   "source": [
    "import tensorflow as tf\n",
    "print(\"Tensorflow version: \", tf.__version__)"
   ]
  },
  {
   "cell_type": "code",
   "execution_count": 2,
   "metadata": {},
   "outputs": [
    {
     "name": "stdout",
     "output_type": "stream",
     "text": [
      "Model: \"sequential\"\n",
      "_________________________________________________________________\n",
      "Layer (type)                 Output Shape              Param #   \n",
      "=================================================================\n",
      "embedding (Embedding)        (None, 5, 4)              40        \n",
      "_________________________________________________________________\n",
      "flatten (Flatten)            (None, 20)                0         \n",
      "_________________________________________________________________\n",
      "dense (Dense)                (None, 1)                 21        \n",
      "=================================================================\n",
      "Total params: 61\n",
      "Trainable params: 61\n",
      "Non-trainable params: 0\n",
      "_________________________________________________________________\n"
     ]
    }
   ],
   "source": [
    "model = tf.keras.models.Sequential([\n",
    "    # Vocab size: 10, Embedding dimension: 4, Input_shape size: (batch_size, num_words). As usual, batch_size is omitted.\n",
    "    tf.keras.layers.Embedding(10, 4, input_shape = (5,)),\n",
    "    tf.keras.layers.Flatten(), \n",
    "    tf.keras.layers.Dense(1)\n",
    "])\n",
    "model.summary()"
   ]
  },
  {
   "cell_type": "code",
   "execution_count": 3,
   "metadata": {},
   "outputs": [
    {
     "data": {
      "text/plain": [
       "<tf.Tensor: shape=(1, 5), dtype=int32, numpy=array([[6, 1, 1, 4, 8]])>"
      ]
     },
     "execution_count": 3,
     "metadata": {},
     "output_type": "execute_result"
    }
   ],
   "source": [
    "data = tf.random.uniform(shape = (1, 5), minval = 0, maxval = 10, dtype = tf.int32) # Batch size is 1.\n",
    "data"
   ]
  },
  {
   "cell_type": "code",
   "execution_count": 4,
   "metadata": {},
   "outputs": [
    {
     "data": {
      "text/plain": [
       "[<tf.Variable 'embedding/embeddings:0' shape=(10, 4) dtype=float32, numpy=\n",
       " array([[ 4.10897247e-02, -2.48962641e-03,  1.26880072e-02,\n",
       "          3.39310430e-02],\n",
       "        [ 3.28579657e-02,  3.90318781e-03,  2.81411521e-02,\n",
       "          3.09719704e-02],\n",
       "        [ 1.16247907e-02, -1.41257644e-02, -3.36343870e-02,\n",
       "         -4.41543460e-02],\n",
       "        [-4.67238426e-02,  2.42819674e-02, -4.26802635e-02,\n",
       "         -2.59207971e-02],\n",
       "        [ 2.28367783e-02, -2.09717881e-02,  1.05572566e-02,\n",
       "          3.33249308e-02],\n",
       "        [-3.37148309e-02, -4.61939685e-02, -2.61853095e-02,\n",
       "         -4.10162285e-03],\n",
       "        [-3.59787717e-02,  2.78765075e-02, -3.16200405e-02,\n",
       "          4.54976298e-02],\n",
       "        [-4.67344411e-02, -1.30221620e-02,  1.52915232e-02,\n",
       "          2.22466923e-02],\n",
       "        [-1.03901625e-02,  2.40740217e-02, -1.24427900e-02,\n",
       "          4.47194651e-03],\n",
       "        [-3.57637033e-02,  4.28059734e-02, -2.59280205e-05,\n",
       "          4.09286283e-02]], dtype=float32)>,\n",
       " <tf.Variable 'dense/kernel:0' shape=(20, 1) dtype=float32, numpy=\n",
       " array([[ 0.42870212],\n",
       "        [ 0.04779923],\n",
       "        [ 0.4126016 ],\n",
       "        [-0.13294601],\n",
       "        [-0.3175783 ],\n",
       "        [-0.46080017],\n",
       "        [-0.23412797],\n",
       "        [ 0.30137837],\n",
       "        [-0.5197849 ],\n",
       "        [-0.10935467],\n",
       "        [ 0.5087845 ],\n",
       "        [-0.06930307],\n",
       "        [ 0.10028934],\n",
       "        [-0.11278141],\n",
       "        [-0.21269777],\n",
       "        [-0.0214209 ],\n",
       "        [ 0.12959635],\n",
       "        [-0.13330323],\n",
       "        [-0.23972857],\n",
       "        [ 0.23718971]], dtype=float32)>,\n",
       " <tf.Variable 'dense/bias:0' shape=(1,) dtype=float32, numpy=array([0.], dtype=float32)>]"
      ]
     },
     "execution_count": 4,
     "metadata": {},
     "output_type": "execute_result"
    }
   ],
   "source": [
    "model.variables  # Is a list of 3 tensors. 1 from Embedding layer and 2 from Dense layer (Kernel and bias)"
   ]
  },
  {
   "cell_type": "code",
   "execution_count": 5,
   "metadata": {},
   "outputs": [],
   "source": [
    "optimizer = tf.keras.optimizers.SGD(learning_rate = 0.1)\n",
    "loss_object = tf.keras.losses.MeanSquaredError()\n",
    "target = tf.constant([2.5], shape = (1,1))\n",
    "for _ in range(2):   # Let's run gradient descent for two batches of the same input data. (It's a contrived examples)\n",
    "    with tf.GradientTape() as tape:\n",
    "        output = model(data) # Output has shape: (batch_size, 1). Here batch_size is 1. So output shape is (1,1)\n",
    "        loss_value = loss_object(target, output)  # Calculating some random loss.\n",
    "    grads = tape.gradient(loss_value, model.trainable_variables)\n",
    "\n",
    "    # Gradient descent step\n",
    "    optimizer.apply_gradients(zip(grads, model.trainable_variables))"
   ]
  },
  {
   "cell_type": "code",
   "execution_count": 6,
   "metadata": {},
   "outputs": [
    {
     "data": {
      "text/plain": [
       "3"
      ]
     },
     "execution_count": 6,
     "metadata": {},
     "output_type": "execute_result"
    }
   ],
   "source": [
    "len(grads)"
   ]
  },
  {
   "cell_type": "code",
   "execution_count": 7,
   "metadata": {},
   "outputs": [
    {
     "data": {
      "text/plain": [
       "<tensorflow.python.framework.indexed_slices.IndexedSlices at 0x16c04d4a970>"
      ]
     },
     "execution_count": 7,
     "metadata": {},
     "output_type": "execute_result"
    }
   ],
   "source": [
    "grads[0]"
   ]
  },
  {
   "cell_type": "code",
   "execution_count": 8,
   "metadata": {},
   "outputs": [
    {
     "name": "stdout",
     "output_type": "stream",
     "text": [
      "IndexedSlices(indices=tf.Tensor([6 1 1 4 8], shape=(5,), dtype=int32), values=tf.Tensor(\n",
      "[[-0.9495101  -0.14344962 -0.91739434  0.25398374]\n",
      " [ 0.69607455  1.0615798   0.5085497  -0.7338184 ]\n",
      " [ 1.1639317   0.24842012 -1.2103697   0.12384857]\n",
      " [-0.25895947  0.2856651   0.47968888  0.01028775]\n",
      " [-0.28760925  0.28005898  0.56933826 -0.5540699 ]], shape=(5, 4), dtype=float32), dense_shape=tf.Tensor([10  4], shape=(2,), dtype=int32))\n"
     ]
    }
   ],
   "source": [
    "print(grads[0])"
   ]
  },
  {
   "cell_type": "markdown",
   "metadata": {},
   "source": [
    "An `IndexedSlices` object has 3 main entries.\n",
    "* indices\n",
    "* values, and\n",
    "* dense_shape"
   ]
  },
  {
   "cell_type": "markdown",
   "metadata": {},
   "source": [
    "<a id = \"q3\"></a>\n",
    "\n",
    "## How to convert `IndexedSlices` to `Tensors`?\n",
    "\n",
    "Before we do the conversion, let's answer a relevant question: Why do we have to do the conversion from `IndexedSlices` to tensors given that `Tensorflow` can do a gradient descent step automatically through the `IndexedSlices`? In the last section, we could run 2 gradient descent steps without worrying about `IndexedSlices`.\n",
    "\n",
    "But the problem occurs if we want to do some processing on gradient values. One such processing is `gradient clipping`. In `gradient clipping`, if sum of norm of gradients exceed a given value, gradients are rescaled to decrease their magnitude. Therefore, to do any gradient clipping, we have to access the gradient tensors. This is precisely where we would like to convert IndexedSlices to tensors. Having an embedding layer is common in deep learning models and applying gradient clipping to gradient values is also a common practice. We will show two approaches to do the conversion."
   ]
  },
  {
   "cell_type": "markdown",
   "metadata": {},
   "source": [
    "### Easiest approach"
   ]
  },
  {
   "cell_type": "code",
   "execution_count": 9,
   "metadata": {},
   "outputs": [
    {
     "data": {
      "text/plain": [
       "<tf.Tensor: shape=(10, 4), dtype=float32, numpy=\n",
       "array([[ 0.        ,  0.        ,  0.        ,  0.        ],\n",
       "       [ 1.8600063 ,  1.31      , -0.70182   , -0.60996985],\n",
       "       [ 0.        ,  0.        ,  0.        ,  0.        ],\n",
       "       [ 0.        ,  0.        ,  0.        ,  0.        ],\n",
       "       [-0.25895947,  0.2856651 ,  0.47968888,  0.01028775],\n",
       "       [ 0.        ,  0.        ,  0.        ,  0.        ],\n",
       "       [-0.9495101 , -0.14344962, -0.91739434,  0.25398374],\n",
       "       [ 0.        ,  0.        ,  0.        ,  0.        ],\n",
       "       [-0.28760925,  0.28005898,  0.56933826, -0.5540699 ],\n",
       "       [ 0.        ,  0.        ,  0.        ,  0.        ]],\n",
       "      dtype=float32)>"
      ]
     },
     "execution_count": 9,
     "metadata": {},
     "output_type": "execute_result"
    }
   ],
   "source": [
    "tf.convert_to_tensor(grads[0])"
   ]
  },
  {
   "cell_type": "markdown",
   "metadata": {},
   "source": [
    "### What did just happen in the last step?\n",
    "\n",
    "Though the last approach is a single line elegant solution, it hides many things. How actually is the conversion done? The code below shows the steps in which we can manually do the conversion."
   ]
  },
  {
   "cell_type": "code",
   "execution_count": 10,
   "metadata": {},
   "outputs": [
    {
     "data": {
      "text/plain": [
       "array([[ 0.        ,  0.        ,  0.        ,  0.        ],\n",
       "       [ 1.8600063 ,  1.31      , -0.70182   , -0.60996985],\n",
       "       [ 0.        ,  0.        ,  0.        ,  0.        ],\n",
       "       [ 0.        ,  0.        ,  0.        ,  0.        ],\n",
       "       [-0.25895947,  0.2856651 ,  0.47968888,  0.01028775],\n",
       "       [ 0.        ,  0.        ,  0.        ,  0.        ],\n",
       "       [-0.9495101 , -0.14344962, -0.91739434,  0.25398374],\n",
       "       [ 0.        ,  0.        ,  0.        ,  0.        ],\n",
       "       [-0.28760925,  0.28005898,  0.56933826, -0.5540699 ],\n",
       "       [ 0.        ,  0.        ,  0.        ,  0.        ]],\n",
       "      dtype=float32)"
      ]
     },
     "execution_count": 10,
     "metadata": {},
     "output_type": "execute_result"
    }
   ],
   "source": [
    "check_grad = tf.zeros_like(model.variables[0]).numpy()   # Create a dense tensor of all zeros\n",
    "for i, ind in enumerate(grads[0].indices):\n",
    "    check_grad[ind] = check_grad[ind] + grads[0].values[i]\n",
    "check_grad"
   ]
  },
  {
   "cell_type": "markdown",
   "metadata": {},
   "source": [
    "This brings us to the end of this blog. I hope this blog has demystified a few things about `IndexedSlices`."
   ]
  },
  {
   "cell_type": "markdown",
   "metadata": {},
   "source": [
    "**Motivation for this post**: While writing TF 2 code for [Attention Mechanisms chapter of D2L book](https://github.com/biswajitsahoo1111/D2L_Attention_Mechanisms_in_TF), the author encountered an error involving `IndexedSlices`. After spending a good deal of time hopelessly trying to figure out what's going on, the author finally found that the error was occurring because of an user defined gradient clipping function that didn't handle `IndexedSlices` properly. The model involved embedding layers as it was dealing with machine translation task. Therefore, I thought of writing this blog with the hope that it would be of help to readers who are struggling to figure out what `IndexedSlices` are."
   ]
  }
 ],
 "metadata": {
  "kernelspec": {
   "display_name": "tf_24_env",
   "language": "python",
   "name": "tf_24_env"
  },
  "language_info": {
   "codemirror_mode": {
    "name": "ipython",
    "version": 3
   },
   "file_extension": ".py",
   "mimetype": "text/x-python",
   "name": "python",
   "nbconvert_exporter": "python",
   "pygments_lexer": "ipython3",
   "version": "3.8.5"
  }
 },
 "nbformat": 4,
 "nbformat_minor": 4
}
