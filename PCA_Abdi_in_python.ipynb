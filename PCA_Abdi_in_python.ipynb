{
  "nbformat": 4,
  "nbformat_minor": 0,
  "metadata": {
    "colab": {
      "name": "PCA_Abdi_in_python.ipynb",
      "provenance": [],
      "collapsed_sections": [
        "y4hv6yghmBSa",
        "jz2gewKqmBS6",
        "2TD5FrMAmBUl",
        "b1tiz8xkmBU_",
        "F5n4eZDmmBVL",
        "jpVqlasDmBVZ",
        "Sm4eoVvgmBVm",
        "Z3ApxCU7mBV6",
        "LDK5W27XmBWV",
        "-F1GDjmnmBWh",
        "ZpFh1kzpmBWv",
        "5ekGRJtqmBXA",
        "b6dGkUGZmBXP",
        "-5nrYyr0mBXc",
        "Z2h-RsFOmBXp",
        "p45jMjtSmBX2",
        "euI7p_-smBYX",
        "zPZbkNRrmBZQ",
        "A4K0Pn-dmBZs",
        "jW-tPCMomBaS",
        "Yn5fC8EZmBah",
        "jg38WyfHmBat",
        "vChXJrMimBa5",
        "zHiCVsAnmBb4",
        "-Z_R71DkmBcU",
        "Al9hJcR9mBc1",
        "mXvdSJEDmBdA",
        "erIu0z8WmBdd",
        "k0uTDdwImBdq",
        "aWnXQWg0mBd1",
        "gd38ZBOfmBeA",
        "tPlI-CX8mBeY",
        "f6Z_kW27mBes",
        "MeGcrEg8mBe2",
        "WV-xKRjemBe-"
      ]
    },
    "kernelspec": {
      "display_name": "Python 3",
      "language": "python",
      "name": "python3"
    },
    "language_info": {
      "codemirror_mode": {
        "name": "ipython",
        "version": 3
      },
      "file_extension": ".py",
      "mimetype": "text/x-python",
      "name": "python",
      "nbconvert_exporter": "python",
      "pygments_lexer": "ipython3",
      "version": "3.7.7"
    },
    "toc": {
      "base_numbering": 1,
      "nav_menu": {},
      "number_sections": false,
      "sideBar": true,
      "skip_h1_title": false,
      "title_cell": "Table of Contents",
      "title_sidebar": "Contents",
      "toc_cell": false,
      "toc_position": {},
      "toc_section_display": true,
      "toc_window_display": false
    }
  },
  "cells": [
    {
      "cell_type": "markdown",
      "metadata": {
        "id": "SW1oUNDNmBQA"
      },
      "source": [
        "## Principal Component Analysis - Part III\n",
        "\n",
        "Author: [Biswajit Sahoo](https://biswajitsahoo1111.github.io/)\n",
        "\n",
        "<table class=\"tfo-notebook-buttons\" align=\"center\">\n",
        "  <td>\n",
        "    <a href=\"https://colab.research.google.com/github/biswajitsahoo1111/cbm_codes_open/blob/master/notebooks/PCA_Abdi_in_python.ipynb\">\n",
        "    <img src=\"https://www.tensorflow.org/images/colab_logo_32px.png\" />\n",
        "    Run Python code in Google Colab</a>\n",
        "  </td>\n",
        "  <td>\n",
        "    <a href=\"https://www.dropbox.com/s/gn415uh3quou3a8/PCA_Abdi_in_python.ipynb?dl=1\"><img src=\"https://www.tensorflow.org/images/download_logo_32px.png\" />Download Python code</a>\n",
        "  </td>\n",
        "  <td>\n",
        "    <a href=\"https://www.dropbox.com/s/tp56l6v7upa1apf/PCA_blog_Biswajit_Sahoo_part_3.Rmd?dl=1\"><img src=\"https://www.tensorflow.org/images/download_logo_32px.png\" />Download R code (R Markdown)</a>\n",
        "  </td>\n",
        "</table>\n",
        "\n",
        "In this post, we will reproduce the results of a popular paper on PCA. The paper is titled '[Principal component analysis](https://personal.utdallas.edu/~herve/abdi-awPCA2010.pdf)' and is authored by [Herve Abdi](https://personal.utdallas.edu/~herve/) and [Lynne J. Williams](https://ljwilliams.github.io/). It got published in 2010 and since then its popularity has only grown. Its number of citations are more than 4800 as per Google Scholar data (This was the number when this post was last revised).\n",
        "\n",
        "This post is Part-III of a three part series on PCA. Other parts of the series can be found at the links below. \n",
        "\n",
        "* [Part-I: Basic Theory of PCA](https://biswajitsahoo1111.github.io/post/principal-component-analysis-part-i/)\n",
        "* [Part-II: PCA Implementation with and without using built-in functions](https://biswajitsahoo1111.github.io/post/principal-component-analysis-part-ii/)\n",
        "\n",
        "This post contains code snippets in `Python`. To produce `ggplot` like plots, we have used `plotnine` package of `Python`. If that package is not availabe, it can be installed by using the command `pip install plotnine`.\n",
        "\n",
        "### Structure of the paper\n",
        "Along with basic theory, the paper contains three examples on PCA, one example on correspondence analysis, and one example on multiple factor analysis. We will only focus on PCA examples in this post."
      ]
    },
    {
      "cell_type": "code",
      "metadata": {
        "id": "-3a9R8DjmBQG"
      },
      "source": [
        "from sklearn.decomposition import PCA\n",
        "from sklearn.preprocessing import StandardScaler\n",
        "import pandas as pd\n",
        "import numpy as np\n",
        "from plotnine import ggplot, aes, geom_point, geom_text, geom_hline, geom_vline, labs, xlim, ylim, geom_abline, annotate, geom_path"
      ],
      "execution_count": 1,
      "outputs": []
    },
    {
      "cell_type": "markdown",
      "metadata": {
        "id": "Fj6WW23NmBQb"
      },
      "source": [
        "### How to get data\n",
        "Data for the following examples have been taken from the paper. These datasets are pretty small. So one way to read it is to create a dataframe itself in `Pandas` using the values given in paper. Otherwise, the values can first be saved in a csv file and then read from it. To make this post self-sufficient, we will adopt the former approach."
      ]
    },
    {
      "cell_type": "code",
      "metadata": {
        "colab": {
          "base_uri": "https://localhost:8080/",
          "height": 639
        },
        "id": "lD04ezf3mBQf",
        "outputId": "2e6db366-59af-44cb-915c-ecd1820e36a1"
      },
      "source": [
        "words = pd.DataFrame(data = {\"Words\": [\"Bag\", \"Across\", \"On\", \"Insane\", \"By\", \"Monastery\", \"Relief\", \"Slope\", \"Scoundrel\", \n",
        "                                       \"With\", \"Neither\", \"Pretentious\", \"Solid\", \"This\", \"For\", \"Therefore\", \"Generality\", \n",
        "                                       \"Arise\", \"Blot\", \"Infectious\"],\n",
        "                             \"Word_length\": [3, 6, 2, 6, 2, 9, 6, 5, 9, 4, 7, 11, 5, 4, 3, 9, 10, 5, 4, 10],\n",
        "                             \"Lines_in_dict\": [14, 7, 11, 9, 9, 4, 8, 11, 5, 8, 2, 4, 12, 9, 8, 1, 4, 13, 15, 6]})\n",
        "words"
      ],
      "execution_count": 2,
      "outputs": [
        {
          "output_type": "execute_result",
          "data": {
            "text/html": [
              "<div>\n",
              "<style scoped>\n",
              "    .dataframe tbody tr th:only-of-type {\n",
              "        vertical-align: middle;\n",
              "    }\n",
              "\n",
              "    .dataframe tbody tr th {\n",
              "        vertical-align: top;\n",
              "    }\n",
              "\n",
              "    .dataframe thead th {\n",
              "        text-align: right;\n",
              "    }\n",
              "</style>\n",
              "<table border=\"1\" class=\"dataframe\">\n",
              "  <thead>\n",
              "    <tr style=\"text-align: right;\">\n",
              "      <th></th>\n",
              "      <th>Words</th>\n",
              "      <th>Word_length</th>\n",
              "      <th>Lines_in_dict</th>\n",
              "    </tr>\n",
              "  </thead>\n",
              "  <tbody>\n",
              "    <tr>\n",
              "      <th>0</th>\n",
              "      <td>Bag</td>\n",
              "      <td>3</td>\n",
              "      <td>14</td>\n",
              "    </tr>\n",
              "    <tr>\n",
              "      <th>1</th>\n",
              "      <td>Across</td>\n",
              "      <td>6</td>\n",
              "      <td>7</td>\n",
              "    </tr>\n",
              "    <tr>\n",
              "      <th>2</th>\n",
              "      <td>On</td>\n",
              "      <td>2</td>\n",
              "      <td>11</td>\n",
              "    </tr>\n",
              "    <tr>\n",
              "      <th>3</th>\n",
              "      <td>Insane</td>\n",
              "      <td>6</td>\n",
              "      <td>9</td>\n",
              "    </tr>\n",
              "    <tr>\n",
              "      <th>4</th>\n",
              "      <td>By</td>\n",
              "      <td>2</td>\n",
              "      <td>9</td>\n",
              "    </tr>\n",
              "    <tr>\n",
              "      <th>5</th>\n",
              "      <td>Monastery</td>\n",
              "      <td>9</td>\n",
              "      <td>4</td>\n",
              "    </tr>\n",
              "    <tr>\n",
              "      <th>6</th>\n",
              "      <td>Relief</td>\n",
              "      <td>6</td>\n",
              "      <td>8</td>\n",
              "    </tr>\n",
              "    <tr>\n",
              "      <th>7</th>\n",
              "      <td>Slope</td>\n",
              "      <td>5</td>\n",
              "      <td>11</td>\n",
              "    </tr>\n",
              "    <tr>\n",
              "      <th>8</th>\n",
              "      <td>Scoundrel</td>\n",
              "      <td>9</td>\n",
              "      <td>5</td>\n",
              "    </tr>\n",
              "    <tr>\n",
              "      <th>9</th>\n",
              "      <td>With</td>\n",
              "      <td>4</td>\n",
              "      <td>8</td>\n",
              "    </tr>\n",
              "    <tr>\n",
              "      <th>10</th>\n",
              "      <td>Neither</td>\n",
              "      <td>7</td>\n",
              "      <td>2</td>\n",
              "    </tr>\n",
              "    <tr>\n",
              "      <th>11</th>\n",
              "      <td>Pretentious</td>\n",
              "      <td>11</td>\n",
              "      <td>4</td>\n",
              "    </tr>\n",
              "    <tr>\n",
              "      <th>12</th>\n",
              "      <td>Solid</td>\n",
              "      <td>5</td>\n",
              "      <td>12</td>\n",
              "    </tr>\n",
              "    <tr>\n",
              "      <th>13</th>\n",
              "      <td>This</td>\n",
              "      <td>4</td>\n",
              "      <td>9</td>\n",
              "    </tr>\n",
              "    <tr>\n",
              "      <th>14</th>\n",
              "      <td>For</td>\n",
              "      <td>3</td>\n",
              "      <td>8</td>\n",
              "    </tr>\n",
              "    <tr>\n",
              "      <th>15</th>\n",
              "      <td>Therefore</td>\n",
              "      <td>9</td>\n",
              "      <td>1</td>\n",
              "    </tr>\n",
              "    <tr>\n",
              "      <th>16</th>\n",
              "      <td>Generality</td>\n",
              "      <td>10</td>\n",
              "      <td>4</td>\n",
              "    </tr>\n",
              "    <tr>\n",
              "      <th>17</th>\n",
              "      <td>Arise</td>\n",
              "      <td>5</td>\n",
              "      <td>13</td>\n",
              "    </tr>\n",
              "    <tr>\n",
              "      <th>18</th>\n",
              "      <td>Blot</td>\n",
              "      <td>4</td>\n",
              "      <td>15</td>\n",
              "    </tr>\n",
              "    <tr>\n",
              "      <th>19</th>\n",
              "      <td>Infectious</td>\n",
              "      <td>10</td>\n",
              "      <td>6</td>\n",
              "    </tr>\n",
              "  </tbody>\n",
              "</table>\n",
              "</div>"
            ],
            "text/plain": [
              "          Words  Word_length  Lines_in_dict\n",
              "0           Bag            3             14\n",
              "1        Across            6              7\n",
              "2            On            2             11\n",
              "3        Insane            6              9\n",
              "4            By            2              9\n",
              "5     Monastery            9              4\n",
              "6        Relief            6              8\n",
              "7         Slope            5             11\n",
              "8     Scoundrel            9              5\n",
              "9          With            4              8\n",
              "10      Neither            7              2\n",
              "11  Pretentious           11              4\n",
              "12        Solid            5             12\n",
              "13         This            4              9\n",
              "14          For            3              8\n",
              "15    Therefore            9              1\n",
              "16   Generality           10              4\n",
              "17        Arise            5             13\n",
              "18         Blot            4             15\n",
              "19   Infectious           10              6"
            ]
          },
          "metadata": {
            "tags": []
          },
          "execution_count": 2
        }
      ]
    },
    {
      "cell_type": "markdown",
      "metadata": {
        "id": "9IyN7RGdmBQ1"
      },
      "source": [
        "Change data types from int to float. This will facilitate our analysis later. Otherwise some warnings will be generated."
      ]
    },
    {
      "cell_type": "code",
      "metadata": {
        "colab": {
          "base_uri": "https://localhost:8080/"
        },
        "id": "15OD5m9omBQ4",
        "outputId": "3d27c7b7-3892-4ddd-c0a4-0bbbc89bb37f"
      },
      "source": [
        "words.iloc[:,1:3] = words.iloc[:,1:3].astype(np.float64)\n",
        "words.dtypes"
      ],
      "execution_count": 3,
      "outputs": [
        {
          "output_type": "execute_result",
          "data": {
            "text/plain": [
              "Words             object\n",
              "Word_length      float64\n",
              "Lines_in_dict    float64\n",
              "dtype: object"
            ]
          },
          "metadata": {
            "tags": []
          },
          "execution_count": 3
        }
      ]
    },
    {
      "cell_type": "markdown",
      "metadata": {
        "id": "JZaXVbVHmBRH"
      },
      "source": [
        "`sklearn`'s PCA centers data by default before applying SVD. In this example, we will explicitly center the data before giving it as an argument to PCA's `fit` method."
      ]
    },
    {
      "cell_type": "code",
      "metadata": {
        "colab": {
          "base_uri": "https://localhost:8080/"
        },
        "id": "KbjSZoQcmBRJ",
        "outputId": "c016195a-250a-46a5-ec70-5cc2923e0d49"
      },
      "source": [
        "cent_data = StandardScaler(with_mean= True, with_std = False)\n",
        "centered_words = cent_data.fit_transform(words.iloc[:,1:3])\n",
        "centered_words"
      ],
      "execution_count": 4,
      "outputs": [
        {
          "output_type": "execute_result",
          "data": {
            "text/plain": [
              "array([[-3.,  6.],\n",
              "       [ 0., -1.],\n",
              "       [-4.,  3.],\n",
              "       [ 0.,  1.],\n",
              "       [-4.,  1.],\n",
              "       [ 3., -4.],\n",
              "       [ 0.,  0.],\n",
              "       [-1.,  3.],\n",
              "       [ 3., -3.],\n",
              "       [-2.,  0.],\n",
              "       [ 1., -6.],\n",
              "       [ 5., -4.],\n",
              "       [-1.,  4.],\n",
              "       [-2.,  1.],\n",
              "       [-3.,  0.],\n",
              "       [ 3., -7.],\n",
              "       [ 4., -4.],\n",
              "       [-1.,  5.],\n",
              "       [-2.,  7.],\n",
              "       [ 4., -2.]])"
            ]
          },
          "metadata": {
            "tags": []
          },
          "execution_count": 4
        }
      ]
    },
    {
      "cell_type": "markdown",
      "metadata": {
        "id": "y3dCl4-emBRY"
      },
      "source": [
        "### Covariance PCA\n",
        "Covariance PCA uses centered data matrix. But data matrix is not scaled. "
      ]
    },
    {
      "cell_type": "code",
      "metadata": {
        "id": "CaeUE5LymBRb"
      },
      "source": [
        "pca_words_cov = PCA().fit(centered_words)"
      ],
      "execution_count": 5,
      "outputs": []
    },
    {
      "cell_type": "code",
      "metadata": {
        "colab": {
          "base_uri": "https://localhost:8080/"
        },
        "id": "jsFoX5DEmBRp",
        "outputId": "75502d23-34ea-47c0-db73-bf7787074312"
      },
      "source": [
        "factor_scores_words = pca_words_cov.transform(centered_words)\n",
        "print(np.round(factor_scores_words,2))"
      ],
      "execution_count": 6,
      "outputs": [
        {
          "output_type": "stream",
          "text": [
            "[[-6.67 -0.69]\n",
            " [ 0.84  0.54]\n",
            " [-4.68  1.76]\n",
            " [-0.84 -0.54]\n",
            " [-2.99  2.84]\n",
            " [ 4.99 -0.38]\n",
            " [ 0.    0.  ]\n",
            " [-3.07 -0.77]\n",
            " [ 4.14 -0.92]\n",
            " [-1.07  1.69]\n",
            " [ 5.6   2.38]\n",
            " [ 6.06 -2.07]\n",
            " [-3.91 -1.3 ]\n",
            " [-1.92  1.15]\n",
            " [-1.61  2.53]\n",
            " [ 7.52  1.23]\n",
            " [ 5.52 -1.23]\n",
            " [-4.76 -1.84]\n",
            " [-6.98 -2.07]\n",
            " [ 3.83 -2.3 ]]\n"
          ],
          "name": "stdout"
        }
      ]
    },
    {
      "cell_type": "markdown",
      "metadata": {
        "id": "HOk1mBarmBR6"
      },
      "source": [
        "Note that both of our factor scores are negative of that given in paper. It doesn't matter as principal directions are orthogonal. But to match the results of this notebook with that of the paper, we will multiply `factor scores` with -1 so that it matches with the values given in the paper."
      ]
    },
    {
      "cell_type": "code",
      "metadata": {
        "colab": {
          "base_uri": "https://localhost:8080/"
        },
        "id": "UxseLR_DmBR9",
        "outputId": "cdc1cf2a-2e03-471f-bedf-430eaa2dacac"
      },
      "source": [
        "factor_scores_words = -factor_scores_words\n",
        "np.round(factor_scores_words,2)"
      ],
      "execution_count": 7,
      "outputs": [
        {
          "output_type": "execute_result",
          "data": {
            "text/plain": [
              "array([[ 6.67,  0.69],\n",
              "       [-0.84, -0.54],\n",
              "       [ 4.68, -1.76],\n",
              "       [ 0.84,  0.54],\n",
              "       [ 2.99, -2.84],\n",
              "       [-4.99,  0.38],\n",
              "       [-0.  , -0.  ],\n",
              "       [ 3.07,  0.77],\n",
              "       [-4.14,  0.92],\n",
              "       [ 1.07, -1.69],\n",
              "       [-5.6 , -2.38],\n",
              "       [-6.06,  2.07],\n",
              "       [ 3.91,  1.3 ],\n",
              "       [ 1.92, -1.15],\n",
              "       [ 1.61, -2.53],\n",
              "       [-7.52, -1.23],\n",
              "       [-5.52,  1.23],\n",
              "       [ 4.76,  1.84],\n",
              "       [ 6.98,  2.07],\n",
              "       [-3.83,  2.3 ]])"
            ]
          },
          "metadata": {
            "tags": []
          },
          "execution_count": 7
        }
      ]
    },
    {
      "cell_type": "markdown",
      "metadata": {
        "id": "Du2IiaJTmBSK"
      },
      "source": [
        "### Principal directions are orthogonal"
      ]
    },
    {
      "cell_type": "code",
      "metadata": {
        "colab": {
          "base_uri": "https://localhost:8080/"
        },
        "id": "PnlZA6VbmBSN",
        "outputId": "82f666d1-b5fd-4b91-e704-a2748e9ce4da"
      },
      "source": [
        "np.sum(factor_scores_words[:,0] * factor_scores_words[:,1])"
      ],
      "execution_count": 8,
      "outputs": [
        {
          "output_type": "execute_result",
          "data": {
            "text/plain": [
              "3.552713678800501e-15"
            ]
          },
          "metadata": {
            "tags": []
          },
          "execution_count": 8
        }
      ]
    },
    {
      "cell_type": "markdown",
      "metadata": {
        "id": "y4hv6yghmBSa"
      },
      "source": [
        "### Contribution of each factor"
      ]
    },
    {
      "cell_type": "code",
      "metadata": {
        "colab": {
          "base_uri": "https://localhost:8080/"
        },
        "id": "diakdaaEmBSd",
        "outputId": "e338e741-cae4-46b6-ec11-da2c1ddd2a35"
      },
      "source": [
        "np.round(factor_scores_words[:,0]**2/sum(factor_scores_words[:,0]**2)*100,2)"
      ],
      "execution_count": 9,
      "outputs": [
        {
          "output_type": "execute_result",
          "data": {
            "text/plain": [
              "array([11.36,  0.18,  5.58,  0.18,  2.28,  6.34,  0.  ,  2.4 ,  4.38,\n",
              "        0.29,  8.  ,  9.37,  3.9 ,  0.94,  0.66, 14.41,  7.78,  5.77,\n",
              "       12.43,  3.75])"
            ]
          },
          "metadata": {
            "tags": []
          },
          "execution_count": 9
        }
      ]
    },
    {
      "cell_type": "code",
      "metadata": {
        "colab": {
          "base_uri": "https://localhost:8080/"
        },
        "id": "XPsINXKPmBSq",
        "outputId": "fed0b9d0-1313-4c3e-e8d7-093dc98b1c1d"
      },
      "source": [
        "np.round(factor_scores_words[:,1]**2/sum(factor_scores_words[:,1]**2)*100,2)"
      ],
      "execution_count": 10,
      "outputs": [
        {
          "output_type": "execute_result",
          "data": {
            "text/plain": [
              "array([ 0.92,  0.55,  5.98,  0.55, 15.49,  0.28,  0.  ,  1.13,  1.63,\n",
              "        5.48, 10.87,  8.25,  3.27,  2.55, 12.32,  2.9 ,  2.9 ,  6.52,\n",
              "        8.25, 10.18])"
            ]
          },
          "metadata": {
            "tags": []
          },
          "execution_count": 10
        }
      ]
    },
    {
      "cell_type": "markdown",
      "metadata": {
        "id": "jz2gewKqmBS6"
      },
      "source": [
        "### Squared distance to center of gravity"
      ]
    },
    {
      "cell_type": "code",
      "metadata": {
        "colab": {
          "base_uri": "https://localhost:8080/"
        },
        "id": "l5EGhDwOmBS9",
        "outputId": "751adb05-ff07-4b4d-856a-c6bce2fc64f4"
      },
      "source": [
        "np.sum(factor_scores_words**2,axis = 1)"
      ],
      "execution_count": 11,
      "outputs": [
        {
          "output_type": "execute_result",
          "data": {
            "text/plain": [
              "array([45.,  1., 25.,  1., 17., 25.,  0., 10., 18.,  4., 37., 41., 17.,\n",
              "        5.,  9., 58., 32., 26., 53., 20.])"
            ]
          },
          "metadata": {
            "tags": []
          },
          "execution_count": 11
        }
      ]
    },
    {
      "cell_type": "markdown",
      "metadata": {
        "id": "TjaYpjCMmBTK"
      },
      "source": [
        "### Squared cosine of observations"
      ]
    },
    {
      "cell_type": "code",
      "metadata": {
        "colab": {
          "base_uri": "https://localhost:8080/"
        },
        "id": "lVq9xJ82mBTN",
        "outputId": "4346678d-ae69-4b46-e680-167ae67093c6"
      },
      "source": [
        "sq_cos = factor_scores_words**2/np.sum(factor_scores_words**2, axis = 1).reshape((20,1))*100\n",
        "print(np.round(sq_cos))"
      ],
      "execution_count": 12,
      "outputs": [
        {
          "output_type": "stream",
          "text": [
            "[[99.  1.]\n",
            " [71. 29.]\n",
            " [88. 12.]\n",
            " [71. 29.]\n",
            " [53. 47.]\n",
            " [99.  1.]\n",
            " [nan nan]\n",
            " [94.  6.]\n",
            " [95.  5.]\n",
            " [29. 71.]\n",
            " [85. 15.]\n",
            " [90. 10.]\n",
            " [90. 10.]\n",
            " [74. 26.]\n",
            " [29. 71.]\n",
            " [97.  3.]\n",
            " [95.  5.]\n",
            " [87. 13.]\n",
            " [92.  8.]\n",
            " [74. 26.]]\n"
          ],
          "name": "stdout"
        },
        {
          "output_type": "stream",
          "text": [
            "/usr/local/lib/python3.7/dist-packages/ipykernel_launcher.py:1: RuntimeWarning: invalid value encountered in true_divide\n",
            "  \"\"\"Entry point for launching an IPython kernel.\n"
          ],
          "name": "stderr"
        }
      ]
    },
    {
      "cell_type": "markdown",
      "metadata": {
        "id": "ST4tmAfCmBTZ"
      },
      "source": [
        "`nan`s are produced because of division by zero."
      ]
    },
    {
      "cell_type": "code",
      "metadata": {
        "colab": {
          "base_uri": "https://localhost:8080/",
          "height": 502
        },
        "id": "Q8-xpvfSmBTo",
        "outputId": "ce9e3370-4326-4675-fb9c-14c50eeaeb45"
      },
      "source": [
        "# Figure 1\n",
        "p = (ggplot(words,aes(x = \"Lines_in_dict\", y = \"Word_length\", label = \"Words\"))\n",
        " + geom_point()+ geom_text(size = 7, ha = \"left\", va = \"bottom\", angle = 20)\n",
        " + geom_hline(yintercept = 6)+geom_vline(xintercept = 8)\n",
        " + labs(x = \"Lines in dictionary\",y = \"Word length\")\n",
        " + ylim([0,12]))\n",
        "print(p)"
      ],
      "execution_count": 13,
      "outputs": [
        {
          "output_type": "stream",
          "text": [
            "/usr/local/lib/python3.7/dist-packages/plotnine/utils.py:1246: FutureWarning: is_categorical is deprecated and will be removed in a future version.  Use is_categorical_dtype instead\n",
            "  if pdtypes.is_categorical(arr):\n"
          ],
          "name": "stderr"
        },
        {
          "output_type": "display_data",
          "data": {
            "image/png": "[encoded data removed]",
            "text/plain": [
              "<Figure size 640x480 with 1 Axes>"
            ]
          },
          "metadata": {
            "tags": []
          }
        },
        {
          "output_type": "stream",
          "text": [
            "<ggplot: (8775119316077)>\n"
          ],
          "name": "stdout"
        }
      ]
    },
    {
      "cell_type": "code",
      "metadata": {
        "colab": {
          "base_uri": "https://localhost:8080/"
        },
        "id": "9laI4cW7mBT4",
        "outputId": "8280c0ba-63f7-4886-f4dd-7a9625dc1bae"
      },
      "source": [
        "# Show directions of PCs\n",
        "# Note that intercept argument in geom_abline considers the line to be at the origin. In our case the data are mean shifted.\n",
        "# So we have to adjust the intercept taking new origin into consideration. These adjustments have been made below.\n",
        "slope1 = pca_words_cov.components_.T[0,0]/pca_words_cov.components_.T[1,0] # Slope of first PC\n",
        "slope2 = pca_words_cov.components_.T[0,1]/pca_words_cov.components_.T[1,1] # Slope of second PC\n",
        "new_origin = [np.mean(words[\"Lines_in_dict\"]), np.mean(words[\"Word_length\"])]\n",
        "print(\"New Origin: \" ,new_origin)"
      ],
      "execution_count": 14,
      "outputs": [
        {
          "output_type": "stream",
          "text": [
            "New Origin:  [8.0, 6.0]\n"
          ],
          "name": "stdout"
        }
      ]
    },
    {
      "cell_type": "code",
      "metadata": {
        "colab": {
          "base_uri": "https://localhost:8080/",
          "height": 502
        },
        "id": "8xSXC80ZmBUF",
        "outputId": "7d3d4e0e-d2d4-45f0-9534-0bc48534f853"
      },
      "source": [
        "intercept1 = 6 - slope1*8\n",
        "intercept2 = 6 - slope2*8\n",
        "(p + geom_abline(slope = slope1,intercept = intercept1,linetype = \"dashed\",size = 1.2,color = \"red\")\n",
        "   + geom_abline(slope = slope2,intercept = intercept2,linetype = \"dashed\",size = 1.2,color = \"blue\"))"
      ],
      "execution_count": 15,
      "outputs": [
        {
          "output_type": "stream",
          "text": [
            "/usr/local/lib/python3.7/dist-packages/plotnine/utils.py:1246: FutureWarning: is_categorical is deprecated and will be removed in a future version.  Use is_categorical_dtype instead\n",
            "  if pdtypes.is_categorical(arr):\n"
          ],
          "name": "stderr"
        },
        {
          "output_type": "display_data",
          "data": {
            "image/png": "[encoded data removed]",
            "text/plain": [
              "<Figure size 640x480 with 1 Axes>"
            ]
          },
          "metadata": {
            "tags": []
          }
        },
        {
          "output_type": "execute_result",
          "data": {
            "text/plain": [
              "<ggplot: (8775108817261)>"
            ]
          },
          "metadata": {
            "tags": []
          },
          "execution_count": 15
        }
      ]
    },
    {
      "cell_type": "markdown",
      "metadata": {
        "id": "2TD5FrMAmBUl"
      },
      "source": [
        "In the above figure red dashed line is the 1st principal component (PC) and blue dashed line is the 2nd PC.\n",
        "\n",
        "### Rotated PCs\n",
        "This figure is obtained by plotting factor scores. Note that we will plot negative of the factor scores of 1st PC to make the figure consistent with the paper."
      ]
    },
    {
      "cell_type": "code",
      "metadata": {
        "colab": {
          "base_uri": "https://localhost:8080/",
          "height": 0
        },
        "id": "Csqfuk6PmBUn",
        "outputId": "9b93f5aa-91c4-4764-9e5f-96b8e799193e"
      },
      "source": [
        "(ggplot(pd.DataFrame(data = {\"factor_scores_1\": -factor_scores_words[:,0], \"factor_scores_2\": -factor_scores_words[:,1]}),\n",
        "       aes(x = \"factor_scores_1\", y = \"factor_scores_2\", label = words[\"Words\"]))\n",
        " + geom_point()+geom_text(size = 7, ha = \"left\", va = \"bottom\")+geom_hline(yintercept = 0)+geom_vline(xintercept = 0)\n",
        " + labs(x = \"Factor score along PC1\", y = \"Factor score along PC2\") + xlim([-8,9]))"
      ],
      "execution_count": 16,
      "outputs": [
        {
          "output_type": "stream",
          "text": [
            "/usr/local/lib/python3.7/dist-packages/plotnine/utils.py:1246: FutureWarning: is_categorical is deprecated and will be removed in a future version.  Use is_categorical_dtype instead\n",
            "  if pdtypes.is_categorical(arr):\n"
          ],
          "name": "stderr"
        },
        {
          "output_type": "display_data",
          "data": {
            "image/png": "[encoded data removed]",
            "text/plain": [
              "<Figure size 640x480 with 1 Axes>"
            ]
          },
          "metadata": {
            "tags": []
          }
        },
        {
          "output_type": "execute_result",
          "data": {
            "text/plain": [
              "<ggplot: (8775108768277)>"
            ]
          },
          "metadata": {
            "tags": []
          },
          "execution_count": 16
        }
      ]
    },
    {
      "cell_type": "markdown",
      "metadata": {
        "id": "acm5A0uUmBUy"
      },
      "source": [
        "### With supplementray data\n",
        "Given a supplementary point (a point previously not used in finding principal components),we have to first center the data point. Its factor scores can then be obtained by multiplying it with the loading matrix."
      ]
    },
    {
      "cell_type": "code",
      "metadata": {
        "colab": {
          "base_uri": "https://localhost:8080/"
        },
        "id": "D1I_WIf7mBU0",
        "outputId": "df24711e-d102-42af-d123-f4e6453f275b"
      },
      "source": [
        "sur = np.array([3,12])\n",
        "sur_centered = sur - np.mean(words.iloc[:,1:3], axis = 0)\n",
        "sur_centered"
      ],
      "execution_count": 17,
      "outputs": [
        {
          "output_type": "execute_result",
          "data": {
            "text/plain": [
              "Word_length     -3.0\n",
              "Lines_in_dict    4.0\n",
              "dtype: float64"
            ]
          },
          "metadata": {
            "tags": []
          },
          "execution_count": 17
        }
      ]
    },
    {
      "cell_type": "markdown",
      "metadata": {
        "id": "b1tiz8xkmBU_"
      },
      "source": [
        "### Factor score of the new word 'sur'."
      ]
    },
    {
      "cell_type": "code",
      "metadata": {
        "colab": {
          "base_uri": "https://localhost:8080/"
        },
        "id": "JgPCXC0AmBVB",
        "outputId": "a822444a-2826-4ef1-9fe4-d187053d0b14"
      },
      "source": [
        "np.round(pca_words_cov.transform(sur_centered.values.reshape(-1,2)),2)"
      ],
      "execution_count": 18,
      "outputs": [
        {
          "output_type": "execute_result",
          "data": {
            "text/plain": [
              "array([[-4.99,  0.38]])"
            ]
          },
          "metadata": {
            "tags": []
          },
          "execution_count": 18
        }
      ]
    },
    {
      "cell_type": "markdown",
      "metadata": {
        "id": "F5n4eZDmmBVL"
      },
      "source": [
        "### Total variance before"
      ]
    },
    {
      "cell_type": "code",
      "metadata": {
        "colab": {
          "base_uri": "https://localhost:8080/"
        },
        "id": "apdeA8vpmBVN",
        "outputId": "15de2b3d-6325-431c-aff3-960197a2af36"
      },
      "source": [
        "np.round(np.sum(np.var(words.values[:,1:3], axis = 0, ddof = 1)),3)"
      ],
      "execution_count": 19,
      "outputs": [
        {
          "output_type": "execute_result",
          "data": {
            "text/plain": [
              "23.368"
            ]
          },
          "metadata": {
            "tags": []
          },
          "execution_count": 19
        }
      ]
    },
    {
      "cell_type": "markdown",
      "metadata": {
        "id": "jpVqlasDmBVZ"
      },
      "source": [
        "### Total variance after transformation."
      ]
    },
    {
      "cell_type": "code",
      "metadata": {
        "colab": {
          "base_uri": "https://localhost:8080/"
        },
        "id": "CH1_W0kemBVb",
        "outputId": "aa867bd6-6d50-42a3-f35d-0b28341ce414"
      },
      "source": [
        "np.round(np.sum(pca_words_cov.explained_variance_),3)"
      ],
      "execution_count": 20,
      "outputs": [
        {
          "output_type": "execute_result",
          "data": {
            "text/plain": [
              "23.368"
            ]
          },
          "metadata": {
            "tags": []
          },
          "execution_count": 20
        }
      ]
    },
    {
      "cell_type": "markdown",
      "metadata": {
        "id": "Sm4eoVvgmBVm"
      },
      "source": [
        "### Correlation matrix\n",
        "We have taken a convoluted path to find correlation matrix. But there might exist simpler ways."
      ]
    },
    {
      "cell_type": "code",
      "metadata": {
        "colab": {
          "base_uri": "https://localhost:8080/"
        },
        "id": "lpAGXOyemBVo",
        "outputId": "11b11d92-9c5c-48b4-ce09-a9242ccf225f"
      },
      "source": [
        "cor_matrix = np.repeat(np.nan, 4).reshape(2,2)\n",
        "for i in range(2):\n",
        "    for j in range(2):\n",
        "        cor_matrix[i,j] = np.corrcoef(factor_scores_words[:,i], centered_words[:,j])[0,1]\n",
        "cor_matrix"
      ],
      "execution_count": 21,
      "outputs": [
        {
          "output_type": "execute_result",
          "data": {
            "text/plain": [
              "array([[-0.86790259,  0.97417637],\n",
              "       [ 0.49673443,  0.22578838]])"
            ]
          },
          "metadata": {
            "tags": []
          },
          "execution_count": 21
        }
      ]
    },
    {
      "cell_type": "markdown",
      "metadata": {
        "id": "ULKLvvWumBV2"
      },
      "source": [
        "Note that the answers for correlation coefficients don’t match with that of the paper. Readers who get actual answers as given in paper are encouraged to send me an email using my contact details. However our procedure is correct and it does indeed give the correct answer for supplementary data as described below."
      ]
    },
    {
      "cell_type": "markdown",
      "metadata": {
        "id": "Z3ApxCU7mBV6"
      },
      "source": [
        "### Squared correlation"
      ]
    },
    {
      "cell_type": "code",
      "metadata": {
        "colab": {
          "base_uri": "https://localhost:8080/"
        },
        "id": "Rb6VyI34mBV8",
        "outputId": "11fb18e0-a515-47d1-88b5-a1e1630e79e6"
      },
      "source": [
        "np.square(cor_matrix)"
      ],
      "execution_count": 22,
      "outputs": [
        {
          "output_type": "execute_result",
          "data": {
            "text/plain": [
              "array([[0.7532549 , 0.94901961],\n",
              "       [0.2467451 , 0.05098039]])"
            ]
          },
          "metadata": {
            "tags": []
          },
          "execution_count": 22
        }
      ]
    },
    {
      "cell_type": "markdown",
      "metadata": {
        "id": "z8zqeCbEmBWI"
      },
      "source": [
        "Sum of correlation coefficients between variables and principal components is 1"
      ]
    },
    {
      "cell_type": "code",
      "metadata": {
        "colab": {
          "base_uri": "https://localhost:8080/"
        },
        "id": "XEyngsJ_mBWK",
        "outputId": "bc41e2b2-165d-47f6-f44e-b811d1060a36"
      },
      "source": [
        "np.sum(np.square(cor_matrix),axis = 0)"
      ],
      "execution_count": 23,
      "outputs": [
        {
          "output_type": "execute_result",
          "data": {
            "text/plain": [
              "array([1., 1.])"
            ]
          },
          "metadata": {
            "tags": []
          },
          "execution_count": 23
        }
      ]
    },
    {
      "cell_type": "markdown",
      "metadata": {
        "id": "LDK5W27XmBWV"
      },
      "source": [
        "### Loading matrix matrix"
      ]
    },
    {
      "cell_type": "code",
      "metadata": {
        "colab": {
          "base_uri": "https://localhost:8080/"
        },
        "id": "V0JaQanJmBWX",
        "outputId": "c1bdc549-e864-4016-d99b-115443551b8a"
      },
      "source": [
        "pca_words_cov.components_.T            # This is the loading matrix"
      ],
      "execution_count": 24,
      "outputs": [
        {
          "output_type": "execute_result",
          "data": {
            "text/plain": [
              "array([[ 0.53687549, -0.84366149],\n",
              "       [-0.84366149, -0.53687549]])"
            ]
          },
          "metadata": {
            "tags": []
          },
          "execution_count": 24
        }
      ]
    },
    {
      "cell_type": "markdown",
      "metadata": {
        "id": "-F1GDjmnmBWh"
      },
      "source": [
        "### Correlation score for supplemenatry variables"
      ]
    },
    {
      "cell_type": "code",
      "metadata": {
        "colab": {
          "base_uri": "https://localhost:8080/",
          "height": 0
        },
        "id": "1mUkK1RDmBWj",
        "outputId": "35a3d802-935b-4b19-815c-2be5e363044d"
      },
      "source": [
        "# Supplementary variable (Table 4)\n",
        "Frequency = np.array([8,230,700,1,500,1,9,2,1,700,7,1,4,500,900,3,1,10,1,1])\n",
        "Num_entries = np.array([6,3,12,2,7,1,1,6,1,5,2,1,5,9,7,1,1,4,4,2])\n",
        "supp_data = pd.DataFrame({\"Frequency\" : Frequency, \"Num_entries\" : Num_entries})\n",
        "supp_data"
      ],
      "execution_count": 25,
      "outputs": [
        {
          "output_type": "execute_result",
          "data": {
            "text/html": [
              "<div>\n",
              "<style scoped>\n",
              "    .dataframe tbody tr th:only-of-type {\n",
              "        vertical-align: middle;\n",
              "    }\n",
              "\n",
              "    .dataframe tbody tr th {\n",
              "        vertical-align: top;\n",
              "    }\n",
              "\n",
              "    .dataframe thead th {\n",
              "        text-align: right;\n",
              "    }\n",
              "</style>\n",
              "<table border=\"1\" class=\"dataframe\">\n",
              "  <thead>\n",
              "    <tr style=\"text-align: right;\">\n",
              "      <th></th>\n",
              "      <th>Frequency</th>\n",
              "      <th>Num_entries</th>\n",
              "    </tr>\n",
              "  </thead>\n",
              "  <tbody>\n",
              "    <tr>\n",
              "      <th>0</th>\n",
              "      <td>8</td>\n",
              "      <td>6</td>\n",
              "    </tr>\n",
              "    <tr>\n",
              "      <th>1</th>\n",
              "      <td>230</td>\n",
              "      <td>3</td>\n",
              "    </tr>\n",
              "    <tr>\n",
              "      <th>2</th>\n",
              "      <td>700</td>\n",
              "      <td>12</td>\n",
              "    </tr>\n",
              "    <tr>\n",
              "      <th>3</th>\n",
              "      <td>1</td>\n",
              "      <td>2</td>\n",
              "    </tr>\n",
              "    <tr>\n",
              "      <th>4</th>\n",
              "      <td>500</td>\n",
              "      <td>7</td>\n",
              "    </tr>\n",
              "    <tr>\n",
              "      <th>5</th>\n",
              "      <td>1</td>\n",
              "      <td>1</td>\n",
              "    </tr>\n",
              "    <tr>\n",
              "      <th>6</th>\n",
              "      <td>9</td>\n",
              "      <td>1</td>\n",
              "    </tr>\n",
              "    <tr>\n",
              "      <th>7</th>\n",
              "      <td>2</td>\n",
              "      <td>6</td>\n",
              "    </tr>\n",
              "    <tr>\n",
              "      <th>8</th>\n",
              "      <td>1</td>\n",
              "      <td>1</td>\n",
              "    </tr>\n",
              "    <tr>\n",
              "      <th>9</th>\n",
              "      <td>700</td>\n",
              "      <td>5</td>\n",
              "    </tr>\n",
              "    <tr>\n",
              "      <th>10</th>\n",
              "      <td>7</td>\n",
              "      <td>2</td>\n",
              "    </tr>\n",
              "    <tr>\n",
              "      <th>11</th>\n",
              "      <td>1</td>\n",
              "      <td>1</td>\n",
              "    </tr>\n",
              "    <tr>\n",
              "      <th>12</th>\n",
              "      <td>4</td>\n",
              "      <td>5</td>\n",
              "    </tr>\n",
              "    <tr>\n",
              "      <th>13</th>\n",
              "      <td>500</td>\n",
              "      <td>9</td>\n",
              "    </tr>\n",
              "    <tr>\n",
              "      <th>14</th>\n",
              "      <td>900</td>\n",
              "      <td>7</td>\n",
              "    </tr>\n",
              "    <tr>\n",
              "      <th>15</th>\n",
              "      <td>3</td>\n",
              "      <td>1</td>\n",
              "    </tr>\n",
              "    <tr>\n",
              "      <th>16</th>\n",
              "      <td>1</td>\n",
              "      <td>1</td>\n",
              "    </tr>\n",
              "    <tr>\n",
              "      <th>17</th>\n",
              "      <td>10</td>\n",
              "      <td>4</td>\n",
              "    </tr>\n",
              "    <tr>\n",
              "      <th>18</th>\n",
              "      <td>1</td>\n",
              "      <td>4</td>\n",
              "    </tr>\n",
              "    <tr>\n",
              "      <th>19</th>\n",
              "      <td>1</td>\n",
              "      <td>2</td>\n",
              "    </tr>\n",
              "  </tbody>\n",
              "</table>\n",
              "</div>"
            ],
            "text/plain": [
              "    Frequency  Num_entries\n",
              "0           8            6\n",
              "1         230            3\n",
              "2         700           12\n",
              "3           1            2\n",
              "4         500            7\n",
              "5           1            1\n",
              "6           9            1\n",
              "7           2            6\n",
              "8           1            1\n",
              "9         700            5\n",
              "10          7            2\n",
              "11          1            1\n",
              "12          4            5\n",
              "13        500            9\n",
              "14        900            7\n",
              "15          3            1\n",
              "16          1            1\n",
              "17         10            4\n",
              "18          1            4\n",
              "19          1            2"
            ]
          },
          "metadata": {
            "tags": []
          },
          "execution_count": 25
        }
      ]
    },
    {
      "cell_type": "markdown",
      "metadata": {
        "id": "ZpFh1kzpmBWv"
      },
      "source": [
        "### Centered suplementary data"
      ]
    },
    {
      "cell_type": "code",
      "metadata": {
        "colab": {
          "base_uri": "https://localhost:8080/"
        },
        "id": "S2GyshCFmBW1",
        "outputId": "f32894f4-9890-433c-cb07-814d42ad1aa2"
      },
      "source": [
        "supp_data_cent = cent_data.fit_transform(supp_data.astype(np.float64))\n",
        "supp_data_cent"
      ],
      "execution_count": 26,
      "outputs": [
        {
          "output_type": "execute_result",
          "data": {
            "text/plain": [
              "array([[-171.,    2.],\n",
              "       [  51.,   -1.],\n",
              "       [ 521.,    8.],\n",
              "       [-178.,   -2.],\n",
              "       [ 321.,    3.],\n",
              "       [-178.,   -3.],\n",
              "       [-170.,   -3.],\n",
              "       [-177.,    2.],\n",
              "       [-178.,   -3.],\n",
              "       [ 521.,    1.],\n",
              "       [-172.,   -2.],\n",
              "       [-178.,   -3.],\n",
              "       [-175.,    1.],\n",
              "       [ 321.,    5.],\n",
              "       [ 721.,    3.],\n",
              "       [-176.,   -3.],\n",
              "       [-178.,   -3.],\n",
              "       [-169.,    0.],\n",
              "       [-178.,    0.],\n",
              "       [-178.,   -2.]])"
            ]
          },
          "metadata": {
            "tags": []
          },
          "execution_count": 26
        }
      ]
    },
    {
      "cell_type": "markdown",
      "metadata": {
        "id": "5ekGRJtqmBXA"
      },
      "source": [
        "### Corrlation score for supplementary data"
      ]
    },
    {
      "cell_type": "code",
      "metadata": {
        "colab": {
          "base_uri": "https://localhost:8080/"
        },
        "id": "PlKCgVJomBXC",
        "outputId": "9c3685fa-6e67-4d67-d0db-85dd27210f70"
      },
      "source": [
        "cor_score_supp = np.repeat(np.nan,4).reshape(2,2)\n",
        "for i in range(2):\n",
        "    for j in range(2):\n",
        "        cor_score_supp[i,j] = np.corrcoef(factor_scores_words[:,i], supp_data_cent[:,j])[0,1]\n",
        "cor_score_supp"
      ],
      "execution_count": 27,
      "outputs": [
        {
          "output_type": "execute_result",
          "data": {
            "text/plain": [
              "array([[ 0.30118937,  0.69994982],\n",
              "       [-0.72183055, -0.44928258]])"
            ]
          },
          "metadata": {
            "tags": []
          },
          "execution_count": 27
        }
      ]
    },
    {
      "cell_type": "markdown",
      "metadata": {
        "id": "VDP62ZA_mBXN"
      },
      "source": [
        "Note that signs of entries of this correlation matrix are different than that of the paper. This is because our factor scores are negative of the factor scores given in paper. As correlation depends on sign of input data, we get different signs for some entries."
      ]
    },
    {
      "cell_type": "markdown",
      "metadata": {
        "id": "b6dGkUGZmBXP"
      },
      "source": [
        "### Squared correlation for support data"
      ]
    },
    {
      "cell_type": "code",
      "metadata": {
        "colab": {
          "base_uri": "https://localhost:8080/"
        },
        "id": "Osg9zEc9mBXS",
        "outputId": "062cbaa1-bb19-4bae-d3f5-66854b397b95"
      },
      "source": [
        "np.square(cor_score_supp)"
      ],
      "execution_count": 28,
      "outputs": [
        {
          "output_type": "execute_result",
          "data": {
            "text/plain": [
              "array([[0.09071503, 0.48992975],\n",
              "       [0.52103934, 0.20185483]])"
            ]
          },
          "metadata": {
            "tags": []
          },
          "execution_count": 28
        }
      ]
    },
    {
      "cell_type": "markdown",
      "metadata": {
        "id": "-5nrYyr0mBXc"
      },
      "source": [
        "### Column sums of squared correlation for support data"
      ]
    },
    {
      "cell_type": "code",
      "metadata": {
        "colab": {
          "base_uri": "https://localhost:8080/"
        },
        "id": "uWkdjZbrmBXe",
        "outputId": "09b29277-4a39-43c8-a2f7-806ebe24c50d"
      },
      "source": [
        "np.sum(np.square(cor_score_supp), axis = 0)"
      ],
      "execution_count": 29,
      "outputs": [
        {
          "output_type": "execute_result",
          "data": {
            "text/plain": [
              "array([0.61175437, 0.69178458])"
            ]
          },
          "metadata": {
            "tags": []
          },
          "execution_count": 29
        }
      ]
    },
    {
      "cell_type": "markdown",
      "metadata": {
        "id": "Z2h-RsFOmBXp"
      },
      "source": [
        "### Corrlation circle plot"
      ]
    },
    {
      "cell_type": "code",
      "metadata": {
        "colab": {
          "base_uri": "https://localhost:8080/",
          "height": 0
        },
        "id": "GGB2LrqcmBXq",
        "outputId": "0c37d691-7197-4ae3-a4f0-eef89f30d5ab"
      },
      "source": [
        "x = np.linspace(0, 2*np.pi, num = 300)\n",
        "circle = (ggplot() + geom_path(pd.DataFrame(data = {\"a\": np.cos(x), \"b\": np.sin(x)}),\n",
        "                     aes(np.cos(x),np.sin(x)),alpha = 0.3, size = 1.5)+\n",
        "            geom_hline(yintercept = 0)+geom_vline(xintercept = 0)\n",
        "    + annotate(\"text\",x = [1.08,0.05],y = [0.05,1.15],label = [\"PC1\",\"PC2\"],angle = [0,90])+\n",
        "            labs(x = None, y = None))\n",
        "\n",
        "cor_score = np.repeat(np.nan,4).reshape(2,2)\n",
        "for i in range(2):\n",
        "    for j in range(2):\n",
        "        cor_score[i,j] = np.corrcoef(centered_words[:,i], factor_scores_words[:,j])[0,1]\n",
        "        \n",
        "cor_score = pd.DataFrame(data = cor_score, index = [\"Length of words\",\"Number of lines in Dict.\"], columns = [\"PC1\",\"PC2\"])\n",
        "variable_original_plot = (circle + geom_point(cor_score , aes(cor_score[\"PC1\"],cor_score[\"PC2\"]), inherit_aes = False)\n",
        "                         + annotate(\"text\",x = [cor_score.iloc[0,0],cor_score.iloc[1,0]],\n",
        "                                    y = [cor_score.iloc[0,1],cor_score.iloc[1,1]],\n",
        "                                    label = [\"Length of words\",\"Number of lines in Dict.\"], size = 9, ha = \"center\",\n",
        "                                    va = \"baseline\")+xlim([-1.5, 1.5]))\n",
        "print(variable_original_plot)"
      ],
      "execution_count": 30,
      "outputs": [
        {
          "output_type": "display_data",
          "data": {
            "image/png": "[encoded data removed]",
            "text/plain": [
              "<Figure size 640x480 with 1 Axes>"
            ]
          },
          "metadata": {
            "tags": []
          }
        },
        {
          "output_type": "stream",
          "text": [
            "<ggplot: (8775108715957)>\n"
          ],
          "name": "stdout"
        }
      ]
    },
    {
      "cell_type": "markdown",
      "metadata": {
        "id": "p45jMjtSmBX2"
      },
      "source": [
        "### Plotting supplementary variables"
      ]
    },
    {
      "cell_type": "code",
      "metadata": {
        "colab": {
          "base_uri": "https://localhost:8080/",
          "height": 0
        },
        "id": "91liAK-nmBX5",
        "outputId": "7befc51c-ccc5-4562-8ebb-116c6532bbda"
      },
      "source": [
        "pd.DataFrame(cor_score_supp)"
      ],
      "execution_count": 31,
      "outputs": [
        {
          "output_type": "execute_result",
          "data": {
            "text/html": [
              "<div>\n",
              "<style scoped>\n",
              "    .dataframe tbody tr th:only-of-type {\n",
              "        vertical-align: middle;\n",
              "    }\n",
              "\n",
              "    .dataframe tbody tr th {\n",
              "        vertical-align: top;\n",
              "    }\n",
              "\n",
              "    .dataframe thead th {\n",
              "        text-align: right;\n",
              "    }\n",
              "</style>\n",
              "<table border=\"1\" class=\"dataframe\">\n",
              "  <thead>\n",
              "    <tr style=\"text-align: right;\">\n",
              "      <th></th>\n",
              "      <th>0</th>\n",
              "      <th>1</th>\n",
              "    </tr>\n",
              "  </thead>\n",
              "  <tbody>\n",
              "    <tr>\n",
              "      <th>0</th>\n",
              "      <td>0.301189</td>\n",
              "      <td>0.699950</td>\n",
              "    </tr>\n",
              "    <tr>\n",
              "      <th>1</th>\n",
              "      <td>-0.721831</td>\n",
              "      <td>-0.449283</td>\n",
              "    </tr>\n",
              "  </tbody>\n",
              "</table>\n",
              "</div>"
            ],
            "text/plain": [
              "          0         1\n",
              "0  0.301189  0.699950\n",
              "1 -0.721831 -0.449283"
            ]
          },
          "metadata": {
            "tags": []
          },
          "execution_count": 31
        }
      ]
    },
    {
      "cell_type": "code",
      "metadata": {
        "colab": {
          "base_uri": "https://localhost:8080/",
          "height": 0
        },
        "id": "DKB6Je9VmBYH",
        "outputId": "47db59b6-f02c-4611-c6cb-ed4e491abb17"
      },
      "source": [
        "(variable_original_plot+ geom_point(pd.DataFrame(cor_score_supp), aes(cor_score_supp[0], cor_score_supp[1])) +\n",
        "  annotate(\"text\",x = [cor_score_supp[0,0],cor_score_supp[0,1]],\n",
        "                                    y = [cor_score_supp[1,0],cor_score_supp[1,1]],\n",
        "                                    label = [\"Frequency\",\"Number of entries\"], size = 9, ha = \"left\",\n",
        "                                    va = \"baseline\")+xlim([-1.25, 1.5]))"
      ],
      "execution_count": 32,
      "outputs": [
        {
          "output_type": "stream",
          "text": [
            "/usr/local/lib/python3.7/dist-packages/plotnine/scales/scales.py:29: PlotnineWarning: Scale for 'x' is already present.\n",
            "Adding another scale for 'x',\n",
            "which will replace the existing scale.\n",
            "\n",
            "  warn(_TPL_DUPLICATE_SCALE.format(ae), PlotnineWarning)\n"
          ],
          "name": "stderr"
        },
        {
          "output_type": "display_data",
          "data": {
            "image/png": "[encoded data removed]",
            "text/plain": [
              "<Figure size 640x480 with 1 Axes>"
            ]
          },
          "metadata": {
            "tags": []
          }
        },
        {
          "output_type": "execute_result",
          "data": {
            "text/plain": [
              "<ggplot: (8775108670245)>"
            ]
          },
          "metadata": {
            "tags": []
          },
          "execution_count": 32
        }
      ]
    },
    {
      "cell_type": "markdown",
      "metadata": {
        "id": "ftuvdsgQmBYU"
      },
      "source": [
        "## Example 2\n",
        "### Wine example"
      ]
    },
    {
      "cell_type": "markdown",
      "metadata": {
        "id": "euI7p_-smBYX"
      },
      "source": [
        "### Correlation PCA with wine data"
      ]
    },
    {
      "cell_type": "code",
      "metadata": {
        "colab": {
          "base_uri": "https://localhost:8080/",
          "height": 0
        },
        "id": "iNS45fNgmBYZ",
        "outputId": "7175f28c-edde-4cc0-e658-811459679a9a"
      },
      "source": [
        "wine = pd.DataFrame(data = {\"wine_type\": [\"wine_1\", \"wine_2\", \"wine_3\", \"wine_4\", \"wine_5\"],\n",
        "                            \"hedonic\": [14, 10, 8, 2, 6],\n",
        "                            \"for_meat\": [7, 7, 5, 4, 2],\n",
        "                            \"for_dessert\": [8, 6, 5, 7, 4],\n",
        "                            \"price\": [7, 4, 10, 16, 13],\n",
        "                            \"sugar\": [7, 3, 5, 7, 3],\n",
        "                            \"alcohol\": [13, 14, 12, 11, 10],\n",
        "                            \"acidity\": [7, 7, 5, 3, 3]})\n",
        "wine"
      ],
      "execution_count": 33,
      "outputs": [
        {
          "output_type": "execute_result",
          "data": {
            "text/html": [
              "<div>\n",
              "<style scoped>\n",
              "    .dataframe tbody tr th:only-of-type {\n",
              "        vertical-align: middle;\n",
              "    }\n",
              "\n",
              "    .dataframe tbody tr th {\n",
              "        vertical-align: top;\n",
              "    }\n",
              "\n",
              "    .dataframe thead th {\n",
              "        text-align: right;\n",
              "    }\n",
              "</style>\n",
              "<table border=\"1\" class=\"dataframe\">\n",
              "  <thead>\n",
              "    <tr style=\"text-align: right;\">\n",
              "      <th></th>\n",
              "      <th>wine_type</th>\n",
              "      <th>hedonic</th>\n",
              "      <th>for_meat</th>\n",
              "      <th>for_dessert</th>\n",
              "      <th>price</th>\n",
              "      <th>sugar</th>\n",
              "      <th>alcohol</th>\n",
              "      <th>acidity</th>\n",
              "    </tr>\n",
              "  </thead>\n",
              "  <tbody>\n",
              "    <tr>\n",
              "      <th>0</th>\n",
              "      <td>wine_1</td>\n",
              "      <td>14</td>\n",
              "      <td>7</td>\n",
              "      <td>8</td>\n",
              "      <td>7</td>\n",
              "      <td>7</td>\n",
              "      <td>13</td>\n",
              "      <td>7</td>\n",
              "    </tr>\n",
              "    <tr>\n",
              "      <th>1</th>\n",
              "      <td>wine_2</td>\n",
              "      <td>10</td>\n",
              "      <td>7</td>\n",
              "      <td>6</td>\n",
              "      <td>4</td>\n",
              "      <td>3</td>\n",
              "      <td>14</td>\n",
              "      <td>7</td>\n",
              "    </tr>\n",
              "    <tr>\n",
              "      <th>2</th>\n",
              "      <td>wine_3</td>\n",
              "      <td>8</td>\n",
              "      <td>5</td>\n",
              "      <td>5</td>\n",
              "      <td>10</td>\n",
              "      <td>5</td>\n",
              "      <td>12</td>\n",
              "      <td>5</td>\n",
              "    </tr>\n",
              "    <tr>\n",
              "      <th>3</th>\n",
              "      <td>wine_4</td>\n",
              "      <td>2</td>\n",
              "      <td>4</td>\n",
              "      <td>7</td>\n",
              "      <td>16</td>\n",
              "      <td>7</td>\n",
              "      <td>11</td>\n",
              "      <td>3</td>\n",
              "    </tr>\n",
              "    <tr>\n",
              "      <th>4</th>\n",
              "      <td>wine_5</td>\n",
              "      <td>6</td>\n",
              "      <td>2</td>\n",
              "      <td>4</td>\n",
              "      <td>13</td>\n",
              "      <td>3</td>\n",
              "      <td>10</td>\n",
              "      <td>3</td>\n",
              "    </tr>\n",
              "  </tbody>\n",
              "</table>\n",
              "</div>"
            ],
            "text/plain": [
              "  wine_type  hedonic  for_meat  for_dessert  price  sugar  alcohol  acidity\n",
              "0    wine_1       14         7            8      7      7       13        7\n",
              "1    wine_2       10         7            6      4      3       14        7\n",
              "2    wine_3        8         5            5     10      5       12        5\n",
              "3    wine_4        2         4            7     16      7       11        3\n",
              "4    wine_5        6         2            4     13      3       10        3"
            ]
          },
          "metadata": {
            "tags": []
          },
          "execution_count": 33
        }
      ]
    },
    {
      "cell_type": "markdown",
      "metadata": {
        "id": "t5a7-oJvmBYk"
      },
      "source": [
        "### Centered and scaled wine data"
      ]
    },
    {
      "cell_type": "code",
      "metadata": {
        "id": "jC4IQiX7mBYp"
      },
      "source": [
        "scale_data = StandardScaler()\n",
        "scaled_wine_data = scale_data.fit_transform(wine.iloc[:,1:8].astype(np.float64))"
      ],
      "execution_count": 34,
      "outputs": []
    },
    {
      "cell_type": "markdown",
      "metadata": {
        "id": "ehkUxP2nmBZF"
      },
      "source": [
        "**Note**: Standard scaler centers each colulmn and divides each coulmn by its standard deviation to produce scaled data for each column. But standard deviation for each column is computed using numpy's `np.std()` command. By default `np.std()` is biased. In contrast, in **R** standard deviation is unbiased by default. So we will use unbiased standard deviation values to make scaled data in python. In this way we get same results as in `R`. This conversion is obtained by a scalar multiplication.\n",
        "\n",
        "The factor is $$\\frac{1}{\\sqrt{\\frac{N}{N-1}}}$$ Where $N$ is number of data points. In our case $N=5$ as there are five wine types in this example."
      ]
    },
    {
      "cell_type": "code",
      "metadata": {
        "id": "Pj1NRjMHmBZH"
      },
      "source": [
        "scaled_wine_data = scaled_wine_data* (1/np.sqrt(5/4))   "
      ],
      "execution_count": 35,
      "outputs": []
    },
    {
      "cell_type": "markdown",
      "metadata": {
        "id": "zPZbkNRrmBZQ"
      },
      "source": [
        "### PCA on scaled wine data"
      ]
    },
    {
      "cell_type": "code",
      "metadata": {
        "id": "dGfzUD3YmBZS"
      },
      "source": [
        "pca_wine_cor = PCA().fit(scaled_wine_data)"
      ],
      "execution_count": 36,
      "outputs": []
    },
    {
      "cell_type": "code",
      "metadata": {
        "id": "jr5Qhmo6mBZi"
      },
      "source": [
        "transformed_data_wine = pca_wine_cor.transform(scaled_wine_data)"
      ],
      "execution_count": 37,
      "outputs": []
    },
    {
      "cell_type": "markdown",
      "metadata": {
        "id": "A4K0Pn-dmBZs"
      },
      "source": [
        "### First two principal components"
      ]
    },
    {
      "cell_type": "code",
      "metadata": {
        "colab": {
          "base_uri": "https://localhost:8080/"
        },
        "id": "2w5M1WWRmBZy",
        "outputId": "dfa6a4ed-dcb8-43cf-a363-c0b7ca5de1cb"
      },
      "source": [
        "np.round(transformed_data_wine[:,0:2],4)"
      ],
      "execution_count": 38,
      "outputs": [
        {
          "output_type": "execute_result",
          "data": {
            "text/plain": [
              "array([[-2.3302,  1.0953],\n",
              "       [-2.0842, -1.2232],\n",
              "       [ 0.1673, -0.3703],\n",
              "       [ 1.7842,  1.7126],\n",
              "       [ 2.4628, -1.2144]])"
            ]
          },
          "metadata": {
            "tags": []
          },
          "execution_count": 38
        }
      ]
    },
    {
      "cell_type": "code",
      "metadata": {
        "colab": {
          "base_uri": "https://localhost:8080/",
          "height": 0
        },
        "id": "cWwV9x9hmBaH",
        "outputId": "bfc8c9f7-4e58-4f65-a61d-62d2e1aa3c5b"
      },
      "source": [
        "transformed_data_wine_2PCs = pd.DataFrame(data = transformed_data_wine[:,:2], columns = [\"PC1\", \"PC2\"])\n",
        "(ggplot(transformed_data_wine_2PCs, aes(x = \"PC1\", y = \"PC2\", label = [\"wine 1\", \"wine 2\", \"wine 3\", \"wine 4\", \"wine 5\"]))\n",
        "       + geom_point() + geom_text(va = \"bottom\") + geom_vline(xintercept = 0)+ geom_hline(yintercept = 0)\n",
        "       + labs(x = \"Factor score along PC1\", y = \"Factor score along PC2\") + xlim([-3,3]))"
      ],
      "execution_count": 39,
      "outputs": [
        {
          "output_type": "stream",
          "text": [
            "/usr/local/lib/python3.7/dist-packages/plotnine/utils.py:1246: FutureWarning: is_categorical is deprecated and will be removed in a future version.  Use is_categorical_dtype instead\n",
            "  if pdtypes.is_categorical(arr):\n"
          ],
          "name": "stderr"
        },
        {
          "output_type": "display_data",
          "data": {
            "image/png": "[encoded data removed]",
            "text/plain": [
              "<Figure size 640x480 with 1 Axes>"
            ]
          },
          "metadata": {
            "tags": []
          }
        },
        {
          "output_type": "execute_result",
          "data": {
            "text/plain": [
              "<ggplot: (8775109120153)>"
            ]
          },
          "metadata": {
            "tags": []
          },
          "execution_count": 39
        }
      ]
    },
    {
      "cell_type": "markdown",
      "metadata": {
        "id": "9uWZCl3HmBaR"
      },
      "source": [
        "Our figure seems upside down than that of the paper. This is a minor discrepancy. Our 2nd eigenvector is negative of the one considered in paper. We can match the plot with that of the paper by just flipping the second principal component but we will not do that here."
      ]
    },
    {
      "cell_type": "markdown",
      "metadata": {
        "id": "jW-tPCMomBaS"
      },
      "source": [
        "### Contribution of each observation to principal component"
      ]
    },
    {
      "cell_type": "code",
      "metadata": {
        "colab": {
          "base_uri": "https://localhost:8080/"
        },
        "id": "423pGOnmmBaX",
        "outputId": "aa1cf399-2b7a-450d-9b74-bce9367f9325"
      },
      "source": [
        "np.round(transformed_data_wine[:,0:2]**2/np.sum(transformed_data_wine[:,0:2]**2, axis = 0 )*100,2)"
      ],
      "execution_count": 40,
      "outputs": [
        {
          "output_type": "execute_result",
          "data": {
            "text/plain": [
              "array([[28.5 , 16.57],\n",
              "       [22.8 , 20.66],\n",
              "       [ 0.15,  1.89],\n",
              "       [16.71, 40.51],\n",
              "       [31.84, 20.37]])"
            ]
          },
          "metadata": {
            "tags": []
          },
          "execution_count": 40
        }
      ]
    },
    {
      "cell_type": "markdown",
      "metadata": {
        "id": "Yn5fC8EZmBah"
      },
      "source": [
        "### Squared cosine of observations"
      ]
    },
    {
      "cell_type": "code",
      "metadata": {
        "colab": {
          "base_uri": "https://localhost:8080/"
        },
        "id": "G2xmXcGSmBai",
        "outputId": "7b7678d1-c0e5-4e9c-c0b0-e7c2050c942a"
      },
      "source": [
        "np.round(transformed_data_wine[:,0:2]**2/np.sum(transformed_data_wine**2, axis = 1).reshape(5,1)*100)"
      ],
      "execution_count": 41,
      "outputs": [
        {
          "output_type": "execute_result",
          "data": {
            "text/plain": [
              "array([[77., 17.],\n",
              "       [69., 24.],\n",
              "       [ 7., 34.],\n",
              "       [50., 46.],\n",
              "       [78., 19.]])"
            ]
          },
          "metadata": {
            "tags": []
          },
          "execution_count": 41
        }
      ]
    },
    {
      "cell_type": "markdown",
      "metadata": {
        "id": "jg38WyfHmBat"
      },
      "source": [
        "### Loading scores corresponding to first two principal components"
      ]
    },
    {
      "cell_type": "code",
      "metadata": {
        "colab": {
          "base_uri": "https://localhost:8080/"
        },
        "id": "vRyFqo4zmBav",
        "outputId": "ce8063e5-b330-4c85-8343-e617b0798d80"
      },
      "source": [
        "np.round(pca_wine_cor.components_[0:2,:].T,2)"
      ],
      "execution_count": 42,
      "outputs": [
        {
          "output_type": "execute_result",
          "data": {
            "text/plain": [
              "array([[-0.4 , -0.11],\n",
              "       [-0.45,  0.11],\n",
              "       [-0.26,  0.59],\n",
              "       [ 0.42,  0.31],\n",
              "       [-0.05,  0.72],\n",
              "       [-0.44, -0.06],\n",
              "       [-0.45, -0.09]])"
            ]
          },
          "metadata": {
            "tags": []
          },
          "execution_count": 42
        }
      ]
    },
    {
      "cell_type": "markdown",
      "metadata": {
        "id": "vChXJrMimBa5"
      },
      "source": [
        "### Correlation score of variables with first two principal components\n",
        "Rows correspond to PC1 and PC2 respectively and columns correspond to featuers in wine data."
      ]
    },
    {
      "cell_type": "code",
      "metadata": {
        "colab": {
          "base_uri": "https://localhost:8080/"
        },
        "id": "9M2-B_1WmBa-",
        "outputId": "91571ef3-c73d-45a5-e00e-5f53cb237ea1"
      },
      "source": [
        "cor_score_wine = np.repeat(np.nan,14).reshape(2,7)\n",
        "for i in range(2):\n",
        "    for j in range(7):\n",
        "        cor_score_wine[i,j] = np.corrcoef(transformed_data_wine[:,i], wine.values[:,j+1].astype(np.float64))[0,1]\n",
        "np.round(cor_score_wine,2)"
      ],
      "execution_count": 43,
      "outputs": [
        {
          "output_type": "execute_result",
          "data": {
            "text/plain": [
              "array([[-0.87, -0.97, -0.58,  0.91, -0.11, -0.96, -0.99],\n",
              "       [-0.15,  0.15,  0.79,  0.42,  0.97, -0.07, -0.12]])"
            ]
          },
          "metadata": {
            "tags": []
          },
          "execution_count": 43
        }
      ]
    },
    {
      "cell_type": "markdown",
      "metadata": {
        "id": "FlL9Y_l5mBbI"
      },
      "source": [
        "### Correlation circle for wine data"
      ]
    },
    {
      "cell_type": "code",
      "metadata": {
        "colab": {
          "base_uri": "https://localhost:8080/",
          "height": 443
        },
        "id": "eIG4e4zzmBbK",
        "outputId": "160c28eb-0050-4835-ca49-10fbf55280bf"
      },
      "source": [
        "# Figure 6\n",
        "cor_score_wine = cor_score_wine.T\n",
        "(circle +geom_point( aes(\"PC1\",\"PC2\"), data = pd.DataFrame(cor_score_wine,columns = [\"PC1\", \"PC2\"]))\n",
        "+ annotate(\"text\", x = cor_score_wine[:,0], y = cor_score_wine[:,1], \n",
        "           label = [\"Hedonic\",\"For Meat\",\"For dessert\",\"Price\",\"Sugar\",\"Alcohol\",\"Acidity\"],\n",
        "           va = \"top\", ha = \"left\", size = 7, nudge_x = 0.01))"
      ],
      "execution_count": 44,
      "outputs": [
        {
          "output_type": "display_data",
          "data": {
            "image/png": "[encoded data removed]",
            "text/plain": [
              "<Figure size 640x480 with 1 Axes>"
            ]
          },
          "metadata": {
            "tags": []
          }
        },
        {
          "output_type": "execute_result",
          "data": {
            "text/plain": [
              "<ggplot: (8775108660581)>"
            ]
          },
          "metadata": {
            "tags": []
          },
          "execution_count": 44
        }
      ]
    },
    {
      "cell_type": "markdown",
      "metadata": {
        "id": "MRcvMLcXmBbZ"
      },
      "source": [
        "## Varimax roation\n",
        "\n",
        "There is no function in python that performs varimax rotation. However, there are public codes to perform it in python. We use the code from this [Wikipedia page](https://en.wikipedia.org/wiki/Talk:Varimax_rotation). The function below is exact copy of the funciton in that page with minor changes."
      ]
    },
    {
      "cell_type": "code",
      "metadata": {
        "id": "CBfxgz6kmBba"
      },
      "source": [
        "def varimax(Phi, gamma = 1.0, q = 20, tol = 1e-6):\n",
        "    import numpy as np\n",
        "    from numpy import eye, dot, asarray, sum\n",
        "    from scipy.linalg import svd\n",
        "    p,k = Phi.shape\n",
        "    R = eye(k)\n",
        "    d=0\n",
        "    for i in np.arange(q):\n",
        "        d_old = d\n",
        "        Lambda = dot(Phi, R)\n",
        "        u,s,vh = svd(dot(Phi.T,asarray(Lambda)**3 - (gamma/p) * dot(Lambda, np.diag(np.diag(dot(Lambda.T,Lambda))))))\n",
        "        R = dot(u,vh)\n",
        "        d = sum(s)\n",
        "        if d_old!=0 and d/d_old < 1 + tol: break\n",
        "    return dot(Phi, R)"
      ],
      "execution_count": 45,
      "outputs": []
    },
    {
      "cell_type": "markdown",
      "metadata": {
        "id": "hiDOfIxBmBbj"
      },
      "source": [
        "We will compute rotated scores for first two columns of loading matrix that correspond to first two principal components."
      ]
    },
    {
      "cell_type": "code",
      "metadata": {
        "colab": {
          "base_uri": "https://localhost:8080/"
        },
        "id": "dtx4nkN7mBbl",
        "outputId": "7b88d447-fadf-4e2d-e02a-3ca9ad440ab8"
      },
      "source": [
        "np.round(varimax(pca_wine_cor.components_.T[:,0:2]),2)"
      ],
      "execution_count": 46,
      "outputs": [
        {
          "output_type": "execute_result",
          "data": {
            "text/plain": [
              "array([[-0.41, -0.03],\n",
              "       [-0.41,  0.2 ],\n",
              "       [-0.14,  0.63],\n",
              "       [ 0.47,  0.22],\n",
              "       [ 0.1 ,  0.72],\n",
              "       [-0.44,  0.04],\n",
              "       [-0.46,  0.01]])"
            ]
          },
          "metadata": {
            "tags": []
          },
          "execution_count": 46
        }
      ]
    },
    {
      "cell_type": "markdown",
      "metadata": {
        "id": "ZMVb-cpSmBb2"
      },
      "source": [
        "In the above result, rows correspond to features in wine data. First column is the modified loading scores corresponding to first principal component and similarly for second column. Note that this result doesn't match with the paper. Neither does it match with `R` results. But it is close to the results given in paper."
      ]
    },
    {
      "cell_type": "markdown",
      "metadata": {
        "id": "zHiCVsAnmBb4"
      },
      "source": [
        "### Plot of loading scores before rotation"
      ]
    },
    {
      "cell_type": "code",
      "metadata": {
        "colab": {
          "base_uri": "https://localhost:8080/"
        },
        "id": "uvV-Cgs2mBcC",
        "outputId": "c2269542-e5bc-4526-bfda-1f5fa43dfa37"
      },
      "source": [
        "pca_wine_cor.components_.shape"
      ],
      "execution_count": 47,
      "outputs": [
        {
          "output_type": "execute_result",
          "data": {
            "text/plain": [
              "(5, 7)"
            ]
          },
          "metadata": {
            "tags": []
          },
          "execution_count": 47
        }
      ]
    },
    {
      "cell_type": "code",
      "metadata": {
        "colab": {
          "base_uri": "https://localhost:8080/",
          "height": 0
        },
        "id": "UEurr8hvmBcL",
        "outputId": "b120dd3b-c5bc-4f71-b1b3-28c5c89c36ee"
      },
      "source": [
        "#Figure 7\n",
        "(ggplot(pd.DataFrame(pca_wine_cor.components_.T[:,:2], columns = [\"loadings_1\", \"loadings_2\"]),\n",
        "       aes(x = \"loadings_1\", y = \"loadings_2\"))\n",
        "+ geom_point() + geom_hline(yintercept = 0)+geom_vline(xintercept = 0)\n",
        "+ annotate(\"text\", x = pca_wine_cor.components_.T[:,0], y = pca_wine_cor.components_.T[:,1],\n",
        "           label = [\"Hedonic\",\"For Meat\",\"For dessert\",\"Price\",\"Sugar\",\"Alcohol\",\"Acidity\"],\n",
        "           va = \"top\", ha = \"left\", size = 8)+ xlim([-0.5, 0.5])\n",
        "+ labs(x = \"Loading score along PC1\", y = \"Loading score along PC2\"))"
      ],
      "execution_count": 48,
      "outputs": [
        {
          "output_type": "display_data",
          "data": {
            "image/png": "[encoded data removed]",
            "text/plain": [
              "<Figure size 640x480 with 1 Axes>"
            ]
          },
          "metadata": {
            "tags": []
          }
        },
        {
          "output_type": "execute_result",
          "data": {
            "text/plain": [
              "<ggplot: (8775108637577)>"
            ]
          },
          "metadata": {
            "tags": []
          },
          "execution_count": 48
        }
      ]
    },
    {
      "cell_type": "markdown",
      "metadata": {
        "id": "-Z_R71DkmBcU"
      },
      "source": [
        "### Plot of loading scores after rotation"
      ]
    },
    {
      "cell_type": "code",
      "metadata": {
        "colab": {
          "base_uri": "https://localhost:8080/",
          "height": 0
        },
        "id": "t4hUeg3emBcW",
        "outputId": "44ae8d83-26c3-4bd8-d2de-167dab1cce8d"
      },
      "source": [
        "rotated_loading_scores = varimax(pca_wine_cor.components_.T[:,0:2])\n",
        "(ggplot(pd.DataFrame(rotated_loading_scores, columns = [\"rotated_loadings_1\", \"rotated_loadings_2\"]),\n",
        "        aes(x = \"rotated_loadings_1\", y = \"rotated_loadings_2\"))\n",
        "+ geom_point() + geom_hline(yintercept = 0)+geom_vline(xintercept = 0)\n",
        "+ annotate(\"text\", x = rotated_loading_scores[:,0], y = rotated_loading_scores[:,1],\n",
        "           label = [\"Hedonic\",\"For Meat\",\"For dessert\",\"Price\",\"Sugar\",\"Alcohol\",\"Acidity\"],\n",
        "           va = \"top\", ha = \"left\", size = 8) + xlim([-0.5, 0.5])\n",
        "+ labs(x = \"Loading score along PC1 after rotation\", y = \"Loading score along PC2 after rotation\"))                                 "
      ],
      "execution_count": 49,
      "outputs": [
        {
          "output_type": "display_data",
          "data": {
            "image/png": "[encoded data removed]",
            "text/plain": [
              "<Figure size 640x480 with 1 Axes>"
            ]
          },
          "metadata": {
            "tags": []
          }
        },
        {
          "output_type": "execute_result",
          "data": {
            "text/plain": [
              "<ggplot: (8775108766077)>"
            ]
          },
          "metadata": {
            "tags": []
          },
          "execution_count": 49
        }
      ]
    },
    {
      "cell_type": "markdown",
      "metadata": {
        "id": "RAjwExkmmBce"
      },
      "source": [
        "## Example 3\n",
        "### French food example (Covariance PCA)"
      ]
    },
    {
      "cell_type": "code",
      "metadata": {
        "colab": {
          "base_uri": "https://localhost:8080/",
          "height": 402
        },
        "id": "hId387ZVmBcg",
        "outputId": "e0eb9fb0-d3fc-42c3-f2a3-e37f15e133a8"
      },
      "source": [
        "food = pd.DataFrame(data = {\"class\": [\"Blue_collar\", \"White_collar\", \"Upper_class\", \"Blue_collar\", \"White_collar\", \"Upper_class\",\n",
        "                                      \"Blue_collar\", \"White_collar\", \"Upper_class\", \"Blue_collar\", \"White_collar\", \"Upper_class\"],\n",
        "                            \"children\": np.repeat([2,3,4,5], 3),\n",
        "                            \"bread\": [332, 293, 372, 406, 386, 438, 534, 460, 385, 655, 584, 515],\n",
        "                            \"vegetables\": [428, 559, 767, 563, 608, 843, 660, 699, 789, 776, 995, 1097],\n",
        "                            \"fruit\": [354, 388, 562, 341, 396, 689, 367, 484, 621, 423, 548, 887],\n",
        "                            \"meat\": [1437, 1527, 1948, 1507, 1501, 2345, 1620, 1856, 2366, 1848, 2056, 2630],\n",
        "                            \"poultry\": [526, 567, 927, 544, 558, 1148, 638, 762, 1149, 759, 893, 1167],\n",
        "                            \"milk\": [247, 239, 235, 324, 319, 243, 414, 400, 304, 495, 518, 561],\n",
        "                            \"wine\": [427, 258, 433, 407, 363, 341, 407, 416, 282, 486, 319, 284]})\n",
        "food"
      ],
      "execution_count": 50,
      "outputs": [
        {
          "output_type": "execute_result",
          "data": {
            "text/html": [
              "<div>\n",
              "<style scoped>\n",
              "    .dataframe tbody tr th:only-of-type {\n",
              "        vertical-align: middle;\n",
              "    }\n",
              "\n",
              "    .dataframe tbody tr th {\n",
              "        vertical-align: top;\n",
              "    }\n",
              "\n",
              "    .dataframe thead th {\n",
              "        text-align: right;\n",
              "    }\n",
              "</style>\n",
              "<table border=\"1\" class=\"dataframe\">\n",
              "  <thead>\n",
              "    <tr style=\"text-align: right;\">\n",
              "      <th></th>\n",
              "      <th>class</th>\n",
              "      <th>children</th>\n",
              "      <th>bread</th>\n",
              "      <th>vegetables</th>\n",
              "      <th>fruit</th>\n",
              "      <th>meat</th>\n",
              "      <th>poultry</th>\n",
              "      <th>milk</th>\n",
              "      <th>wine</th>\n",
              "    </tr>\n",
              "  </thead>\n",
              "  <tbody>\n",
              "    <tr>\n",
              "      <th>0</th>\n",
              "      <td>Blue_collar</td>\n",
              "      <td>2</td>\n",
              "      <td>332</td>\n",
              "      <td>428</td>\n",
              "      <td>354</td>\n",
              "      <td>1437</td>\n",
              "      <td>526</td>\n",
              "      <td>247</td>\n",
              "      <td>427</td>\n",
              "    </tr>\n",
              "    <tr>\n",
              "      <th>1</th>\n",
              "      <td>White_collar</td>\n",
              "      <td>2</td>\n",
              "      <td>293</td>\n",
              "      <td>559</td>\n",
              "      <td>388</td>\n",
              "      <td>1527</td>\n",
              "      <td>567</td>\n",
              "      <td>239</td>\n",
              "      <td>258</td>\n",
              "    </tr>\n",
              "    <tr>\n",
              "      <th>2</th>\n",
              "      <td>Upper_class</td>\n",
              "      <td>2</td>\n",
              "      <td>372</td>\n",
              "      <td>767</td>\n",
              "      <td>562</td>\n",
              "      <td>1948</td>\n",
              "      <td>927</td>\n",
              "      <td>235</td>\n",
              "      <td>433</td>\n",
              "    </tr>\n",
              "    <tr>\n",
              "      <th>3</th>\n",
              "      <td>Blue_collar</td>\n",
              "      <td>3</td>\n",
              "      <td>406</td>\n",
              "      <td>563</td>\n",
              "      <td>341</td>\n",
              "      <td>1507</td>\n",
              "      <td>544</td>\n",
              "      <td>324</td>\n",
              "      <td>407</td>\n",
              "    </tr>\n",
              "    <tr>\n",
              "      <th>4</th>\n",
              "      <td>White_collar</td>\n",
              "      <td>3</td>\n",
              "      <td>386</td>\n",
              "      <td>608</td>\n",
              "      <td>396</td>\n",
              "      <td>1501</td>\n",
              "      <td>558</td>\n",
              "      <td>319</td>\n",
              "      <td>363</td>\n",
              "    </tr>\n",
              "    <tr>\n",
              "      <th>5</th>\n",
              "      <td>Upper_class</td>\n",
              "      <td>3</td>\n",
              "      <td>438</td>\n",
              "      <td>843</td>\n",
              "      <td>689</td>\n",
              "      <td>2345</td>\n",
              "      <td>1148</td>\n",
              "      <td>243</td>\n",
              "      <td>341</td>\n",
              "    </tr>\n",
              "    <tr>\n",
              "      <th>6</th>\n",
              "      <td>Blue_collar</td>\n",
              "      <td>4</td>\n",
              "      <td>534</td>\n",
              "      <td>660</td>\n",
              "      <td>367</td>\n",
              "      <td>1620</td>\n",
              "      <td>638</td>\n",
              "      <td>414</td>\n",
              "      <td>407</td>\n",
              "    </tr>\n",
              "    <tr>\n",
              "      <th>7</th>\n",
              "      <td>White_collar</td>\n",
              "      <td>4</td>\n",
              "      <td>460</td>\n",
              "      <td>699</td>\n",
              "      <td>484</td>\n",
              "      <td>1856</td>\n",
              "      <td>762</td>\n",
              "      <td>400</td>\n",
              "      <td>416</td>\n",
              "    </tr>\n",
              "    <tr>\n",
              "      <th>8</th>\n",
              "      <td>Upper_class</td>\n",
              "      <td>4</td>\n",
              "      <td>385</td>\n",
              "      <td>789</td>\n",
              "      <td>621</td>\n",
              "      <td>2366</td>\n",
              "      <td>1149</td>\n",
              "      <td>304</td>\n",
              "      <td>282</td>\n",
              "    </tr>\n",
              "    <tr>\n",
              "      <th>9</th>\n",
              "      <td>Blue_collar</td>\n",
              "      <td>5</td>\n",
              "      <td>655</td>\n",
              "      <td>776</td>\n",
              "      <td>423</td>\n",
              "      <td>1848</td>\n",
              "      <td>759</td>\n",
              "      <td>495</td>\n",
              "      <td>486</td>\n",
              "    </tr>\n",
              "    <tr>\n",
              "      <th>10</th>\n",
              "      <td>White_collar</td>\n",
              "      <td>5</td>\n",
              "      <td>584</td>\n",
              "      <td>995</td>\n",
              "      <td>548</td>\n",
              "      <td>2056</td>\n",
              "      <td>893</td>\n",
              "      <td>518</td>\n",
              "      <td>319</td>\n",
              "    </tr>\n",
              "    <tr>\n",
              "      <th>11</th>\n",
              "      <td>Upper_class</td>\n",
              "      <td>5</td>\n",
              "      <td>515</td>\n",
              "      <td>1097</td>\n",
              "      <td>887</td>\n",
              "      <td>2630</td>\n",
              "      <td>1167</td>\n",
              "      <td>561</td>\n",
              "      <td>284</td>\n",
              "    </tr>\n",
              "  </tbody>\n",
              "</table>\n",
              "</div>"
            ],
            "text/plain": [
              "           class  children  bread  vegetables  fruit  meat  poultry  milk  wine\n",
              "0    Blue_collar         2    332         428    354  1437      526   247   427\n",
              "1   White_collar         2    293         559    388  1527      567   239   258\n",
              "2    Upper_class         2    372         767    562  1948      927   235   433\n",
              "3    Blue_collar         3    406         563    341  1507      544   324   407\n",
              "4   White_collar         3    386         608    396  1501      558   319   363\n",
              "5    Upper_class         3    438         843    689  2345     1148   243   341\n",
              "6    Blue_collar         4    534         660    367  1620      638   414   407\n",
              "7   White_collar         4    460         699    484  1856      762   400   416\n",
              "8    Upper_class         4    385         789    621  2366     1149   304   282\n",
              "9    Blue_collar         5    655         776    423  1848      759   495   486\n",
              "10  White_collar         5    584         995    548  2056      893   518   319\n",
              "11   Upper_class         5    515        1097    887  2630     1167   561   284"
            ]
          },
          "metadata": {
            "tags": []
          },
          "execution_count": 50
        }
      ]
    },
    {
      "cell_type": "code",
      "metadata": {
        "id": "SHXp0kB2mBcp"
      },
      "source": [
        "food_cov = PCA().fit(food.iloc[:,2:9])"
      ],
      "execution_count": 51,
      "outputs": []
    },
    {
      "cell_type": "markdown",
      "metadata": {
        "id": "Al9hJcR9mBc1"
      },
      "source": [
        "### Factor scores\n",
        "`sklearn`'s PCA centers data by default before applying the algorithm. We can also center data manually before giving it as an argument to fit method."
      ]
    },
    {
      "cell_type": "code",
      "metadata": {
        "colab": {
          "base_uri": "https://localhost:8080/"
        },
        "id": "AgTnWTZnmBc2",
        "outputId": "55e6dcea-fd6d-43d8-cae7-b39a34034815"
      },
      "source": [
        "factor_scores_food = food_cov.transform(food.iloc[:,2:9])\n",
        "np.round(factor_scores_food[:,0:2],2)"
      ],
      "execution_count": 52,
      "outputs": [
        {
          "output_type": "execute_result",
          "data": {
            "text/plain": [
              "array([[-635.05, -120.89],\n",
              "       [-488.56, -142.33],\n",
              "       [ 112.03, -139.75],\n",
              "       [-520.01,   12.05],\n",
              "       [-485.94,    1.17],\n",
              "       [ 588.17, -188.44],\n",
              "       [-333.95,  144.54],\n",
              "       [ -57.51,   42.86],\n",
              "       [ 571.32, -206.76],\n",
              "       [ -39.38,  264.47],\n",
              "       [ 296.04,  235.92],\n",
              "       [ 992.83,   97.15]])"
            ]
          },
          "metadata": {
            "tags": []
          },
          "execution_count": 52
        }
      ]
    },
    {
      "cell_type": "markdown",
      "metadata": {
        "id": "mXvdSJEDmBdA"
      },
      "source": [
        "### Contribution of each observation to principal component"
      ]
    },
    {
      "cell_type": "code",
      "metadata": {
        "colab": {
          "base_uri": "https://localhost:8080/"
        },
        "id": "-FNbBLCQmBdC",
        "outputId": "ed9f5d45-d42c-4156-9d22-08dc389b3841"
      },
      "source": [
        "np.round(factor_scores_food[:,0:2]**2/np.sum(factor_scores_food[:,0:2]**2, axis = 0)*100,2)"
      ],
      "execution_count": 53,
      "outputs": [
        {
          "output_type": "execute_result",
          "data": {
            "text/plain": [
              "array([[13.34,  5.03],\n",
              "       [ 7.9 ,  6.97],\n",
              "       [ 0.42,  6.72],\n",
              "       [ 8.94,  0.05],\n",
              "       [ 7.81,  0.  ],\n",
              "       [11.44, 12.22],\n",
              "       [ 3.69,  7.19],\n",
              "       [ 0.11,  0.63],\n",
              "       [10.8 , 14.71],\n",
              "       [ 0.05, 24.07],\n",
              "       [ 2.9 , 19.15],\n",
              "       [32.61,  3.25]])"
            ]
          },
          "metadata": {
            "tags": []
          },
          "execution_count": 53
        }
      ]
    },
    {
      "cell_type": "markdown",
      "metadata": {
        "id": "erIu0z8WmBdd"
      },
      "source": [
        "### Squared cosine of observations"
      ]
    },
    {
      "cell_type": "code",
      "metadata": {
        "colab": {
          "base_uri": "https://localhost:8080/"
        },
        "id": "dLwfRA-KmBdf",
        "outputId": "0b39b8fb-c375-44e6-815b-6c0b38402758"
      },
      "source": [
        "np.round(factor_scores_food[:,0:2]**2/np.sum(factor_scores_food**2, axis = 1).reshape(12,1)*100)"
      ],
      "execution_count": 54,
      "outputs": [
        {
          "output_type": "execute_result",
          "data": {
            "text/plain": [
              "array([[ 95.,   3.],\n",
              "       [ 86.,   7.],\n",
              "       [ 26.,  40.],\n",
              "       [100.,   0.],\n",
              "       [ 98.,   0.],\n",
              "       [ 89.,   9.],\n",
              "       [ 83.,  15.],\n",
              "       [ 40.,  22.],\n",
              "       [ 86.,  11.],\n",
              "       [  2.,  79.],\n",
              "       [ 57.,  36.],\n",
              "       [ 97.,   1.]])"
            ]
          },
          "metadata": {
            "tags": []
          },
          "execution_count": 54
        }
      ]
    },
    {
      "cell_type": "markdown",
      "metadata": {
        "id": "k0uTDdwImBdq"
      },
      "source": [
        "### Squared loading scores"
      ]
    },
    {
      "cell_type": "code",
      "metadata": {
        "colab": {
          "base_uri": "https://localhost:8080/"
        },
        "id": "7AhQX2I1mBds",
        "outputId": "983678d7-63b9-4974-b0aa-2294f06af8d2"
      },
      "source": [
        "np.round(food_cov.components_.T[:,0:2]**2, 2)"
      ],
      "execution_count": 55,
      "outputs": [
        {
          "output_type": "execute_result",
          "data": {
            "text/plain": [
              "array([[0.01, 0.33],\n",
              "       [0.11, 0.17],\n",
              "       [0.09, 0.01],\n",
              "       [0.57, 0.01],\n",
              "       [0.22, 0.06],\n",
              "       [0.01, 0.4 ],\n",
              "       [0.  , 0.02]])"
            ]
          },
          "metadata": {
            "tags": []
          },
          "execution_count": 55
        }
      ]
    },
    {
      "cell_type": "markdown",
      "metadata": {
        "id": "DIIfUOPCmBdz"
      },
      "source": [
        "Note that this answer doesn't match with the answers given in paper (Table 13). But we will stick with our result."
      ]
    },
    {
      "cell_type": "markdown",
      "metadata": {
        "id": "aWnXQWg0mBd1"
      },
      "source": [
        "### Correlation score"
      ]
    },
    {
      "cell_type": "code",
      "metadata": {
        "colab": {
          "base_uri": "https://localhost:8080/"
        },
        "id": "oHm0QcUWmBd3",
        "outputId": "6db493b8-6fba-449a-a492-e0955ead06e6"
      },
      "source": [
        "corr_score_food = np.repeat(np.nan,14).reshape(2,7)\n",
        "for i in range(2):\n",
        "    for j in range(7):\n",
        "        corr_score_food[i,j] = np.corrcoef(factor_scores_food[:,i], food.values[:,j+2].astype(np.float64))[0,1]\n",
        "np.round(corr_score_food,2)"
      ],
      "execution_count": 56,
      "outputs": [
        {
          "output_type": "execute_result",
          "data": {
            "text/plain": [
              "array([[ 0.36,  0.91,  0.96,  1.  ,  0.98,  0.41, -0.43],\n",
              "       [ 0.87,  0.35, -0.1 , -0.04, -0.16,  0.88,  0.33]])"
            ]
          },
          "metadata": {
            "tags": []
          },
          "execution_count": 56
        }
      ]
    },
    {
      "cell_type": "markdown",
      "metadata": {
        "id": "DkhGxuG0mBd-"
      },
      "source": [
        "In the above answer, each column corresponds to a feature in food data excluding class and children. The two rows correspond to first two principal components. Second row of above answer also differs in sign from the results of `R`. This is due to the fact that second principal component factor scores of `R` are negative of python's."
      ]
    },
    {
      "cell_type": "markdown",
      "metadata": {
        "id": "gd38ZBOfmBeA"
      },
      "source": [
        "### Squared correlation score"
      ]
    },
    {
      "cell_type": "code",
      "metadata": {
        "colab": {
          "base_uri": "https://localhost:8080/"
        },
        "id": "OqNdkprjmBeB",
        "outputId": "a2928350-ae7d-4385-f2d5-c825e03a0934"
      },
      "source": [
        "np.round(corr_score_food**2,2)"
      ],
      "execution_count": 57,
      "outputs": [
        {
          "output_type": "execute_result",
          "data": {
            "text/plain": [
              "array([[0.13, 0.83, 0.92, 1.  , 0.96, 0.17, 0.18],\n",
              "       [0.76, 0.12, 0.01, 0.  , 0.03, 0.77, 0.11]])"
            ]
          },
          "metadata": {
            "tags": []
          },
          "execution_count": 57
        }
      ]
    },
    {
      "cell_type": "markdown",
      "metadata": {
        "id": "ORf1DcCGmBeK"
      },
      "source": [
        "### Correlation circle for food data"
      ]
    },
    {
      "cell_type": "code",
      "metadata": {
        "colab": {
          "base_uri": "https://localhost:8080/",
          "height": 443
        },
        "id": "zymPgn0kmBeM",
        "outputId": "5a058cad-eb6f-4cb8-eba8-13c03a83800b"
      },
      "source": [
        "# Figure 9\n",
        "(circle + geom_point(aes(x = \"PC1\", y = \"PC2\"), data = pd.DataFrame(corr_score_food.T, columns = [\"PC1\", \"PC2\"]))\n",
        "+ annotate(\"text\", x = corr_score_food[0,:], y = corr_score_food[1,:],\n",
        "           label = [\"Bread\",\"Vegetables\",\"Fruit\",\"Meat\",\"Poultry\",\"Milk\",\"Wine\"],\n",
        "           va = \"top\", ha = \"left\",angle = -20, size = 7))"
      ],
      "execution_count": 58,
      "outputs": [
        {
          "output_type": "display_data",
          "data": {
            "image/png": "[encoded data removed]",
            "text/plain": [
              "<Figure size 640x480 with 1 Axes>"
            ]
          },
          "metadata": {
            "tags": []
          }
        },
        {
          "output_type": "execute_result",
          "data": {
            "text/plain": [
              "<ggplot: (8775108791353)>"
            ]
          },
          "metadata": {
            "tags": []
          },
          "execution_count": 58
        }
      ]
    },
    {
      "cell_type": "markdown",
      "metadata": {
        "id": "QlGttbS1mBeW"
      },
      "source": [
        "Now observe that our correlation circle plot is almost close to that of the papers though in opposite quadrants. This is because our first principal component is negative of the one given in the paper."
      ]
    },
    {
      "cell_type": "markdown",
      "metadata": {
        "id": "tPlI-CX8mBeY"
      },
      "source": [
        "### Eigenvalues"
      ]
    },
    {
      "cell_type": "markdown",
      "metadata": {
        "id": "Ite_TcZQmBeZ"
      },
      "source": [
        "Eigen values of data covariance matrix is square of singular values of centered data matrix. Hence eigen values of data covariance matrix can be obtained as below."
      ]
    },
    {
      "cell_type": "code",
      "metadata": {
        "colab": {
          "base_uri": "https://localhost:8080/"
        },
        "id": "4jqoNPMHmBeb",
        "outputId": "0dad78bf-884a-474e-d960-d25efea5052c"
      },
      "source": [
        "# Table 14\n",
        "eigen_values = food_cov.singular_values_.reshape(7,1)**2\n",
        "np.set_printoptions(suppress= True)\n",
        "np.round(eigen_values,2)"
      ],
      "execution_count": 59,
      "outputs": [
        {
          "output_type": "execute_result",
          "data": {
            "text/plain": [
              "array([[3023141.24],\n",
              "       [ 290575.84],\n",
              "       [  68795.23],\n",
              "       [  25298.95],\n",
              "       [  22992.25],\n",
              "       [   3722.32],\n",
              "       [    723.92]])"
            ]
          },
          "metadata": {
            "tags": []
          },
          "execution_count": 59
        }
      ]
    },
    {
      "cell_type": "markdown",
      "metadata": {
        "id": "gjQnaGojmBer"
      },
      "source": [
        "**Important Note**: These eigenvalues are not the same as variance of factor scores in principal components. Variance of principal component factor scores can be obtained by dividing the eigenvalues by $(n-1)$ , where $n$ is number of data points (in this case $n = 12$ ). If this point is still not clear, refer to [Part-II](https://biswajitsahoo1111.github.io/post/principal-component-analysis-part-ii/)."
      ]
    },
    {
      "cell_type": "markdown",
      "metadata": {
        "id": "f6Z_kW27mBes"
      },
      "source": [
        "### Percentage contribution of each principal component"
      ]
    },
    {
      "cell_type": "code",
      "metadata": {
        "colab": {
          "base_uri": "https://localhost:8080/"
        },
        "id": "8AVbRjFImBeu",
        "outputId": "921fdfaf-5443-444e-b050-d1a78eeb0359"
      },
      "source": [
        "np.round(eigen_values/np.sum(eigen_values),2)"
      ],
      "execution_count": 60,
      "outputs": [
        {
          "output_type": "execute_result",
          "data": {
            "text/plain": [
              "array([[0.88],\n",
              "       [0.08],\n",
              "       [0.02],\n",
              "       [0.01],\n",
              "       [0.01],\n",
              "       [0.  ],\n",
              "       [0.  ]])"
            ]
          },
          "metadata": {
            "tags": []
          },
          "execution_count": 60
        }
      ]
    },
    {
      "cell_type": "markdown",
      "metadata": {
        "id": "MeGcrEg8mBe2"
      },
      "source": [
        "### Cumulative sum of eigenvalues"
      ]
    },
    {
      "cell_type": "code",
      "metadata": {
        "colab": {
          "base_uri": "https://localhost:8080/"
        },
        "id": "vmNmDi8ZmBe3",
        "outputId": "6e9b5b04-0f69-4f01-e277-75d1d4b85681"
      },
      "source": [
        "np.round(np.cumsum(eigen_values).reshape(7,1),2)"
      ],
      "execution_count": 61,
      "outputs": [
        {
          "output_type": "execute_result",
          "data": {
            "text/plain": [
              "array([[3023141.24],\n",
              "       [3313717.07],\n",
              "       [3382512.31],\n",
              "       [3407811.26],\n",
              "       [3430803.5 ],\n",
              "       [3434525.83],\n",
              "       [3435249.75]])"
            ]
          },
          "metadata": {
            "tags": []
          },
          "execution_count": 61
        }
      ]
    },
    {
      "cell_type": "markdown",
      "metadata": {
        "id": "WV-xKRjemBe-"
      },
      "source": [
        "### Cumulative percentage contribution"
      ]
    },
    {
      "cell_type": "code",
      "metadata": {
        "colab": {
          "base_uri": "https://localhost:8080/"
        },
        "id": "KzIcIhtamBfA",
        "outputId": "9983bfb5-39c8-4379-a312-d4f27b462699"
      },
      "source": [
        "np.round(np.cumsum(eigen_values)/np.sum(eigen_values),2)"
      ],
      "execution_count": 62,
      "outputs": [
        {
          "output_type": "execute_result",
          "data": {
            "text/plain": [
              "array([0.88, 0.96, 0.98, 0.99, 1.  , 1.  , 1.  ])"
            ]
          },
          "metadata": {
            "tags": []
          },
          "execution_count": 62
        }
      ]
    },
    {
      "cell_type": "markdown",
      "metadata": {
        "id": "voOyp4DmmBfJ"
      },
      "source": [
        "### RESS (Refer to the paper for a description)"
      ]
    },
    {
      "cell_type": "code",
      "metadata": {
        "colab": {
          "base_uri": "https://localhost:8080/"
        },
        "id": "jpyTu108mBfK",
        "outputId": "a9153af2-9114-418c-a684-53284b6775c8"
      },
      "source": [
        "RESS = np.repeat(np.nan, 7)\n",
        "for i in range(7):\n",
        "    RESS[i] = np.sum(eigen_values) - np.sum(eigen_values[:i+1])\n",
        "np.round(RESS.reshape(7,1),2)"
      ],
      "execution_count": 63,
      "outputs": [
        {
          "output_type": "execute_result",
          "data": {
            "text/plain": [
              "array([[412108.51],\n",
              "       [121532.68],\n",
              "       [ 52737.44],\n",
              "       [ 27438.49],\n",
              "       [  4446.25],\n",
              "       [   723.92],\n",
              "       [     0.  ]])"
            ]
          },
          "metadata": {
            "tags": []
          },
          "execution_count": 63
        }
      ]
    },
    {
      "cell_type": "markdown",
      "metadata": {
        "id": "enWIk1jKmBfR"
      },
      "source": [
        "### Ration of RESS and sum of eigenvalues"
      ]
    },
    {
      "cell_type": "code",
      "metadata": {
        "colab": {
          "base_uri": "https://localhost:8080/"
        },
        "id": "C_aTkelfmBfU",
        "outputId": "adff3951-b2d2-4e3c-bd3f-0f9f97901a81"
      },
      "source": [
        "np.round(RESS/np.sum(eigen_values),2)"
      ],
      "execution_count": 64,
      "outputs": [
        {
          "output_type": "execute_result",
          "data": {
            "text/plain": [
              "array([0.12, 0.04, 0.02, 0.01, 0.  , 0.  , 0.  ])"
            ]
          },
          "metadata": {
            "tags": []
          },
          "execution_count": 64
        }
      ]
    },
    {
      "cell_type": "markdown",
      "metadata": {
        "id": "38OhZ-FTmBfb"
      },
      "source": [
        "We will not calculate the value of PRESS in this post as it requires us to consider random models. We will not pursue that here. Comments regarding any errors or omissions may be sent to the author's email."
      ]
    }
  ]
}