{
 "cells": [
  {
   "cell_type": "markdown",
   "metadata": {
    "colab_type": "text",
    "id": "AKujGLBF3SmT"
   },
   "source": [
    "# Doing Linear Algebra using Tensorflow 2\n",
    "\n",
    "Author: [Biswajit Sahoo](https://biswajitsahoo1111.github.io/)\n",
    "\n",
    "<table class=\"tfo-notebook-buttons\" align=\"left\">\n",
    "  <td>\n",
    "    <a target=\"_blank\" href=\"https://colab.research.google.com/github/biswajitsahoo1111/blog_notebooks/blob/master/Doing_Linear_Algebra_using_Tensorflow_2.ipynb\">\n",
    "    <img src=\"https://www.tensorflow.org/images/colab_logo_32px.png\" />\n",
    "    Run in Google Colab</a>\n",
    "  </td>\n",
    "  <td>\n",
    "    <a target=\"_blank\" href=\"https://github.com/biswajitsahoo1111/blog_notebooks/blob/master/Doing_Linear_Algebra_using_Tensorflow_2.ipynb\">\n",
    "    <img src=\"https://www.tensorflow.org/images/GitHub-Mark-32px.png\" />\n",
    "    View source on GitHub</a>\n",
    "  </td>\n",
    "  <td>\n",
    "    <a href=\"https://www.dropbox.com/s/vtp81fo71uo9ctn/Doing_Linear_Algebra_using_Tensorflow_2.ipynb?dl=1\"><img src=\"https://www.tensorflow.org/images/download_logo_32px.png\" />Download notebook</a>\n",
    "  </td>\n",
    "</table>"
   ]
  },
  {
   "cell_type": "markdown",
   "metadata": {},
   "source": [
    "In this post, we will explore ways of doing linear algebra **only** using `tensorflow`. We will only import `tensorflow` and nothing else. As we will see, we can do all the common linear algebra operations without using any other library. This post is very long as it covers almost all the functions that are there in the linear algebra library `tf.linalg`. But this is not a copy of `tensorflow` documentation. Rather, the `tensorflow` documentation is a super set of what has been discussed here. This post also assumes that readers have a working knowledge of linear algebra. Most of the times, we will give examples to illustrate a function without going into the underlying theory. Interested readers should use the contents to browse relevant sections of their interest. "
   ]
  },
  {
   "cell_type": "markdown",
   "metadata": {
    "colab_type": "text",
    "id": "rmX94to-9649"
   },
   "source": [
    "* [Basics](#basics)\n",
    "  * [Creating tensors](#creating_tensors)\n",
    "  * [Creating a sequence of numbers](#creating_a_sequence_of_numbers)\n",
    "  * [Slicing](#slicing)\n",
    "  * [Modifying elements of a matrix](#modifying_elements_of_a_matrix)\n",
    "  * [Creating a complex matrix](#creating_a_complex_matrix)\n",
    "  * [Transpose of a matrix](#transpose_of_a_matrix)\n",
    "    * [Transpose of a real matrix](#transpose_of_a_real_matrix)\n",
    "    * [Transpose of a complex matrix](#transpose_of_a_complex_matrix)\n",
    "  * [Some common matrices](#some_common_matrices)\n",
    "    * [Identity matrix](#identity_matrix)\n",
    "    * [Diagonal matrix](#diagonal_matrix)\n",
    "    * [Tri-diagonal matrix](#tri-diagonal_matrix)\n",
    "    * [Matrix of all zeros and ones](#matrix_of_all_zeros_and_ones)\n",
    "    * [Random matrices](#random_matrices)\n",
    "      * [Random uniform matrix](#random_uniform_matrix)\n",
    "      * [Random normal matrix](#random_normal_matrix)\n",
    "      * [Truncated random normal matrix](#truncated_random_normal_matrix)\n",
    "      * [Random Poisson matrix](#random_poisson_matrix)\n",
    "      * [Random gamma matrix](#random_gamma_matrix)\n",
    "    * [Some special matrices](#some_special_matrices)\n",
    "  * [Sparse matrices](#sparse_matrices)\n",
    "  * [Matrix multiplication](#matrix_multiplication)\n",
    "    * [Multiplying two column vectors](#multiplying_two_column_vectors)\n",
    "      * [Inner product](#inner_product)\n",
    "      * [Outer product](#outer_product)\n",
    "    * [Multiplying a matrix with a vector](#multiplying_a_matrix_with_a_vector)\n",
    "    * [Multiplying two matrices](#multiplying_two_matrices)\n",
    "    * [Multiplying two tri-diagonal matrices](#multiplying_two_tri-diagonal_matrices)\n",
    "  * [Some common operations on matrices](#some_common_operations_on_matrices)\n",
    "    * [Trace](#trace)\n",
    "    * [Determinant](#determinant)\n",
    "    * [Rank](#rank)\n",
    "    * [Matrix inverse](#matrix_inverse)\n",
    "    * [Extract diagonals of a matrix](#extract_diagonals_of_a_matrix)\n",
    "    * [Extract band part of a matrix](#extract_band_part_of_a_matrix)\n",
    "* [Matrix factorizations](#matrix_factorizations)\n",
    "  * [LU](#lu)\n",
    "  * [Cholesky](#cholesky)\n",
    "  * [QR](#qr)\n",
    "  * [SVD](#svd)\n",
    "* [Eigenvalues and eigenvectors](#eigenvalues_and_eigenvectors)\n",
    "  * [Eigen-analysis of Hermitian matrices](#eigen-analysis_of_hermitian_matrices)\n",
    "  * [Eigen-analysis of other matrices](#eigen-analysis_of_other_matrices)\n",
    "* [Solving linear systems](#solving_linear_systems)\n",
    "  * [Using LU decomposition](#using_lu_decomposition)\n",
    "  * [Using Cholesky decomposition](#using_cholesky_decomposition)\n",
    "* [Solving structured linear systems](#solving_structured_linear_systems)\n",
    "  * [Solving triangular systems](#solving_triangular_systems)\n",
    "  * [Solving tri-diagonal systems](#solving_tri-diagonal_systems)\n",
    "  * [Solving banded triangular systems](#solving_banded_triangular_systems)\n",
    "* [Solving least squares problems](#solving_least_squares_problems)\n",
    "  * [Ordinary least squares](#ordinary_least_squares)\n",
    "  * [Regularized least squares](#regularized_least_squares)\n",
    "* [Some specialized operations](#some_specialized_operations)\n",
    "  * [Norm](#norm)\n",
    "  * [Normalizing a tensor](#normalizing_a_tensor)\n",
    "  * [Global norm](#global_norm)\n",
    "  * [Cross product of vectors](#cross_product_of_vectors)\n",
    "  * [Matrix square root](#matrix_square_root)\n",
    "  * [Matrix exponential](#matrix_exponential)\n",
    "  * [Matrix logarithm](#matrix_logarithm)\n",
    "  * [Log-determinant of a matrix](#log-determinant_of_a_matrix)\n",
    "  * [Pseudo inverse of a matrix](#pseudo_inverse_of_a_matrix)\n",
    "* [Linear operators](#linear_operators)\n",
    "  * [Common methods on linear operators](#common_methods_on_linear_operators)\n",
    "  * [Special matrices using operators](#special_matrices_using_operators)\n",
    "    * [Toeplitz matrix](#toeplitz_matrix)\n",
    "    * [Circulant matrix](#circulant_matrix)\n",
    "    * [Block diagonal matrix](#block_diagonal_matrix)\n",
    "    * [Block lower triangular matrix](#block_lower_triangular_matrix)\n",
    "    * [Householder matrix](#householder_matrix)\n",
    "    * [Kronecker matrix](#kronecker_matrix)\n",
    "    * [Permutation matrix](#permutation_matrix)\n",
    "  * [Common matrices using operators](#common_matrices_using_operators)\n",
    "    * [Identity matrix](#identity_matrix)\n",
    "    * [Scaled identity matrix](#scaled_identity_matrix)\n",
    "    * [Diagonal matrix](#diagonal_matrix)\n",
    "    * [Tri-diagonal matrix](#tri-diagonal_matrix)\n",
    "    * [Lower triangular matrix](#lower_triangular_matrix)\n",
    "    * [Matrix of zeros](#matrix_of_zeros)\n",
    "  * [Matrix operations using operators](#matrix_operations_using_operators)\n",
    "    * [Low-rank update](#low-rank_update)\n",
    "    * [Operator inversion](#operator_inversion)\n",
    "    * [Operator composition](#operator_composition)\n",
    "* [Conclusion](#conclusion)\n",
    "\n",
    "\n",
    "\n",
    "\n",
    "\n"
   ]
  },
  {
   "cell_type": "code",
   "execution_count": 1,
   "metadata": {
    "colab": {
     "base_uri": "https://localhost:8080/",
     "height": 34
    },
    "colab_type": "code",
    "id": "WnL9pvm23Smh",
    "outputId": "a2e7b7f9-2081-47dc-d1ac-bac55e7ce739"
   },
   "outputs": [
    {
     "name": "stdout",
     "output_type": "stream",
     "text": [
      "2.3.0\n"
     ]
    }
   ],
   "source": [
    "import tensorflow as tf\n",
    "print(tf.__version__)"
   ]
  },
  {
   "cell_type": "markdown",
   "metadata": {
    "colab_type": "text",
    "id": "YtM6ytsI3Smz"
   },
   "source": [
    "\n",
    "\n",
    "One thing we have to keep in mind is that while accessing a function, we have to always append the function by `tf.linalg`. It is possible to remove the `tf` part by importing the `linalg` library from `tensorflow`. But even then we have to append every function by `linalg`. In this post, we will always use `tf.linalg` followed by function name. This amounts to little more typing. But we will do this to remind ourselves that we are using `linalg` library of `tensorflow`. This might seem little awkward to seasoned users of `MATLAB` or `Julia` where you just need to type the function name to use it without having to write the library name all the time. Except that, linear algebra in `tensorflow` seems quite natural.\n",
    "\n",
    "**Note**: In this post, we will show some of the ways in which we can handle matrix operations in `Tensorflow`. We will mainly use 1D or 2D arrays in our examples. But matrix operations in Tensorflow are not limited to 2D arrays. In fact, the operations can be done on multidimensional arrays. If an array has more than 2 dimensions, the matrix operation is done on the **last two** dimensions and the same operation is carried across other dimensions. For example, if our array has a shape of (3,5,5), it can be thought of as 3 matrices each of shape (5,5). When we call a matrix function on this array, the matrix function is applied to all 3 matrices of shape (5,5). This is also true for higher dimensional arrays.\n",
    "\n",
    "\n"
   ]
  },
  {
   "cell_type": "markdown",
   "metadata": {
    "colab_type": "text",
    "id": "dSAO74uHHoPK"
   },
   "source": [
    "\n",
    "<a id=\"basics\"></a>\n",
    "\n",
    "## Basics\n",
    "\n",
    "Tensorflow operates on `Tensors`. `Tensors` are characterized by their rank. Following table shows different types of tensors and their corresponding rank.\n",
    "\n",
    "|Tensors|  Rank    |\n",
    "|:----:|:----:|\n",
    "|Scalars|Rank 0 Tensor|\n",
    "|Vectors (1D array)| Rank 1 Tensor|\n",
    "|Matrices (2D array)| Rank 2 Tensor|\n",
    "|3D array| Rank 3 Tensor|\n"
   ]
  },
  {
   "cell_type": "markdown",
   "metadata": {
    "colab_type": "text",
    "id": "1S2IXWob3Sm2"
   },
   "source": [
    "\n",
    "<a id = \"creating_tensors\"></a>\n",
    "\n",
    "### Creating tensors\n",
    "\n",
    "In this section, we will create `tensors` of different rank, starting from scalars to multi-dimensional arrays. Though tensors can be both real or complex, we will mainly focus on real tensors.\n",
    "\n",
    "A scalar contains a single (real or complex) value. "
   ]
  },
  {
   "cell_type": "code",
   "execution_count": 2,
   "metadata": {
    "colab": {
     "base_uri": "https://localhost:8080/",
     "height": 34
    },
    "colab_type": "code",
    "id": "qa_CVvye3Sm5",
    "outputId": "9c3aab19-9f0c-4781-accf-59c703cc1a45"
   },
   "outputs": [
    {
     "data": {
      "text/plain": [
       "<tf.Tensor: shape=(), dtype=float32, numpy=5.0>"
      ]
     },
     "execution_count": 2,
     "metadata": {},
     "output_type": "execute_result"
    }
   ],
   "source": [
    "a = tf.constant(5.0)\n",
    "a"
   ]
  },
  {
   "cell_type": "markdown",
   "metadata": {
    "colab_type": "text",
    "id": "J_uzF4D33SnJ"
   },
   "source": [
    "The output shows that the result is a `tf.Tensor`. As scalars are rank 0 tensors, its shape is empty. Data type of the tensor is `float32`. And corresponding numpy array is 5. We can get only the value of the tensor by calling `numpy` method."
   ]
  },
  {
   "cell_type": "code",
   "execution_count": 3,
   "metadata": {
    "colab": {
     "base_uri": "https://localhost:8080/",
     "height": 34
    },
    "colab_type": "code",
    "id": "y7c3XujR3SnL",
    "outputId": "ca37c68f-7c8c-49aa-bebb-8b7a9eaecf2a"
   },
   "outputs": [
    {
     "data": {
      "text/plain": [
       "5.0"
      ]
     },
     "execution_count": 3,
     "metadata": {},
     "output_type": "execute_result"
    }
   ],
   "source": [
    "a.numpy()"
   ]
  },
  {
   "cell_type": "markdown",
   "metadata": {
    "colab_type": "text",
    "id": "m2V7HfQa3Sna"
   },
   "source": [
    "Similarly, we can define 1D and 2D `tensors`. While 1D `tensors` are called vectors, 2D `tensors` are called matrices."
   ]
  },
  {
   "cell_type": "code",
   "execution_count": 4,
   "metadata": {
    "colab": {},
    "colab_type": "code",
    "id": "yPgYWttw3Snd"
   },
   "outputs": [
    {
     "data": {
      "text/plain": [
       "<tf.Tensor: shape=(4,), dtype=int32, numpy=array([1, 3, 7, 9], dtype=int32)>"
      ]
     },
     "execution_count": 4,
     "metadata": {},
     "output_type": "execute_result"
    }
   ],
   "source": [
    "tf.constant([1, 3, 7, 9])    # Note the shape in result. Only one shape parameter is used for vectors."
   ]
  },
  {
   "cell_type": "code",
   "execution_count": 5,
   "metadata": {
    "colab": {},
    "colab_type": "code",
    "id": "Jxv6XFpX3Snt"
   },
   "outputs": [
    {
     "data": {
      "text/plain": [
       "<tf.Tensor: shape=(2, 4), dtype=int32, numpy=\n",
       "array([[1, 2, 3, 4],\n",
       "       [5, 6, 7, 8]], dtype=int32)>"
      ]
     },
     "execution_count": 5,
     "metadata": {},
     "output_type": "execute_result"
    }
   ],
   "source": [
    "tf.constant([[1,2,3,4],\n",
    "            [5,6,7,8]])     # Note the shape in result. There are two shape parameters (rows, columns)."
   ]
  },
  {
   "cell_type": "markdown",
   "metadata": {
    "colab_type": "text",
    "id": "cwbj3p2z3Sn8"
   },
   "source": [
    "Another way to define a 2D array is given below."
   ]
  },
  {
   "cell_type": "code",
   "execution_count": 6,
   "metadata": {
    "colab": {},
    "colab_type": "code",
    "id": "eq0Mg6fa3Sn-"
   },
   "outputs": [
    {
     "data": {
      "text/plain": [
       "<tf.Tensor: shape=(2, 4), dtype=float32, numpy=\n",
       "array([[1., 2., 3., 4.],\n",
       "       [5., 6., 7., 8.]], dtype=float32)>"
      ]
     },
     "execution_count": 6,
     "metadata": {},
     "output_type": "execute_result"
    }
   ],
   "source": [
    "tf.constant([1,2,3,4,5,6,7,8.0], shape = (2,4))"
   ]
  },
  {
   "cell_type": "markdown",
   "metadata": {
    "colab_type": "text",
    "id": "29N6z1IP3SoP"
   },
   "source": [
    "\n",
    "<a id = \"creating_a_sequence_of_numbers\"></a>\n",
    "\n",
    "### Creating a sequence of numbers\n",
    "\n",
    "There are two ways to generate sequence of numbers in `Tensorflow`. Functions `tf.range` and `tf.linspace` can be used for that purpose. Sequences generated by these functions are equally spaced."
   ]
  },
  {
   "cell_type": "code",
   "execution_count": 7,
   "metadata": {
    "colab": {},
    "colab_type": "code",
    "id": "ZA50EZHi3SoS"
   },
   "outputs": [
    {
     "data": {
      "text/plain": [
       "array([1, 2, 3, 4, 5, 6, 7, 8, 9], dtype=int32)"
      ]
     },
     "execution_count": 7,
     "metadata": {},
     "output_type": "execute_result"
    }
   ],
   "source": [
    "sequence = tf.range(start = 1,limit = 10, delta = 1)\n",
    "sequence.numpy()"
   ]
  },
  {
   "cell_type": "markdown",
   "metadata": {
    "colab_type": "text",
    "id": "ToMPhyq53Sof"
   },
   "source": [
    "Note that the last element (limit) is not included in the array. This is consistent with `Python` behavior but in departure with `MATLAB` and `Julia` convention. It is also possible to set `delta` to a fraction."
   ]
  },
  {
   "cell_type": "code",
   "execution_count": 8,
   "metadata": {
    "colab": {},
    "colab_type": "code",
    "id": "ruY9G51X3Soi"
   },
   "outputs": [
    {
     "data": {
      "text/plain": [
       "array([1. , 2.5, 4. , 5.5, 7. , 8.5], dtype=float32)"
      ]
     },
     "execution_count": 8,
     "metadata": {},
     "output_type": "execute_result"
    }
   ],
   "source": [
    "tf.range(start = 1, limit = 10, delta = 1.5).numpy()"
   ]
  },
  {
   "cell_type": "code",
   "execution_count": 9,
   "metadata": {
    "colab": {},
    "colab_type": "code",
    "id": "CXRvgqxd3Sov"
   },
   "outputs": [
    {
     "data": {
      "text/plain": [
       "<tf.Tensor: shape=(25,), dtype=float32, numpy=\n",
       "array([ 1.   ,  1.375,  1.75 ,  2.125,  2.5  ,  2.875,  3.25 ,  3.625,\n",
       "        4.   ,  4.375,  4.75 ,  5.125,  5.5  ,  5.875,  6.25 ,  6.625,\n",
       "        7.   ,  7.375,  7.75 ,  8.125,  8.5  ,  8.875,  9.25 ,  9.625,\n",
       "       10.   ], dtype=float32)>"
      ]
     },
     "execution_count": 9,
     "metadata": {},
     "output_type": "execute_result"
    }
   ],
   "source": [
    "tf.linspace(start = 1.0, stop = 10, num = 25)  # Start must be a `float`. See documentation for more details."
   ]
  },
  {
   "cell_type": "markdown",
   "metadata": {
    "colab_type": "text",
    "id": "7c68Ffa83So9"
   },
   "source": [
    "Though in this post we will mainly focus on matrices, it is easy to create higher dimensional arrays in `Tensorflow`."
   ]
  },
  {
   "cell_type": "code",
   "execution_count": 10,
   "metadata": {
    "colab": {},
    "colab_type": "code",
    "id": "8cP-2vHP3So_"
   },
   "outputs": [
    {
     "data": {
      "text/plain": [
       "<tf.Tensor: shape=(2, 3, 2), dtype=int32, numpy=\n",
       "array([[[ 1,  2],\n",
       "        [ 3,  4],\n",
       "        [ 5,  6]],\n",
       "\n",
       "       [[ 7,  8],\n",
       "        [ 9, 10],\n",
       "        [11, 12]]], dtype=int32)>"
      ]
     },
     "execution_count": 10,
     "metadata": {},
     "output_type": "execute_result"
    }
   ],
   "source": [
    "tf.constant(tf.range(1,13), shape = (2,3,2))"
   ]
  },
  {
   "cell_type": "markdown",
   "metadata": {
    "colab_type": "text",
    "id": "SBahQC9y3SpR"
   },
   "source": [
    "\n",
    "<a id = \"slicing\"></a>\n",
    "\n",
    "### Slicing\n",
    "\n",
    "Slicing is similar to that of `numpy` slicing. For vectors (rank 1 tensor with only one shape parameter), only one argument is passed that corresponds to the location of starting index and end index of sliced array. For matrices (rank 2 tensor with two shape parameters), two input arguments need to be passed. First one for rows and second one for columns."
   ]
  },
  {
   "cell_type": "code",
   "execution_count": 11,
   "metadata": {
    "colab": {},
    "colab_type": "code",
    "id": "i_YgVJv73SpT"
   },
   "outputs": [
    {
     "data": {
      "text/plain": [
       "<tf.Tensor: shape=(9,), dtype=int32, numpy=array([1, 2, 3, 4, 5, 6, 7, 8, 9], dtype=int32)>"
      ]
     },
     "execution_count": 11,
     "metadata": {},
     "output_type": "execute_result"
    }
   ],
   "source": [
    "vector = tf.range(start = 1, limit = 10)\n",
    "vector"
   ]
  },
  {
   "cell_type": "code",
   "execution_count": 12,
   "metadata": {
    "colab": {},
    "colab_type": "code",
    "id": "E03C2-HK3Sph"
   },
   "outputs": [
    {
     "data": {
      "text/plain": [
       "array([4, 5, 6, 7], dtype=int32)"
      ]
     },
     "execution_count": 12,
     "metadata": {},
     "output_type": "execute_result"
    }
   ],
   "source": [
    "vector[3:7].numpy() "
   ]
  },
  {
   "cell_type": "markdown",
   "metadata": {
    "colab_type": "text",
    "id": "-5WSSNIH3Spu"
   },
   "source": [
    "Indexing in `tensorflow` starts from zero. In the above example, start index is 3. So that corresponds to 4th element of the vector. And end index is not included. This is similar to `Python` convention."
   ]
  },
  {
   "cell_type": "code",
   "execution_count": 13,
   "metadata": {
    "colab": {},
    "colab_type": "code",
    "id": "_djM0wAV3Spx"
   },
   "outputs": [
    {
     "data": {
      "text/plain": [
       "<tf.Tensor: shape=(4, 5), dtype=float32, numpy=\n",
       "array([[ 0.,  1.,  2.,  3.,  4.],\n",
       "       [ 5.,  6.,  7.,  8.,  9.],\n",
       "       [10., 11., 12., 13., 14.],\n",
       "       [15., 16., 17., 18., 19.]], dtype=float32)>"
      ]
     },
     "execution_count": 13,
     "metadata": {},
     "output_type": "execute_result"
    }
   ],
   "source": [
    "matrix = tf.constant(tf.range(20, dtype = tf.float32), shape = (4,5))\n",
    "matrix"
   ]
  },
  {
   "cell_type": "code",
   "execution_count": 14,
   "metadata": {
    "colab": {},
    "colab_type": "code",
    "id": "zYweSP1d3Sp9"
   },
   "outputs": [
    {
     "data": {
      "text/plain": [
       "<tf.Tensor: shape=(2, 2), dtype=float32, numpy=\n",
       "array([[ 7.,  8.],\n",
       "       [12., 13.]], dtype=float32)>"
      ]
     },
     "execution_count": 14,
     "metadata": {},
     "output_type": "execute_result"
    }
   ],
   "source": [
    "matrix[1:3, 2:4]"
   ]
  },
  {
   "cell_type": "code",
   "execution_count": 15,
   "metadata": {
    "colab": {
     "base_uri": "https://localhost:8080/",
     "height": 163
    },
    "colab_type": "code",
    "id": "hxOp07wZ3SqL",
    "outputId": "5e6c2b5c-d93f-4deb-9eab-c448847399f5"
   },
   "outputs": [
    {
     "data": {
      "text/plain": [
       "<tf.Tensor: shape=(3, 3), dtype=float32, numpy=\n",
       "array([[ 2.,  3.,  4.],\n",
       "       [ 7.,  8.,  9.],\n",
       "       [12., 13., 14.]], dtype=float32)>"
      ]
     },
     "execution_count": 15,
     "metadata": {},
     "output_type": "execute_result"
    }
   ],
   "source": [
    "matrix[:3,2:]      # Same behavior as numpy"
   ]
  },
  {
   "cell_type": "markdown",
   "metadata": {
    "colab_type": "text",
    "id": "8VFVlTjM3Sqc"
   },
   "source": [
    "\n",
    "<a id = \"modifying_elements_of_a_matrix\"></a>\n",
    "\n",
    "### Modifying elements of a matrix\n",
    "\n",
    "`Tensors` in `tensorflow`, once created, can't be modified. So the following code segment will result in an error.\n",
    "\n",
    "```\n",
    ">>> a = tf.constant([1,2,3,4])\n",
    ">>> a[2] = 5  # Error\n",
    "```\n",
    "\n",
    "But there is a way to modify values of a matrix. Instead of creating a `tensor`, we create a `Variable`. `Variables` work just like `tensors` with the added advantage that their values can be modified. So if we want to modify entries of our matrix at a later stage, we have to first create our matrix as a variable. Then we can do assignment using `assign` command."
   ]
  },
  {
   "cell_type": "code",
   "execution_count": 16,
   "metadata": {
    "colab": {},
    "colab_type": "code",
    "id": "ozimXIQp3Sqe"
   },
   "outputs": [
    {
     "data": {
      "text/plain": [
       "<tf.Variable 'Variable:0' shape=(3, 4) dtype=float32, numpy=\n",
       "array([[ 0.,  1.,  2.,  3.],\n",
       "       [ 4.,  5.,  6.,  7.],\n",
       "       [ 8.,  9., 10., 11.]], dtype=float32)>"
      ]
     },
     "execution_count": 16,
     "metadata": {},
     "output_type": "execute_result"
    }
   ],
   "source": [
    "variable_mat = tf.Variable(tf.constant(tf.range(12, dtype = tf.float32), shape = (3,4)))\n",
    "variable_mat"
   ]
  },
  {
   "cell_type": "code",
   "execution_count": 17,
   "metadata": {
    "colab": {},
    "colab_type": "code",
    "id": "q9gjBtof3Sqp"
   },
   "outputs": [
    {
     "data": {
      "text/plain": [
       "<tf.Variable 'Variable:0' shape=(3, 4) dtype=float32, numpy=\n",
       "array([[ 0.,  1., -1., -1.],\n",
       "       [ 4.,  5., -1., -1.],\n",
       "       [ 8.,  9., 10., 11.]], dtype=float32)>"
      ]
     },
     "execution_count": 17,
     "metadata": {},
     "output_type": "execute_result"
    }
   ],
   "source": [
    "variable_mat[:2,2:4].assign(-1*tf.ones(shape = (2,2)))\n",
    "variable_mat"
   ]
  },
  {
   "cell_type": "markdown",
   "metadata": {
    "colab_type": "text",
    "id": "cXrZp2Fp3Sq1"
   },
   "source": [
    "\n",
    "<a id = \"creating_a_complex_matrix\"></a>\n",
    "\n",
    "### Creating a complex matrix\n",
    "\n",
    "To create a complex matrix, we have to first create the real part and imaginary part separately. Then both real and imaginary parts can be combined element wise to create a complex matrix. Elements of both real and imaginary part should be floats. This is the hard way of creating complex a complex matrix. We will discuss the simpler way next."
   ]
  },
  {
   "cell_type": "code",
   "execution_count": 18,
   "metadata": {
    "colab": {},
    "colab_type": "code",
    "id": "ttzSpAMZ3Sq3"
   },
   "outputs": [
    {
     "name": "stdout",
     "output_type": "stream",
     "text": [
      "Real part:\n",
      "tf.Tensor(\n",
      "[[2.0458713 4.314379 ]\n",
      " [4.2078624 2.956036 ]\n",
      " [3.7432299 1.0335522]], shape=(3, 2), dtype=float32)\n",
      "\n",
      "Imaginary part:\n",
      "tf.Tensor(\n",
      "[[3.8836174 4.620237 ]\n",
      " [2.296022  1.8005514]\n",
      " [1.6300111 1.2105217]], shape=(3, 2), dtype=float32)\n"
     ]
    }
   ],
   "source": [
    "real_part = tf.random.uniform(shape = (3,2), minval = 1, maxval = 5)\n",
    "imag_part = tf.random.uniform(shape = (3,2), minval = 1, maxval = 5)\n",
    "print(\"Real part:\")\n",
    "print(real_part)\n",
    "print()\n",
    "print(\"Imaginary part:\")\n",
    "print(imag_part)"
   ]
  },
  {
   "cell_type": "code",
   "execution_count": 19,
   "metadata": {
    "colab": {},
    "colab_type": "code",
    "id": "sEUhQLK93SrC"
   },
   "outputs": [
    {
     "name": "stdout",
     "output_type": "stream",
     "text": [
      "tf.Tensor(\n",
      "[[2.0458713+3.8836174j 4.314379 +4.620237j ]\n",
      " [4.2078624+2.296022j  2.956036 +1.8005514j]\n",
      " [3.7432299+1.6300111j 1.0335522+1.2105217j]], shape=(3, 2), dtype=complex64)\n"
     ]
    }
   ],
   "source": [
    "complex_mat = tf.dtypes.complex(real = real_part, imag = imag_part)\n",
    "print(complex_mat)"
   ]
  },
  {
   "cell_type": "markdown",
   "metadata": {
    "colab_type": "text",
    "id": "YYYxvgoR3SrQ"
   },
   "source": [
    "There is a simpler way to create a complex matrix."
   ]
  },
  {
   "cell_type": "code",
   "execution_count": 20,
   "metadata": {
    "colab": {},
    "colab_type": "code",
    "id": "vbEk_kJd3SrU"
   },
   "outputs": [
    {
     "data": {
      "text/plain": [
       "<tf.Tensor: shape=(2, 3), dtype=complex128, numpy=\n",
       "array([[1.+2.j, 2.+3.j, 3.+4.j],\n",
       "       [4.+5.j, 5.+6.j, 6.+7.j]])>"
      ]
     },
     "execution_count": 20,
     "metadata": {},
     "output_type": "execute_result"
    }
   ],
   "source": [
    "complex_mat_2 = tf.constant([1+2j, 2+3j , 3+4j, 4+5j, 5+6j, 6+7j], shape = (2,3))\n",
    "complex_mat_2"
   ]
  },
  {
   "cell_type": "markdown",
   "metadata": {
    "colab_type": "text",
    "id": "7PtRbl-n3Sri"
   },
   "source": [
    "\n",
    "<a id = \"transpose_of_a_matrix\"></a>\n",
    "\n",
    "### Transpose of a matrix"
   ]
  },
  {
   "cell_type": "markdown",
   "metadata": {
    "colab_type": "text",
    "id": "nry7SxJx3Srr"
   },
   "source": [
    "\n",
    "<a id = \"transpose_of_a_real_matrix\"></a>\n",
    "\n",
    "#### Transpose of a real matrix\n",
    "\n",
    "For real matrices `transpose` just means changing the rows into columns and vice versa. There are three functions that achieve this.\n",
    "\n",
    "* `tf.transpose`\n",
    "* `tf.adjoint`\n",
    "* `tf.matrix_transpose`\n",
    "\n",
    "For real matrices, all three functions give identical results."
   ]
  },
  {
   "cell_type": "code",
   "execution_count": 21,
   "metadata": {
    "colab": {},
    "colab_type": "code",
    "id": "cKyB1SOx3Srt"
   },
   "outputs": [
    {
     "data": {
      "text/plain": [
       "<tf.Tensor: shape=(4, 5), dtype=float32, numpy=\n",
       "array([[ 0.,  1.,  2.,  3.,  4.],\n",
       "       [ 5.,  6.,  7.,  8.,  9.],\n",
       "       [10., 11., 12., 13., 14.],\n",
       "       [15., 16., 17., 18., 19.]], dtype=float32)>"
      ]
     },
     "execution_count": 21,
     "metadata": {},
     "output_type": "execute_result"
    }
   ],
   "source": [
    "matrix"
   ]
  },
  {
   "cell_type": "code",
   "execution_count": 22,
   "metadata": {
    "colab": {},
    "colab_type": "code",
    "id": "-J5wIqSV3Sr4"
   },
   "outputs": [
    {
     "data": {
      "text/plain": [
       "<tf.Tensor: shape=(5, 4), dtype=float32, numpy=\n",
       "array([[ 0.,  5., 10., 15.],\n",
       "       [ 1.,  6., 11., 16.],\n",
       "       [ 2.,  7., 12., 17.],\n",
       "       [ 3.,  8., 13., 18.],\n",
       "       [ 4.,  9., 14., 19.]], dtype=float32)>"
      ]
     },
     "execution_count": 22,
     "metadata": {},
     "output_type": "execute_result"
    }
   ],
   "source": [
    "tf.transpose(matrix)"
   ]
  },
  {
   "cell_type": "code",
   "execution_count": 23,
   "metadata": {
    "colab": {},
    "colab_type": "code",
    "id": "hJrqUwBr3SsF"
   },
   "outputs": [
    {
     "data": {
      "text/plain": [
       "<tf.Tensor: shape=(5, 4), dtype=float32, numpy=\n",
       "array([[ 0.,  5., 10., 15.],\n",
       "       [ 1.,  6., 11., 16.],\n",
       "       [ 2.,  7., 12., 17.],\n",
       "       [ 3.,  8., 13., 18.],\n",
       "       [ 4.,  9., 14., 19.]], dtype=float32)>"
      ]
     },
     "execution_count": 23,
     "metadata": {},
     "output_type": "execute_result"
    }
   ],
   "source": [
    "tf.linalg.adjoint(matrix)"
   ]
  },
  {
   "cell_type": "code",
   "execution_count": 24,
   "metadata": {
    "colab": {},
    "colab_type": "code",
    "id": "7Ce9jsqD3SsQ"
   },
   "outputs": [
    {
     "data": {
      "text/plain": [
       "<tf.Tensor: shape=(5, 4), dtype=float32, numpy=\n",
       "array([[ 0.,  5., 10., 15.],\n",
       "       [ 1.,  6., 11., 16.],\n",
       "       [ 2.,  7., 12., 17.],\n",
       "       [ 3.,  8., 13., 18.],\n",
       "       [ 4.,  9., 14., 19.]], dtype=float32)>"
      ]
     },
     "execution_count": 24,
     "metadata": {},
     "output_type": "execute_result"
    }
   ],
   "source": [
    "tf.linalg.matrix_transpose(matrix)"
   ]
  },
  {
   "cell_type": "markdown",
   "metadata": {
    "colab_type": "text",
    "id": "JwXtwknL3Ssb"
   },
   "source": [
    "\n",
    "<a id = \"transpose_of_a_complex_matrix\"></a>\n",
    "\n",
    "#### Transpose of a complex matrix\n",
    "\n",
    "Things are little different when we have a complex matrix. For complex matrices, we can take regular transpose or conjugate transpose if we want. Default is regular transpose. To take conjugate transpose, we have to set `conjugate = False` in `tf.transpose` and `tf.linalg.matrix_transpose` or use `tf.linalg.adjoint` function."
   ]
  },
  {
   "cell_type": "code",
   "execution_count": 25,
   "metadata": {
    "colab": {},
    "colab_type": "code",
    "id": "5UaYhMzb3Ssd"
   },
   "outputs": [
    {
     "data": {
      "text/plain": [
       "array([[1.+2.j, 2.+3.j, 3.+4.j],\n",
       "       [4.+5.j, 5.+6.j, 6.+7.j]])"
      ]
     },
     "execution_count": 25,
     "metadata": {},
     "output_type": "execute_result"
    }
   ],
   "source": [
    "complex_mat_2.numpy()"
   ]
  },
  {
   "cell_type": "code",
   "execution_count": 26,
   "metadata": {
    "colab": {},
    "colab_type": "code",
    "id": "KNSkVYnP3Ssp"
   },
   "outputs": [
    {
     "name": "stdout",
     "output_type": "stream",
     "text": [
      "tf.Tensor(\n",
      "[[1.+2.j 4.+5.j]\n",
      " [2.+3.j 5.+6.j]\n",
      " [3.+4.j 6.+7.j]], shape=(3, 2), dtype=complex128)\n"
     ]
    }
   ],
   "source": [
    "transpose_of_complex_mat = tf.transpose(complex_mat_2, conjugate = False) # Regular transpose\n",
    "print(transpose_of_complex_mat)"
   ]
  },
  {
   "cell_type": "code",
   "execution_count": 27,
   "metadata": {
    "colab": {},
    "colab_type": "code",
    "id": "Xy67zNgw3Ss2"
   },
   "outputs": [
    {
     "name": "stdout",
     "output_type": "stream",
     "text": [
      "tf.Tensor(\n",
      "[[1.-2.j 4.-5.j]\n",
      " [2.-3.j 5.-6.j]\n",
      " [3.-4.j 6.-7.j]], shape=(3, 2), dtype=complex128)\n"
     ]
    }
   ],
   "source": [
    "conjugate_transpose_of_complex_mat = tf.transpose(complex_mat_2, conjugate = True) # Conjugate transpose\n",
    "print(conjugate_transpose_of_complex_mat)"
   ]
  },
  {
   "cell_type": "markdown",
   "metadata": {
    "colab_type": "text",
    "id": "wtsGxa-63StD"
   },
   "source": [
    "We can also do conjugate transpose by using function `linalg.adjoint` function."
   ]
  },
  {
   "cell_type": "code",
   "execution_count": 28,
   "metadata": {
    "colab": {},
    "colab_type": "code",
    "id": "jXnX6x5s3StF"
   },
   "outputs": [
    {
     "data": {
      "text/plain": [
       "array([[1.-2.j, 4.-5.j],\n",
       "       [2.-3.j, 5.-6.j],\n",
       "       [3.-4.j, 6.-7.j]])"
      ]
     },
     "execution_count": 28,
     "metadata": {},
     "output_type": "execute_result"
    }
   ],
   "source": [
    "tf.linalg.adjoint(complex_mat_2).numpy()"
   ]
  },
  {
   "cell_type": "markdown",
   "metadata": {
    "colab_type": "text",
    "id": "IKePgJNT3StR"
   },
   "source": [
    "Another way to take transpose of a matrix is to use the function `linalg.matrix_transpose`. In this function, we can set argument `conjugate` to `True` or `False` depending on whether we want regular transpose or conjugate transpose. Default is `conjugate = False`."
   ]
  },
  {
   "cell_type": "code",
   "execution_count": 29,
   "metadata": {
    "colab": {},
    "colab_type": "code",
    "id": "S-_dFxMW3StU"
   },
   "outputs": [
    {
     "data": {
      "text/plain": [
       "<tf.Tensor: shape=(3, 2), dtype=complex128, numpy=\n",
       "array([[1.+2.j, 4.+5.j],\n",
       "       [2.+3.j, 5.+6.j],\n",
       "       [3.+4.j, 6.+7.j]])>"
      ]
     },
     "execution_count": 29,
     "metadata": {},
     "output_type": "execute_result"
    }
   ],
   "source": [
    "tf.linalg.matrix_transpose(complex_mat_2)   # Conjugate = False is the default"
   ]
  },
  {
   "cell_type": "code",
   "execution_count": 30,
   "metadata": {
    "colab": {},
    "colab_type": "code",
    "id": "mNssUYHo3Sth"
   },
   "outputs": [
    {
     "data": {
      "text/plain": [
       "<tf.Tensor: shape=(3, 2), dtype=complex128, numpy=\n",
       "array([[1.-2.j, 4.-5.j],\n",
       "       [2.-3.j, 5.-6.j],\n",
       "       [3.-4.j, 6.-7.j]])>"
      ]
     },
     "execution_count": 30,
     "metadata": {},
     "output_type": "execute_result"
    }
   ],
   "source": [
    "tf.linalg.matrix_transpose(complex_mat_2, conjugate = True)"
   ]
  },
  {
   "cell_type": "markdown",
   "metadata": {
    "colab_type": "text",
    "id": "GYyMrrud3Str"
   },
   "source": [
    "\n",
    "<a id = \"some_common_matrices\"></a>\n",
    "\n",
    "### Some common matrices"
   ]
  },
  {
   "cell_type": "markdown",
   "metadata": {
    "colab_type": "text",
    "id": "Bkk3ZRwy3Stt"
   },
   "source": [
    "\n",
    "<a id = \"identity_matrix\"></a>\n",
    "\n",
    "#### Identity matrix"
   ]
  },
  {
   "cell_type": "code",
   "execution_count": 31,
   "metadata": {
    "colab": {},
    "colab_type": "code",
    "id": "pNrdYHbY3Stv"
   },
   "outputs": [
    {
     "data": {
      "text/plain": [
       "<tf.Tensor: shape=(5, 5), dtype=float32, numpy=\n",
       "array([[1., 0., 0., 0., 0.],\n",
       "       [0., 1., 0., 0., 0.],\n",
       "       [0., 0., 1., 0., 0.],\n",
       "       [0., 0., 0., 1., 0.],\n",
       "       [0., 0., 0., 0., 1.]], dtype=float32)>"
      ]
     },
     "execution_count": 31,
     "metadata": {},
     "output_type": "execute_result"
    }
   ],
   "source": [
    "tf.linalg.eye(5)"
   ]
  },
  {
   "cell_type": "markdown",
   "metadata": {
    "colab_type": "text",
    "id": "t4bUjetI3St9"
   },
   "source": [
    "\n",
    "<a id = \"diagonal_matrix\"></a>\n",
    "\n",
    "#### Diagonal matrix "
   ]
  },
  {
   "cell_type": "code",
   "execution_count": 32,
   "metadata": {
    "colab": {},
    "colab_type": "code",
    "id": "iBGxU3hz3St_"
   },
   "outputs": [
    {
     "data": {
      "text/plain": [
       "<tf.Tensor: shape=(5, 5), dtype=int32, numpy=\n",
       "array([[1, 0, 0, 0, 0],\n",
       "       [0, 2, 0, 0, 0],\n",
       "       [0, 0, 3, 0, 0],\n",
       "       [0, 0, 0, 4, 0],\n",
       "       [0, 0, 0, 0, 5]], dtype=int32)>"
      ]
     },
     "execution_count": 32,
     "metadata": {},
     "output_type": "execute_result"
    }
   ],
   "source": [
    "tf.linalg.diag([1,2,3,4,5])"
   ]
  },
  {
   "cell_type": "markdown",
   "metadata": {
    "colab_type": "text",
    "id": "nD6e0F9LeW9d"
   },
   "source": [
    "To create diagonal matrix, we can also use `tf.linalg.tensor_diag` with main diagonal as input. "
   ]
  },
  {
   "cell_type": "code",
   "execution_count": 33,
   "metadata": {
    "colab": {},
    "colab_type": "code",
    "id": "pwL6Ty1YfHET"
   },
   "outputs": [
    {
     "data": {
      "text/plain": [
       "<tf.Tensor: shape=(5, 5), dtype=float32, numpy=\n",
       "array([[1., 0., 0., 0., 0.],\n",
       "       [0., 2., 0., 0., 0.],\n",
       "       [0., 0., 3., 0., 0.],\n",
       "       [0., 0., 0., 4., 0.],\n",
       "       [0., 0., 0., 0., 5.]], dtype=float32)>"
      ]
     },
     "execution_count": 33,
     "metadata": {},
     "output_type": "execute_result"
    }
   ],
   "source": [
    "tf.linalg.tensor_diag(tf.constant([1,2,3,4,5.]))"
   ]
  },
  {
   "cell_type": "markdown",
   "metadata": {
    "colab_type": "text",
    "id": "PNLMHmpI3SuN"
   },
   "source": [
    "We can also create a matrix whose only nonzero entries are on its super-diagonals or sub-diagonals. "
   ]
  },
  {
   "cell_type": "code",
   "execution_count": 34,
   "metadata": {
    "colab": {},
    "colab_type": "code",
    "id": "Ub1zI-y93SuP"
   },
   "outputs": [
    {
     "data": {
      "text/plain": [
       "<tf.Tensor: shape=(5, 5), dtype=int32, numpy=\n",
       "array([[0, 1, 0, 0, 0],\n",
       "       [0, 0, 2, 0, 0],\n",
       "       [0, 0, 0, 3, 0],\n",
       "       [0, 0, 0, 0, 4],\n",
       "       [0, 0, 0, 0, 0]], dtype=int32)>"
      ]
     },
     "execution_count": 34,
     "metadata": {},
     "output_type": "execute_result"
    }
   ],
   "source": [
    "tf.linalg.diag([1,2,3,4], k = 1)   # Values in super-diagonal"
   ]
  },
  {
   "cell_type": "code",
   "execution_count": 35,
   "metadata": {
    "colab": {},
    "colab_type": "code",
    "id": "gOZswdKd3Sun"
   },
   "outputs": [
    {
     "data": {
      "text/plain": [
       "<tf.Tensor: shape=(5, 5), dtype=int32, numpy=\n",
       "array([[0, 0, 0, 0, 0],\n",
       "       [1, 0, 0, 0, 0],\n",
       "       [0, 2, 0, 0, 0],\n",
       "       [0, 0, 3, 0, 0],\n",
       "       [0, 0, 0, 4, 0]], dtype=int32)>"
      ]
     },
     "execution_count": 35,
     "metadata": {},
     "output_type": "execute_result"
    }
   ],
   "source": [
    "tf.linalg.diag([1,2,3,4], k = -1)  # Values in sub-diagonal"
   ]
  },
  {
   "cell_type": "code",
   "execution_count": 36,
   "metadata": {
    "colab": {},
    "colab_type": "code",
    "id": "gNK1HqDt3Su2"
   },
   "outputs": [
    {
     "data": {
      "text/plain": [
       "<tf.Tensor: shape=(5, 5), dtype=int32, numpy=\n",
       "array([[ 1, -1, -1, -1, -1],\n",
       "       [-1,  2, -1, -1, -1],\n",
       "       [-1, -1,  3, -1, -1],\n",
       "       [-1, -1, -1,  4, -1],\n",
       "       [-1, -1, -1, -1,  5]], dtype=int32)>"
      ]
     },
     "execution_count": 36,
     "metadata": {},
     "output_type": "execute_result"
    }
   ],
   "source": [
    "tf.linalg.diag([1,2,3,4,5], k = 0, padding_value = -1)"
   ]
  },
  {
   "cell_type": "markdown",
   "metadata": {
    "colab_type": "text",
    "id": "62cuZwW6Bdm_"
   },
   "source": [
    "Another way to create a diagonal matrix is by using `tf.linalg.set_diag` function."
   ]
  },
  {
   "cell_type": "code",
   "execution_count": 37,
   "metadata": {
    "colab": {},
    "colab_type": "code",
    "id": "G6zM-BLRBomK"
   },
   "outputs": [
    {
     "data": {
      "text/plain": [
       "<tf.Tensor: shape=(5, 5), dtype=float32, numpy=\n",
       "array([[1., 0., 0., 0., 0.],\n",
       "       [0., 2., 0., 0., 0.],\n",
       "       [0., 0., 3., 0., 0.],\n",
       "       [0., 0., 0., 4., 0.],\n",
       "       [0., 0., 0., 0., 5.]], dtype=float32)>"
      ]
     },
     "execution_count": 37,
     "metadata": {},
     "output_type": "execute_result"
    }
   ],
   "source": [
    "mat = tf.zeros(shape = (5,5))\n",
    "diag = tf.constant([1,2,3,4,5.])\n",
    "tf.linalg.set_diag(input = mat, diagonal = diag, k = 0)"
   ]
  },
  {
   "cell_type": "code",
   "execution_count": 38,
   "metadata": {
    "colab": {},
    "colab_type": "code",
    "id": "NzXA01RoCFBN"
   },
   "outputs": [
    {
     "data": {
      "text/plain": [
       "<tf.Tensor: shape=(5, 5), dtype=float32, numpy=\n",
       "array([[0., 1., 0., 0., 0.],\n",
       "       [0., 0., 2., 0., 0.],\n",
       "       [0., 0., 0., 3., 0.],\n",
       "       [0., 0., 0., 0., 4.],\n",
       "       [0., 0., 0., 0., 0.]], dtype=float32)>"
      ]
     },
     "execution_count": 38,
     "metadata": {},
     "output_type": "execute_result"
    }
   ],
   "source": [
    "tf.linalg.set_diag(mat, tf.constant([1,2,3,4.]), k = 1)  # Set super-diagonal"
   ]
  },
  {
   "cell_type": "code",
   "execution_count": 39,
   "metadata": {
    "colab": {},
    "colab_type": "code",
    "id": "2oyMRiaKCiN6"
   },
   "outputs": [
    {
     "data": {
      "text/plain": [
       "<tf.Tensor: shape=(5, 5), dtype=float32, numpy=\n",
       "array([[1., 0., 0., 0., 0.],\n",
       "       [6., 2., 0., 0., 0.],\n",
       "       [0., 7., 3., 0., 0.],\n",
       "       [0., 0., 8., 4., 0.],\n",
       "       [0., 0., 0., 9., 5.]], dtype=float32)>"
      ]
     },
     "execution_count": 39,
     "metadata": {},
     "output_type": "execute_result"
    }
   ],
   "source": [
    "diags = tf.constant([[1,2,3,4,5],\n",
    "                     [6,7,8,9,0.]])\n",
    "tf.linalg.set_diag(mat, diags, k = (-1,0))"
   ]
  },
  {
   "cell_type": "markdown",
   "metadata": {
    "colab_type": "text",
    "id": "k3Qb4sqOFL7e"
   },
   "source": [
    "#### Note on alignment strategy\n",
    "\n",
    "Functions like `tf.linalg.diag` and `tf.linalg.set_diag` and several others to be seen later, take an argument called `align` among other things. Though up to this point we have used default parameters of `align`, we believe, a note is warranted at this point. There are four different alignment strategies in tensorflow. Those are:\n",
    "\n",
    "* `LEFT_LEFT`: Superdiagonals are `appended at right` and subdiagonals are `appended at right`.\n",
    "* `LEFT_RIGHT`: Superdiagonals are `appended at right` and subdiagonals are `appended at left`.\n",
    "* `RIGHT_LEFT`: Superdiagonals are `appended at left` and subdiagonals are `appended at right`.\n",
    "* `RIGHT_RIGHT`: Superdiagonals are `appended at left` and subdiagonals are `appended at left`.\n",
    "\n",
    "One way to remember the above rules is that if something is aligned to left, it is appended at right. And in `LEFT_RIGHT`, first word corresponds to superdiagonals and second word corresponds to subdiagonals.\n",
    "\n",
    "#### Why do we need an alignment strategy?\n",
    "\n",
    "Both superdiagonals and subdiagonals have less number of entries than the main diagonal. If we extract (for some reason) the subdiagonals (or superdiagonals) of a matrix along with the main diagonal, the resulting array will have different lengths. These type of arrays are called `ragged array`s. Though `tensorflow` can handle `ragged array`s, the results of linear algebra library are always uniform arrays (i.e., all the arrays have same number of entries). So while extracting subdiagonals (or superdiagonals), we have to append it either at the left or at right to make it of the same length as the main diagonal. This leads to the question of where the arrays should be appended. `Tensorflow` leaves that option to the readers. Depending on where we append the subdiagonals and superdiagonals, there are four alignment strategies as mentioned below.\n",
    "\n",
    "In the next section, we will see a way to create tri-diagonal matrix using `tf.linalg.set_diag`."
   ]
  },
  {
   "cell_type": "markdown",
   "metadata": {
    "colab_type": "text",
    "id": "ZIbQ17c43SvI"
   },
   "source": [
    "\n",
    "<a id = \"tri-diagonal_matrix\"></a>\n",
    "\n",
    "#### Tri-diagonal matrix"
   ]
  },
  {
   "cell_type": "markdown",
   "metadata": {
    "colab_type": "text",
    "id": "hxGAb15P3SvK"
   },
   "source": [
    "Let's create [Gilbert Strang's](http://www-math.mit.edu/~gs/) favorite matrix."
   ]
  },
  {
   "cell_type": "code",
   "execution_count": 40,
   "metadata": {
    "colab": {},
    "colab_type": "code",
    "id": "lj-EZBbW3SvM"
   },
   "outputs": [
    {
     "data": {
      "text/plain": [
       "<tf.Tensor: shape=(5, 5), dtype=int32, numpy=\n",
       "array([[ 2, -1,  0,  0,  0],\n",
       "       [-1,  2, -1,  0,  0],\n",
       "       [ 0, -1,  2, -1,  0],\n",
       "       [ 0,  0, -1,  2, -1],\n",
       "       [ 0,  0,  0, -1,  2]], dtype=int32)>"
      ]
     },
     "execution_count": 40,
     "metadata": {},
     "output_type": "execute_result"
    }
   ],
   "source": [
    "tf.linalg.diag(tf.repeat(2,repeats = 5)) + tf.linalg.diag(tf.repeat(-1, repeats = 4), k = -1) + tf.linalg.diag(tf.repeat(-1, repeats = 4), k = 1)"
   ]
  },
  {
   "cell_type": "markdown",
   "metadata": {
    "colab_type": "text",
    "id": "-e2kl-RhF63C"
   },
   "source": [
    "#### Tri-digonal matrix using `tf.linalg.set_diag`\n",
    "\n",
    "While setting more that one diagonals using `set_diag`, say `k = (-2,3)`, we have to have 6 diagonals (2 sub-diagonals, 1 main diagonal, and 3 super-diagonals). First three rows of the input diagonals will correspond to super-diagonals and have to be appended at the right by zeros (according to alignment strategy of `\"LEFT_RIGHT\"`). Fourth row corresponds to main diagonal. Last two rows correspond to sub-diagonals and have to be appended at the left by zeros (according to alignment strategy of `\"LEFT_RIGHT\"`). We could have chosen any other alignment strategy and modified our input accordingly. Using this rule, now we will create a tri-diagonal matrix."
   ]
  },
  {
   "cell_type": "code",
   "execution_count": 41,
   "metadata": {
    "colab": {},
    "colab_type": "code",
    "id": "MQ3SxbcOGB-d"
   },
   "outputs": [
    {
     "data": {
      "text/plain": [
       "<tf.Tensor: shape=(5, 5), dtype=float32, numpy=\n",
       "array([[ 2., -1.,  0.,  0.,  0.],\n",
       "       [-1.,  2., -1.,  0.,  0.],\n",
       "       [ 0., -1.,  2., -1.,  0.],\n",
       "       [ 0.,  0., -1.,  2., -1.],\n",
       "       [ 0.,  0.,  0., -1.,  2.]], dtype=float32)>"
      ]
     },
     "execution_count": 41,
     "metadata": {},
     "output_type": "execute_result"
    }
   ],
   "source": [
    "diags = tf.constant([[-1,-1,-1,-1, 0],\n",
    "                     [ 2, 2, 2, 2, 2],\n",
    "                     [ 0,-1,-1,-1,-1]], dtype = tf.float32)\n",
    "mat = tf.zeros(shape = (5,5))\n",
    "tf.linalg.set_diag(mat,diags, k = (-1,1), align = \"LEFT_RIGHT\")"
   ]
  },
  {
   "cell_type": "markdown",
   "metadata": {
    "colab_type": "text",
    "id": "br3t6V-u3Svg"
   },
   "source": [
    "There is yet another simpler way to create a tri-diagonal matrix using a linear operator. We will see that technique in a later section."
   ]
  },
  {
   "cell_type": "markdown",
   "metadata": {
    "colab_type": "text",
    "id": "aB9U65TK3Svh"
   },
   "source": [
    "\n",
    "<a id = \"matrix_of_all_zeros_and_ones\"></a>\n",
    "\n",
    "#### Matrix of all zeros and ones\n",
    "\n",
    "Matrices of all 1s or all 0s are not in `linalg` library. But those are available in core `Tensorflow`."
   ]
  },
  {
   "cell_type": "code",
   "execution_count": 42,
   "metadata": {
    "colab": {},
    "colab_type": "code",
    "id": "Nhk_9me83Svj"
   },
   "outputs": [
    {
     "data": {
      "text/plain": [
       "<tf.Tensor: shape=(3, 5), dtype=float32, numpy=\n",
       "array([[0., 0., 0., 0., 0.],\n",
       "       [0., 0., 0., 0., 0.],\n",
       "       [0., 0., 0., 0., 0.]], dtype=float32)>"
      ]
     },
     "execution_count": 42,
     "metadata": {},
     "output_type": "execute_result"
    }
   ],
   "source": [
    "tf.zeros(shape = (3,5), dtype = tf.float32)"
   ]
  },
  {
   "cell_type": "code",
   "execution_count": 43,
   "metadata": {
    "colab": {},
    "colab_type": "code",
    "id": "0EgLeOS_3Svv"
   },
   "outputs": [
    {
     "data": {
      "text/plain": [
       "<tf.Tensor: shape=(5, 4), dtype=int32, numpy=\n",
       "array([[1, 1, 1, 1],\n",
       "       [1, 1, 1, 1],\n",
       "       [1, 1, 1, 1],\n",
       "       [1, 1, 1, 1],\n",
       "       [1, 1, 1, 1]], dtype=int32)>"
      ]
     },
     "execution_count": 43,
     "metadata": {},
     "output_type": "execute_result"
    }
   ],
   "source": [
    "tf.ones(shape = (5,4), dtype = tf.int32)"
   ]
  },
  {
   "cell_type": "markdown",
   "metadata": {
    "colab_type": "text",
    "id": "BRYfsra33Sv7"
   },
   "source": [
    "\n",
    "<a id = \"random_matrices\"></a>\n",
    "\n",
    "#### Random matrices\n",
    "\n",
    "Random matrices are also not part of `linalg` library. Rather, they are part of `tf.random` library. Using `Tensorflow` we can create matrices whose entries come from normal, uniform, poisson, and gamma distributions. "
   ]
  },
  {
   "cell_type": "markdown",
   "metadata": {
    "colab_type": "text",
    "id": "8Ag8U9ul3Sv9"
   },
   "source": [
    "\n",
    "<a id = \"random_uniform_matrix\"></a>\n",
    "\n",
    "##### Random uniform matrix"
   ]
  },
  {
   "cell_type": "code",
   "execution_count": 44,
   "metadata": {
    "colab": {},
    "colab_type": "code",
    "id": "iw8hRUfm3Sv_"
   },
   "outputs": [
    {
     "data": {
      "text/plain": [
       "<tf.Tensor: shape=(5, 5), dtype=float32, numpy=\n",
       "array([[4.8578553 , 0.26324332, 1.7549878 , 4.434555  , 2.3975224 ],\n",
       "       [3.219039  , 0.4039365 , 0.92039883, 2.9136662 , 4.9377174 ],\n",
       "       [4.617196  , 3.6782126 , 4.0351195 , 4.8321657 , 4.206293  ],\n",
       "       [2.3059547 , 4.922245  , 4.186061  , 2.1761923 , 0.88124394],\n",
       "       [2.7422066 , 1.5948689 , 2.6099925 , 4.4901986 , 2.4033623 ]],\n",
       "      dtype=float32)>"
      ]
     },
     "execution_count": 44,
     "metadata": {},
     "output_type": "execute_result"
    }
   ],
   "source": [
    "tf.random.uniform(shape = (5,5), minval = 0, maxval = 5, seed= 32)"
   ]
  },
  {
   "cell_type": "code",
   "execution_count": 45,
   "metadata": {
    "colab": {},
    "colab_type": "code",
    "id": "qoH62A-83SwK"
   },
   "outputs": [
    {
     "data": {
      "text/plain": [
       "<tf.Tensor: shape=(5, 5), dtype=int32, numpy=\n",
       "array([[19, 15, 13, 14, 10],\n",
       "       [16, 18, 10, 15, 10],\n",
       "       [12, 13, 19, 12, 16],\n",
       "       [18, 11, 10, 18, 12],\n",
       "       [17, 18, 14, 19, 10]], dtype=int32)>"
      ]
     },
     "execution_count": 45,
     "metadata": {},
     "output_type": "execute_result"
    }
   ],
   "source": [
    "# Random matrix of integers\n",
    "uniform_int = tf.random.uniform(shape = (5,5), minval= 10, maxval = 20, dtype = tf.int32, seed = 1234)\n",
    "uniform_int"
   ]
  },
  {
   "cell_type": "markdown",
   "metadata": {
    "colab_type": "text",
    "id": "jb6I77hJ3SwW"
   },
   "source": [
    "For further processing we usually require matrix entries to  be floating point numbers. This can be achieved by using `tf.cast`."
   ]
  },
  {
   "cell_type": "code",
   "execution_count": 46,
   "metadata": {
    "colab": {},
    "colab_type": "code",
    "id": "C9e66pbz3Swa"
   },
   "outputs": [
    {
     "data": {
      "text/plain": [
       "<tf.Tensor: shape=(5, 5), dtype=float32, numpy=\n",
       "array([[19., 15., 13., 14., 10.],\n",
       "       [16., 18., 10., 15., 10.],\n",
       "       [12., 13., 19., 12., 16.],\n",
       "       [18., 11., 10., 18., 12.],\n",
       "       [17., 18., 14., 19., 10.]], dtype=float32)>"
      ]
     },
     "execution_count": 46,
     "metadata": {},
     "output_type": "execute_result"
    }
   ],
   "source": [
    "tf.dtypes.cast(uniform_int, dtype = tf.float32)"
   ]
  },
  {
   "cell_type": "markdown",
   "metadata": {
    "colab_type": "text",
    "id": "jEQ-sZBN3Swj"
   },
   "source": [
    "\n",
    "<a id = \"random_normal_matrix\"></a>\n",
    "\n",
    "##### Random normal matrix"
   ]
  },
  {
   "cell_type": "code",
   "execution_count": 47,
   "metadata": {
    "colab": {},
    "colab_type": "code",
    "id": "hOz7ZswI3Swl"
   },
   "outputs": [
    {
     "data": {
      "text/plain": [
       "<tf.Tensor: shape=(5, 5), dtype=float32, numpy=\n",
       "array([[ 1.5266892 , -5.114835  ,  4.4653835 , -1.013567  , -1.1874261 ],\n",
       "       [ 5.503375  , -1.4568713 , -1.3270268 ,  0.2747649 ,  3.1374507 ],\n",
       "       [ 4.211556  ,  4.618066  ,  1.2217634 ,  0.04707384,  1.4131291 ],\n",
       "       [-2.7024255 ,  0.81293994, -3.11763   , -3.043394  ,  5.5663233 ],\n",
       "       [ 1.4549919 ,  3.7368293 ,  1.2184538 ,  2.0713992 ,  0.19450545]],\n",
       "      dtype=float32)>"
      ]
     },
     "execution_count": 47,
     "metadata": {},
     "output_type": "execute_result"
    }
   ],
   "source": [
    "tf.random.normal(shape = (5,5), mean = 1, stddev= 3, seed = 253)"
   ]
  },
  {
   "cell_type": "markdown",
   "metadata": {
    "colab_type": "text",
    "id": "pQA_dMJD3Swz"
   },
   "source": [
    "\n",
    "<a id = \"truncated_random_normal_matrix\"></a>\n",
    "\n",
    "##### Truncated random normal matrix\n",
    "\n",
    "`truncated_normal` function gives values within two standard deviations of mean on both sides of normal curve."
   ]
  },
  {
   "cell_type": "code",
   "execution_count": 48,
   "metadata": {
    "colab": {},
    "colab_type": "code",
    "id": "nk6PAn-d3Sw1"
   },
   "outputs": [
    {
     "data": {
      "text/plain": [
       "<tf.Tensor: shape=(5, 5), dtype=float32, numpy=\n",
       "array([[ 2.3130474 ,  1.917585  ,  1.1134342 , -3.6221776 , -2.242488  ],\n",
       "       [ 2.8108876 , -1.8440692 ,  1.7630143 , -0.4591654 , -0.20763761],\n",
       "       [-0.4769438 ,  2.3582413 , -0.45690525, -0.4208855 , -1.8990422 ],\n",
       "       [-2.2638845 ,  2.9536312 ,  0.9591611 ,  2.670887  ,  1.4793464 ],\n",
       "       [-0.60492915,  3.6320126 ,  3.9752324 , -0.4684417 , -3.2791114 ]],\n",
       "      dtype=float32)>"
      ]
     },
     "execution_count": 48,
     "metadata": {},
     "output_type": "execute_result"
    }
   ],
   "source": [
    "tf.random.truncated_normal(shape = (5,5), mean = 0, stddev= 2, seed = 82) "
   ]
  },
  {
   "cell_type": "markdown",
   "metadata": {
    "colab_type": "text",
    "id": "0hJVS4Ra3SxF"
   },
   "source": [
    "There are ways to create deterministic random numbers using `stateless_normal`, `stateless_uniform`, etc. To know more about random number generation in `Tensorflow`, go to [this link](https://www.tensorflow.org/guide/random_numbers)"
   ]
  },
  {
   "cell_type": "markdown",
   "metadata": {
    "colab_type": "text",
    "id": "CcsvOzIx3SxH"
   },
   "source": [
    "\n",
    "<a id = \"random_poisson_matrix\"></a>\n",
    "\n",
    "##### Random Poisson matrix"
   ]
  },
  {
   "cell_type": "code",
   "execution_count": 49,
   "metadata": {
    "colab": {},
    "colab_type": "code",
    "id": "nPNO5r2x3SxJ"
   },
   "outputs": [
    {
     "data": {
      "text/plain": [
       "<tf.Tensor: shape=(5, 5), dtype=float32, numpy=\n",
       "array([[1., 0., 1., 2., 3.],\n",
       "       [0., 1., 2., 3., 4.],\n",
       "       [2., 0., 2., 2., 2.],\n",
       "       [2., 0., 2., 2., 3.],\n",
       "       [1., 4., 2., 5., 4.]], dtype=float32)>"
      ]
     },
     "execution_count": 49,
     "metadata": {},
     "output_type": "execute_result"
    }
   ],
   "source": [
    "tf.random.poisson(shape = (5,5), lam = 2, seed = 12)"
   ]
  },
  {
   "cell_type": "markdown",
   "metadata": {
    "colab_type": "text",
    "id": "Sr3RiTsz3Sxb"
   },
   "source": [
    "\n",
    "<a id = \"random_gamma_matrix\"></a>\n",
    "\n",
    "##### Random gamma matrix"
   ]
  },
  {
   "cell_type": "code",
   "execution_count": 50,
   "metadata": {
    "colab": {},
    "colab_type": "code",
    "id": "iWH9c7qa3Sxd"
   },
   "outputs": [
    {
     "data": {
      "text/plain": [
       "<tf.Tensor: shape=(5, 5), dtype=float32, numpy=\n",
       "array([[0.78733766, 2.5200539 , 0.9812998 , 5.141082  , 1.9184761 ],\n",
       "       [1.1069427 , 0.32923967, 0.13172682, 5.066955  , 2.8487072 ],\n",
       "       [0.39204285, 0.53647757, 5.3083944 , 1.618826  , 0.41352856],\n",
       "       [1.0327125 , 0.27330002, 0.34577194, 0.22123706, 0.77021873],\n",
       "       [0.38616025, 9.153643  , 1.4737413 , 6.029133  , 0.05517024]],\n",
       "      dtype=float32)>"
      ]
     },
     "execution_count": 50,
     "metadata": {},
     "output_type": "execute_result"
    }
   ],
   "source": [
    "tf.random.gamma(shape = (5,5), alpha = 0.7, beta= 0.3, seed = 232)"
   ]
  },
  {
   "cell_type": "markdown",
   "metadata": {
    "colab_type": "text",
    "id": "7VAYwkri3Sxr"
   },
   "source": [
    "\n",
    "<a id = \"some_special_matrices\"></a>\n",
    "\n",
    "#### Some special matrices\n",
    "\n",
    "Special matrices like `toeplitz`, `circulant`, `Kronecker`, etc can be created using linear operators. We will discuss this in the [linear operator](#special_matrices_using_operators) section."
   ]
  },
  {
   "cell_type": "markdown",
   "metadata": {
    "colab_type": "text",
    "id": "qjfzYZ0z3Sxt"
   },
   "source": [
    "\n",
    "<a id = \"sparse_matrices\"></a>\n",
    "\n",
    "### Sparse matrices\n",
    "\n",
    "Sparse matrices are within `tf.sparse` library. There are several functions specifically designed for sparse matrices. Full list of function in `tf.sparse` library can be found at [this link](https://www.tensorflow.org/api_docs/python/tf/sparse). In this section, we will see how sparse matrices are created. The first argument is set of indices (rows and columns), second argument is the values at those indices. Third argument is the `dense_shape` of the sparse matrix."
   ]
  },
  {
   "cell_type": "code",
   "execution_count": 51,
   "metadata": {
    "colab": {},
    "colab_type": "code",
    "id": "WsVDpt_U3Sxu"
   },
   "outputs": [
    {
     "data": {
      "text/plain": [
       "<tensorflow.python.framework.sparse_tensor.SparseTensor at 0x7fc7506a7280>"
      ]
     },
     "execution_count": 51,
     "metadata": {},
     "output_type": "execute_result"
    }
   ],
   "source": [
    "sparse_mat = tf.sparse.SparseTensor([[0,1],[1,3],[3,2]], [-5, -10, 7], dense_shape= (5,5))\n",
    "sparse_mat"
   ]
  },
  {
   "cell_type": "markdown",
   "metadata": {
    "colab_type": "text",
    "id": "7vM2VEQy3Sx4"
   },
   "source": [
    "To see the actual matrix, we have to convert the sparse matrix to a dense matrix. This is achieved using `to_dense` function."
   ]
  },
  {
   "cell_type": "code",
   "execution_count": 52,
   "metadata": {
    "colab": {},
    "colab_type": "code",
    "id": "l4xLjv2D3Sx5"
   },
   "outputs": [
    {
     "data": {
      "text/plain": [
       "<tf.Tensor: shape=(5, 5), dtype=int32, numpy=\n",
       "array([[  0,  -5,   0,   0,   0],\n",
       "       [  0,   0,   0, -10,   0],\n",
       "       [  0,   0,   0,   0,   0],\n",
       "       [  0,   0,   7,   0,   0],\n",
       "       [  0,   0,   0,   0,   0]], dtype=int32)>"
      ]
     },
     "execution_count": 52,
     "metadata": {},
     "output_type": "execute_result"
    }
   ],
   "source": [
    "tf.sparse.to_dense(sparse_mat)"
   ]
  },
  {
   "cell_type": "markdown",
   "metadata": {
    "colab_type": "text",
    "id": "tRGK9vsh3SyI"
   },
   "source": [
    "It should be noted that special algorithms exist to deal with sparse matrices. Those algorithms don't require the sparse matrix to be converted into its dense equivalent. By converting a sparse matrix into a dense one, all its special properties are lost. Therefore, sparse matrices should not be converted into dense ones."
   ]
  },
  {
   "cell_type": "markdown",
   "metadata": {
    "colab_type": "text",
    "id": "EZQfniV63SyT"
   },
   "source": [
    "\n",
    "<a id = \"matrix_multiplication\"></a>\n",
    "\n",
    "### Matrix multiplication\n",
    "\n",
    "To multiply two vectors, or two matrices, or a matrix with a vector in a linear algebra sense, we have to use `linalg.matmul` function. Using `*` operator in python does element wise multiplication with broadcasting wherever possible. So to multiply two matrices, we have to call `linalg.matmul` function. Inputs to `linalg.matmul` function are matrices. Therefore, while multiplying two arrays, we have to first convert them into vectors and then multiply. Also note that `linalg.matmul` is same as `tf.matmul`. Both are aliases."
   ]
  },
  {
   "cell_type": "markdown",
   "metadata": {
    "colab_type": "text",
    "id": "f-4JiZYd3SyV"
   },
   "source": [
    "\n",
    "<a id = \"multiplying_two_column_vectors\"></a>\n",
    "\n",
    "#### Multiplying two column vectors\n",
    "\n",
    "Vectors in `tensorflow` have only 1 shape parameter, where as a column vector (a matrix with one column) has two shape parameters. For example, a vector $[1,2,3]$ has shape $(3,)$, but the column vector $[1,2,3]^T$ has shape $(3,1)$."
   ]
  },
  {
   "cell_type": "markdown",
   "metadata": {
    "colab_type": "text",
    "id": "iunNcSOT3SyX"
   },
   "source": [
    "\n",
    "<a id = \"inner_product\"></a>\n",
    "\n",
    "##### Inner product"
   ]
  },
  {
   "cell_type": "code",
   "execution_count": 53,
   "metadata": {
    "colab": {},
    "colab_type": "code",
    "id": "kYp_xKtj3SyZ"
   },
   "outputs": [
    {
     "data": {
      "text/plain": [
       "array([[20.]], dtype=float32)"
      ]
     },
     "execution_count": 53,
     "metadata": {},
     "output_type": "execute_result"
    }
   ],
   "source": [
    "vector_1 = tf.constant([1., 2., 3.], shape = (3,1))\n",
    "vector_2 = tf.constant([2., 3., 4.], shape = (3,1))\n",
    "result = tf.matmul(a = vector_1, b = vector_2, transpose_a=True) # Inner product\n",
    "result.numpy()"
   ]
  },
  {
   "cell_type": "markdown",
   "metadata": {
    "colab_type": "text",
    "id": "7NBFVonS3Syh"
   },
   "source": [
    "\n",
    "<a id = \"outer_product\"></a>\n",
    "\n",
    "##### Outer product "
   ]
  },
  {
   "cell_type": "code",
   "execution_count": 54,
   "metadata": {
    "colab": {},
    "colab_type": "code",
    "id": "f0OW6vwD3Syj"
   },
   "outputs": [
    {
     "data": {
      "text/plain": [
       "<tf.Tensor: shape=(3, 3), dtype=float32, numpy=\n",
       "array([[ 2.,  3.,  4.],\n",
       "       [ 4.,  6.,  8.],\n",
       "       [ 6.,  9., 12.]], dtype=float32)>"
      ]
     },
     "execution_count": 54,
     "metadata": {},
     "output_type": "execute_result"
    }
   ],
   "source": [
    "tf.matmul(a = vector_1, b = vector_2, transpose_b = True) # Outer product"
   ]
  },
  {
   "cell_type": "markdown",
   "metadata": {
    "colab_type": "text",
    "id": "a64Dat9D3Syr"
   },
   "source": [
    "\n",
    "<a id = \"multiplying_a_matrix_with_a_vector\"></a>\n",
    "\n",
    "#### Multiplying a matrix with a vector\n",
    "\n",
    "There are two ways in which we can achieve this. We can convert the vector into a column vector (matrix with 1 column) and then apply `tf.matmul`, or we can use the inbuilt function `tf.linalg.matvec` to multiply a matrix with a vector."
   ]
  },
  {
   "cell_type": "code",
   "execution_count": 55,
   "metadata": {
    "colab": {},
    "colab_type": "code",
    "id": "9m1pgDGS3Syt"
   },
   "outputs": [
    {
     "data": {
      "text/plain": [
       "array([[1., 2., 3.],\n",
       "       [4., 5., 6.]], dtype=float32)"
      ]
     },
     "execution_count": 55,
     "metadata": {},
     "output_type": "execute_result"
    }
   ],
   "source": [
    "mat_1 = tf.constant([1,2,3,4,5,6],shape = (2,3), dtype = tf.float32)\n",
    "mat_1.numpy()"
   ]
  },
  {
   "cell_type": "code",
   "execution_count": 56,
   "metadata": {
    "colab": {},
    "colab_type": "code",
    "id": "jNK9CZl03Sy2"
   },
   "outputs": [
    {
     "data": {
      "text/plain": [
       "array([[14.],\n",
       "       [32.]], dtype=float32)"
      ]
     },
     "execution_count": 56,
     "metadata": {},
     "output_type": "execute_result"
    }
   ],
   "source": [
    "tf.matmul(a = mat_1, b = vector_1).numpy()"
   ]
  },
  {
   "cell_type": "code",
   "execution_count": 57,
   "metadata": {
    "colab": {},
    "colab_type": "code",
    "id": "6k0ce4AHkiLz"
   },
   "outputs": [
    {
     "data": {
      "text/plain": [
       "<tf.Tensor: shape=(2,), dtype=float32, numpy=array([14., 32.], dtype=float32)>"
      ]
     },
     "execution_count": 57,
     "metadata": {},
     "output_type": "execute_result"
    }
   ],
   "source": [
    "tf.linalg.matvec(mat_1, tf.constant([1,2,3.]))    # Note the shape of input vector and result."
   ]
  },
  {
   "cell_type": "markdown",
   "metadata": {
    "colab_type": "text",
    "id": "cV94fUWy3SzI"
   },
   "source": [
    "\n",
    "<a id = \"multiplying_two_matrices\"></a>\n",
    "\n",
    "#### Multiplying two matrices"
   ]
  },
  {
   "cell_type": "code",
   "execution_count": 58,
   "metadata": {
    "colab": {},
    "colab_type": "code",
    "id": "lDACbzgq3SzL"
   },
   "outputs": [
    {
     "data": {
      "text/plain": [
       "array([[0., 0., 0., 0., 0.],\n",
       "       [0., 0., 0., 0., 0.],\n",
       "       [0., 0., 0., 0., 0.],\n",
       "       [0., 0., 0., 0., 0.],\n",
       "       [0., 0., 0., 0., 0.]], dtype=float32)"
      ]
     },
     "execution_count": 58,
     "metadata": {},
     "output_type": "execute_result"
    }
   ],
   "source": [
    "tf.linalg.matmul(a = mat, b = mat, transpose_a=True).numpy() # Without `transpose_a` argument, result will be an error."
   ]
  },
  {
   "cell_type": "code",
   "execution_count": 59,
   "metadata": {
    "colab": {},
    "colab_type": "code",
    "id": "g4esRKyh3SzY"
   },
   "outputs": [
    {
     "data": {
      "text/plain": [
       "array([[0., 0., 0., 0., 0.],\n",
       "       [0., 0., 0., 0., 0.],\n",
       "       [0., 0., 0., 0., 0.],\n",
       "       [0., 0., 0., 0., 0.],\n",
       "       [0., 0., 0., 0., 0.]], dtype=float32)"
      ]
     },
     "execution_count": 59,
     "metadata": {},
     "output_type": "execute_result"
    }
   ],
   "source": [
    "tf.linalg.matmul(a = mat, b = mat, transpose_b=True).numpy()"
   ]
  },
  {
   "cell_type": "markdown",
   "metadata": {
    "colab_type": "text",
    "id": "kwFagwvJrc5k"
   },
   "source": [
    "\n",
    "<a id = \"multiplying_two_tri-diagonal_matrices\"></a>\n",
    "\n",
    "#### Multiplying two tri-diagonal matrices\n",
    "\n",
    "If matrices have sparse structure, usual matrix multiplication is not an efficient method for those type of matrices. Special algorithms are there that exploit the sparsity of the matrices.\n",
    "\n",
    "One such sparse matrix is tri-diagonal matrix. It has nonzero entries only on its super-diagonal, main diagonal, and sub-diagonal. To multiply a tri-diagonal matrix with another matrix, we can use `tf.linalg.tridiagonal_matmul` function. Its first argument is the diagonals of tri-diagonal matrix and second argument is the matrix with which the tri-diagonal matrix needs to be multiplied."
   ]
  },
  {
   "cell_type": "code",
   "execution_count": 60,
   "metadata": {
    "colab": {},
    "colab_type": "code",
    "id": "Ou0RDPOYuHKV"
   },
   "outputs": [
    {
     "data": {
      "text/plain": [
       "<tf.Tensor: shape=(5, 3), dtype=float32, numpy=\n",
       "array([[ 0.,  3.,  3.],\n",
       "       [-1., -5., -3.],\n",
       "       [-1.,  1.,  0.],\n",
       "       [ 8.,  6.,  8.],\n",
       "       [-3.,  2., -1.]], dtype=float32)>"
      ]
     },
     "execution_count": 60,
     "metadata": {},
     "output_type": "execute_result"
    }
   ],
   "source": [
    "diagonals = tf.constant([[-1,-1,-1,-1,0],\n",
    "                         [ 2, 2, 2, 2, 2],\n",
    "                         [ 0,-1,-1,-1,-1.]])\n",
    "rhs = tf.constant([[1,2,3],\n",
    "                   [2,1,3],\n",
    "                   [4,5,6],\n",
    "                   [7,8,9],\n",
    "                   [2,5,4.]])\n",
    "tf.linalg.tridiagonal_matmul(diagonals, rhs) "
   ]
  },
  {
   "cell_type": "markdown",
   "metadata": {
    "colab_type": "text",
    "id": "C2mgqNdNwDfu"
   },
   "source": [
    "We can verify the result by dense matrix multiplication. However, note that this is only for verification. For large matrix multiplications involving tri-diagonal matrix, dense multiplication will be considerably slower."
   ]
  },
  {
   "cell_type": "code",
   "execution_count": 61,
   "metadata": {
    "colab": {},
    "colab_type": "code",
    "id": "Xn6pzQ_Xwedq"
   },
   "outputs": [
    {
     "data": {
      "text/plain": [
       "<tf.Tensor: shape=(5, 3), dtype=float32, numpy=\n",
       "array([[ 0.,  3.,  3.],\n",
       "       [-1., -5., -3.],\n",
       "       [-1.,  1.,  0.],\n",
       "       [ 8.,  6.,  8.],\n",
       "       [-3.,  2., -1.]], dtype=float32)>"
      ]
     },
     "execution_count": 61,
     "metadata": {},
     "output_type": "execute_result"
    }
   ],
   "source": [
    "tridiag_mat = tf.linalg.set_diag(tf.zeros(shape = (5,5)), diagonals, k = (-1,1), align = \"LEFT_RIGHT\")\n",
    "tf.matmul(tridiag_mat, rhs)"
   ]
  },
  {
   "cell_type": "markdown",
   "metadata": {
    "colab_type": "text",
    "id": "ID2nbb-92_k4"
   },
   "source": [
    "#### How to multiply two tri-diagonal matrices?\n",
    "\n",
    "In this case, we have to convert the right tri-diagonal matrix into a full matrix and then multiply it with the left one using only the diagonals of left tri-diagonal matrix. For example, we will multiply the previous tri-diagonal matrix with itself."
   ]
  },
  {
   "cell_type": "code",
   "execution_count": 62,
   "metadata": {
    "colab": {},
    "colab_type": "code",
    "id": "TWXycLAJ3d8t"
   },
   "outputs": [
    {
     "data": {
      "text/plain": [
       "<tf.Tensor: shape=(5, 5), dtype=float32, numpy=\n",
       "array([[ 5., -4.,  1.,  0.,  0.],\n",
       "       [-4.,  6., -4.,  1.,  0.],\n",
       "       [ 1., -4.,  6., -4.,  1.],\n",
       "       [ 0.,  1., -4.,  6., -4.],\n",
       "       [ 0.,  0.,  1., -4.,  5.]], dtype=float32)>"
      ]
     },
     "execution_count": 62,
     "metadata": {},
     "output_type": "execute_result"
    }
   ],
   "source": [
    "tf.linalg.tridiagonal_matmul(diagonals, rhs = tridiag_mat)"
   ]
  },
  {
   "cell_type": "code",
   "execution_count": 63,
   "metadata": {
    "colab": {},
    "colab_type": "code",
    "id": "8zyoP7JL4VPL"
   },
   "outputs": [
    {
     "data": {
      "text/plain": [
       "<tf.Tensor: shape=(5, 5), dtype=float32, numpy=\n",
       "array([[ 5., -4.,  1.,  0.,  0.],\n",
       "       [-4.,  6., -4.,  1.,  0.],\n",
       "       [ 1., -4.,  6., -4.,  1.],\n",
       "       [ 0.,  1., -4.,  6., -4.],\n",
       "       [ 0.,  0.,  1., -4.,  5.]], dtype=float32)>"
      ]
     },
     "execution_count": 63,
     "metadata": {},
     "output_type": "execute_result"
    }
   ],
   "source": [
    "tf.matmul(tridiag_mat, tridiag_mat)"
   ]
  },
  {
   "cell_type": "markdown",
   "metadata": {
    "colab_type": "text",
    "id": "EefCaxMj3Szw"
   },
   "source": [
    "\n",
    "<a id = \"some_common_operations_on_matrices\"></a>\n",
    "\n",
    "### Some common operations on matrices"
   ]
  },
  {
   "cell_type": "markdown",
   "metadata": {
    "colab_type": "text",
    "id": "BAUs687B3Szx"
   },
   "source": [
    "\n",
    "<a id = \"trace\"></a>\n",
    "\n",
    "#### Trace\n",
    "\n",
    "Computes the trace of a tensor. For non-square rank 2 tensors, trace of the main diagonal is computed."
   ]
  },
  {
   "cell_type": "code",
   "execution_count": 64,
   "metadata": {
    "colab": {},
    "colab_type": "code",
    "id": "iX_Oz918gq6t"
   },
   "outputs": [
    {
     "data": {
      "text/plain": [
       "3.0"
      ]
     },
     "execution_count": 64,
     "metadata": {},
     "output_type": "execute_result"
    }
   ],
   "source": [
    "mat = tf.constant([[2,4,6],\n",
    "                   [5,1,9.]])\n",
    "tf.linalg.trace(mat).numpy()\n",
    "              "
   ]
  },
  {
   "cell_type": "markdown",
   "metadata": {
    "colab_type": "text",
    "id": "Aii949Fu3Szz"
   },
   "source": [
    "\n",
    "<a id = \"determinant\"></a>\n",
    "\n",
    "#### Determinant\n",
    "\n",
    "Computes the determinant of the matrix."
   ]
  },
  {
   "cell_type": "code",
   "execution_count": 65,
   "metadata": {
    "colab": {},
    "colab_type": "code",
    "id": "cljR2JB3NVTS"
   },
   "outputs": [
    {
     "data": {
      "text/plain": [
       "<tf.Tensor: shape=(), dtype=float32, numpy=-48.0>"
      ]
     },
     "execution_count": 65,
     "metadata": {},
     "output_type": "execute_result"
    }
   ],
   "source": [
    "mat = -2*tf.linalg.diag([1,2,3.])\n",
    "tf.linalg.det(mat)"
   ]
  },
  {
   "cell_type": "markdown",
   "metadata": {
    "colab_type": "text",
    "id": "l5U1Od033Sz0"
   },
   "source": [
    "\n",
    "<a id = \"rank\"></a>\n",
    "\n",
    "#### Rank\n",
    "\n",
    "Computes the rank of a matrix."
   ]
  },
  {
   "cell_type": "code",
   "execution_count": 66,
   "metadata": {
    "colab": {},
    "colab_type": "code",
    "id": "Ce9Rs0SbiCv7"
   },
   "outputs": [
    {
     "name": "stdout",
     "output_type": "stream",
     "text": [
      "Rank of A =  2\n"
     ]
    }
   ],
   "source": [
    "A = tf.constant([[1,4,5],\n",
    "                 [3,2,5],\n",
    "                 [2,1,3.]])\n",
    "rank = tf.linalg.matrix_rank(A)\n",
    "print(\"Rank of A = \", rank.numpy())"
   ]
  },
  {
   "cell_type": "markdown",
   "metadata": {
    "colab_type": "text",
    "id": "uRiQQsus3Sz1"
   },
   "source": [
    "\n",
    "<a id = \"matrix_inverse\"></a>\n",
    "\n",
    "#### Matrix inverse\n",
    "\n",
    "Computes the matrix inverse if it exists. It uses $LU$ decomposition to calculate inverse. What happens if inverse doesn't exist? Here is the answer taken directly from `tensorflow` documentation:\n",
    "\n",
    "> [...] If a matrix is not invertible there is no guarantee what the op does. It may detect the condition and raise an exception or it may simply return a garbage result. [...]\n",
    "\n",
    "Having read the documentation, we will apply the function to an invertible matrix."
   ]
  },
  {
   "cell_type": "code",
   "execution_count": 67,
   "metadata": {
    "colab": {},
    "colab_type": "code",
    "id": "jwxw99gEjqXA"
   },
   "outputs": [
    {
     "name": "stdout",
     "output_type": "stream",
     "text": [
      "tf.Tensor(\n",
      "[[ 1.5999998e+00 -3.9999992e-01 -6.0000008e-01]\n",
      " [-1.9999999e+00  9.9999994e-01  7.9472862e-08]\n",
      " [ 5.9999996e-01 -3.9999998e-01  3.9999998e-01]], shape=(3, 3), dtype=float32)\n"
     ]
    }
   ],
   "source": [
    "A = tf.constant([[2, 2, 3],\n",
    "                 [4,5,6],\n",
    "                 [1,2,4.]])\n",
    "A_inv = tf.linalg.inv(A)\n",
    "print(A_inv)"
   ]
  },
  {
   "cell_type": "code",
   "execution_count": 68,
   "metadata": {
    "colab": {},
    "colab_type": "code",
    "id": "_sc2g38BriD-"
   },
   "outputs": [
    {
     "data": {
      "text/plain": [
       "<tf.Tensor: shape=(3, 3), dtype=float32, numpy=\n",
       "array([[ 9.9999970e-01,  1.1920929e-07, -1.1920929e-07],\n",
       "       [-5.9604645e-07,  1.0000002e+00,  0.0000000e+00],\n",
       "       [-2.3841858e-07,  0.0000000e+00,  1.0000000e+00]], dtype=float32)>"
      ]
     },
     "execution_count": 68,
     "metadata": {},
     "output_type": "execute_result"
    }
   ],
   "source": [
    "tf.matmul(A,A_inv)"
   ]
  },
  {
   "cell_type": "markdown",
   "metadata": {
    "colab_type": "text",
    "id": "J7zApQMWc8P7"
   },
   "source": [
    "If $LU$ decomposition result is already available from some prior computation, it can be used to compute the inverse using command `tf.linalg.lu_matrix_inverse`."
   ]
  },
  {
   "cell_type": "code",
   "execution_count": 69,
   "metadata": {
    "colab": {},
    "colab_type": "code",
    "id": "uJDZFzfRdQI7"
   },
   "outputs": [
    {
     "data": {
      "text/plain": [
       "<tf.Tensor: shape=(3, 3), dtype=float32, numpy=\n",
       "array([[ 1.5999998e+00, -3.9999992e-01, -6.0000008e-01],\n",
       "       [-1.9999999e+00,  9.9999994e-01,  7.9472862e-08],\n",
       "       [ 5.9999996e-01, -3.9999998e-01,  3.9999998e-01]], dtype=float32)>"
      ]
     },
     "execution_count": 69,
     "metadata": {},
     "output_type": "execute_result"
    }
   ],
   "source": [
    "lu, p = tf.linalg.lu(A)\n",
    "A_inv_by_lu = tf.linalg.lu_matrix_inverse(lu,p)\n",
    "A_inv_by_lu"
   ]
  },
  {
   "cell_type": "markdown",
   "metadata": {
    "colab_type": "text",
    "id": "FztMmCPRPckH"
   },
   "source": [
    "\n",
    "<a id = \"extract_diagonals_of_a_matrix\"></a>\n",
    "\n",
    "#### Extract diagonals of a matrix\n",
    "\n",
    "Diagonals of a matrix can be extracted using `tf.linalg.diag_part` function. Diagonal entries are obtained by setting `k=0` which is the default. By setting `k` to any other value, either sub-diagonal or super-diagonal can be obtained.If two values are given to `k`, the values correspond respectively to the lower limit and upper limit of the diagonal. And the result contains all diagonals within those limits. The result is not a  matrix. It is an array of diagonals, appended if required. Sub-diagonals are appended at the right and super diagonals are appended at the left.\n",
    "\n",
    "Another function `tf.linalg.tensor_diag_part` can be used to extract the main diagonal of the matrix. But it can extract only the main diagonal."
   ]
  },
  {
   "cell_type": "code",
   "execution_count": 70,
   "metadata": {
    "colab": {},
    "colab_type": "code",
    "id": "kQrCE5a3QO0y"
   },
   "outputs": [
    {
     "data": {
      "text/plain": [
       "<tf.Tensor: shape=(5, 5), dtype=int32, numpy=\n",
       "array([[16, 18, 14,  6,  8],\n",
       "       [17,  4,  1, 13, 11],\n",
       "       [ 1,  6,  2,  9, 15],\n",
       "       [ 9,  8, 15, 14,  5],\n",
       "       [15, 18,  3, 10, 11]], dtype=int32)>"
      ]
     },
     "execution_count": 70,
     "metadata": {},
     "output_type": "execute_result"
    }
   ],
   "source": [
    "mat = tf.random.uniform(shape = (5,5), minval = 1, maxval = 20, dtype = tf.int32)\n",
    "mat"
   ]
  },
  {
   "cell_type": "code",
   "execution_count": 71,
   "metadata": {
    "colab": {},
    "colab_type": "code",
    "id": "ZxE6sKj7Qlut"
   },
   "outputs": [
    {
     "data": {
      "text/plain": [
       "array([16,  4,  2, 14, 11], dtype=int32)"
      ]
     },
     "execution_count": 71,
     "metadata": {},
     "output_type": "execute_result"
    }
   ],
   "source": [
    "tf.linalg.diag_part(mat).numpy()"
   ]
  },
  {
   "cell_type": "code",
   "execution_count": 72,
   "metadata": {
    "colab": {},
    "colab_type": "code",
    "id": "tYYVqwDbisyh"
   },
   "outputs": [
    {
     "data": {
      "text/plain": [
       "array([16,  4,  2, 14, 11], dtype=int32)"
      ]
     },
     "execution_count": 72,
     "metadata": {},
     "output_type": "execute_result"
    }
   ],
   "source": [
    "tf.linalg.tensor_diag_part(mat).numpy()"
   ]
  },
  {
   "cell_type": "code",
   "execution_count": 73,
   "metadata": {
    "colab": {},
    "colab_type": "code",
    "id": "4I7sCpxSQtRR"
   },
   "outputs": [
    {
     "data": {
      "text/plain": [
       "array([[16,  4,  2, 14, 11],\n",
       "       [17,  6, 15, 10,  0]], dtype=int32)"
      ]
     },
     "execution_count": 73,
     "metadata": {},
     "output_type": "execute_result"
    }
   ],
   "source": [
    "tf.linalg.diag_part(mat, k = (-1,0)).numpy()"
   ]
  },
  {
   "cell_type": "code",
   "execution_count": 74,
   "metadata": {
    "colab": {},
    "colab_type": "code",
    "id": "LpD8k_SrSARD"
   },
   "outputs": [
    {
     "data": {
      "text/plain": [
       "<tf.Tensor: shape=(4, 5), dtype=int32, numpy=\n",
       "array([[ 0, 18,  1,  9,  5],\n",
       "       [16,  4,  2, 14, 11],\n",
       "       [17,  6, 15, 10,  0],\n",
       "       [ 1,  8,  3,  0,  0]], dtype=int32)>"
      ]
     },
     "execution_count": 74,
     "metadata": {},
     "output_type": "execute_result"
    }
   ],
   "source": [
    "tf.linalg.diag_part(mat, k = [-2,1])  # 2 subdiagonals, main diagonal, and 1 super diagonal"
   ]
  },
  {
   "cell_type": "markdown",
   "metadata": {
    "colab_type": "text",
    "id": "ciHdwcrGzn6u"
   },
   "source": [
    "\n",
    "<a id = \"extract_band_part_of_a_matrix\"></a>\n",
    "\n",
    "#### Extract band part of a matrix\n",
    "\n",
    "A band matrix is one that has nonzero values along its diagonal and a few sub-diagonals and super-diagonals. All other entries are zero. It is a sparse matrix. All of its nonzero entries are concentrated in a band along the diagonal. For example, tri-diagonal matrix is a banded matrix. It has lower bandwidth of 1 and upper bandwidth of 1. It is possible for a matrix to have different upper and lower bandwidths. It is still called a banded matrix.\n",
    "\n",
    "Banded matrices are useful because computations are significantly faster using these matrices as compared to dense matrices of same shape. If for some application, we want the band part of a matrix, we can use `linalg.band_part` function to extract it. This function takes three arguments (`input`, `num_lower`, `num_upper`). First argument is the tensor whose band part we want to extract. Second argument is the number of sub-diagonals to keep. If set to 0, no sub-diagonal is kept. `num_lower = -1` keeps all the sub-diagonals. Similarly for `num_upper`."
   ]
  },
  {
   "cell_type": "code",
   "execution_count": 75,
   "metadata": {
    "colab": {},
    "colab_type": "code",
    "id": "oMmI6CHe38rs"
   },
   "outputs": [
    {
     "data": {
      "text/plain": [
       "<tf.Tensor: shape=(5, 5), dtype=float32, numpy=\n",
       "array([[ 0.,  1.,  2.,  3.,  4.],\n",
       "       [ 5.,  6.,  7.,  8.,  9.],\n",
       "       [10., 11., 12., 13., 14.],\n",
       "       [15., 16., 17., 18., 19.],\n",
       "       [20., 21., 22., 23., 24.]], dtype=float32)>"
      ]
     },
     "execution_count": 75,
     "metadata": {},
     "output_type": "execute_result"
    }
   ],
   "source": [
    "matrix = tf.constant(tf.range(25, dtype=tf.float32), shape=(5,5))\n",
    "matrix"
   ]
  },
  {
   "cell_type": "code",
   "execution_count": 76,
   "metadata": {
    "colab": {},
    "colab_type": "code",
    "id": "TtaoAIl45F2G"
   },
   "outputs": [
    {
     "data": {
      "text/plain": [
       "<tf.Tensor: shape=(5, 5), dtype=float32, numpy=\n",
       "array([[ 0.,  1.,  0.,  0.,  0.],\n",
       "       [ 5.,  6.,  7.,  0.,  0.],\n",
       "       [10., 11., 12., 13.,  0.],\n",
       "       [ 0., 16., 17., 18., 19.],\n",
       "       [ 0.,  0., 22., 23., 24.]], dtype=float32)>"
      ]
     },
     "execution_count": 76,
     "metadata": {},
     "output_type": "execute_result"
    }
   ],
   "source": [
    "tf.linalg.band_part(matrix, num_lower = 2, num_upper = 1)"
   ]
  },
  {
   "cell_type": "code",
   "execution_count": 77,
   "metadata": {
    "colab": {},
    "colab_type": "code",
    "id": "oySyQ9Gg5bXi"
   },
   "outputs": [
    {
     "data": {
      "text/plain": [
       "<tf.Tensor: shape=(5, 5), dtype=float32, numpy=\n",
       "array([[ 0.,  0.,  0.,  0.,  0.],\n",
       "       [ 5.,  6.,  0.,  0.,  0.],\n",
       "       [10., 11., 12.,  0.,  0.],\n",
       "       [15., 16., 17., 18.,  0.],\n",
       "       [20., 21., 22., 23., 24.]], dtype=float32)>"
      ]
     },
     "execution_count": 77,
     "metadata": {},
     "output_type": "execute_result"
    }
   ],
   "source": [
    "tf.linalg.band_part(matrix, num_lower = -1, num_upper = 0)  # Lower triangular part"
   ]
  },
  {
   "cell_type": "markdown",
   "metadata": {
    "colab_type": "text",
    "id": "yHo-TyUF3Sz3"
   },
   "source": [
    "\n",
    "<a id = \"matrix_factorizations\"></a>\n",
    "\n",
    "## Matrix factorizations\n",
    "\n",
    "Some of the most common and widely used matrix factorizations are available in `Tensorflow`. \n",
    "\n"
   ]
  },
  {
   "cell_type": "markdown",
   "metadata": {
    "colab_type": "text",
    "id": "PogcRAuD3Sz4"
   },
   "source": [
    "\n",
    "<a id = \"lu\"></a>\n",
    "\n",
    "### LU \n",
    "\n",
    "Matrix $A$ is factorized into a unit lower triangular matrix $L$ and an upper triangular matrix $U$, such that $$A=LU$$\n",
    "\n",
    "To reduce round-off errors, partial pivoting is used. In partial pivoting, the following factorization is done.\n",
    "$$PA = LU$$\n",
    "Where, $P$ is called the permutation matrix."
   ]
  },
  {
   "cell_type": "code",
   "execution_count": 78,
   "metadata": {
    "colab": {},
    "colab_type": "code",
    "id": "am_FiZAq3Sz5"
   },
   "outputs": [],
   "source": [
    "A = tf.constant([[1, 4, 7, 8],\n",
    "                [24, -5, -13, 9],\n",
    "                [-7, 21, 8, 19],\n",
    "                [0, 18, 6, 4]], dtype = tf.float32)\n",
    "lu, p = tf.linalg.lu(A)  # As per documentation"
   ]
  },
  {
   "cell_type": "code",
   "execution_count": 79,
   "metadata": {
    "colab": {},
    "colab_type": "code",
    "id": "UyqpkSgB3S0A"
   },
   "outputs": [
    {
     "name": "stdout",
     "output_type": "stream",
     "text": [
      "LU = \n",
      "tf.Tensor(\n",
      "[[ 24.          -5.         -13.           9.        ]\n",
      " [ -0.29166666  19.541666     4.2083335   21.625     ]\n",
      " [  0.04166667   0.21535183   6.635394     2.9680166 ]\n",
      " [  0.           0.9211088    0.32005137 -16.868896  ]], shape=(4, 4), dtype=float32)\n",
      "\n",
      "P = \n",
      "tf.Tensor([1 2 0 3], shape=(4,), dtype=int32)\n"
     ]
    }
   ],
   "source": [
    "print(\"LU = \")\n",
    "print(lu)\n",
    "print()\n",
    "print(\"P = \")\n",
    "print(p)"
   ]
  },
  {
   "cell_type": "markdown",
   "metadata": {
    "colab_type": "text",
    "id": "8vw9s18u3S0L"
   },
   "source": [
    "What does the above result mean? Well, both $L$, and $U$ matrices have been merged into one. And $P$ contains permutation indices. In practice, we don't have to reconstruct individual matrices $L$,$U$, and $P$, because `tensorflow` has built-in functions for further analysis that uses the result of `tf.linalg.lu` as given above. For the sake of demonstration, we will show how to reconstruct those matrices from above result. To reconstruct $P$, we will use a linear operator that is discussed next. After constructing the matrices $A$ will be $$A = P^TLU$$"
   ]
  },
  {
   "cell_type": "code",
   "execution_count": 80,
   "metadata": {
    "colab": {},
    "colab_type": "code",
    "id": "0FHjKuf03S0M"
   },
   "outputs": [
    {
     "name": "stdout",
     "output_type": "stream",
     "text": [
      "L:\n",
      "tf.Tensor(\n",
      "[[ 1.          0.          0.          0.        ]\n",
      " [-0.29166666  1.          0.          0.        ]\n",
      " [ 0.04166667  0.21535183  1.          0.        ]\n",
      " [ 0.          0.9211088   0.32005137  1.        ]], shape=(4, 4), dtype=float32)\n",
      "\n",
      "U:\n",
      "tf.Tensor(\n",
      "[[ 24.         -5.        -13.          9.       ]\n",
      " [  0.         19.541666    4.2083335  21.625    ]\n",
      " [  0.          0.          6.635394    2.9680166]\n",
      " [  0.          0.          0.        -16.868896 ]], shape=(4, 4), dtype=float32)\n",
      "\n",
      "P:\n",
      "tf.Tensor(\n",
      "[[0. 1. 0. 0.]\n",
      " [0. 0. 1. 0.]\n",
      " [1. 0. 0. 0.]\n",
      " [0. 0. 0. 1.]], shape=(4, 4), dtype=float32)\n"
     ]
    }
   ],
   "source": [
    "L = tf.linalg.band_part(lu,-1,0) - tf.linalg.diag(tf.linalg.diag_part(lu)) + tf.linalg.diag(tf.ones(shape = lu.shape[0],))\n",
    "U = tf.linalg.band_part(lu, 0, -1)\n",
    "permu_operator = tf.linalg.LinearOperatorPermutation(p)\n",
    "P = permu_operator.to_dense()\n",
    "print(\"L:\")\n",
    "print(L)\n",
    "print()\n",
    "print(\"U:\")\n",
    "print(U)\n",
    "print()\n",
    "print(\"P:\")\n",
    "print(P)"
   ]
  },
  {
   "cell_type": "code",
   "execution_count": 81,
   "metadata": {
    "colab": {},
    "colab_type": "code",
    "id": "2_9D68uhcWL0"
   },
   "outputs": [
    {
     "data": {
      "text/plain": [
       "<tf.Tensor: shape=(4, 4), dtype=float32, numpy=\n",
       "array([[  1.       ,   4.0000005,   7.       ,   8.       ],\n",
       "       [ 24.       ,  -5.       , -13.       ,   9.       ],\n",
       "       [ -7.       ,  21.       ,   8.       ,  19.       ],\n",
       "       [  0.       ,  18.       ,   6.       ,   3.999998 ]],\n",
       "      dtype=float32)>"
      ]
     },
     "execution_count": 81,
     "metadata": {},
     "output_type": "execute_result"
    }
   ],
   "source": [
    "tf.matmul(P, tf.matmul(L,U), transpose_a = True)"
   ]
  },
  {
   "cell_type": "markdown",
   "metadata": {
    "colab_type": "text",
    "id": "yZcNdsdVd-fj"
   },
   "source": [
    "We can easily reconstruct our original matrix from $LU$ factors using the function `tf.linalg.lu_reconstruct`."
   ]
  },
  {
   "cell_type": "code",
   "execution_count": 82,
   "metadata": {
    "colab": {},
    "colab_type": "code",
    "id": "21rNaUvfeWDe"
   },
   "outputs": [
    {
     "data": {
      "text/plain": [
       "<tf.Tensor: shape=(4, 4), dtype=float32, numpy=\n",
       "array([[  1.       ,   4.0000005,   7.       ,   8.       ],\n",
       "       [ 24.       ,  -5.       , -13.       ,   9.       ],\n",
       "       [ -7.       ,  21.       ,   8.       ,  19.       ],\n",
       "       [  0.       ,  18.       ,   6.       ,   3.999998 ]],\n",
       "      dtype=float32)>"
      ]
     },
     "execution_count": 82,
     "metadata": {},
     "output_type": "execute_result"
    }
   ],
   "source": [
    "tf.linalg.lu_reconstruct(lu,p)"
   ]
  },
  {
   "cell_type": "markdown",
   "metadata": {
    "colab_type": "text",
    "id": "yhY41Qmi3S0V"
   },
   "source": [
    "\n",
    "<a id = \"cholesky\"></a>\n",
    "\n",
    "### Cholesky\n",
    "\n",
    "It is defined for symmetric positive definite matrices. If A is a symmetric positive definite matrix, its Cholesky decomposition can be written as:\n",
    "$$ A = LL^T$$\n",
    "Where, $L$ is a lower triangular matrix."
   ]
  },
  {
   "cell_type": "code",
   "execution_count": 83,
   "metadata": {
    "colab": {},
    "colab_type": "code",
    "id": "e4ZH72-B6g9l"
   },
   "outputs": [
    {
     "data": {
      "text/plain": [
       "<tf.Tensor: shape=(3, 3), dtype=float32, numpy=\n",
       "array([[1., 0., 0.],\n",
       "       [1., 2., 0.],\n",
       "       [1., 2., 3.]], dtype=float32)>"
      ]
     },
     "execution_count": 83,
     "metadata": {},
     "output_type": "execute_result"
    }
   ],
   "source": [
    "A = tf.constant([[1,1,1],\n",
    "                 [1,5,5],\n",
    "                 [1,5,14]], dtype = tf.float32)\n",
    "L = tf.linalg.cholesky(A)\n",
    "L"
   ]
  },
  {
   "cell_type": "code",
   "execution_count": 84,
   "metadata": {
    "colab": {},
    "colab_type": "code",
    "id": "MHEqGdah78Io"
   },
   "outputs": [
    {
     "data": {
      "text/plain": [
       "<tf.Tensor: shape=(3, 3), dtype=float32, numpy=\n",
       "array([[ 1.,  1.,  1.],\n",
       "       [ 1.,  5.,  5.],\n",
       "       [ 1.,  5., 14.]], dtype=float32)>"
      ]
     },
     "execution_count": 84,
     "metadata": {},
     "output_type": "execute_result"
    }
   ],
   "source": [
    "tf.matmul(L,L,transpose_b=True)"
   ]
  },
  {
   "cell_type": "markdown",
   "metadata": {
    "colab_type": "text",
    "id": "AFqaf9483S0W"
   },
   "source": [
    "\n",
    "<a id = \"qr\"></a>\n",
    "\n",
    "### QR\n",
    "\n",
    "Given a matrix $A$, $QR$ decomposition decomposes the matrix into an orthogonal matrix $Q$ and an upper triangular matrix $R$ such that product of $Q$ and $R$ gives back $A$. Columns of $Q$ are an orthogonal basis for the column space of $A$ (also known as range of $A$)."
   ]
  },
  {
   "cell_type": "code",
   "execution_count": 85,
   "metadata": {
    "colab": {},
    "colab_type": "code",
    "id": "I8Tvrx6J_Ssn"
   },
   "outputs": [
    {
     "name": "stdout",
     "output_type": "stream",
     "text": [
      "Q:\n",
      "tf.Tensor(\n",
      "[[-0.18257415  0.4079837 ]\n",
      " [-0.36514837 -0.44398218]\n",
      " [-0.5477225  -0.575977  ]\n",
      " [-0.73029673  0.5519779 ]], shape=(4, 2), dtype=float32)\n",
      "\n",
      "R:\n",
      "tf.Tensor(\n",
      "[[-5.477226  -4.7469287]\n",
      " [ 0.         2.7778888]], shape=(2, 2), dtype=float32)\n"
     ]
    }
   ],
   "source": [
    "A = tf.constant([[1,2],[2,0.5],[3, 1],[4,5.]])\n",
    "Q,R = tf.linalg.qr(A)\n",
    "print(\"Q:\")\n",
    "print(Q)\n",
    "print()\n",
    "print(\"R:\")\n",
    "print(R)"
   ]
  },
  {
   "cell_type": "markdown",
   "metadata": {
    "colab_type": "text",
    "id": "03L8hwWNADCb"
   },
   "source": [
    "We can also get full $Q$ and $R$ matrices by setting `full_matrices = True` in the argument. "
   ]
  },
  {
   "cell_type": "code",
   "execution_count": 86,
   "metadata": {
    "colab": {},
    "colab_type": "code",
    "id": "rZmvRDIhANiC"
   },
   "outputs": [
    {
     "name": "stdout",
     "output_type": "stream",
     "text": [
      "Q full:\n",
      "tf.Tensor(\n",
      "[[-0.18257415  0.4079837  -0.17102492 -0.8780469 ]\n",
      " [-0.36514837 -0.44398218 -0.81774735  0.02891004]\n",
      " [-0.5477225  -0.575977    0.54808205 -0.2604928 ]\n",
      " [-0.73029673  0.5519779   0.04056833  0.4004264 ]], shape=(4, 4), dtype=float32)\n",
      "\n",
      "R full:\n",
      "tf.Tensor(\n",
      "[[-5.477226  -4.7469287]\n",
      " [ 0.         2.7778888]\n",
      " [ 0.         0.       ]\n",
      " [ 0.         0.       ]], shape=(4, 2), dtype=float32)\n"
     ]
    }
   ],
   "source": [
    "Q_full, R_full = tf.linalg.qr(A, full_matrices = True)\n",
    "print(\"Q full:\")\n",
    "print(Q_full)\n",
    "print()\n",
    "print(\"R full:\")\n",
    "print(R_full)"
   ]
  },
  {
   "cell_type": "markdown",
   "metadata": {
    "colab_type": "text",
    "id": "BT9_UP813S0Y"
   },
   "source": [
    "\n",
    "<a id = \"svd\"></a>\n",
    "\n",
    "### SVD\n",
    "\n",
    "Singular value decomposition (SVD) of a matrix $A\\in R^{m\\times n}$ is defined as\n",
    "$$A = U\\Sigma V^T$$\n",
    "Where, $U\\in R^{m\\times m}$ and $V\\in R^{n\\times n}$ are orthogonal matrices, commonly known as left and right singular vectors respectively. $\\Sigma \\in R^{m\\times n}$ is a diagonal matrix."
   ]
  },
  {
   "cell_type": "code",
   "execution_count": 87,
   "metadata": {
    "colab": {},
    "colab_type": "code",
    "id": "Pmfwrr17ZybO"
   },
   "outputs": [
    {
     "name": "stdout",
     "output_type": "stream",
     "text": [
      "S:\n",
      "tf.Tensor([18.604359   5.459675   2.4636664], shape=(3,), dtype=float32)\n",
      "\n",
      "U:\n",
      "tf.Tensor(\n",
      "[[ 0.2936678   0.40458775  0.7340845 ]\n",
      " [ 0.48711583 -0.7956307   0.01849233]\n",
      " [ 0.34406567  0.418864   -0.67870086]\n",
      " [ 0.7470583   0.16683212  0.01195723]], shape=(4, 3), dtype=float32)\n",
      "\n",
      "V:\n",
      "tf.Tensor(\n",
      "[[ 0.4678568   0.5231253   0.71235543]\n",
      " [ 0.6254436  -0.76545155  0.15134181]\n",
      " [ 0.62444425  0.3747316  -0.685307  ]], shape=(3, 3), dtype=float32)\n"
     ]
    }
   ],
   "source": [
    "mat = tf.constant([[5,2,3],\n",
    "                   [2,9,4],\n",
    "                   [3,2,6],\n",
    "                   [7,8,9.]])\n",
    "s,u,v = tf.linalg.svd(mat)\n",
    "print(\"S:\")\n",
    "print(s)\n",
    "print()\n",
    "print(\"U:\")\n",
    "print(u)\n",
    "print()\n",
    "print(\"V:\")\n",
    "print(v)"
   ]
  },
  {
   "cell_type": "markdown",
   "metadata": {
    "colab_type": "text",
    "id": "3EH5RTmWahgs"
   },
   "source": [
    "The result is a truncated SVD. To get full SVD decomposition, we have to set `full_matrices = True` in the argument."
   ]
  },
  {
   "cell_type": "code",
   "execution_count": 88,
   "metadata": {
    "colab": {},
    "colab_type": "code",
    "id": "RuAehMhQavtO"
   },
   "outputs": [
    {
     "name": "stdout",
     "output_type": "stream",
     "text": [
      "S full:\n",
      "tf.Tensor([18.604359   5.459675   2.4636664], shape=(3,), dtype=float32)\n",
      "\n",
      "U full:\n",
      "tf.Tensor(\n",
      "[[ 0.2936678   0.40458775  0.7340845  -0.45955172]\n",
      " [ 0.48711583 -0.7956307   0.01849233 -0.35964906]\n",
      " [ 0.34406567  0.418864   -0.67870086 -0.4955166 ]\n",
      " [ 0.7470583   0.16683212  0.01195723  0.6433724 ]], shape=(4, 4), dtype=float32)\n",
      "\n",
      "V full:\n",
      "tf.Tensor(\n",
      "[[ 0.4678568   0.5231253   0.71235543]\n",
      " [ 0.6254436  -0.76545155  0.15134181]\n",
      " [ 0.62444425  0.3747316  -0.685307  ]], shape=(3, 3), dtype=float32)\n"
     ]
    }
   ],
   "source": [
    "s_full,u_full,v_full = tf.linalg.svd(mat, full_matrices = True)\n",
    "print(\"S full:\")\n",
    "print(s_full)\n",
    "print()\n",
    "print(\"U full:\")\n",
    "print(u_full)\n",
    "print()\n",
    "print(\"V full:\")\n",
    "print(v_full)"
   ]
  },
  {
   "cell_type": "markdown",
   "metadata": {
    "colab_type": "text",
    "id": "azS4QgqAcPF7"
   },
   "source": [
    "If only singular values are of interest, it can be computed without computing singular vectors. In this way, computations can be much faster."
   ]
  },
  {
   "cell_type": "code",
   "execution_count": 89,
   "metadata": {
    "colab": {},
    "colab_type": "code",
    "id": "TV1YJQNWcx-b"
   },
   "outputs": [
    {
     "data": {
      "text/plain": [
       "array([18.604359 ,  5.459675 ,  2.4636664], dtype=float32)"
      ]
     },
     "execution_count": 89,
     "metadata": {},
     "output_type": "execute_result"
    }
   ],
   "source": [
    "tf.linalg.svd(mat, compute_uv=False).numpy()"
   ]
  },
  {
   "cell_type": "markdown",
   "metadata": {
    "colab_type": "text",
    "id": "RiDEVlY03S0a"
   },
   "source": [
    "\n",
    "<a id = \"eigenvalues_and_eigenvectors\"></a>\n",
    "\n",
    "## Eigenvalues and eigenvectors\n",
    "\n",
    "Symmetry is an important consideration while computing eigenvalues and eigenvectors. For symmetric matrices, different set of algorithms are used for eigen analysis that exploit the symmetry of the matrix. Therefore, two functions are available in `tensorflow` for eigen analysis. `eig` is used to compute eigenvalues and eigenvectors of a dense matrix without any special structure. `eigh` is used for eigen analysis of `Hermitian` matrices. If only eigenvalues are of interest, `eigvals` and `eigvalsh` can be used compute just eigenvalues."
   ]
  },
  {
   "cell_type": "markdown",
   "metadata": {
    "colab_type": "text",
    "id": "4OJJ91O-3S0c"
   },
   "source": [
    "\n",
    "<a id = \"eigen-analysis_of_hermitian_matrices\"></a>\n",
    "\n",
    "### Eigen-analysis of Hermitian matrices"
   ]
  },
  {
   "cell_type": "code",
   "execution_count": 90,
   "metadata": {
    "colab": {},
    "colab_type": "code",
    "id": "Tk5Ns-BgabXL"
   },
   "outputs": [
    {
     "name": "stdout",
     "output_type": "stream",
     "text": [
      "Eigenvalues:\n",
      "[1.        1.5857866 4.4142137]\n",
      "\n",
      "Eigenvectors:\n",
      "[[ 0.         -0.7071068   0.70710665]\n",
      " [-0.70710677  0.49999994  0.50000006]\n",
      " [ 0.7071068   0.4999999   0.5       ]]\n"
     ]
    }
   ],
   "source": [
    "A = tf.constant([[3,1,1],\n",
    "                 [1,2,1],\n",
    "                 [1,1,2.]])\n",
    "values, vectors = tf.linalg.eigh(A)\n",
    "print(\"Eigenvalues:\")\n",
    "print(values.numpy())\n",
    "print()\n",
    "print(\"Eigenvectors:\")\n",
    "print(vectors.numpy())"
   ]
  },
  {
   "cell_type": "markdown",
   "metadata": {
    "colab_type": "text",
    "id": "nnDnni5ObQuC"
   },
   "source": [
    "Each row is an eigenvector."
   ]
  },
  {
   "cell_type": "code",
   "execution_count": 91,
   "metadata": {
    "colab": {},
    "colab_type": "code",
    "id": "HSUziry0cdLs"
   },
   "outputs": [
    {
     "data": {
      "text/plain": [
       "array([-1.7881393e-07, -7.0710701e-01,  7.0710647e-01], dtype=float32)"
      ]
     },
     "execution_count": 91,
     "metadata": {},
     "output_type": "execute_result"
    }
   ],
   "source": [
    "tf.linalg.matvec(A, vectors[0,:]).numpy()"
   ]
  },
  {
   "cell_type": "markdown",
   "metadata": {
    "colab_type": "text",
    "id": "SDflAsxVdFU0"
   },
   "source": [
    "Results are accurate up to 5 decimal digits."
   ]
  },
  {
   "cell_type": "code",
   "execution_count": 92,
   "metadata": {
    "colab": {},
    "colab_type": "code",
    "id": "_N--AujkdQpa"
   },
   "outputs": [
    {
     "data": {
      "text/plain": [
       "array([1.       , 1.5857866, 4.4142137], dtype=float32)"
      ]
     },
     "execution_count": 92,
     "metadata": {},
     "output_type": "execute_result"
    }
   ],
   "source": [
    "tf.linalg.eigvalsh(A).numpy()    # Just eigenvalues"
   ]
  },
  {
   "cell_type": "markdown",
   "metadata": {
    "colab_type": "text",
    "id": "kk7VJm7ooC1p"
   },
   "source": [
    "#### What happens if you pass a nonsymmetric matrix to `eigh` by mistake?\n",
    "\n",
    "Well, while using `eigh`, `tensorflow` assumes the matrix to be symmetric. `Tensorflow` doesn't check whether the matrix is symmetric or not. It just takes the lower triangular part, assumes that the upper triangular part is same because of symmetry and performs the computations. So be prepared to get a wrong result!\n"
   ]
  },
  {
   "cell_type": "markdown",
   "metadata": {
    "colab_type": "text",
    "id": "_pPq7xdL3S0e"
   },
   "source": [
    "\n",
    "<a id = \"eigen-analysis_of_other_matrices\"></a>\n",
    "\n",
    "### Eigen-analysis of non-Hermitian matrices\n"
   ]
  },
  {
   "cell_type": "code",
   "execution_count": 93,
   "metadata": {
    "colab": {},
    "colab_type": "code",
    "id": "hR7zBJV0diZt"
   },
   "outputs": [
    {
     "name": "stdout",
     "output_type": "stream",
     "text": [
      "Eigenvalues:\n",
      "[2.7560833 -7.9942424e-08j 0.12195918-7.5705280e+00j\n",
      " 0.12195931+7.5705280e+00j]\n",
      "\n",
      "Eigenvectors:\n",
      "[[ 0.06142625+0.95019215j  0.16093381-0.34744066j  0.13818482+0.35709903j]\n",
      " [-0.01236177-0.19122148j  0.3560446 +0.53046155j  0.38952374-0.5063876j ]\n",
      " [ 0.01535368+0.23750281j -0.33046415+0.5796737j  -0.29238018-0.59978485j]]\n"
     ]
    }
   ],
   "source": [
    "A = tf.constant([[1,-5,3],\n",
    "                 [2,4,-7],\n",
    "                 [3,9,-2.]])\n",
    "values, vectors = tf.linalg.eig(A)\n",
    "print(\"Eigenvalues:\")\n",
    "print(values.numpy())\n",
    "print()\n",
    "print(\"Eigenvectors:\")\n",
    "print(vectors.numpy())"
   ]
  },
  {
   "cell_type": "markdown",
   "metadata": {
    "colab_type": "text",
    "id": "HYL4Pk5ketHM"
   },
   "source": [
    "Only eigenvalues."
   ]
  },
  {
   "cell_type": "code",
   "execution_count": 94,
   "metadata": {
    "colab": {},
    "colab_type": "code",
    "id": "ShJSTLnPexty"
   },
   "outputs": [
    {
     "data": {
      "text/plain": [
       "array([2.7560833 -7.9942424e-08j, 0.12195918-7.5705280e+00j,\n",
       "       0.12195931+7.5705280e+00j], dtype=complex64)"
      ]
     },
     "execution_count": 94,
     "metadata": {},
     "output_type": "execute_result"
    }
   ],
   "source": [
    "tf.linalg.eigvals(A).numpy()"
   ]
  },
  {
   "cell_type": "markdown",
   "metadata": {
    "colab_type": "text",
    "id": "OlGnKGM4qUDN"
   },
   "source": [
    "#### What happens when you pass a symmetric matrix to `eig`?\n",
    "\n",
    "Nothing! We will still get the correct answer. `Tensorflow` will use more operations to compute results when it could have been done using less computations."
   ]
  },
  {
   "cell_type": "markdown",
   "metadata": {
    "colab_type": "text",
    "id": "c07UBa4k3S0g"
   },
   "source": [
    "\n",
    "<a id = \"solving_linear_systems\"></a>\n",
    "\n",
    "## Solving linear systems\n",
    "\n",
    "A linear system is written as $$ Ax = b$$ \n",
    "\n",
    "In general, $A$ can be square or rectangular. Right hand side $b$ is a vector in this case. If we have to solve the linear system for multiple right hand side vectors involving same $A$, the RHS can be replaced by a matrix whose columns are different RHS vectors.\n",
    "\n",
    "Depending on the structure of $A$ (whether triangular, or tri-diagonal, or positive definite), suitable algorithm is chosen to solve the linear system. `Tensorflow` has a function `tf.linalg.solve` to solve linear systems. But this function doesn't take into account the special structure of $A$."
   ]
  },
  {
   "cell_type": "code",
   "execution_count": 95,
   "metadata": {
    "colab": {},
    "colab_type": "code",
    "id": "_rqsbyGVRLOT"
   },
   "outputs": [
    {
     "data": {
      "text/plain": [
       "<tf.Tensor: shape=(3, 1), dtype=float32, numpy=\n",
       "array([[1.   ],\n",
       "       [0.875],\n",
       "       [1.125]], dtype=float32)>"
      ]
     },
     "execution_count": 95,
     "metadata": {},
     "output_type": "execute_result"
    }
   ],
   "source": [
    "A = tf.constant([[1,1,1],\n",
    "                 [1,5,5],\n",
    "                 [1,5,13]], dtype = tf.float32)\n",
    "b = tf.constant([3,11,20], shape = (3,1), dtype = tf.float32)\n",
    "tf.linalg.solve(A,b)"
   ]
  },
  {
   "cell_type": "markdown",
   "metadata": {
    "colab_type": "text",
    "id": "m7g9_Oc33S0i"
   },
   "source": [
    "\n",
    "<a id = \"using_lu_decomposition\"></a>\n",
    "\n",
    "### Using LU decomposition\n",
    "\n",
    "If $LU$ decomposition factors of $A$ are known, those can be used to solve the linear system.\n",
    "For example, solve:\n",
    "$$\\begin{pmatrix}\n",
    "  1 & 1 & 1\\\\\n",
    "  1 & 5 & 5\\\\\n",
    "  1 & 5 & 13\n",
    " \\end{pmatrix} x= \n",
    " \\begin{pmatrix}\n",
    " 3\\\\\n",
    " 11\\\\\n",
    " 20\\\\\n",
    " \\end{pmatrix}$$"
   ]
  },
  {
   "cell_type": "code",
   "execution_count": 96,
   "metadata": {
    "colab": {},
    "colab_type": "code",
    "id": "Q9upsyMsftex"
   },
   "outputs": [
    {
     "data": {
      "text/plain": [
       "<tf.Tensor: shape=(3, 1), dtype=float32, numpy=\n",
       "array([[1.   ],\n",
       "       [0.875],\n",
       "       [1.125]], dtype=float32)>"
      ]
     },
     "execution_count": 96,
     "metadata": {},
     "output_type": "execute_result"
    }
   ],
   "source": [
    "A = tf.constant([[1,1,1],\n",
    "                 [1,5,5],\n",
    "                 [1,5,13]], dtype = tf.float32)\n",
    "b = tf.constant([3,11,20], shape = (3,1), dtype = tf.float32)\n",
    "lu, p = tf.linalg.lu(A)   # Factorization result of LU\n",
    "x_sol_lu = tf.linalg.lu_solve(lu,p,b)\n",
    "x_sol_lu"
   ]
  },
  {
   "cell_type": "code",
   "execution_count": 97,
   "metadata": {
    "colab": {},
    "colab_type": "code",
    "id": "DBmIhL10gIQz"
   },
   "outputs": [
    {
     "data": {
      "text/plain": [
       "<tf.Tensor: shape=(3, 1), dtype=float32, numpy=\n",
       "array([[ 3.],\n",
       "       [11.],\n",
       "       [20.]], dtype=float32)>"
      ]
     },
     "execution_count": 97,
     "metadata": {},
     "output_type": "execute_result"
    }
   ],
   "source": [
    "tf.matmul(A,x_sol_lu)"
   ]
  },
  {
   "cell_type": "markdown",
   "metadata": {
    "colab_type": "text",
    "id": "6XW_A4tIkBl9"
   },
   "source": [
    "Once we have obtained factors $L$ and $U$, we can use `tf.linalg.triangular_solve` to solve the linear system by solving following two triangular system. $$Ly = b$$\n",
    "and $$Ux = y$$"
   ]
  },
  {
   "cell_type": "code",
   "execution_count": 98,
   "metadata": {
    "colab": {},
    "colab_type": "code",
    "id": "ZbMf9YwYkaQC"
   },
   "outputs": [
    {
     "data": {
      "text/plain": [
       "<tf.Tensor: shape=(3, 1), dtype=float32, numpy=\n",
       "array([[1.   ],\n",
       "       [0.875],\n",
       "       [1.125]], dtype=float32)>"
      ]
     },
     "execution_count": 98,
     "metadata": {},
     "output_type": "execute_result"
    }
   ],
   "source": [
    "L = tf.linalg.band_part(lu,-1,0) - tf.linalg.diag(tf.linalg.diag_part(lu)) + tf.linalg.diag(tf.ones(shape = lu.shape[0],))\n",
    "y = tf.linalg.triangular_solve(L,b)    # Solves Ly = b\n",
    "x = tf.linalg.triangular_solve(lu,y, lower = False)  # Solves Ux = y\n",
    "x"
   ]
  },
  {
   "cell_type": "markdown",
   "metadata": {
    "colab_type": "text",
    "id": "NB_YrsPq8n3d"
   },
   "source": [
    "\n",
    "<a id = \"using_cholesky_decomposition\"></a>\n",
    "\n",
    "### Using Cholesky decomposition\n",
    "\n",
    "If $A$ is positive definite, Cholesky decomposition is an efficient method for solving the linear system. For positive definite $A$, Cholesky decomposition requires fewer computations that $LU$ decomposition. This is because it exploits the symmetry of the matrix $A$. Once the Cholesky factor $L$ is found, we solve the linear system by solving two triangular systems. Solving triangular systems only requires $O(n^2)$ operations.\n",
    "$$ LL^Tx = b$$\n",
    "Two triangular systems are:\n",
    "$$ Ly = b$$\n",
    "This gives us $y$. Using $y$ we solve for $x$ using the following equation.\n",
    "$$L^Tx = y$$\n",
    "\n",
    "In `tensorflow`, we solve the system using `tf.linalg.cholesky_solve`. It takes cholesky factor $(L)$ and right hand side $b$ as input.\n",
    "\n",
    "For example, solve:\n",
    "$$\\begin{pmatrix}\n",
    "  1 & 1 & 1\\\\\n",
    "  1 & 5 & 5\\\\\n",
    "  1 & 5 & 13\n",
    " \\end{pmatrix} x= \n",
    " \\begin{pmatrix}\n",
    " 3\\\\\n",
    " 11\\\\\n",
    " 20\\\\\n",
    " \\end{pmatrix}$$"
   ]
  },
  {
   "cell_type": "code",
   "execution_count": 99,
   "metadata": {
    "colab": {},
    "colab_type": "code",
    "id": "11JJbCkMEoIU"
   },
   "outputs": [
    {
     "data": {
      "text/plain": [
       "<tf.Tensor: shape=(3, 1), dtype=float32, numpy=\n",
       "array([[1.0000001],\n",
       "       [0.8750001],\n",
       "       [1.1249999]], dtype=float32)>"
      ]
     },
     "execution_count": 99,
     "metadata": {},
     "output_type": "execute_result"
    }
   ],
   "source": [
    "A = tf.constant([[1,1,1],\n",
    "                 [1,5,5],\n",
    "                 [1,5,13]], dtype = tf.float32)\n",
    "b = tf.constant([3,11,20], shape = (3,1), dtype = tf.float32)\n",
    "L = tf.linalg.cholesky(A)\n",
    "sol_chol = tf.linalg.cholesky_solve(L, b)\n",
    "sol_chol"
   ]
  },
  {
   "cell_type": "code",
   "execution_count": 100,
   "metadata": {
    "colab": {},
    "colab_type": "code",
    "id": "w9hW11FzFw4d"
   },
   "outputs": [
    {
     "data": {
      "text/plain": [
       "<tf.Tensor: shape=(3, 1), dtype=float32, numpy=\n",
       "array([[ 3.      ],\n",
       "       [11.      ],\n",
       "       [19.999998]], dtype=float32)>"
      ]
     },
     "execution_count": 100,
     "metadata": {},
     "output_type": "execute_result"
    }
   ],
   "source": [
    "tf.matmul(A,sol_chol)"
   ]
  },
  {
   "cell_type": "markdown",
   "metadata": {},
   "source": [
    "\n",
    "<a id = \"solving_structured_linear_systems\"></a>\n",
    "\n",
    "## Solving structured linear systems\n",
    "\n",
    "If coefficient matrix of a linear system has some kind of structure (triangular, banded, tridiagonal, etc.), it can be efficiently solved using far fewer computations than required by dense $LU$ decomposition. Special solvers exist that exploit the structure of the coefficient matrix thus reducing flop count considerably for large structured systems. Linear algebra library of `Tensorflow` implements three such specialized solvers: `Triangular solver`, `Tridiagonal solver`, and `Banded triangular solver`.\n",
    "\n",
    "Structured solvers have immensely useful as in many practical applications resulting coefficient matrix has some kind of structure. This is especially true in mechanical applications, such as finite element modeling, computational heat transfer, etc. In finite element modeling, a body is divided into several elements and each element has certain number of nodes. A node is connected to only a few neighboring nodes. So interaction of a node is limited to only those neighboring nodes. This results in banded systems. Other types of structured matrices are also common in applications. "
   ]
  },
  {
   "cell_type": "markdown",
   "metadata": {},
   "source": [
    "\n",
    "<a id = \"solving_triangular_systems\"></a>\n",
    "\n",
    "## Solving triangular systems\n",
    "\n",
    "We have already used triangular solvers in the section on [LU decomposition](#using_lu_decomposition). For completeness, we will again describe it in this section. `tf.linalg.triangular_solve` solves both `lower triangular` and `upper triangular` systems. Following examples demonstrate that."
   ]
  },
  {
   "cell_type": "code",
   "execution_count": 101,
   "metadata": {},
   "outputs": [
    {
     "data": {
      "text/plain": [
       "<tf.Tensor: shape=(3, 1), dtype=float32, numpy=\n",
       "array([[ 7. ],\n",
       "       [-2. ],\n",
       "       [-1.5]], dtype=float32)>"
      ]
     },
     "execution_count": 101,
     "metadata": {},
     "output_type": "execute_result"
    }
   ],
   "source": [
    "lower_triangular_mat = tf.constant([[1,0,0],\n",
    "                                    [2,3,0],\n",
    "                                    [4,5,6]], dtype = tf.float32)\n",
    "rhs = tf.constant([[7],[8],[9]], dtype = tf.float32)\n",
    "res_lower_triangular = tf.linalg.triangular_solve(matrix = lower_triangular_mat, rhs = rhs, lower = True)\n",
    "res_lower_triangular"
   ]
  },
  {
   "cell_type": "markdown",
   "metadata": {},
   "source": [
    "We can use the same solver to solve upper triangular system also. This is done by setting `adjoint = True` along with `lower = True`. `lower = True` extracts the lower triangular part of the coefficient matrix and `adjoint = True` solves the triangular system by transposing the extracted lower triangular part. For real matrices adjoint is same as transpose. By setting the arguments as above, essentially we solve the upper triangular system. "
   ]
  },
  {
   "cell_type": "code",
   "execution_count": 102,
   "metadata": {},
   "outputs": [
    {
     "data": {
      "text/plain": [
       "<tf.Tensor: shape=(3, 1), dtype=float32, numpy=\n",
       "array([[0.6666665 ],\n",
       "       [0.16666667],\n",
       "       [1.5       ]], dtype=float32)>"
      ]
     },
     "execution_count": 102,
     "metadata": {},
     "output_type": "execute_result"
    }
   ],
   "source": [
    "res_upper_triangular = tf.linalg.triangular_solve(matrix = lower_triangular_mat, rhs = rhs, lower = True, adjoint = True)\n",
    "res_upper_triangular"
   ]
  },
  {
   "cell_type": "markdown",
   "metadata": {},
   "source": [
    "We can verity the above result by multiplying the transpose of the lower triangular matrix by `res_upper_triangular`. This indeed gives us the right hand side $([7,8,9]^T)$."
   ]
  },
  {
   "cell_type": "code",
   "execution_count": 103,
   "metadata": {},
   "outputs": [
    {
     "data": {
      "text/plain": [
       "<tf.Tensor: shape=(3, 1), dtype=float32, numpy=\n",
       "array([[7.],\n",
       "       [8.],\n",
       "       [9.]], dtype=float32)>"
      ]
     },
     "execution_count": 103,
     "metadata": {},
     "output_type": "execute_result"
    }
   ],
   "source": [
    "tf.matmul(lower_triangular_mat, res_upper_triangular, transpose_a=True)"
   ]
  },
  {
   "cell_type": "markdown",
   "metadata": {
    "colab_type": "text",
    "id": "rGiN6Q02QoHM"
   },
   "source": [
    "\n",
    "<a id = \"solving_tri-diagonal_systems\"></a>\n",
    "\n",
    "### Solving tri-diagonal systems\n",
    "\n",
    "If matrix $A$ is tri-diagonal, `tf.linalg.tridiagonal_solve` can be used to solve the linear system efficiently. For example, we will solve the following tri-diagonal system.\n",
    "\n",
    "$$\\begin{pmatrix}\n",
    "2 & -1 & 0 &0 & 0\\\\\n",
    "-1 & 2 & -1 & 0 & 0\\\\\n",
    "0 & -1 & 2& -1& 0\\\\\n",
    "0 & 0 & -1 & 2 & -1\\\\\n",
    "0 & 0 & 0 & -1 & 2\n",
    "\\end{pmatrix}x=\n",
    "\\begin{pmatrix}\n",
    "3\\\\\n",
    "4\\\\\n",
    "-5\\\\\n",
    "7\\\\\n",
    "9\\end{pmatrix}$$"
   ]
  },
  {
   "cell_type": "code",
   "execution_count": 104,
   "metadata": {
    "colab": {},
    "colab_type": "code",
    "id": "sN5ugESv561h"
   },
   "outputs": [
    {
     "data": {
      "text/plain": [
       "<tf.Tensor: shape=(5, 1), dtype=float32, numpy=\n",
       "array([[ 6.5000005],\n",
       "       [10.000001 ],\n",
       "       [ 9.500001 ],\n",
       "       [14.       ],\n",
       "       [11.5      ]], dtype=float32)>"
      ]
     },
     "execution_count": 104,
     "metadata": {},
     "output_type": "execute_result"
    }
   ],
   "source": [
    "diags = tf.constant([[-1,-1,-1,-1, 0],\n",
    "                     [ 2, 2, 2, 2, 2],\n",
    "                     [ 0,-1,-1,-1,-1]], dtype = tf.float32)\n",
    "b = tf.constant([3,4,-5,7,9.],shape = (5,1))\n",
    "x = tf.linalg.tridiagonal_solve(diagonals = diags, rhs = b)\n",
    "x"
   ]
  },
  {
   "cell_type": "code",
   "execution_count": 105,
   "metadata": {
    "colab": {},
    "colab_type": "code",
    "id": "Iu-dcuB68STH"
   },
   "outputs": [
    {
     "data": {
      "text/plain": [
       "<tf.Tensor: shape=(5, 1), dtype=float32, numpy=\n",
       "array([[ 3.      ],\n",
       "       [ 4.000001],\n",
       "       [-4.999999],\n",
       "       [ 7.      ],\n",
       "       [ 9.      ]], dtype=float32)>"
      ]
     },
     "execution_count": 105,
     "metadata": {},
     "output_type": "execute_result"
    }
   ],
   "source": [
    "tf.linalg.tridiagonal_matmul(diagonals=diags, rhs = x)"
   ]
  },
  {
   "cell_type": "markdown",
   "metadata": {},
   "source": [
    "\n",
    "<a id = \"solving_banded_triangular_systems\"></a>\n",
    "\n",
    "### Solving banded triangular systems\n",
    "\n",
    "Solving an $(n \\times n)$ full upper triangular (or lower triangular) system uses $n^2$ flops (including addition/subtraction and multiplication/division). But if the upper triangular (or lower triangular) system is banded with, say, $k$ bands (including main diagonal), the system can be solved in $\\approx(2k-1)n$ flops. If $k$ is not very large, banded triangular systems can be solved at a fraction of computational cost as compared to dense triangular systems.\n",
    "\n",
    "However, please keep in mind that flop count is not the only criteria that determines the computational time of a system. For very very large systems, communication time between different parts of computer can be significant as compared to processing required number of flops for that system.\n",
    "\n",
    "We can solve both `banded lower triangular` and `banded upper triangular` systems. To illustrate this we will use the following example.\n",
    "\n",
    "$$\\begin{pmatrix}\n",
    "1 & 0 & 0 & 0 & 0\\\\\n",
    "6 & 2 & 0 & 0 & 0\\\\\n",
    "0 & 7 & 3 & 0 & 0\\\\\n",
    "0 & 0 & 8 & 4 & 0\\\\\n",
    "0 & 0 & 0 & 9 & 5\n",
    "\\end{pmatrix}x=\n",
    "\\begin{pmatrix}\n",
    "3\\\\\n",
    "4\\\\\n",
    "-5\\\\\n",
    "7\\\\\n",
    "9\\end{pmatrix}$$\n",
    "\n",
    "As the matrix is banded, we need not create the full dense matrix. Instead, we can only pass the band part to the solver. Subdiagonals (or superdiagonals) contain less number of entries than main diagonal. While passing the band part to `tensorflow`, these subdiagonals (or superdiagonals) have to be appended either at left or right to make it of the same length as main diagonal. Whether the subdiagonals or superdiagonals will be appended at the left or right, is decided by the alignment strategy. There are four types of `alignment strategies` used in `tensorflow`. Those are:\n",
    "\n",
    "* `LEFT_LEFT`: Superdiagonals are `appended at right` and subdiagonals are `appended at right`.\n",
    "* `LEFT_RIGHT`: Superdiagonals are `appended at right` and subdiagonals are `appended at left`.\n",
    "* `RIGHT_LEFT`: Superdiagonals are `appended at left` and subdiagonals are `appended at right`.\n",
    "* `RIGHT_RIGHT`: Superdiagonals are `appended at left` and subdiagonals are `appended at left`.\n",
    "\n",
    "One way to remember the above rules is that if something is aligned to left, it is appended at right. And in `LEFT_RIGHT`, first word corresponds to superdiagonals and second word corresponds to subdiagonal. For `tf.linalg.banded_triangular_solve`, `tensorflow` assumes that input band part has `LEFT_RIGHT` alignment. Band part inputs to this function can be modified accordingly. Above problem can be solved as follows."
   ]
  },
  {
   "cell_type": "code",
   "execution_count": 106,
   "metadata": {},
   "outputs": [
    {
     "data": {
      "text/plain": [
       "<tf.Tensor: shape=(5, 1), dtype=float32, numpy=\n",
       "array([[  3.      ],\n",
       "       [ -7.      ],\n",
       "       [ 14.666667],\n",
       "       [-27.583334],\n",
       "       [ 51.45    ]], dtype=float32)>"
      ]
     },
     "execution_count": 106,
     "metadata": {},
     "output_type": "execute_result"
    }
   ],
   "source": [
    "bands = tf.constant([[1,2,3,4,5],\n",
    "                     [0,6,7,8,9]], dtype = tf.float32)  # Because of LEFT_RIGHT alignment as we have a subdiagonal here\n",
    "rhs = tf.constant([[3],\n",
    "                   [4],\n",
    "                   [-5],\n",
    "                   [7],\n",
    "                   [9]], dtype = tf.float32)\n",
    "banded_lower_triangular_sol = tf.linalg.banded_triangular_solve(bands = bands, rhs = rhs, lower = True)\n",
    "banded_lower_triangular_sol"
   ]
  },
  {
   "cell_type": "markdown",
   "metadata": {},
   "source": [
    "We can verify the above solution by multiplying the dense banded lower triangular matrix by the solution. This should give us the RHS."
   ]
  },
  {
   "cell_type": "code",
   "execution_count": 107,
   "metadata": {},
   "outputs": [
    {
     "data": {
      "text/plain": [
       "<tf.Tensor: shape=(5, 5), dtype=float32, numpy=\n",
       "array([[1., 0., 0., 0., 0.],\n",
       "       [6., 2., 0., 0., 0.],\n",
       "       [0., 7., 3., 0., 0.],\n",
       "       [0., 0., 8., 4., 0.],\n",
       "       [0., 0., 0., 9., 5.]], dtype=float32)>"
      ]
     },
     "execution_count": 107,
     "metadata": {},
     "output_type": "execute_result"
    }
   ],
   "source": [
    "dense_banded_lower_triangular_mat = tf.linalg.set_diag(tf.zeros(shape = (5,5)), diagonal = bands,\n",
    "                                                       k = (-1,0), align = \"LEFT_RIGHT\")\n",
    "dense_banded_lower_triangular_mat"
   ]
  },
  {
   "cell_type": "code",
   "execution_count": 108,
   "metadata": {},
   "outputs": [
    {
     "data": {
      "text/plain": [
       "<tf.Tensor: shape=(5, 1), dtype=float32, numpy=\n",
       "array([[ 3.],\n",
       "       [ 4.],\n",
       "       [-5.],\n",
       "       [ 7.],\n",
       "       [ 9.]], dtype=float32)>"
      ]
     },
     "execution_count": 108,
     "metadata": {},
     "output_type": "execute_result"
    }
   ],
   "source": [
    "tf.matmul(dense_banded_lower_triangular_mat, banded_lower_triangular_sol)"
   ]
  },
  {
   "cell_type": "markdown",
   "metadata": {},
   "source": [
    "Similarly we can solve banded upper triangular matrix. For illustration, we will use the transpose of the above coefficient matrix. We will use the same right hand side vector.\n",
    "\n",
    "$$\\begin{pmatrix}\n",
    "1 & 6 & 0 & 0 & 0\\\\\n",
    "0 & 2 & 7 & 0 & 0\\\\\n",
    "0 & 0 & 3 & 8 & 0\\\\\n",
    "0 & 0 & 0 & 4 & 9\\\\\n",
    "0 & 0 & 0 & 0 & 5\n",
    "\\end{pmatrix}x=\n",
    "\\begin{pmatrix}\n",
    "3\\\\\n",
    "4\\\\\n",
    "-5\\\\\n",
    "7\\\\\n",
    "9\\end{pmatrix}$$"
   ]
  },
  {
   "cell_type": "code",
   "execution_count": 109,
   "metadata": {},
   "outputs": [
    {
     "data": {
      "text/plain": [
       "<tf.Tensor: shape=(5, 1), dtype=float32, numpy=\n",
       "array([[ 84.79998  ],\n",
       "       [-13.63333  ],\n",
       "       [  4.4666657],\n",
       "       [ -2.2999997],\n",
       "       [  1.8      ]], dtype=float32)>"
      ]
     },
     "execution_count": 109,
     "metadata": {},
     "output_type": "execute_result"
    }
   ],
   "source": [
    "bands = tf.constant([[6,7,8,9,0],\n",
    "                     [1,2,3,4,5]], dtype = tf.float32)  # Because of LEFT_RIGHT alignment as we have a superdiagonal here\n",
    "rhs = tf.constant([[3],\n",
    "                   [4],\n",
    "                   [-5],\n",
    "                   [7],\n",
    "                   [9]], dtype = tf.float32)\n",
    "banded_upper_triangular_sol = tf.linalg.banded_triangular_solve(bands = bands, rhs = rhs, lower = False)\n",
    "banded_upper_triangular_sol"
   ]
  },
  {
   "cell_type": "markdown",
   "metadata": {},
   "source": [
    "Now we will verify the solution."
   ]
  },
  {
   "cell_type": "code",
   "execution_count": 110,
   "metadata": {},
   "outputs": [
    {
     "data": {
      "text/plain": [
       "<tf.Tensor: shape=(5, 5), dtype=float32, numpy=\n",
       "array([[1., 6., 0., 0., 0.],\n",
       "       [0., 2., 7., 0., 0.],\n",
       "       [0., 0., 3., 8., 0.],\n",
       "       [0., 0., 0., 4., 9.],\n",
       "       [0., 0., 0., 0., 5.]], dtype=float32)>"
      ]
     },
     "execution_count": 110,
     "metadata": {},
     "output_type": "execute_result"
    }
   ],
   "source": [
    "dense_banded_upper_triangular_mat = tf.linalg.set_diag(tf.zeros(shape = (5,5)), diagonal = bands,\n",
    "                                                       k = (0,1), align = \"LEFT_RIGHT\")\n",
    "dense_banded_upper_triangular_mat"
   ]
  },
  {
   "cell_type": "code",
   "execution_count": 111,
   "metadata": {},
   "outputs": [
    {
     "data": {
      "text/plain": [
       "<tf.Tensor: shape=(5, 1), dtype=float32, numpy=\n",
       "array([[ 3.],\n",
       "       [ 4.],\n",
       "       [-5.],\n",
       "       [ 7.],\n",
       "       [ 9.]], dtype=float32)>"
      ]
     },
     "execution_count": 111,
     "metadata": {},
     "output_type": "execute_result"
    }
   ],
   "source": [
    "tf.matmul(dense_banded_upper_triangular_mat, banded_upper_triangular_sol)"
   ]
  },
  {
   "cell_type": "markdown",
   "metadata": {
    "colab_type": "text",
    "id": "G1Z52SDA3S0j"
   },
   "source": [
    "\n",
    "<a id = \"solving_least_squares_problems\"></a>\n",
    "\n",
    "## Solving least squares problems"
   ]
  },
  {
   "cell_type": "markdown",
   "metadata": {
    "colab_type": "text",
    "id": "FpywGWz33S0l"
   },
   "source": [
    "\n",
    "<a id = \"ordinary_least_squares\"></a>\n",
    "\n",
    "### Ordinary least squares\n",
    "\n",
    "Both over determined and under determined least squares problem can be solved using the command `tf.linalg.lstsq`. In the underdetermined case, the output is the least norm solution. Least squares problem can be written as \n",
    "\n",
    "$$arg\\min_{x}\\|Ax-b\\|_2^2$$\n",
    "\n",
    "That is, we try to find an $x$ such that the residual error is as small as possible.\n",
    "For example, we will solve following two problems.\n",
    "\n",
    "$$\\begin{pmatrix}\n",
    "1 & 2\\\\\n",
    "2 & 0.5\\\\\n",
    "3 & 1\\\\\n",
    "4 & 5\\\\\n",
    "\\end{pmatrix}x_{over}=\n",
    "\\begin{pmatrix}\n",
    "3\\\\\n",
    "4\\\\\n",
    "5\\\\\n",
    "6\\\\\n",
    "\\end{pmatrix}$$\n",
    "$$\\begin{pmatrix}\n",
    "3 & 1 & 2 & 5\\\\\n",
    "7 & 9 & 1 & 4\n",
    "\\end{pmatrix}x_{under}=\n",
    "\\begin{pmatrix}\n",
    "7.2\\\\\n",
    "-5.8\\\\\n",
    "\\end{pmatrix}$$"
   ]
  },
  {
   "cell_type": "code",
   "execution_count": 112,
   "metadata": {
    "colab": {},
    "colab_type": "code",
    "id": "6xfOcTFBL3Up"
   },
   "outputs": [],
   "source": [
    "A_over = tf.constant([[1,2],[2,0.5],[3, 1],[4,5.]])\n",
    "A_under = tf.constant([[3,1,2,5],[7,9,1,4.]])\n",
    "b_over = tf.constant([3,4,5,6.], shape = (4,1))\n",
    "b_under = tf.constant([7.2,-5.8], shape = (2,1))"
   ]
  },
  {
   "cell_type": "code",
   "execution_count": 113,
   "metadata": {
    "colab": {},
    "colab_type": "code",
    "id": "oymDIWhdOaJs"
   },
   "outputs": [
    {
     "data": {
      "text/plain": [
       "<tf.Tensor: shape=(2, 1), dtype=float32, numpy=\n",
       "array([[ 1.704103  ],\n",
       "       [-0.04319588]], dtype=float32)>"
      ]
     },
     "execution_count": 113,
     "metadata": {},
     "output_type": "execute_result"
    }
   ],
   "source": [
    "x_over = tf.linalg.lstsq(A_over, b_over)\n",
    "x_over"
   ]
  },
  {
   "cell_type": "markdown",
   "metadata": {
    "colab_type": "text",
    "id": "rl3vp31NPhrO"
   },
   "source": [
    "Though it is not advisable, for this simple case, we will directly apply normal equation to get the solution."
   ]
  },
  {
   "cell_type": "code",
   "execution_count": 114,
   "metadata": {
    "colab": {},
    "colab_type": "code",
    "id": "ygl-oRuAPvHc"
   },
   "outputs": [
    {
     "data": {
      "text/plain": [
       "<tf.Tensor: shape=(2, 1), dtype=float32, numpy=\n",
       "array([[ 1.704104  ],\n",
       "       [-0.04319668]], dtype=float32)>"
      ]
     },
     "execution_count": 114,
     "metadata": {},
     "output_type": "execute_result"
    }
   ],
   "source": [
    "tf.matmul(tf.linalg.inv(tf.matmul(A_over,A_over, transpose_a = True)), tf.matmul(A_over,b_over, transpose_a = True))"
   ]
  },
  {
   "cell_type": "code",
   "execution_count": 115,
   "metadata": {
    "colab": {},
    "colab_type": "code",
    "id": "pItvUlyAO4Da"
   },
   "outputs": [
    {
     "data": {
      "text/plain": [
       "<tf.Tensor: shape=(4, 1), dtype=float32, numpy=\n",
       "array([[-0.04100358],\n",
       "       [-1.3355565 ],\n",
       "       [ 0.699703  ],\n",
       "       [ 1.4518324 ]], dtype=float32)>"
      ]
     },
     "execution_count": 115,
     "metadata": {},
     "output_type": "execute_result"
    }
   ],
   "source": [
    "x_under = tf.linalg.lstsq(A_under, b_under)\n",
    "x_under"
   ]
  },
  {
   "cell_type": "markdown",
   "metadata": {
    "colab_type": "text",
    "id": "FLtvWgYfQwKK"
   },
   "source": [
    "We will computer the least norm solution for underdetermined case using the closed form solution. However, it should be remembered that it is not advisable to do so in practice for large systems."
   ]
  },
  {
   "cell_type": "code",
   "execution_count": 116,
   "metadata": {
    "colab": {},
    "colab_type": "code",
    "id": "WgYPFeedRPbM"
   },
   "outputs": [
    {
     "data": {
      "text/plain": [
       "<tf.Tensor: shape=(4, 1), dtype=float32, numpy=\n",
       "array([[-0.04100358],\n",
       "       [-1.3355561 ],\n",
       "       [ 0.6997029 ],\n",
       "       [ 1.4518325 ]], dtype=float32)>"
      ]
     },
     "execution_count": 116,
     "metadata": {},
     "output_type": "execute_result"
    }
   ],
   "source": [
    "tf.matmul(A_under,tf.matmul(tf.linalg.inv(tf.matmul(A_under, A_under, transpose_b = True)), b_under), transpose_a = True)"
   ]
  },
  {
   "cell_type": "markdown",
   "metadata": {
    "colab_type": "text",
    "id": "U6gO1R-r3S0n"
   },
   "source": [
    "\n",
    "<a id = \"regularized_least_squares\"></a>\n",
    "\n",
    "### Regularized least squares\n",
    "\n",
    "Only $l_2$ regularization is supported. The following regularized problem is solved.\n",
    "\n",
    "$$arg\\min_{x}\\|Ax-b\\|_2^2 + \\lambda \\|x\\|_2^2$$\n",
    "\n",
    "Here, $\\lambda$ is a hyperparameter. Usually several values of $\\lambda$ are tried over a logarithmic scale before choosing the best one."
   ]
  },
  {
   "cell_type": "code",
   "execution_count": 117,
   "metadata": {
    "colab": {},
    "colab_type": "code",
    "id": "4nzz7jSYUoq0"
   },
   "outputs": [
    {
     "data": {
      "text/plain": [
       "array([[1.3890449 ],\n",
       "       [0.21348318]], dtype=float32)"
      ]
     },
     "execution_count": 117,
     "metadata": {},
     "output_type": "execute_result"
    }
   ],
   "source": [
    "x_over_reg = tf.linalg.lstsq(A_over, b_over, l2_regularizer= 2.0)\n",
    "x_over_reg.numpy()"
   ]
  },
  {
   "cell_type": "code",
   "execution_count": 118,
   "metadata": {
    "colab": {},
    "colab_type": "code",
    "id": "DUtYSFiKU4OC"
   },
   "outputs": [
    {
     "data": {
      "text/plain": [
       "<tf.Tensor: shape=(4, 1), dtype=float32, numpy=\n",
       "array([[-0.04763567],\n",
       "       [-1.214508  ],\n",
       "       [ 0.62748903],\n",
       "       [ 1.299031  ]], dtype=float32)>"
      ]
     },
     "execution_count": 118,
     "metadata": {},
     "output_type": "execute_result"
    }
   ],
   "source": [
    "x_under_reg = tf.linalg.lstsq(A_under, b_under, l2_regularizer=2.)\n",
    "x_under_reg"
   ]
  },
  {
   "cell_type": "markdown",
   "metadata": {
    "colab_type": "text",
    "id": "d1Ax1KMn3S0q"
   },
   "source": [
    "\n",
    "<a id = \"some_specialized_operations\"></a>\n",
    "\n",
    "## Some specialized operations"
   ]
  },
  {
   "cell_type": "markdown",
   "metadata": {
    "colab_type": "text",
    "id": "-uObnUi_3S0s"
   },
   "source": [
    "\n",
    "<a id = \"norm\"></a>\n",
    "\n",
    "### Norm\n",
    "\n",
    "Norm can be defined for vectors as well as matrices. $p$ norm of vector is defined as\n",
    "$$\\|x\\|_p = (\\Sigma_{i=1}^{n}|x_i|^p)^\\frac{1}{p}$$\n",
    "\n",
    "Matrix is norm is defined as\n",
    "$$\\|A\\|_p= \\max_{x\\neq 0}\\frac{\\|Ax\\|_p}{\\|x\\|_p}$$\n",
    "\n",
    "`Tensorflow` supports all the usual vector and matrix norms that are used in practice. Using only `tensorflow` we can calculate all norms except `infinity` norm. To calculate `infinity` norm we have to use `ord = np.inf`.\n"
   ]
  },
  {
   "cell_type": "code",
   "execution_count": 119,
   "metadata": {
    "colab": {},
    "colab_type": "code",
    "id": "uETEHruo5xOz"
   },
   "outputs": [
    {
     "data": {
      "text/plain": [
       "3.7416575"
      ]
     },
     "execution_count": 119,
     "metadata": {},
     "output_type": "execute_result"
    }
   ],
   "source": [
    "tf.linalg.norm(tf.constant([1,-2,3.]), ord = \"euclidean\").numpy()"
   ]
  },
  {
   "cell_type": "code",
   "execution_count": 120,
   "metadata": {
    "colab": {},
    "colab_type": "code",
    "id": "Wi-bCl-R6A5t"
   },
   "outputs": [
    {
     "data": {
      "text/plain": [
       "6"
      ]
     },
     "execution_count": 120,
     "metadata": {},
     "output_type": "execute_result"
    }
   ],
   "source": [
    "tf.linalg.norm(tf.constant([1,-2,3]), ord = 1).numpy()"
   ]
  },
  {
   "cell_type": "markdown",
   "metadata": {
    "colab_type": "text",
    "id": "tIb3pnBe6QV_"
   },
   "source": [
    "Fractional norms for **vectors** are also supported."
   ]
  },
  {
   "cell_type": "code",
   "execution_count": 121,
   "metadata": {
    "colab": {},
    "colab_type": "code",
    "id": "_Ks8W9BM6Zbe"
   },
   "outputs": [
    {
     "data": {
      "text/plain": [
       "8.46176"
      ]
     },
     "execution_count": 121,
     "metadata": {},
     "output_type": "execute_result"
    }
   ],
   "source": [
    "tf.linalg.norm(tf.constant([1,-2,3.]), ord = 0.75).numpy()"
   ]
  },
  {
   "cell_type": "code",
   "execution_count": 122,
   "metadata": {
    "colab": {},
    "colab_type": "code",
    "id": "HlmnCJtIUsVF"
   },
   "outputs": [
    {
     "name": "stdout",
     "output_type": "stream",
     "text": [
      "WARNING:tensorflow:From /home/biswajit/anaconda3/envs/tf_cpu_23/lib/python3.8/site-packages/tensorflow/python/ops/linalg_ops.py:735: setdiff1d (from tensorflow.python.ops.array_ops) is deprecated and will be removed after 2018-11-30.\n",
      "Instructions for updating:\n",
      "This op will be removed after the deprecation date. Please switch to tf.sets.difference().\n",
      "2 norm of matrix A =  15.294547\n"
     ]
    }
   ],
   "source": [
    "A = tf.constant([[1,8, 2,3],\n",
    "                 [2,7,6,5],\n",
    "                 [0,3,2,8.]])\n",
    "mat_norm_2 = tf.linalg.norm(A, ord = 2, axis = [0,1])\n",
    "print(\"2 norm of matrix A = \", mat_norm_2.numpy())"
   ]
  },
  {
   "cell_type": "markdown",
   "metadata": {
    "colab_type": "text",
    "id": "47ohu4QbVDaa"
   },
   "source": [
    "2 norm of a matrix is equivalent to the largest singular value of the matrix. We will verify that."
   ]
  },
  {
   "cell_type": "code",
   "execution_count": 123,
   "metadata": {
    "colab": {},
    "colab_type": "code",
    "id": "2HZZkukgVNMk"
   },
   "outputs": [
    {
     "data": {
      "text/plain": [
       "15.294547"
      ]
     },
     "execution_count": 123,
     "metadata": {},
     "output_type": "execute_result"
    }
   ],
   "source": [
    "vals,_ ,_ = tf.linalg.svd(A)\n",
    "tf.math.reduce_max(vals).numpy()"
   ]
  },
  {
   "cell_type": "markdown",
   "metadata": {
    "colab_type": "text",
    "id": "cjBXroZfWhlw"
   },
   "source": [
    "\n",
    "<a id = \"normalizing_a_tensor\"></a>\n",
    "\n",
    "### Normalizing a tensor\n",
    "\n",
    "Computes the norm and normalizes the tensor using that norm. By normalize we mean, divide the entries of the tensor by the norm. Here, we will consider a matrix. But the method can be extended to multi-dimensional tensor.\n",
    "\n",
    "If computed norm is a single number, all the entries of the matrix will be divided by that number. If norm is calculated along some axis, normalization happens along that axis using individual norms. Here are some examples.  "
   ]
  },
  {
   "cell_type": "code",
   "execution_count": 124,
   "metadata": {
    "colab": {},
    "colab_type": "code",
    "id": "xCIvQI5PaYeb"
   },
   "outputs": [
    {
     "data": {
      "text/plain": [
       "<tf.Tensor: shape=(3, 4), dtype=float32, numpy=\n",
       "array([[1., 8., 2., 3.],\n",
       "       [2., 7., 6., 5.],\n",
       "       [0., 3., 2., 8.]], dtype=float32)>"
      ]
     },
     "execution_count": 124,
     "metadata": {},
     "output_type": "execute_result"
    }
   ],
   "source": [
    "A"
   ]
  },
  {
   "cell_type": "code",
   "execution_count": 125,
   "metadata": {
    "colab": {},
    "colab_type": "code",
    "id": "22IG7HdXacFU"
   },
   "outputs": [
    {
     "name": "stdout",
     "output_type": "stream",
     "text": [
      "Normalized matrix: \n",
      "[[0.06538278 0.5230622  0.13076556 0.19614834]\n",
      " [0.13076556 0.45767945 0.39229667 0.3269139 ]\n",
      " [0.         0.19614834 0.13076556 0.5230622 ]]\n",
      "\n",
      "Norm =  [[15.294547]]\n"
     ]
    }
   ],
   "source": [
    "normalized_mat, norm = tf.linalg.normalize(A, ord = 2, axis = [0,1])\n",
    "print(\"Normalized matrix: \")\n",
    "print(normalized_mat.numpy())\n",
    "print()\n",
    "print(\"Norm = \", norm.numpy())"
   ]
  },
  {
   "cell_type": "markdown",
   "metadata": {
    "colab_type": "text",
    "id": "jAf0pd3Oa6Ft"
   },
   "source": [
    "We will get the same normalized matrix by dividing the entries of the matrix by the norm."
   ]
  },
  {
   "cell_type": "code",
   "execution_count": 126,
   "metadata": {
    "colab": {},
    "colab_type": "code",
    "id": "44Uae8Ftbahu"
   },
   "outputs": [
    {
     "data": {
      "text/plain": [
       "<tf.Tensor: shape=(3, 4), dtype=float32, numpy=\n",
       "array([[0.06538278, 0.5230622 , 0.13076556, 0.19614834],\n",
       "       [0.13076556, 0.45767945, 0.39229667, 0.3269139 ],\n",
       "       [0.        , 0.19614834, 0.13076556, 0.5230622 ]], dtype=float32)>"
      ]
     },
     "execution_count": 126,
     "metadata": {},
     "output_type": "execute_result"
    }
   ],
   "source": [
    "A/norm"
   ]
  },
  {
   "cell_type": "code",
   "execution_count": 127,
   "metadata": {
    "colab": {},
    "colab_type": "code",
    "id": "p0wuidxibjRc"
   },
   "outputs": [
    {
     "name": "stdout",
     "output_type": "stream",
     "text": [
      "Normalized matrix:\n",
      "tf.Tensor(\n",
      "[[0.4472136  0.724286   0.30151135 0.30304575]\n",
      " [0.8944272  0.63375026 0.904534   0.5050763 ]\n",
      " [0.         0.27160725 0.30151135 0.80812204]], shape=(3, 4), dtype=float32)\n",
      "\n",
      "Norms of columns of A:\n",
      "tf.Tensor([[ 2.236068  11.045361   6.6332498  9.899495 ]], shape=(1, 4), dtype=float32)\n"
     ]
    }
   ],
   "source": [
    "norm_mat_by_col, norms_col = tf.linalg.normalize(A, ord = 2, axis = 0)\n",
    "print(\"Normalized matrix:\")\n",
    "print(norm_mat_by_col)\n",
    "print()\n",
    "print(\"Norms of columns of A:\")\n",
    "print(norms_col)"
   ]
  },
  {
   "cell_type": "code",
   "execution_count": 128,
   "metadata": {
    "colab": {},
    "colab_type": "code",
    "id": "52zRqBH3daTT"
   },
   "outputs": [
    {
     "data": {
      "text/plain": [
       "2.236068"
      ]
     },
     "execution_count": 128,
     "metadata": {},
     "output_type": "execute_result"
    }
   ],
   "source": [
    "tf.linalg.norm(A[:,0], ord = 2).numpy()  # 2 Norm of first column of A"
   ]
  },
  {
   "cell_type": "code",
   "execution_count": 129,
   "metadata": {
    "colab": {},
    "colab_type": "code",
    "id": "Cm9jqKjscRWu"
   },
   "outputs": [
    {
     "data": {
      "text/plain": [
       "<tf.Tensor: shape=(3, 4), dtype=float32, numpy=\n",
       "array([[0.4472136 , 0.724286  , 0.30151135, 0.30304575],\n",
       "       [0.8944272 , 0.63375026, 0.904534  , 0.5050763 ],\n",
       "       [0.        , 0.27160725, 0.30151135, 0.80812204]], dtype=float32)>"
      ]
     },
     "execution_count": 129,
     "metadata": {},
     "output_type": "execute_result"
    }
   ],
   "source": [
    "A/norms_col"
   ]
  },
  {
   "cell_type": "code",
   "execution_count": 130,
   "metadata": {
    "colab": {},
    "colab_type": "code",
    "id": "uHTcqT1UcV4k"
   },
   "outputs": [
    {
     "name": "stdout",
     "output_type": "stream",
     "text": [
      "Normalized matrix:\n",
      "tf.Tensor(\n",
      "[[0.11322771 0.9058217  0.22645542 0.33968312]\n",
      " [0.18731716 0.6556101  0.56195146 0.4682929 ]\n",
      " [0.         0.34188172 0.22792116 0.91168463]], shape=(3, 4), dtype=float32)\n",
      "\n",
      "Norms of rows:\n",
      "tf.Tensor(\n",
      "[[ 8.83176 ]\n",
      " [10.677078]\n",
      " [ 8.774964]], shape=(3, 1), dtype=float32)\n"
     ]
    }
   ],
   "source": [
    "norm_mat_by_row, norms_row = tf.linalg.normalize(A, ord = 2, axis = 1)\n",
    "print(\"Normalized matrix:\")\n",
    "print(norm_mat_by_row)\n",
    "print()\n",
    "print(\"Norms of rows:\")\n",
    "print(norms_row)"
   ]
  },
  {
   "cell_type": "code",
   "execution_count": 131,
   "metadata": {
    "colab": {},
    "colab_type": "code",
    "id": "EfcxVlzMePTs"
   },
   "outputs": [
    {
     "data": {
      "text/plain": [
       "8.83176"
      ]
     },
     "execution_count": 131,
     "metadata": {},
     "output_type": "execute_result"
    }
   ],
   "source": [
    "tf.linalg.norm(A[0,:], ord = 2).numpy()    # 2 norm of first row of A"
   ]
  },
  {
   "cell_type": "code",
   "execution_count": 132,
   "metadata": {
    "colab": {},
    "colab_type": "code",
    "id": "W0S5hl2teaGw"
   },
   "outputs": [
    {
     "data": {
      "text/plain": [
       "<tf.Tensor: shape=(3, 4), dtype=float32, numpy=\n",
       "array([[0.11322771, 0.9058217 , 0.22645542, 0.33968312],\n",
       "       [0.18731716, 0.6556101 , 0.56195146, 0.4682929 ],\n",
       "       [0.        , 0.34188172, 0.22792116, 0.91168463]], dtype=float32)>"
      ]
     },
     "execution_count": 132,
     "metadata": {},
     "output_type": "execute_result"
    }
   ],
   "source": [
    "A/norms_row"
   ]
  },
  {
   "cell_type": "markdown",
   "metadata": {
    "colab_type": "text",
    "id": "rTpGCfut3S0t"
   },
   "source": [
    "\n",
    "<a id = \"global_norm\"></a>\n",
    "\n",
    "### Global norm\n",
    "\n",
    "Given two or more tensors, `tf.linalg.global_norm` computes the 2 norm of a vector generated by resizing all the tensors to one dimensional arrays."
   ]
  },
  {
   "cell_type": "code",
   "execution_count": 133,
   "metadata": {
    "colab": {},
    "colab_type": "code",
    "id": "i3bYyuAqhOZ6"
   },
   "outputs": [
    {
     "data": {
      "text/plain": [
       "11.83216"
      ]
     },
     "execution_count": 133,
     "metadata": {},
     "output_type": "execute_result"
    }
   ],
   "source": [
    "a = tf.constant([1, 2, 3.])\n",
    "b = tf.constant([[4,5],\n",
    "                 [6,7.]])\n",
    "tf.linalg.global_norm([a,b]).numpy()"
   ]
  },
  {
   "cell_type": "code",
   "execution_count": 134,
   "metadata": {
    "colab": {},
    "colab_type": "code",
    "id": "NDr7FKZ4hivi"
   },
   "outputs": [
    {
     "data": {
      "text/plain": [
       "11.83216"
      ]
     },
     "execution_count": 134,
     "metadata": {},
     "output_type": "execute_result"
    }
   ],
   "source": [
    "tf.linalg.norm([1,2,3,4,5,6,7.], ord = 2).numpy()"
   ]
  },
  {
   "cell_type": "markdown",
   "metadata": {
    "colab_type": "text",
    "id": "d5a5OmJWIrXU"
   },
   "source": [
    "\n",
    "<a id = \"cross_product_of_vectors\"></a>\n",
    "\n",
    "### Cross product of vectors\n",
    "\n",
    "It is defined for 3-element vectors. For two vectors $a = (a_1, a_2, a_3)^T$, and $b = (b_1, b_2, b_3)^T$, cross product is defined as the determinant of following matrix\n",
    "\n",
    "$$\\begin{pmatrix}\n",
    "i & j & k\\\\\n",
    "a_1 & a_2 & a_3\\\\\n",
    "b_1 & b_2 & b_3\n",
    "\\end{pmatrix}$$\n",
    "Where $i, j$, and $k$ are unit direction vectors along three perpendicular right handed system."
   ]
  },
  {
   "cell_type": "code",
   "execution_count": 135,
   "metadata": {
    "colab": {},
    "colab_type": "code",
    "id": "J7SY6BtFKsdL"
   },
   "outputs": [
    {
     "data": {
      "text/plain": [
       "array([-1,  2, -1], dtype=int32)"
      ]
     },
     "execution_count": 135,
     "metadata": {},
     "output_type": "execute_result"
    }
   ],
   "source": [
    "a = tf.constant([1,2,3])\n",
    "b = tf.constant([2,3,4])\n",
    "tf.linalg.cross(a,b).numpy()"
   ]
  },
  {
   "cell_type": "markdown",
   "metadata": {
    "colab_type": "text",
    "id": "9a2lESUYLDr2"
   },
   "source": [
    "First element in the output corresponds to the value along $i$th direction. Similarly for other outputs.\n",
    "\n",
    "It is also possible to calculate cross product of more that one pair of vectors simultaneously."
   ]
  },
  {
   "cell_type": "code",
   "execution_count": 136,
   "metadata": {
    "colab": {},
    "colab_type": "code",
    "id": "4FHQJ5K7Lk-k"
   },
   "outputs": [
    {
     "data": {
      "text/plain": [
       "array([[-2.4290583 ,  2.690366  , -1.3060343 ],\n",
       "       [-1.3197372 , -0.7371121 ,  1.6123989 ],\n",
       "       [ 0.46207523, -0.02007629,  1.5651023 ],\n",
       "       [ 0.28067064,  0.47374007,  0.7798566 ],\n",
       "       [ 1.3022119 , -0.8419477 ,  0.0253216 ]], dtype=float32)"
      ]
     },
     "execution_count": 136,
     "metadata": {},
     "output_type": "execute_result"
    }
   ],
   "source": [
    "c = tf.random.normal(shape = (5,3))\n",
    "d = tf.random.normal(shape = (5,3))\n",
    "tf.linalg.cross(c,d).numpy()"
   ]
  },
  {
   "cell_type": "markdown",
   "metadata": {
    "colab_type": "text",
    "id": "hPcPd0NIL7tM"
   },
   "source": [
    "First row of output is the cross product of first rows of $c$ and $d$. Similarly for other rows."
   ]
  },
  {
   "cell_type": "markdown",
   "metadata": {
    "colab_type": "text",
    "id": "d72P0Dg13S0u"
   },
   "source": [
    "\n",
    "<a id = \"matrix_square_root\"></a>\n",
    "\n",
    "### Matrix square root\n",
    "\n",
    "Square root of a matrix is defined for invertible matrices whose real eigenvalues are positive."
   ]
  },
  {
   "cell_type": "code",
   "execution_count": 137,
   "metadata": {
    "colab": {},
    "colab_type": "code",
    "id": "yla04AZTXt12"
   },
   "outputs": [
    {
     "data": {
      "text/plain": [
       "<tf.Tensor: shape=(3, 3), dtype=float32, numpy=\n",
       "array([[2.1185937 , 0.35412252, 0.6189322 ],\n",
       "       [0.30147368, 2.9409115 , 0.7257953 ],\n",
       "       [0.6540313 , 0.33657336, 2.3132057 ]], dtype=float32)>"
      ]
     },
     "execution_count": 137,
     "metadata": {},
     "output_type": "execute_result"
    }
   ],
   "source": [
    "mat = tf.constant([[5,2,3],\n",
    "                   [2,9,4],\n",
    "                   [3,2,6.]])\n",
    "mat_root = tf.linalg.sqrtm(mat)\n",
    "mat_root"
   ]
  },
  {
   "cell_type": "code",
   "execution_count": 138,
   "metadata": {
    "colab": {},
    "colab_type": "code",
    "id": "E_GYjwwOYNG9"
   },
   "outputs": [
    {
     "data": {
      "text/plain": [
       "<tf.Tensor: shape=(3, 3), dtype=float32, numpy=\n",
       "array([[4.9999986, 2.0000007, 3.0000038],\n",
       "       [2.0000005, 9.000003 , 4.0000057],\n",
       "       [3.0000033, 2.000003 , 6.0000052]], dtype=float32)>"
      ]
     },
     "execution_count": 138,
     "metadata": {},
     "output_type": "execute_result"
    }
   ],
   "source": [
    "tf.matmul(mat_root, mat_root)"
   ]
  },
  {
   "cell_type": "markdown",
   "metadata": {
    "colab_type": "text",
    "id": "f9oDRi9y3S0x"
   },
   "source": [
    "\n",
    "<a id = \"matrix_exponential\"></a>\n",
    "\n",
    "### Matrix exponential\n",
    "\n",
    "Exponential of a matrix $A$ is defined as\n",
    "\n",
    "$$ e^A = \\sum_{n=0}^\\infty \\frac{A^n}{n!}$$\n",
    "\n",
    "In practice, the sum is not taken to infinity. Rather, approximations are used to compute matrix exponential. `Tensorflow` implementation is based on [this paper](https://epubs.siam.org/doi/10.1137/04061101X).\n",
    "\n",
    "When the matrix has a full set of independent eigenvectors, the formula can be simplified to\n",
    "$$e^A = Se^{\\Lambda}S^{-1}$$\n",
    "\n",
    "where, $S$ is the eigenvector matrix and $e^\\Lambda$ is a diagonal matrix whose diagonal entries are exponentials of eigenvalues of the matrix $A$."
   ]
  },
  {
   "cell_type": "code",
   "execution_count": 139,
   "metadata": {
    "colab": {},
    "colab_type": "code",
    "id": "NPnX4ZIW1b1L"
   },
   "outputs": [
    {
     "data": {
      "text/plain": [
       "<tf.Tensor: shape=(2, 2), dtype=float32, numpy=\n",
       "array([[1.5430806, 1.1752012],\n",
       "       [1.1752012, 1.5430806]], dtype=float32)>"
      ]
     },
     "execution_count": 139,
     "metadata": {},
     "output_type": "execute_result"
    }
   ],
   "source": [
    "A = tf.constant([[0,1],\n",
    "                 [1,0.]])\n",
    "tf.linalg.expm(A)"
   ]
  },
  {
   "cell_type": "markdown",
   "metadata": {
    "colab_type": "text",
    "id": "gwx_N9F0IaTt"
   },
   "source": [
    "\n",
    "<a id = \"matrix_logarithm\"></a>\n",
    "\n",
    "### Matrix logarithm\n",
    "\n",
    "Computes logarithm of the matrix such that matrix exponential of the result gives back the original matrix. Refer to the [documentation](https://www.tensorflow.org/api_docs/python/tf/linalg/logm) for further details. It is defined only for complex matrices."
   ]
  },
  {
   "cell_type": "code",
   "execution_count": 140,
   "metadata": {
    "colab": {},
    "colab_type": "code",
    "id": "wJKA7LV8JMHs"
   },
   "outputs": [
    {
     "data": {
      "text/plain": [
       "<tf.Tensor: shape=(3, 3), dtype=complex64, numpy=\n",
       "array([[1.4031177 +0.j, 0.25731087+0.j, 0.53848237+0.j],\n",
       "       [0.16580153+0.j, 2.1160111 +0.j, 0.54512537+0.j],\n",
       "       [0.5994888 +0.j, 0.2268081 +0.j, 1.5622762 +0.j]], dtype=complex64)>"
      ]
     },
     "execution_count": 140,
     "metadata": {},
     "output_type": "execute_result"
    }
   ],
   "source": [
    "mat = tf.constant([[5,2,3],\n",
    "                   [2,9,4],\n",
    "                   [3,2,6.]], dtype = tf.complex64)\n",
    "mat_log = tf.linalg.logm(mat)\n",
    "mat_log"
   ]
  },
  {
   "cell_type": "code",
   "execution_count": 141,
   "metadata": {
    "colab": {},
    "colab_type": "code",
    "id": "qIRel7ACJnB1"
   },
   "outputs": [
    {
     "data": {
      "text/plain": [
       "<tf.Tensor: shape=(3, 3), dtype=complex64, numpy=\n",
       "array([[4.999999 +0.j, 1.9999989+0.j, 2.9999986+0.j],\n",
       "       [1.9999995+0.j, 9.000006 +0.j, 4.0000005+0.j],\n",
       "       [2.9999995+0.j, 2.000001 +0.j, 5.9999995+0.j]], dtype=complex64)>"
      ]
     },
     "execution_count": 141,
     "metadata": {},
     "output_type": "execute_result"
    }
   ],
   "source": [
    "tf.linalg.expm(mat_log)"
   ]
  },
  {
   "cell_type": "markdown",
   "metadata": {
    "colab_type": "text",
    "id": "MECCxjni3S0y"
   },
   "source": [
    "\n",
    "<a id = \"log-determinant_of_a_matrix\"></a>\n",
    "\n",
    "### Log-determinant of a matrix\n",
    "\n",
    "Computes the natural logarithm of the determinant of a matrix. There are two functions in `tensorflow ` to calculate this.\n",
    "\n",
    "* If matrix is symmetric positive definite, use `tf.linalg.logdet` (Uses Cholesky decomposition)\n",
    "* For other matrices, use `tf.linalg.slogdet` (Uses $LU$ decomposition)\n",
    "\n",
    "`slogdet` computes the sign of the determinant as well as the log of the absolute value of the determinant.\n"
   ]
  },
  {
   "cell_type": "code",
   "execution_count": 142,
   "metadata": {
    "colab": {},
    "colab_type": "code",
    "id": "gr0GTpSQHELO"
   },
   "outputs": [
    {
     "data": {
      "text/plain": [
       "5.1298985"
      ]
     },
     "execution_count": 142,
     "metadata": {},
     "output_type": "execute_result"
    }
   ],
   "source": [
    "mat = tf.constant([[5,2,3],\n",
    "                   [2,9,2],\n",
    "                   [3,2,6.]])   # Symmetric positive definite\n",
    "tf.linalg.logdet(mat).numpy()"
   ]
  },
  {
   "cell_type": "code",
   "execution_count": 143,
   "metadata": {
    "colab": {},
    "colab_type": "code",
    "id": "ErT_h6gvHUBr"
   },
   "outputs": [
    {
     "data": {
      "text/plain": [
       "5.1298985"
      ]
     },
     "execution_count": 143,
     "metadata": {},
     "output_type": "execute_result"
    }
   ],
   "source": [
    "tf.math.log(tf.linalg.det(mat)).numpy()"
   ]
  },
  {
   "cell_type": "code",
   "execution_count": 144,
   "metadata": {
    "colab": {},
    "colab_type": "code",
    "id": "1zyGqhsYHdfD"
   },
   "outputs": [
    {
     "name": "stdout",
     "output_type": "stream",
     "text": [
      "Sign of determinant =  -1.0\n",
      "Log of absolute value of determinant =  4.0943446\n"
     ]
    }
   ],
   "source": [
    "mat_2 = tf.constant([[5,2,3],\n",
    "                     [0,-2,2],\n",
    "                     [0,0,6.]])\n",
    "sign, log_abs_det = tf.linalg.slogdet(mat_2)\n",
    "print(\"Sign of determinant = \", sign.numpy())\n",
    "print(\"Log of absolute value of determinant = \", log_abs_det.numpy())"
   ]
  },
  {
   "cell_type": "code",
   "execution_count": 145,
   "metadata": {
    "colab": {},
    "colab_type": "code",
    "id": "YNKi4TdMFZXj"
   },
   "outputs": [
    {
     "data": {
      "text/plain": [
       "4.0943446"
      ]
     },
     "execution_count": 145,
     "metadata": {},
     "output_type": "execute_result"
    }
   ],
   "source": [
    "tf.math.log(tf.abs(tf.linalg.det(mat_2))).numpy()"
   ]
  },
  {
   "cell_type": "markdown",
   "metadata": {
    "colab_type": "text",
    "id": "4KnU9e0a3S00"
   },
   "source": [
    "\n",
    "<a id = \"pseudo_inverse_of_a_matrix\"></a>\n",
    "\n",
    "### Pseudo inverse of a matrix\n",
    "\n",
    "While matrix inverse is defined only for square matrices, pseudo inverse is defined for matrices of any shape. It is also defined for singular matrices. Pseudo inverse can also be used to solve ordinary least squares problem. For the problem \n",
    "\n",
    "$$arg\\min_{x}\\|Ax-b\\|_2^2$$\n",
    "\n",
    "the approximate least squares solution can be written as\n",
    "\n",
    "$$x_{ls} = A^{\\dagger}b$$\n",
    "\n",
    "Where, $A^{\\dagger}$ is the pseudo inverse of $A$."
   ]
  },
  {
   "cell_type": "code",
   "execution_count": 146,
   "metadata": {
    "colab": {},
    "colab_type": "code",
    "id": "mgrx53C_6jhu"
   },
   "outputs": [
    {
     "data": {
      "text/plain": [
       "<tf.Tensor: shape=(3, 3), dtype=float32, numpy=\n",
       "array([[0.06896552, 0.        , 0.17241378],\n",
       "       [0.        , 0.33333334, 0.        ],\n",
       "       [0.        , 0.        , 0.        ]], dtype=float32)>"
      ]
     },
     "execution_count": 146,
     "metadata": {},
     "output_type": "execute_result"
    }
   ],
   "source": [
    "tf.linalg.pinv(tf.constant([[2,0,0],[0,3,0],[5,0,0.]]))"
   ]
  },
  {
   "cell_type": "code",
   "execution_count": 147,
   "metadata": {
    "colab": {},
    "colab_type": "code",
    "id": "VORsuBNM7StW"
   },
   "outputs": [],
   "source": [
    "A_over = tf.constant([[1,2],[2,0.5],[3, 1],[4,5.]])\n",
    "A_under = tf.constant([[3,1,2,5],[7,9,1,4.]])\n",
    "b_over = tf.constant([3,4,5,6.], shape = (4,1))\n",
    "b_under = tf.constant([7.2,-5.8], shape = (2,1))"
   ]
  },
  {
   "cell_type": "code",
   "execution_count": 148,
   "metadata": {
    "colab": {},
    "colab_type": "code",
    "id": "u-Wi_Gvn7Wnv"
   },
   "outputs": [
    {
     "data": {
      "text/plain": [
       "<tf.Tensor: shape=(2, 1), dtype=float32, numpy=\n",
       "array([[ 1.704103  ],\n",
       "       [-0.04319588]], dtype=float32)>"
      ]
     },
     "execution_count": 148,
     "metadata": {},
     "output_type": "execute_result"
    }
   ],
   "source": [
    "x_ls_over = tf.linalg.lstsq(A_over,b_over)\n",
    "x_ls_over"
   ]
  },
  {
   "cell_type": "code",
   "execution_count": 149,
   "metadata": {
    "colab": {},
    "colab_type": "code",
    "id": "CGoRpJsH7eL4"
   },
   "outputs": [
    {
     "data": {
      "text/plain": [
       "<tf.Tensor: shape=(2, 1), dtype=float32, numpy=\n",
       "array([[ 1.7041038 ],\n",
       "       [-0.04319668]], dtype=float32)>"
      ]
     },
     "execution_count": 149,
     "metadata": {},
     "output_type": "execute_result"
    }
   ],
   "source": [
    "tf.matmul(tf.linalg.pinv(A_over),b_over)"
   ]
  },
  {
   "cell_type": "code",
   "execution_count": 150,
   "metadata": {
    "colab": {},
    "colab_type": "code",
    "id": "n_FfSAjK7p82"
   },
   "outputs": [
    {
     "data": {
      "text/plain": [
       "<tf.Tensor: shape=(4, 1), dtype=float32, numpy=\n",
       "array([[-0.04100358],\n",
       "       [-1.3355565 ],\n",
       "       [ 0.699703  ],\n",
       "       [ 1.4518324 ]], dtype=float32)>"
      ]
     },
     "execution_count": 150,
     "metadata": {},
     "output_type": "execute_result"
    }
   ],
   "source": [
    "x_ls_under = tf.linalg.lstsq(A_under, b_under)\n",
    "x_ls_under"
   ]
  },
  {
   "cell_type": "code",
   "execution_count": 151,
   "metadata": {
    "colab": {},
    "colab_type": "code",
    "id": "Ky7ZXWWB7yTH"
   },
   "outputs": [
    {
     "data": {
      "text/plain": [
       "<tf.Tensor: shape=(4, 1), dtype=float32, numpy=\n",
       "array([[-0.04100376],\n",
       "       [-1.3355565 ],\n",
       "       [ 0.69970286],\n",
       "       [ 1.4518324 ]], dtype=float32)>"
      ]
     },
     "execution_count": 151,
     "metadata": {},
     "output_type": "execute_result"
    }
   ],
   "source": [
    "tf.matmul(tf.linalg.pinv(A_under), b_under)"
   ]
  },
  {
   "cell_type": "markdown",
   "metadata": {
    "colab_type": "text",
    "id": "khTA1Cjg3S01"
   },
   "source": [
    "\n",
    "<a id = \"linear_operators\"></a>\n",
    "\n",
    "## Linear operators\n",
    "\n",
    "Linear operators are a powerful way of defining matrices and associated operators without even doing actual computations. What does this mean? Do we ever get result of our computations using operators? Well, the computations are done only when we ask for the results. Before that the operators just act on each other (like chaining of operators) without doing any computation. We will show this by examples.\n",
    "\n",
    "**Note**: We will mainly use operators to form dense matrices. But the scope of applicability of operators is far bigger than that.\n",
    "\n",
    "To define a matrix as an operator, we use `tf.linalg.LinearOperatorFullMatrix`."
   ]
  },
  {
   "cell_type": "code",
   "execution_count": 152,
   "metadata": {
    "colab": {},
    "colab_type": "code",
    "id": "RGN5nzVwfleK"
   },
   "outputs": [
    {
     "data": {
      "text/plain": [
       "<tensorflow.python.ops.linalg.linear_operator_full_matrix.LinearOperatorFullMatrix at 0x7fc6e8795160>"
      ]
     },
     "execution_count": 152,
     "metadata": {},
     "output_type": "execute_result"
    }
   ],
   "source": [
    "operator = tf.linalg.LinearOperatorFullMatrix(tf.constant([[1,2,3],\n",
    "                                                           [2,3,5],\n",
    "                                                           [7,8,9.]]))\n",
    "operator"
   ]
  },
  {
   "cell_type": "markdown",
   "metadata": {
    "colab_type": "text",
    "id": "MSNcVsagf7w8"
   },
   "source": [
    "We get only the memory location. No result is shown. To see the actual matrix we have to call the method `to_dense` on this operator. There are many methods that can be called on an operator. For the full list, refer the documentation.\n",
    "\n",
    "Before seeing the result, we will apply adjoint operator to our old operator and apply `to_dense` to the adjoint operator. If everything works well, we should see the transpose of the matrix as result."
   ]
  },
  {
   "cell_type": "code",
   "execution_count": 153,
   "metadata": {
    "colab": {},
    "colab_type": "code",
    "id": "VxpYxceGgvb0"
   },
   "outputs": [
    {
     "name": "stdout",
     "output_type": "stream",
     "text": [
      "WARNING:tensorflow:From /home/biswajit/anaconda3/envs/tf_cpu_23/lib/python3.8/site-packages/tensorflow/python/ops/linalg/linear_operator_adjoint.py:145: LinearOperator.graph_parents (from tensorflow.python.ops.linalg.linear_operator) is deprecated and will be removed in a future version.\n",
      "Instructions for updating:\n",
      "Do not call `graph_parents`.\n"
     ]
    },
    {
     "data": {
      "text/plain": [
       "<tensorflow.python.ops.linalg.linear_operator_adjoint.LinearOperatorAdjoint at 0x7fc6e878b400>"
      ]
     },
     "execution_count": 153,
     "metadata": {},
     "output_type": "execute_result"
    }
   ],
   "source": [
    "adj_operator = tf.linalg.LinearOperatorAdjoint(operator)\n",
    "adj_operator"
   ]
  },
  {
   "cell_type": "markdown",
   "metadata": {
    "colab_type": "text",
    "id": "H6uCfJ4shDH3"
   },
   "source": [
    "Again no result. At this point we want to see the result. So we will apply `to_dense` method to adj_operator."
   ]
  },
  {
   "cell_type": "code",
   "execution_count": 154,
   "metadata": {
    "colab": {},
    "colab_type": "code",
    "id": "l2O6PcdKhQaH"
   },
   "outputs": [
    {
     "data": {
      "text/plain": [
       "<tf.Tensor: shape=(3, 3), dtype=float32, numpy=\n",
       "array([[1., 2., 7.],\n",
       "       [2., 3., 8.],\n",
       "       [3., 5., 9.]], dtype=float32)>"
      ]
     },
     "execution_count": 154,
     "metadata": {},
     "output_type": "execute_result"
    }
   ],
   "source": [
    "adj_operator.to_dense()"
   ]
  },
  {
   "cell_type": "markdown",
   "metadata": {
    "colab_type": "text",
    "id": "pF135UKmhYpy"
   },
   "source": [
    "To compare it with our original matrix, we will also show the original matrix."
   ]
  },
  {
   "cell_type": "code",
   "execution_count": 155,
   "metadata": {
    "colab": {},
    "colab_type": "code",
    "id": "ChhQTJ86hiHm"
   },
   "outputs": [
    {
     "data": {
      "text/plain": [
       "<tf.Tensor: shape=(3, 3), dtype=float32, numpy=\n",
       "array([[1., 2., 3.],\n",
       "       [2., 3., 5.],\n",
       "       [7., 8., 9.]], dtype=float32)>"
      ]
     },
     "execution_count": 155,
     "metadata": {},
     "output_type": "execute_result"
    }
   ],
   "source": [
    "operator.to_dense()"
   ]
  },
  {
   "cell_type": "markdown",
   "metadata": {
    "colab_type": "text",
    "id": "Vgup1ArxhrQv"
   },
   "source": [
    "As expected, the adjoint operator gives the correct answer."
   ]
  },
  {
   "cell_type": "markdown",
   "metadata": {
    "colab_type": "text",
    "id": "o1E7nq4dizDz"
   },
   "source": [
    "\n",
    "<a id = \"common_methods_on_linear_operators\"></a>\n",
    "\n",
    "### Common methods on linear operators\n",
    "\n",
    "There are many methods that can be called on the operator. Depending on the operator, the methods vary. In this section we will discuss some of the methods of `LinearOperatorFullMatrix` operator. Some of the methods are:\n",
    "\n",
    "* cond (To find condition number)\n",
    "* determinant \n",
    "* cholesky (To compute Cholesky factors of operator)\n",
    "* eigvals (Compute eigenvalues only for self-adjoint (Hermitian) matrices)\n",
    "* trace\n",
    "* inverse \n",
    "* solve (Solve linear system using operator)\n",
    "* adjoint\n",
    "\n",
    "and many others. "
   ]
  },
  {
   "cell_type": "code",
   "execution_count": 156,
   "metadata": {
    "colab": {},
    "colab_type": "code",
    "id": "fj-AABLJYsPq"
   },
   "outputs": [
    {
     "data": {
      "text/plain": [
       "<tf.Tensor: shape=(3, 3), dtype=float32, numpy=\n",
       "array([[1., 2., 3.],\n",
       "       [2., 3., 5.],\n",
       "       [7., 8., 9.]], dtype=float32)>"
      ]
     },
     "execution_count": 156,
     "metadata": {},
     "output_type": "execute_result"
    }
   ],
   "source": [
    "operator.to_dense()"
   ]
  },
  {
   "cell_type": "code",
   "execution_count": 157,
   "metadata": {
    "colab": {},
    "colab_type": "code",
    "id": "Q-U6vwAsjEFl"
   },
   "outputs": [
    {
     "data": {
      "text/plain": [
       "<tf.Tensor: shape=(), dtype=float32, numpy=68.21983>"
      ]
     },
     "execution_count": 157,
     "metadata": {},
     "output_type": "execute_result"
    }
   ],
   "source": [
    "operator.cond()"
   ]
  },
  {
   "cell_type": "code",
   "execution_count": 158,
   "metadata": {
    "colab": {},
    "colab_type": "code",
    "id": "rs6shPtXO5jd"
   },
   "outputs": [
    {
     "data": {
      "text/plain": [
       "<tf.Tensor: shape=(), dtype=float32, numpy=13.0>"
      ]
     },
     "execution_count": 158,
     "metadata": {},
     "output_type": "execute_result"
    }
   ],
   "source": [
    "operator.trace()"
   ]
  },
  {
   "cell_type": "code",
   "execution_count": 159,
   "metadata": {
    "colab": {},
    "colab_type": "code",
    "id": "oKEJEBrIPDMr"
   },
   "outputs": [
    {
     "name": "stdout",
     "output_type": "stream",
     "text": [
      "WARNING:tensorflow:Using (possibly slow) default implementation of determinant.  Requires conversion to a dense matrix and O(N^3) operations.\n"
     ]
    },
    {
     "data": {
      "text/plain": [
       "<tf.Tensor: shape=(), dtype=float32, numpy=6.0>"
      ]
     },
     "execution_count": 159,
     "metadata": {},
     "output_type": "execute_result"
    }
   ],
   "source": [
    "operator.determinant()"
   ]
  },
  {
   "cell_type": "code",
   "execution_count": 160,
   "metadata": {
    "colab": {},
    "colab_type": "code",
    "id": "0nFKJny_PM-O"
   },
   "outputs": [
    {
     "data": {
      "text/plain": [
       "<tf.Tensor: shape=(3, 3), dtype=float32, numpy=\n",
       "array([[1., 2., 7.],\n",
       "       [2., 3., 8.],\n",
       "       [3., 5., 9.]], dtype=float32)>"
      ]
     },
     "execution_count": 160,
     "metadata": {},
     "output_type": "execute_result"
    }
   ],
   "source": [
    "operator.adjoint().to_dense()"
   ]
  },
  {
   "cell_type": "code",
   "execution_count": 161,
   "metadata": {
    "colab": {},
    "colab_type": "code",
    "id": "Z0aoqz3SP21T"
   },
   "outputs": [
    {
     "data": {
      "text/plain": [
       "<tf.Tensor: shape=(3, 3), dtype=float32, numpy=\n",
       "array([[-2.1666667 ,  1.        ,  0.16666669],\n",
       "       [ 2.8333333 , -2.        ,  0.16666669],\n",
       "       [-0.83333325,  1.        , -0.16666669]], dtype=float32)>"
      ]
     },
     "execution_count": 161,
     "metadata": {},
     "output_type": "execute_result"
    }
   ],
   "source": [
    "operator.inverse().to_dense()"
   ]
  },
  {
   "cell_type": "code",
   "execution_count": 162,
   "metadata": {
    "colab": {},
    "colab_type": "code",
    "id": "G1UteU-iQAJB"
   },
   "outputs": [
    {
     "data": {
      "text/plain": [
       "<tf.Tensor: shape=(3, 3), dtype=float32, numpy=\n",
       "array([[ 1.0000000e+00,  0.0000000e+00,  0.0000000e+00],\n",
       "       [-2.3841858e-07,  1.0000000e+00,  0.0000000e+00],\n",
       "       [-2.3841858e-07,  0.0000000e+00,  1.0000000e+00]], dtype=float32)>"
      ]
     },
     "execution_count": 162,
     "metadata": {},
     "output_type": "execute_result"
    }
   ],
   "source": [
    "operator.matmul(operator.inverse().to_dense())"
   ]
  },
  {
   "cell_type": "markdown",
   "metadata": {
    "colab_type": "text",
    "id": "8eUTXAh43S02"
   },
   "source": [
    "\n",
    "<a id = \"special_matrices_using_operators\"></a>\n",
    "\n",
    "### Special matrices using operators"
   ]
  },
  {
   "cell_type": "markdown",
   "metadata": {
    "colab_type": "text",
    "id": "1OIpBUhX3S04"
   },
   "source": [
    "\n",
    "<a id = \"toeplitz_matrix\"></a>\n",
    "\n",
    "#### Toeplitz matrix"
   ]
  },
  {
   "cell_type": "code",
   "execution_count": 163,
   "metadata": {
    "colab": {},
    "colab_type": "code",
    "id": "M3gm15hgTNem"
   },
   "outputs": [
    {
     "data": {
      "text/plain": [
       "<tf.Tensor: shape=(5, 5), dtype=float32, numpy=\n",
       "array([[1., 6., 7., 8., 9.],\n",
       "       [2., 1., 6., 7., 8.],\n",
       "       [3., 2., 1., 6., 7.],\n",
       "       [4., 3., 2., 1., 6.],\n",
       "       [5., 4., 3., 2., 1.]], dtype=float32)>"
      ]
     },
     "execution_count": 163,
     "metadata": {},
     "output_type": "execute_result"
    }
   ],
   "source": [
    "col = tf.constant([1,2,3,4,5.])\n",
    "row = tf.constant([1,6,7,8,9.])\n",
    "toeplitz_operator = tf.linalg.LinearOperatorToeplitz(col = col, row = row )\n",
    "toeplitz_operator.to_dense()"
   ]
  },
  {
   "cell_type": "markdown",
   "metadata": {
    "colab_type": "text",
    "id": "1xgrngKl3S05"
   },
   "source": [
    "\n",
    "<a id = \"circulant_matrix\"></a>\n",
    "\n",
    "#### Circulant matrix"
   ]
  },
  {
   "cell_type": "code",
   "execution_count": 164,
   "metadata": {
    "colab": {},
    "colab_type": "code",
    "id": "vrpgD_jcUlJR"
   },
   "outputs": [
    {
     "data": {
      "text/plain": [
       "<tf.Tensor: shape=(5, 5), dtype=float32, numpy=\n",
       "array([[1.0000002 , 4.9999995 , 3.9999993 , 3.        , 2.0000005 ],\n",
       "       [2.0000005 , 0.99999934, 4.9999995 , 3.9999993 , 2.9999998 ],\n",
       "       [3.0000002 , 2.        , 0.9999998 , 4.9999995 , 3.9999998 ],\n",
       "       [3.9999993 , 2.9999993 , 2.        , 1.        , 4.9999995 ],\n",
       "       [4.9999995 , 3.9999993 , 3.        , 2.0000005 , 1.0000002 ]],\n",
       "      dtype=float32)>"
      ]
     },
     "execution_count": 164,
     "metadata": {},
     "output_type": "execute_result"
    }
   ],
   "source": [
    "kernel = [1,2,3,4,5]\n",
    "spectrum = tf.signal.fft(tf.cast(kernel, dtype = tf.complex64))\n",
    "circ_operator = tf.linalg.LinearOperatorCirculant(spectrum = spectrum, input_output_dtype = tf.float32)\n",
    "circ_operator.to_dense()"
   ]
  },
  {
   "cell_type": "code",
   "execution_count": 165,
   "metadata": {
    "colab": {},
    "colab_type": "code",
    "id": "kTHpK2obdYk1"
   },
   "outputs": [
    {
     "data": {
      "text/plain": [
       "<tf.Tensor: shape=(5,), dtype=float32, numpy=\n",
       "array([1.       , 2.0000002, 3.       , 3.9999993, 4.9999995],\n",
       "      dtype=float32)>"
      ]
     },
     "execution_count": 165,
     "metadata": {},
     "output_type": "execute_result"
    }
   ],
   "source": [
    "circ_operator.convolution_kernel()"
   ]
  },
  {
   "cell_type": "markdown",
   "metadata": {
    "colab_type": "text",
    "id": "oEiaE4yl3S06"
   },
   "source": [
    "\n",
    "<a id = \"block_diagonal_matrix\"></a>\n",
    "\n",
    "#### Block diagonal matrix"
   ]
  },
  {
   "cell_type": "code",
   "execution_count": 166,
   "metadata": {
    "colab": {},
    "colab_type": "code",
    "id": "et3ExC4Af-Rn"
   },
   "outputs": [
    {
     "data": {
      "text/plain": [
       "<tf.Tensor: shape=(5, 5), dtype=float32, numpy=\n",
       "array([[ 1.,  2.,  3.,  0.,  0.],\n",
       "       [ 4.,  5.,  6.,  0.,  0.],\n",
       "       [ 7.,  8.,  9.,  0.,  0.],\n",
       "       [ 0.,  0.,  0., -9., -8.],\n",
       "       [ 0.,  0.,  0., -7., -6.]], dtype=float32)>"
      ]
     },
     "execution_count": 166,
     "metadata": {},
     "output_type": "execute_result"
    }
   ],
   "source": [
    "operator_1 = tf.linalg.LinearOperatorFullMatrix(tf.constant([[1,2,3],\n",
    "                                                             [4,5,6],\n",
    "                                                             [7,8,9]], dtype = tf.float32))\n",
    "operator_2 = tf.linalg.LinearOperatorFullMatrix(-1*tf.constant([[9,8],\n",
    "                                                           [7,6]], dtype = tf.float32))\n",
    "blk_diag_operator = tf.linalg.LinearOperatorBlockDiag([operator_1,operator_2])\n",
    "blk_diag_operator.to_dense()"
   ]
  },
  {
   "cell_type": "markdown",
   "metadata": {
    "colab_type": "text",
    "id": "lzRg2GhVmFde"
   },
   "source": [
    "\n",
    "<a id = \"block_lower_triangular_matrix\"></a>\n",
    "\n",
    "#### Block lower triangular matrix"
   ]
  },
  {
   "cell_type": "code",
   "execution_count": 167,
   "metadata": {
    "colab": {},
    "colab_type": "code",
    "id": "kCIeHa1jhtD3"
   },
   "outputs": [
    {
     "data": {
      "text/plain": [
       "<tf.Tensor: shape=(5, 5), dtype=float32, numpy=\n",
       "array([[ 1.,  2.,  3.,  0.,  0.],\n",
       "       [ 4.,  5.,  6.,  0.,  0.],\n",
       "       [ 7.,  8.,  9.,  0.,  0.],\n",
       "       [ 6.,  6.,  6., -9., -8.],\n",
       "       [ 6.,  6.,  6., -7., -6.]], dtype=float32)>"
      ]
     },
     "execution_count": 167,
     "metadata": {},
     "output_type": "execute_result"
    }
   ],
   "source": [
    "operator_3 = tf.linalg.LinearOperatorFullMatrix(tf.constant(tf.repeat(6.,repeats = 6), shape = (2,3)))\n",
    "blk_lower = tf.linalg.LinearOperatorBlockLowerTriangular([[operator_1], [operator_3, operator_2]])\n",
    "blk_lower.to_dense()"
   ]
  },
  {
   "cell_type": "markdown",
   "metadata": {
    "colab_type": "text",
    "id": "4qSAtvDx3S08"
   },
   "source": [
    "\n",
    "<a id = \"householder_matrix\"></a>\n",
    "\n",
    "#### Householder matrix\n",
    "\n",
    "Householder matrix can be used to triangularize a matrix using orthogonal matrices (the process is called orthogonal triangularization). But we will not pursue that point here. We will only show the method using only a column vector. Given a vector $v = [1, 4, 7]^T$, Householder transform can transform the vector into $v = \\|v\\|_2[1,0,0]^T$. It is achieved by multiplying the vector $v$ by an orthogonal Householder matrix $H$.\n",
    "\n",
    "$$H\\begin{pmatrix}\n",
    "v_1\\\\\n",
    "v_2\\\\\n",
    "v_3\\end{pmatrix}=\\|v\\|_2\\begin{pmatrix}\n",
    "1\\\\\n",
    "0\\\\\n",
    "0\\end{pmatrix}$$\n",
    "\n",
    "This process can be repeated with other columns of a matrix to transform it into an upper triangular one. For more details, have a look at the references."
   ]
  },
  {
   "cell_type": "code",
   "execution_count": 168,
   "metadata": {
    "colab": {},
    "colab_type": "code",
    "id": "4KpjfqwolJCy"
   },
   "outputs": [
    {
     "data": {
      "text/plain": [
       "array([[8.1240387e+00],\n",
       "       [4.7683716e-07],\n",
       "       [4.7683716e-07]], dtype=float32)"
      ]
     },
     "execution_count": 168,
     "metadata": {},
     "output_type": "execute_result"
    }
   ],
   "source": [
    "first_column_of_operator_1 = operator_1.to_dense()[:,0]\n",
    "norm = tf.linalg.norm(first_column_of_operator_1)\n",
    "vec = first_column_of_operator_1 - norm*tf.linalg.eye(3)[:,0]    # Whether to take positive or negative sign? See references.\n",
    "householder = tf.linalg.LinearOperatorHouseholder(reflection_axis = vec)\n",
    "householder.matmul(tf.reshape(first_column_of_operator_1, shape = (3,1))).numpy()"
   ]
  },
  {
   "cell_type": "code",
   "execution_count": 169,
   "metadata": {
    "colab": {},
    "colab_type": "code",
    "id": "X9AR_0gWm_K4"
   },
   "outputs": [
    {
     "data": {
      "text/plain": [
       "<tf.Tensor: shape=(3, 1), dtype=float32, numpy=\n",
       "array([[8.1240387e+00],\n",
       "       [4.7683716e-07],\n",
       "       [7.1525574e-07]], dtype=float32)>"
      ]
     },
     "execution_count": 169,
     "metadata": {},
     "output_type": "execute_result"
    }
   ],
   "source": [
    "tf.matmul(householder.to_dense(), tf.reshape(first_column_of_operator_1, shape = (3,1)))"
   ]
  },
  {
   "cell_type": "markdown",
   "metadata": {
    "colab_type": "text",
    "id": "Yw-Q20iq3S09"
   },
   "source": [
    "\n",
    "<a id = \"kronecker_matrix\"></a>\n",
    "\n",
    "#### Kronecker matrix"
   ]
  },
  {
   "cell_type": "code",
   "execution_count": 170,
   "metadata": {
    "colab": {},
    "colab_type": "code",
    "id": "NNgHfPSILBww"
   },
   "outputs": [
    {
     "data": {
      "text/plain": [
       "<tf.Tensor: shape=(3, 3), dtype=float32, numpy=\n",
       "array([[1., 2., 3.],\n",
       "       [4., 5., 6.],\n",
       "       [7., 8., 9.]], dtype=float32)>"
      ]
     },
     "execution_count": 170,
     "metadata": {},
     "output_type": "execute_result"
    }
   ],
   "source": [
    "operator_1.to_dense()"
   ]
  },
  {
   "cell_type": "code",
   "execution_count": 171,
   "metadata": {
    "colab": {},
    "colab_type": "code",
    "id": "bD6M7podLI5_"
   },
   "outputs": [
    {
     "data": {
      "text/plain": [
       "<tf.Tensor: shape=(2, 2), dtype=float32, numpy=\n",
       "array([[-9., -8.],\n",
       "       [-7., -6.]], dtype=float32)>"
      ]
     },
     "execution_count": 171,
     "metadata": {},
     "output_type": "execute_result"
    }
   ],
   "source": [
    "operator_2.to_dense()"
   ]
  },
  {
   "cell_type": "code",
   "execution_count": 172,
   "metadata": {
    "colab": {},
    "colab_type": "code",
    "id": "7O1eJ4uaLOJp"
   },
   "outputs": [
    {
     "data": {
      "text/plain": [
       "<tf.Tensor: shape=(6, 6), dtype=float32, numpy=\n",
       "array([[ -9.,  -8., -18., -16., -27., -24.],\n",
       "       [ -7.,  -6., -14., -12., -21., -18.],\n",
       "       [-36., -32., -45., -40., -54., -48.],\n",
       "       [-28., -24., -35., -30., -42., -36.],\n",
       "       [-63., -56., -72., -64., -81., -72.],\n",
       "       [-49., -42., -56., -48., -63., -54.]], dtype=float32)>"
      ]
     },
     "execution_count": 172,
     "metadata": {},
     "output_type": "execute_result"
    }
   ],
   "source": [
    "kron_operator = tf.linalg.LinearOperatorKronecker([operator_1,operator_2])\n",
    "kron_operator.to_dense()"
   ]
  },
  {
   "cell_type": "markdown",
   "metadata": {
    "colab_type": "text",
    "id": "6zy9ffMSm6SB"
   },
   "source": [
    "\n",
    "<a id = \"permutation_matrix\"></a>\n",
    "\n",
    "#### Permutation matrix"
   ]
  },
  {
   "cell_type": "code",
   "execution_count": 173,
   "metadata": {
    "colab": {},
    "colab_type": "code",
    "id": "aKXTqXK7L2ct"
   },
   "outputs": [
    {
     "data": {
      "text/plain": [
       "<tf.Tensor: shape=(5, 5), dtype=float32, numpy=\n",
       "array([[0., 0., 1., 0., 0.],\n",
       "       [0., 0., 0., 0., 1.],\n",
       "       [1., 0., 0., 0., 0.],\n",
       "       [0., 0., 0., 1., 0.],\n",
       "       [0., 1., 0., 0., 0.]], dtype=float32)>"
      ]
     },
     "execution_count": 173,
     "metadata": {},
     "output_type": "execute_result"
    }
   ],
   "source": [
    "perm_operator = tf.linalg.LinearOperatorPermutation(tf.constant([2,4,0,3,1]))\n",
    "perm_operator.to_dense()"
   ]
  },
  {
   "cell_type": "markdown",
   "metadata": {
    "colab_type": "text",
    "id": "2frXlELW3S1H"
   },
   "source": [
    "\n",
    "<a id = \"common_matrices_using_operators\"></a>\n",
    "\n",
    "### Common matrices using operators"
   ]
  },
  {
   "cell_type": "markdown",
   "metadata": {
    "colab_type": "text",
    "id": "8BhJ0ovP3S1I"
   },
   "source": [
    "\n",
    "<a id = \"identity_matrix\"></a>\n",
    "\n",
    "#### Identity matrix"
   ]
  },
  {
   "cell_type": "code",
   "execution_count": 174,
   "metadata": {
    "colab": {},
    "colab_type": "code",
    "id": "n1lQEa8wNG7U"
   },
   "outputs": [
    {
     "data": {
      "text/plain": [
       "<tf.Tensor: shape=(5, 5), dtype=float32, numpy=\n",
       "array([[1., 0., 0., 0., 0.],\n",
       "       [0., 1., 0., 0., 0.],\n",
       "       [0., 0., 1., 0., 0.],\n",
       "       [0., 0., 0., 1., 0.],\n",
       "       [0., 0., 0., 0., 1.]], dtype=float32)>"
      ]
     },
     "execution_count": 174,
     "metadata": {},
     "output_type": "execute_result"
    }
   ],
   "source": [
    "iden_operator = tf.linalg.LinearOperatorIdentity(num_rows = 5)\n",
    "iden_operator.to_dense()"
   ]
  },
  {
   "cell_type": "markdown",
   "metadata": {
    "colab_type": "text",
    "id": "CtACQOF3oxGZ"
   },
   "source": [
    "\n",
    "<a id = \"scaled_identity_matrix\"></a>\n",
    "\n",
    "#### Scaled identity matrix"
   ]
  },
  {
   "cell_type": "code",
   "execution_count": 175,
   "metadata": {
    "colab": {},
    "colab_type": "code",
    "id": "C8iWSKvKNo_L"
   },
   "outputs": [
    {
     "data": {
      "text/plain": [
       "<tf.Tensor: shape=(5, 5), dtype=float32, numpy=\n",
       "array([[5., 0., 0., 0., 0.],\n",
       "       [0., 5., 0., 0., 0.],\n",
       "       [0., 0., 5., 0., 0.],\n",
       "       [0., 0., 0., 5., 0.],\n",
       "       [0., 0., 0., 0., 5.]], dtype=float32)>"
      ]
     },
     "execution_count": 175,
     "metadata": {},
     "output_type": "execute_result"
    }
   ],
   "source": [
    "scaled_iden_operator = tf.linalg.LinearOperatorScaledIdentity(num_rows = 5, multiplier = 5.)\n",
    "scaled_iden_operator.to_dense()"
   ]
  },
  {
   "cell_type": "code",
   "execution_count": 176,
   "metadata": {
    "colab": {},
    "colab_type": "code",
    "id": "l0eHgxAON_J7"
   },
   "outputs": [
    {
     "data": {
      "text/plain": [
       "<tf.Tensor: shape=(2, 3, 3), dtype=int32, numpy=\n",
       "array([[[-5,  0,  0],\n",
       "        [ 0, -5,  0],\n",
       "        [ 0,  0, -5]],\n",
       "\n",
       "       [[ 7,  0,  0],\n",
       "        [ 0,  7,  0],\n",
       "        [ 0,  0,  7]]], dtype=int32)>"
      ]
     },
     "execution_count": 176,
     "metadata": {},
     "output_type": "execute_result"
    }
   ],
   "source": [
    "scaled_iden_operator_2 = tf.linalg.LinearOperatorScaledIdentity(num_rows = 3, multiplier = tf.constant([-5,7]))\n",
    "scaled_iden_operator_2.to_dense()"
   ]
  },
  {
   "cell_type": "markdown",
   "metadata": {
    "colab_type": "text",
    "id": "RNBfFIJs3S1K"
   },
   "source": [
    "\n",
    "<a id = \"diagonal_matrix\"></a>\n",
    "\n",
    "#### Diagonal matrix"
   ]
  },
  {
   "cell_type": "code",
   "execution_count": 177,
   "metadata": {
    "colab": {},
    "colab_type": "code",
    "id": "-DJIyh3eMhVa"
   },
   "outputs": [
    {
     "data": {
      "text/plain": [
       "<tf.Tensor: shape=(4, 4), dtype=float32, numpy=\n",
       "array([[1., 0., 0., 0.],\n",
       "       [0., 2., 0., 0.],\n",
       "       [0., 0., 3., 0.],\n",
       "       [0., 0., 0., 4.]], dtype=float32)>"
      ]
     },
     "execution_count": 177,
     "metadata": {},
     "output_type": "execute_result"
    }
   ],
   "source": [
    "diag_operator = tf.linalg.LinearOperatorDiag(tf.constant([1,2,3,4.]))\n",
    "diag_operator.to_dense()"
   ]
  },
  {
   "cell_type": "markdown",
   "metadata": {
    "colab_type": "text",
    "id": "p44ZYm8W3S1L"
   },
   "source": [
    "\n",
    "<a id = \"tri-diagonal_matrix\"></a>\n",
    "\n",
    "#### Tri-diagonal matrix"
   ]
  },
  {
   "cell_type": "code",
   "execution_count": 178,
   "metadata": {
    "colab": {},
    "colab_type": "code",
    "id": "MJZPO6HUQK9q"
   },
   "outputs": [
    {
     "data": {
      "text/plain": [
       "<tf.Tensor: shape=(5, 5), dtype=float32, numpy=\n",
       "array([[ 2., -1.,  0.,  0.,  0.],\n",
       "       [-1.,  2., -1.,  0.,  0.],\n",
       "       [ 0., -1.,  2., -1.,  0.],\n",
       "       [ 0.,  0., -1.,  2., -1.],\n",
       "       [ 0.,  0.,  0., -1.,  2.]], dtype=float32)>"
      ]
     },
     "execution_count": 178,
     "metadata": {},
     "output_type": "execute_result"
    }
   ],
   "source": [
    "diags = tf.constant([[-1, -1, -1, -1, 0],\n",
    "                         [ 2,  2,  2,  2, 2],\n",
    "                         [ 0, -1, -1, -1, -1.]])\n",
    "tridiag_operator = tf.linalg.LinearOperatorTridiag(diagonals = diags)\n",
    "tridiag_operator.to_dense()"
   ]
  },
  {
   "cell_type": "markdown",
   "metadata": {
    "colab_type": "text",
    "id": "JE6M2vJSnPm6"
   },
   "source": [
    "\n",
    "<a id = \"lower_triangular_matrix\"></a>\n",
    "\n",
    "#### Lower triangular matrix"
   ]
  },
  {
   "cell_type": "code",
   "execution_count": 179,
   "metadata": {
    "colab": {},
    "colab_type": "code",
    "id": "Ie4knBzkRBQU"
   },
   "outputs": [
    {
     "data": {
      "text/plain": [
       "<tf.Tensor: shape=(4, 4), dtype=float32, numpy=\n",
       "array([[2., 0., 0., 0.],\n",
       "       [1., 2., 0., 0.],\n",
       "       [5., 8., 9., 0.],\n",
       "       [4., 2., 3., 1.]], dtype=float32)>"
      ]
     },
     "execution_count": 179,
     "metadata": {},
     "output_type": "execute_result"
    }
   ],
   "source": [
    "mat = tf.constant([[2,4,7,8],\n",
    "                   [1,2,3,4],\n",
    "                   [5,8,9,6],\n",
    "                   [4,2,3,1]], dtype = tf.float32)\n",
    "lower_tri_operator = tf.linalg.LinearOperatorLowerTriangular(mat)\n",
    "lower_tri_operator.to_dense()"
   ]
  },
  {
   "cell_type": "markdown",
   "metadata": {
    "colab_type": "text",
    "id": "KnIAeAZ83S1M"
   },
   "source": [
    "\n",
    "<a id = \"matrix_of_zeros\"></a>\n",
    "\n",
    "#### Matrix of zeros"
   ]
  },
  {
   "cell_type": "code",
   "execution_count": 180,
   "metadata": {
    "colab": {},
    "colab_type": "code",
    "id": "fg9z1bw6L5H9"
   },
   "outputs": [
    {
     "data": {
      "text/plain": [
       "<tf.Tensor: shape=(4, 5), dtype=float32, numpy=\n",
       "array([[0., 0., 0., 0., 0.],\n",
       "       [0., 0., 0., 0., 0.],\n",
       "       [0., 0., 0., 0., 0.],\n",
       "       [0., 0., 0., 0., 0.]], dtype=float32)>"
      ]
     },
     "execution_count": 180,
     "metadata": {},
     "output_type": "execute_result"
    }
   ],
   "source": [
    "zeros_operator = tf.linalg.LinearOperatorZeros(num_rows = 4, num_columns = 5, is_square = False,  is_self_adjoint=False)\n",
    "zeros_operator.to_dense()"
   ]
  },
  {
   "cell_type": "markdown",
   "metadata": {
    "colab_type": "text",
    "id": "iUuG2uwq3S1O"
   },
   "source": [
    "\n",
    "<a id = \"matrix_operations_using_operators\"></a>\n",
    "\n",
    "### Matrix operations using operators"
   ]
  },
  {
   "cell_type": "markdown",
   "metadata": {
    "colab_type": "text",
    "id": "JshyNW3oniQg"
   },
   "source": [
    "\n",
    "<a id = \"low-rank_update\"></a>\n",
    "\n",
    "#### Low-rank update\n",
    "\n",
    "When a low rank matrix is added to a given matrix, the resulting matrix is called a low-rank update of the original matrix. Let's suppose our original matrix was $A$ and we add a rank 1 update to it. The resulting matrix is $B$. So \n",
    "\n",
    "$$B = A + uv^T$$\n",
    "\n",
    "Where, $u$, and $v$ are column vectors. It should be noted that low-rank matrix update doesn't always increase the rank of the original matrix. For example, if rank of $A$ was 2, updating it with a rank 1 matrix will not always  make its rank 3. Here is an example."
   ]
  },
  {
   "cell_type": "code",
   "execution_count": 181,
   "metadata": {
    "colab": {},
    "colab_type": "code",
    "id": "r9yZ--rct1ZU"
   },
   "outputs": [
    {
     "name": "stdout",
     "output_type": "stream",
     "text": [
      "Rank of A =  2\n",
      "Rank of B =  2\n"
     ]
    }
   ],
   "source": [
    "A = tf.constant([[1,2,3],\n",
    "                 [2,4,6],\n",
    "                 [3,4,5]], dtype = tf.float32)\n",
    "u = tf.constant([[5],\n",
    "                 [6],\n",
    "                 [7]], dtype = tf.float32)\n",
    "v = tf.constant([[7],\n",
    "                 [8],\n",
    "                 [9]], dtype = tf.float32)\n",
    "B = A + tf.matmul(u,v, transpose_b=True)\n",
    "print(\"Rank of A = \", tf.linalg.matrix_rank(A).numpy())\n",
    "print(\"Rank of B = \", tf.linalg.matrix_rank(B).numpy())"
   ]
  },
  {
   "cell_type": "markdown",
   "metadata": {
    "colab_type": "text",
    "id": "GekY51kKvPRt"
   },
   "source": [
    "**Why is it useful?**\n",
    "\n",
    "It turns out that this low rank update appears in many applications. One of the applications is in least squares. Imagine that you have solved the least squares problem using the available data. And now you get some new data. The problem is to get the new least squares fit. Well, you can start form scratch by including the new data to your old data and then fit the model on the whole data. But this is a wasteful approach. A better alternative is to use the new data to modify your old fit. If you do some mathematics, you will arrive at matrix update equation. We will not do the math here. Interested readers can check references.\n",
    "\n",
    "Computations can be much faster if we use low-rank matrix update equation. In tensorflow it is done using `tf.linalg.OperatorLowRankUpdate` operator. Though the operator can handle more than rank 1 update, we will use it only for rank 1 update.\n",
    "\n",
    "As an example, let's suppose we want to compute the inverse of $B$. We can do so by modifying the inverse of $A$ that we have previously computed. The result is the famous Sherman–Morrison-Woodbury formula.\n",
    "$$B^{-1} = (A+uv^T)^{-1} = A^{-1}-\\frac{A^{-1}uv^TA^{-1}}{1+v^TA^{-1}u}$$ \n",
    "\n",
    "Provided that the denominator is not equal to zero. Note that denominator is a scalar for rank 1 update. This equation show that we can compute new inverse from the old inverse by using matrix-vector and vector-vector multiplications."
   ]
  },
  {
   "cell_type": "code",
   "execution_count": 182,
   "metadata": {
    "colab": {},
    "colab_type": "code",
    "id": "GX92EaFPyVxF"
   },
   "outputs": [
    {
     "data": {
      "text/plain": [
       "<tf.Tensor: shape=(3, 3), dtype=float32, numpy=\n",
       "array([[1., 2., 3.],\n",
       "       [2., 3., 5.],\n",
       "       [7., 8., 9.]], dtype=float32)>"
      ]
     },
     "execution_count": 182,
     "metadata": {},
     "output_type": "execute_result"
    }
   ],
   "source": [
    "operator.to_dense()"
   ]
  },
  {
   "cell_type": "code",
   "execution_count": 183,
   "metadata": {
    "colab": {},
    "colab_type": "code",
    "id": "22Li7QP4yCmE"
   },
   "outputs": [
    {
     "data": {
      "text/plain": [
       "<tf.Tensor: shape=(3, 3), dtype=float32, numpy=\n",
       "array([[-2.1666667 ,  1.        ,  0.625     ],\n",
       "       [ 2.8333333 , -2.        , -0.24999982],\n",
       "       [-0.83333325,  1.        , -0.25000012]], dtype=float32)>"
      ]
     },
     "execution_count": 183,
     "metadata": {},
     "output_type": "execute_result"
    }
   ],
   "source": [
    "low_rank_update = tf.linalg.LinearOperatorLowRankUpdate(operator,u = u, diag_update = None, v = v)\n",
    "low_rank_update.inverse().to_dense()"
   ]
  },
  {
   "cell_type": "markdown",
   "metadata": {
    "colab_type": "text",
    "id": "3kXVELww3V9y"
   },
   "source": [
    "Using Sherman–Morrison-Woodbury formula."
   ]
  },
  {
   "cell_type": "code",
   "execution_count": 184,
   "metadata": {
    "colab": {},
    "colab_type": "code",
    "id": "tuW1SgLl3gsi"
   },
   "outputs": [
    {
     "name": "stdout",
     "output_type": "stream",
     "text": [
      "tf.Tensor(\n",
      "[[-2.1666667   1.          0.6250001 ]\n",
      " [ 2.8333333  -2.         -0.25      ]\n",
      " [-0.83333325  1.         -0.25000006]], shape=(3, 3), dtype=float32)\n"
     ]
    }
   ],
   "source": [
    "operator_inv = operator.inverse()\n",
    "second_factor_numer = tf.matmul(operator_inv.matmul(u), tf.matmul(v,operator_inv.to_dense(), transpose_a=True))\n",
    "second_factor_denom = 1 + tf.matmul(v,operator_inv.matmul(u), transpose_a = True)\n",
    "update_inv = operator.inverse().to_dense() - (1/second_factor_denom)*second_factor_numer\n",
    "print(update_inv)"
   ]
  },
  {
   "cell_type": "code",
   "execution_count": 185,
   "metadata": {
    "colab": {},
    "colab_type": "code",
    "id": "agthYZDQ7GZo"
   },
   "outputs": [
    {
     "data": {
      "text/plain": [
       "<tf.Tensor: shape=(3, 3), dtype=float32, numpy=\n",
       "array([[36., 42., 48.],\n",
       "       [44., 51., 59.],\n",
       "       [56., 64., 72.]], dtype=float32)>"
      ]
     },
     "execution_count": 185,
     "metadata": {},
     "output_type": "execute_result"
    }
   ],
   "source": [
    "low_rank_update.to_dense()"
   ]
  },
  {
   "cell_type": "code",
   "execution_count": 186,
   "metadata": {
    "colab": {},
    "colab_type": "code",
    "id": "208gsTwc7NYX"
   },
   "outputs": [
    {
     "data": {
      "text/plain": [
       "<tf.Tensor: shape=(3, 3), dtype=float32, numpy=\n",
       "array([[36., 42., 48.],\n",
       "       [44., 51., 59.],\n",
       "       [56., 64., 72.]], dtype=float32)>"
      ]
     },
     "execution_count": 186,
     "metadata": {},
     "output_type": "execute_result"
    }
   ],
   "source": [
    "operator.to_dense() + tf.matmul(u, v, transpose_b = True)"
   ]
  },
  {
   "cell_type": "markdown",
   "metadata": {
    "colab_type": "text",
    "id": "h_bPWNwX75DQ"
   },
   "source": [
    "Along with inverse, other methods can be applied to `LinearOperatorLowRankUpdate`."
   ]
  },
  {
   "cell_type": "code",
   "execution_count": 187,
   "metadata": {
    "colab": {},
    "colab_type": "code",
    "id": "w0fcMoSp7dBE"
   },
   "outputs": [
    {
     "data": {
      "text/plain": [
       "array([36., 51., 72.], dtype=float32)"
      ]
     },
     "execution_count": 187,
     "metadata": {},
     "output_type": "execute_result"
    }
   ],
   "source": [
    "low_rank_update.diag_part().numpy()"
   ]
  },
  {
   "cell_type": "markdown",
   "metadata": {
    "colab_type": "text",
    "id": "-tktuI1Kn_DF"
   },
   "source": [
    "\n",
    "<a id = \"operator_inversion\"></a>\n",
    "\n",
    "#### Operator inversion\n",
    "\n",
    "Computes inverse operator of a given operator. "
   ]
  },
  {
   "cell_type": "code",
   "execution_count": 188,
   "metadata": {
    "colab": {},
    "colab_type": "code",
    "id": "e3dcsEZACjdR"
   },
   "outputs": [
    {
     "data": {
      "text/plain": [
       "<tf.Tensor: shape=(3, 3), dtype=float32, numpy=\n",
       "array([[-2.1666667 ,  1.        ,  0.16666669],\n",
       "       [ 2.8333333 , -2.        ,  0.16666669],\n",
       "       [-0.83333325,  1.        , -0.16666669]], dtype=float32)>"
      ]
     },
     "execution_count": 188,
     "metadata": {},
     "output_type": "execute_result"
    }
   ],
   "source": [
    "inv_operator = tf.linalg.LinearOperatorInversion(operator = operator)\n",
    "inv_operator.to_dense()"
   ]
  },
  {
   "cell_type": "markdown",
   "metadata": {
    "colab_type": "text",
    "id": "OpNn-saLoW6O"
   },
   "source": [
    "\n",
    "<a id = \"operator_composition\"></a>\n",
    "\n",
    "#### Operator composition\n",
    "\n",
    "Like composition of function, this operator applies one operator over another. In terms of matrices, it just means matrix multiplication. But the result of composition is another operator. That new operator can be used for further analysis."
   ]
  },
  {
   "cell_type": "code",
   "execution_count": 189,
   "metadata": {
    "colab": {},
    "colab_type": "code",
    "id": "Y_SkTx9OLkT8"
   },
   "outputs": [
    {
     "data": {
      "text/plain": [
       "<tf.Tensor: shape=(3, 3), dtype=float32, numpy=\n",
       "array([[  0.,   7.,  13.],\n",
       "       [ -1.,  18.,  31.],\n",
       "       [ 17., -19.,   6.]], dtype=float32)>"
      ]
     },
     "execution_count": 189,
     "metadata": {},
     "output_type": "execute_result"
    }
   ],
   "source": [
    "operator_1 = tf.linalg.LinearOperatorFullMatrix([[1,2],\n",
    "                                                 [2,5],\n",
    "                                                 [7,-3.]])\n",
    "operator_2 = tf.linalg.LinearOperatorFullMatrix([[2,-1,3],\n",
    "                                                 [-1,4,5.]])\n",
    "operator_comp = tf.linalg.LinearOperatorComposition([operator_1,operator_2])\n",
    "operator_comp.to_dense()"
   ]
  },
  {
   "cell_type": "markdown",
   "metadata": {
    "colab_type": "text",
    "id": "zI1NMcZ53S1Q"
   },
   "source": [
    "\n",
    "<a id = \"conclusion\"></a>\n",
    "\n",
    "## Conclusion\n",
    "\n",
    "As we have seen, using only `tensorflow` we can do quite a bit of linear algebra. In this post, we have only glossed over some of the functionalities. Clever use of the functions and operators will enable us to do much more than what has been covered here. At times, it might feel a little verbose. But the flexibility that it offers will make the exploration a rewarding experience.\n",
    "\n",
    "## References\n",
    "\n",
    "1. [Tensorflow documentation](https://www.tensorflow.org/api_docs/python/tf/linalg)\n",
    "2. Datta, Biswa Nath. Numerical linear algebra and applications. Vol. 116. Siam, 2010.\n",
    "3. (The Book) Golub, Gene H., and Charles F. Van Loan. Matrix computations. Vol. 3. JHU press, 2012.\n",
    "\n",
    "Last updated: 29 July, 2020."
   ]
  }
 ],
 "metadata": {
  "colab": {
   "collapsed_sections": [
    "nry7SxJx3Srr",
    "aB9U65TK3Svh",
    "qjfzYZ0z3Sxt"
   ],
   "name": "Doing_Linear_Algebra_using_Tensorflow_2.ipynb",
   "provenance": [],
   "toc_visible": true
  },
  "kernelspec": {
   "display_name": "tf_cpu_23",
   "language": "python",
   "name": "tf_cpu_23"
  },
  "language_info": {
   "codemirror_mode": {
    "name": "ipython",
    "version": 3
   },
   "file_extension": ".py",
   "mimetype": "text/x-python",
   "name": "python",
   "nbconvert_exporter": "python",
   "pygments_lexer": "ipython3",
   "version": "3.8.3"
  },
  "toc": {
   "base_numbering": 1,
   "nav_menu": {},
   "number_sections": true,
   "sideBar": true,
   "skip_h1_title": true,
   "title_cell": "Contents",
   "title_sidebar": "Contents",
   "toc_cell": true,
   "toc_position": {
    "height": "calc(100% - 180px)",
    "left": "10px",
    "top": "150px",
    "width": "273.188px"
   },
   "toc_section_display": true,
   "toc_window_display": true
  }
 },
 "nbformat": 4,
 "nbformat_minor": 1
}
