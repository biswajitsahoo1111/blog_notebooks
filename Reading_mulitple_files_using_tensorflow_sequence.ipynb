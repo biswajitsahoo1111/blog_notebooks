{
 "cells": [
  {
   "cell_type": "markdown",
   "metadata": {},
   "source": [
    "# Reading multiple files in Tensorflow 2 using Sequence\n",
    "Author: [Biswajit Sahoo](https://biswajitsahoo1111.github.io/)"
   ]
  },
  {
   "cell_type": "markdown",
   "metadata": {},
   "source": [
    "<table class=\"tfo-notebook-buttons\" align=\"left\">\n",
    "  <td>\n",
    "    <a href=\"https://colab.research.google.com/github/biswajitsahoo1111/blog_notebooks/blob/master/Reading_mulitple_files_using_tensorflow_sequence.ipynb\">\n",
    "    <img src=\"https://www.tensorflow.org/images/colab_logo_32px.png\" />\n",
    "    Run in Google Colab</a>\n",
    "  </td>\n",
    "  <td>\n",
    "    <a href=\"https://github.com/biswajitsahoo1111/blog_notebooks/blob/master/Reading_mulitple_files_using_tensorflow_sequence.ipynb\">\n",
    "    <img src=\"https://www.tensorflow.org/images/GitHub-Mark-32px.png\" />\n",
    "    View source on GitHub</a>\n",
    "  </td>\n",
    "  <td>\n",
    "    <a href=\"https://www.dropbox.com/s/weog8ubsu9qcugv/Reading_mulitple_files_using_tensorflow_sequence.ipynb?dl=1\"><img src=\"https://www.tensorflow.org/images/download_logo_32px.png\" />Download notebook</a>\n",
    "  </td>\n",
    "</table>"
   ]
  },
  {
   "cell_type": "markdown",
   "metadata": {
    "id": "-hWHmXfX0pMy"
   },
   "source": [
    "\n",
    "In this post, we will read multiple csv files using [Tensroflow Sequence](https://www.tensorflow.org/api_docs/python/tf/keras/utils/Sequence). In an [earlier post](https://biswajitsahoo1111.github.io/post/reading-multiple-files-in-tensorflow-2/) we had demonstrated the procedure for reading multiple csv files using a custom generator. Though generators are convenient for handling chunks of data from a large dataset, they have limited portability and scalability ([see the caution here](https://www.tensorflow.org/guide/data#consuming_python_generators)). Therefore, Tensorflow prefers `Sequence` over generators.\n",
    "\n",
    "Sequence is similar to `Tensorflow Dataset` but provides flexibility for batched data preparation in a custom manner. `Tensorflow Dataset` provides a wide range of functionalities to handle different data types. But for some specific applications we might have to make some custom modifications for which built-in methods are not available in `tensorflow dataset`. In that case, we can use `Sequence` to create our own dataset equivalent. In this post, we will show how to use sequence to read multiple csv files. The method we will discuss is general enough to work for other file formats (such as .txt, .npz, etc.) as well. We will demonstrate the procedure using 500 .csv files. But the method can be easily extended to huge datasets involving thousands of csv files.\n",
    "\n",
    "This post is self-sufficient in the sense that readers don’t have to download any data from anywhere. Just run the following codes sequentially. First, a folder named “random_data” will be created in current working directory and .csv files will be saved in it. Subsequently, files will be read from that folder and processed. Just make sure that your current working directory doesn’t have an old folder named “random_data”. Then run the following code cells. We will use `Tensorflow 2` to run our deep learning model. Tensorflow is very flexible. A given task can be done in different ways in it. The method we will use is not the only one. Readers are encouraged to explore other ways of doing the same. Below is an outline of three different tasks considered in this post.\n",
    "\n",
    "## Outline:\n",
    "\n",
    "1. Create 500 \".csv\" files and save it in the folder “random_data” in current directory.\n",
    "2. Write a sequence object that reads data from the folder in chunks and preprocesses it.\n",
    "3. Feed the chunks of data to a CNN model and train it for several epochs.\n",
    "4. Make prediction on new data for which labels are not known.\n",
    "\n",
    "## 1. Create 500 .csv files of random data\n",
    "As we intend to train a CNN model for classification using our data, we will generate data for 5 different classes. The dataset that we will create is a contrived one. But readers can modify the approach slightly to cater to their need. Following is the process that we will follow.\n",
    "\n",
    "* Each .csv file will have one column of data with 1024 entries.\n",
    "* Each file will be saved using one of the following names (Fault_1, Fault_2, Fault_3, Fault_4, Fault_5). The dataset is balanced, meaning, for each category, we have approximately same number of observations. Data files in “Fault_1” category will have names as “Fault_1_001.csv”, “Fault_1_002.csv”, “Fault_1_003.csv”, …, “Fault_1_100.csv”. Similarly for other classes."
   ]
  },
  {
   "cell_type": "code",
   "execution_count": 1,
   "metadata": {
    "id": "X9iFU_sdAXuO"
   },
   "outputs": [],
   "source": [
    "import numpy as np\n",
    "import os\n",
    "import glob\n",
    "np.random.seed(1111)"
   ]
  },
  {
   "cell_type": "markdown",
   "metadata": {
    "id": "r74W2GmtgKTJ"
   },
   "source": [
    "First create a function that will generate random files."
   ]
  },
  {
   "cell_type": "code",
   "execution_count": 2,
   "metadata": {
    "id": "3gOGgtwtAlqS"
   },
   "outputs": [],
   "source": [
    "def create_random_csv_files(fault_classes, number_of_files_in_each_class):\n",
    "    os.mkdir(\"./random_data/\")  # Make a directory to save created files.\n",
    "    for fault_class in fault_classes:\n",
    "        for i in range(number_of_files_in_each_class):\n",
    "            data = np.random.rand(1024,)\n",
    "            file_name = \"./random_data/\" + eval(\"fault_class\") + \"_\" + \"{0:03}\".format(i+1) + \".csv\" # This creates file_name\n",
    "            np.savetxt(eval(\"file_name\"), data, delimiter = \",\", header = \"V1\", comments = \"\")\n",
    "        print(str(eval(\"number_of_files_in_each_class\")) + \" \" + eval(\"fault_class\") + \" files\"  + \" created.\")"
   ]
  },
  {
   "cell_type": "markdown",
   "metadata": {
    "id": "eT1oswrkgS-i"
   },
   "source": [
    "Now use the function to create 100 files each for five fault types."
   ]
  },
  {
   "cell_type": "code",
   "execution_count": 3,
   "metadata": {
    "colab": {
     "base_uri": "https://localhost:8080/"
    },
    "id": "xxuUpC3cApyu",
    "outputId": "a9098dd1-3b93-4cfc-fea1-be7de7a22518"
   },
   "outputs": [
    {
     "name": "stdout",
     "output_type": "stream",
     "text": [
      "100 Fault_1 files created.\n",
      "100 Fault_2 files created.\n",
      "100 Fault_3 files created.\n",
      "100 Fault_4 files created.\n",
      "100 Fault_5 files created.\n"
     ]
    }
   ],
   "source": [
    "create_random_csv_files([\"Fault_1\", \"Fault_2\", \"Fault_3\", \"Fault_4\", \"Fault_5\"], number_of_files_in_each_class = 100)"
   ]
  },
  {
   "cell_type": "code",
   "execution_count": 4,
   "metadata": {
    "colab": {
     "base_uri": "https://localhost:8080/"
    },
    "id": "kWItU0i5Bzij",
    "outputId": "de886b14-f331-4445-e90f-89c4030fa161"
   },
   "outputs": [
    {
     "name": "stdout",
     "output_type": "stream",
     "text": [
      "Total number of files:  500\n",
      "Showing first 10 files...\n"
     ]
    },
    {
     "data": {
      "text/plain": [
       "['./random_data\\\\Fault_1_001.csv',\n",
       " './random_data\\\\Fault_1_002.csv',\n",
       " './random_data\\\\Fault_1_003.csv',\n",
       " './random_data\\\\Fault_1_004.csv',\n",
       " './random_data\\\\Fault_1_005.csv',\n",
       " './random_data\\\\Fault_1_006.csv',\n",
       " './random_data\\\\Fault_1_007.csv',\n",
       " './random_data\\\\Fault_1_008.csv',\n",
       " './random_data\\\\Fault_1_009.csv',\n",
       " './random_data\\\\Fault_1_010.csv']"
      ]
     },
     "execution_count": 4,
     "metadata": {},
     "output_type": "execute_result"
    }
   ],
   "source": [
    "files = glob.glob(\"./random_data/*\")\n",
    "print(\"Total number of files: \", len(files))\n",
    "print(\"Showing first 10 files...\")\n",
    "files[:10]"
   ]
  },
  {
   "cell_type": "markdown",
   "metadata": {
    "id": "j0PUvecRgZY_"
   },
   "source": [
    "To extract labels from file name, extract the part of the file name that corresponds to fault type."
   ]
  },
  {
   "cell_type": "code",
   "execution_count": 5,
   "metadata": {
    "colab": {
     "base_uri": "https://localhost:8080/"
    },
    "id": "vggb5TC6ga_R",
    "outputId": "9e0b9283-055c-4c58-ef37-25611220a72a"
   },
   "outputs": [
    {
     "name": "stdout",
     "output_type": "stream",
     "text": [
      "./random_data\\Fault_1_001.csv\n"
     ]
    }
   ],
   "source": [
    "print(files[0])"
   ]
  },
  {
   "cell_type": "code",
   "execution_count": 6,
   "metadata": {
    "colab": {
     "base_uri": "https://localhost:8080/"
    },
    "id": "cyp-bDMFgeBk",
    "outputId": "91a37e1a-e1eb-4989-b709-eac65a3ddf87"
   },
   "outputs": [
    {
     "name": "stdout",
     "output_type": "stream",
     "text": [
      "Fault_1\n"
     ]
    }
   ],
   "source": [
    "print(files[0][14:21])"
   ]
  },
  {
   "cell_type": "markdown",
   "metadata": {
    "id": "hiXbWs8Sglzr"
   },
   "source": [
    "Now that data have been created, we will go to the next step. That is, create a custom `Sequence` object, preprocess the time series like data into a matrix like shape such that a 2-D CNN can ingest it. We reshape the data in that way to just illustrate the point. Readers should use their own preprocessing steps.\n",
    "\n",
    "## 2. Write a custom Sequence object\n",
    "\n",
    "According to `Tensorflow` [documentation](https://www.tensorflow.org/api_docs/python/tf/keras/utils/Sequence), every Sequence must implement following two methods:\n",
    "\n",
    "* `__getitem__` method: Iterates over the dataset chunk by chunk. It must return a complete batch.\n",
    "* `__len__` method: Returns the length of the Sequence (total number of batches that we can extract from the full dataset).\n",
    "\n",
    "As we create a custom sequence object, we have complete control over the arguments we want to pass it. The following sequence object takes a list of file names as first argument. The second argument is batch_size. batch_size determines how many files we will process at one go. As we will be solving a classification problem, we have to assign labels to each raw data. We will use following labels for convenience.\n",
    "\n",
    "|Class|\tLabel|\n",
    "|:----:|:----:|\n",
    "|Fault_1|\t0|\n",
    "|Fault_2|\t1|\n",
    "|Fault_3|\t2|\n",
    "|Fault_4|\t3|\n",
    "|Fault_5|\t4|"
   ]
  },
  {
   "cell_type": "code",
   "execution_count": 7,
   "metadata": {
    "id": "b7iUhBHBCuXh"
   },
   "outputs": [],
   "source": [
    "import pandas as pd\n",
    "import re    # To match regular expression for extracting labels"
   ]
  },
  {
   "cell_type": "code",
   "execution_count": 8,
   "metadata": {
    "colab": {
     "base_uri": "https://localhost:8080/"
    },
    "id": "dGnO-cpRDJN8",
    "outputId": "f5626daa-fd6f-4298-f90a-f9c6fa91f1fc"
   },
   "outputs": [
    {
     "name": "stdout",
     "output_type": "stream",
     "text": [
      "Tensorflow version:  2.4.0\n"
     ]
    }
   ],
   "source": [
    "import tensorflow as tf\n",
    "print(\"Tensorflow version: \", tf.__version__)"
   ]
  },
  {
   "cell_type": "code",
   "execution_count": 9,
   "metadata": {
    "id": "ger3Z8EyAve6"
   },
   "outputs": [],
   "source": [
    "class CustomSequence(tf.keras.utils.Sequence):  # It inherits from `tf.keras.utils.Sequence` class\n",
    "  def __init__(self, filenames, batch_size):  # Two input arguments to the class.\n",
    "        self.filenames= filenames\n",
    "        self.batch_size = batch_size\n",
    "\n",
    "  def __len__(self):\n",
    "        return int(np.ceil(len(self.filenames) / float(self.batch_size)))\n",
    "\n",
    "  def __getitem__(self, idx):  # idx is index that runs from 0 to length of sequence\n",
    "        batch_x = self.filenames[idx * self.batch_size:(idx + 1) * self.batch_size] # Select a chunk of file names\n",
    "        data = []\n",
    "        labels = []\n",
    "        label_classes = [\"Fault_1\", \"Fault_2\", \"Fault_3\", \"Fault_4\", \"Fault_5\"]\n",
    "\n",
    "        for file in batch_x:   # In this loop read the files in the chunk that was selected previously\n",
    "            temp = pd.read_csv(open(file,'r')) # Change this line to read any other type of file\n",
    "            data.append(temp.values.reshape(32,32,1)) # Convert column data to matrix like data with one channel\n",
    "            pattern = \"^\" + eval(\"file[14:21]\")      # Pattern extracted from file_name\n",
    "            for j in range(len(label_classes)):\n",
    "                if re.match(pattern, label_classes[j]): # Pattern is matched against different label_classes\n",
    "                    labels.append(j)  \n",
    "        data = np.asarray(data).reshape(-1,32,32,1)\n",
    "        labels = np.asarray(labels)\n",
    "        return data, labels"
   ]
  },
  {
   "cell_type": "markdown",
   "metadata": {
    "id": "yK12PNedkRtZ"
   },
   "source": [
    "To read any other file format, inside the `__getitem__` method change the line that reads files. This will enable us to read different file formats, be it `.txt` or `.npz` or any other. Preprocessing of data, different from what we have done in this blog, can be done within the `__getitem__` method.\n",
    "\n",
    "Now we will check whether the dataset works as intended or not. We will set batch_size to 10. This means that files in chunks of 10 will be read and processed. The list of files from which 10 are chosen can be an ordered file list or shuffled list. In case, the files are not shuffled, use np.random.shuffle(file_list) to shuffle files.\n",
    "\n",
    "In the demonstration, we will read files from an ordered list. This will help us check any errors in the code."
   ]
  },
  {
   "cell_type": "code",
   "execution_count": 10,
   "metadata": {
    "id": "LDDJdjM7DORY"
   },
   "outputs": [],
   "source": [
    "sequence = CustomSequence(filenames = files, batch_size = 10)"
   ]
  },
  {
   "cell_type": "markdown",
   "metadata": {
    "id": "qHe4umAekm6h"
   },
   "source": [
    "Check the length of the sequence."
   ]
  },
  {
   "cell_type": "code",
   "execution_count": 11,
   "metadata": {
    "colab": {
     "base_uri": "https://localhost:8080/"
    },
    "id": "o9a7XY9jESYu",
    "outputId": "57dac5a1-8984-4425-f09b-d362849d5520"
   },
   "outputs": [
    {
     "data": {
      "text/plain": [
       "50"
      ]
     },
     "execution_count": 11,
     "metadata": {},
     "output_type": "execute_result"
    }
   ],
   "source": [
    "sequence.__len__()"
   ]
  },
  {
   "cell_type": "markdown",
   "metadata": {
    "id": "k5FTx6lIkq_s"
   },
   "source": [
    "Another way to check the length of the sequence."
   ]
  },
  {
   "cell_type": "code",
   "execution_count": 12,
   "metadata": {
    "colab": {
     "base_uri": "https://localhost:8080/"
    },
    "id": "rtsRbc03N2O2",
    "outputId": "20535cbc-7383-4076-a4e2-a8fe0e1d8c8a"
   },
   "outputs": [
    {
     "data": {
      "text/plain": [
       "50"
      ]
     },
     "execution_count": 12,
     "metadata": {},
     "output_type": "execute_result"
    }
   ],
   "source": [
    "len(list(sequence))"
   ]
  },
  {
   "cell_type": "markdown",
   "metadata": {
    "id": "flBRMkPPLTtf"
   },
   "source": [
    "The sequence is not an infinite loop. Let's check again. This is yet another way to check the length of the sequence."
   ]
  },
  {
   "cell_type": "code",
   "execution_count": 13,
   "metadata": {
    "colab": {
     "base_uri": "https://localhost:8080/"
    },
    "id": "kmgjKhsZLC-H",
    "outputId": "c88c7025-5c6f-4253-e8da-afdbb6eca89b"
   },
   "outputs": [
    {
     "name": "stdout",
     "output_type": "stream",
     "text": [
      "50\n"
     ]
    }
   ],
   "source": [
    "counter = 0\n",
    "for _,_ in sequence:\n",
    "    counter = counter + 1\n",
    "print(counter)"
   ]
  },
  {
   "cell_type": "code",
   "execution_count": 14,
   "metadata": {
    "colab": {
     "base_uri": "https://localhost:8080/"
    },
    "id": "-Q7LT9cbIDbD",
    "outputId": "e79edf74-edda-478f-e59f-6df13b43741b"
   },
   "outputs": [
    {
     "name": "stdout",
     "output_type": "stream",
     "text": [
      "(10, 32, 32, 1) (10,)\n",
      "[0 0 0 0 0 0 0 0 0 0]\n",
      "(10, 32, 32, 1) (10,)\n",
      "[0 0 0 0 0 0 0 0 0 0]\n",
      "(10, 32, 32, 1) (10,)\n",
      "[0 0 0 0 0 0 0 0 0 0]\n",
      "(10, 32, 32, 1) (10,)\n",
      "[0 0 0 0 0 0 0 0 0 0]\n",
      "(10, 32, 32, 1) (10,)\n",
      "[0 0 0 0 0 0 0 0 0 0]\n",
      "(10, 32, 32, 1) (10,)\n",
      "[0 0 0 0 0 0 0 0 0 0]\n",
      "(10, 32, 32, 1) (10,)\n",
      "[0 0 0 0 0 0 0 0 0 0]\n"
     ]
    }
   ],
   "source": [
    "for num, (data, labels) in enumerate(sequence):\n",
    "    print(data.shape, labels.shape)\n",
    "    print(labels)\n",
    "    if num > 5: break"
   ]
  },
  {
   "cell_type": "markdown",
   "metadata": {
    "id": "-eJ2ir4_mFnN"
   },
   "source": [
    "Run the above cell multiple times to observe different labels. Label 1 appears only when all the files corresponding to “Fault_1” have been read. There are 100 files for “Fault_1” and we have set batch_size to 10. In the above cell we are iterating over the generator only 6 times. When number of iterations become greater than 10, we see label 1 and subsequently other labels. This will happen only if our initial file list is not shuffled. If the original list is shuffled, we will get random labels.\n",
    "\n",
    "We can pass this sequence directly to `model.fit()` to train our deep learning model. Now that sequence works fine, we will use it to train a simple deep learning model. The focus of this post is not on the model itself. So we will use a simplest model. If readers want a different model, they can do so by just replacing our model with theirs.\n",
    "\n",
    "## 3. Feed the chunks of data to a CNN model and train it for several epochs\n",
    "\n",
    "But before we build the model and train it, we will first move our files to different folders depending on their fault type. We do so as it will be convenient later to create a training, validation, and test set, keeping the balanced nature of the dataset intact."
   ]
  },
  {
   "cell_type": "code",
   "execution_count": 15,
   "metadata": {
    "id": "mleFK-RJm2O1"
   },
   "outputs": [],
   "source": [
    "import shutil"
   ]
  },
  {
   "cell_type": "markdown",
   "metadata": {
    "id": "00LsMH7jm65i"
   },
   "source": [
    "Create five different folders one each for a given fault type."
   ]
  },
  {
   "cell_type": "code",
   "execution_count": 16,
   "metadata": {
    "id": "1awylFLhm-t8"
   },
   "outputs": [],
   "source": [
    "fault_folders = [\"Fault_1\", \"Fault_2\", \"Fault_3\", \"Fault_4\", \"Fault_5\"]\n",
    "for folder_name in fault_folders:\n",
    "    os.mkdir(os.path.join(\"./random_data\", folder_name))"
   ]
  },
  {
   "cell_type": "markdown",
   "metadata": {
    "id": "QW-JjoWtnKvy"
   },
   "source": [
    "Move files into those folders."
   ]
  },
  {
   "cell_type": "code",
   "execution_count": 17,
   "metadata": {
    "id": "HFjD7qSTnMWL"
   },
   "outputs": [],
   "source": [
    "for file in files:\n",
    "    pattern = \"^\" + eval(\"file[14:21]\")\n",
    "    for j in range(len(fault_folders)):\n",
    "        if re.match(pattern, fault_folders[j]):\n",
    "            dest = os.path.join(\"./random_data/\",eval(\"fault_folders[j]\"))\n",
    "            shutil.move(file, dest)"
   ]
  },
  {
   "cell_type": "code",
   "execution_count": 18,
   "metadata": {
    "colab": {
     "base_uri": "https://localhost:8080/"
    },
    "id": "d110kAi3nRkt",
    "outputId": "31be7aff-fc7f-4997-f2d5-e00c8018f6e8"
   },
   "outputs": [
    {
     "data": {
      "text/plain": [
       "['./random_data\\\\Fault_1',\n",
       " './random_data\\\\Fault_2',\n",
       " './random_data\\\\Fault_3',\n",
       " './random_data\\\\Fault_4',\n",
       " './random_data\\\\Fault_5']"
      ]
     },
     "execution_count": 18,
     "metadata": {},
     "output_type": "execute_result"
    }
   ],
   "source": [
    "glob.glob(\"./random_data/*\")"
   ]
  },
  {
   "cell_type": "code",
   "execution_count": 19,
   "metadata": {
    "colab": {
     "base_uri": "https://localhost:8080/"
    },
    "id": "X1JFxO60nSZF",
    "outputId": "84a6a58d-0599-4efd-921d-5c77cdf96010"
   },
   "outputs": [
    {
     "data": {
      "text/plain": [
       "['./random_data/Fault_1\\\\Fault_1_001.csv',\n",
       " './random_data/Fault_1\\\\Fault_1_002.csv',\n",
       " './random_data/Fault_1\\\\Fault_1_003.csv',\n",
       " './random_data/Fault_1\\\\Fault_1_004.csv',\n",
       " './random_data/Fault_1\\\\Fault_1_005.csv',\n",
       " './random_data/Fault_1\\\\Fault_1_006.csv',\n",
       " './random_data/Fault_1\\\\Fault_1_007.csv',\n",
       " './random_data/Fault_1\\\\Fault_1_008.csv',\n",
       " './random_data/Fault_1\\\\Fault_1_009.csv',\n",
       " './random_data/Fault_1\\\\Fault_1_010.csv']"
      ]
     },
     "execution_count": 19,
     "metadata": {},
     "output_type": "execute_result"
    }
   ],
   "source": [
    "glob.glob(\"./random_data/Fault_1/*\")[:10] # Showing first 10 files of Fault_1 folder"
   ]
  },
  {
   "cell_type": "code",
   "execution_count": 20,
   "metadata": {
    "colab": {
     "base_uri": "https://localhost:8080/"
    },
    "id": "StLY9nEknYA8",
    "outputId": "c185c146-df20-44e9-e276-497d52f62619"
   },
   "outputs": [
    {
     "data": {
      "text/plain": [
       "['./random_data/Fault_3\\\\Fault_3_001.csv',\n",
       " './random_data/Fault_3\\\\Fault_3_002.csv',\n",
       " './random_data/Fault_3\\\\Fault_3_003.csv',\n",
       " './random_data/Fault_3\\\\Fault_3_004.csv',\n",
       " './random_data/Fault_3\\\\Fault_3_005.csv',\n",
       " './random_data/Fault_3\\\\Fault_3_006.csv',\n",
       " './random_data/Fault_3\\\\Fault_3_007.csv',\n",
       " './random_data/Fault_3\\\\Fault_3_008.csv',\n",
       " './random_data/Fault_3\\\\Fault_3_009.csv',\n",
       " './random_data/Fault_3\\\\Fault_3_010.csv']"
      ]
     },
     "execution_count": 20,
     "metadata": {},
     "output_type": "execute_result"
    }
   ],
   "source": [
    "glob.glob(\"./random_data/Fault_3/*\")[:10] # Showing first 10 files of Fault_3 folder"
   ]
  },
  {
   "cell_type": "markdown",
   "metadata": {
    "id": "NJuAmWmxna-t"
   },
   "source": [
    "Prepare the data for training set, validation set, and test_set. For each fault type, we will keep 70 files for training, 10 files for validation and 20 files for testing."
   ]
  },
  {
   "cell_type": "code",
   "execution_count": 21,
   "metadata": {
    "id": "S06BRHH3nfN8"
   },
   "outputs": [],
   "source": [
    "fault_1_files = glob.glob(\"./random_data/Fault_1/*\")\n",
    "fault_2_files = glob.glob(\"./random_data/Fault_2/*\")\n",
    "fault_3_files = glob.glob(\"./random_data/Fault_3/*\")\n",
    "fault_4_files = glob.glob(\"./random_data/Fault_4/*\")\n",
    "fault_5_files = glob.glob(\"./random_data/Fault_5/*\")"
   ]
  },
  {
   "cell_type": "code",
   "execution_count": 22,
   "metadata": {
    "id": "MqcPbDbMngRT"
   },
   "outputs": [],
   "source": [
    "from sklearn.model_selection import train_test_split"
   ]
  },
  {
   "cell_type": "code",
   "execution_count": 23,
   "metadata": {
    "id": "FUxulpjInjhd"
   },
   "outputs": [],
   "source": [
    "fault_1_train, fault_1_test = train_test_split(fault_1_files, test_size = 20, random_state = 5)\n",
    "fault_2_train, fault_2_test = train_test_split(fault_2_files, test_size = 20, random_state = 54)\n",
    "fault_3_train, fault_3_test = train_test_split(fault_3_files, test_size = 20, random_state = 543)\n",
    "fault_4_train, fault_4_test = train_test_split(fault_4_files, test_size = 20, random_state = 5432)\n",
    "fault_5_train, fault_5_test = train_test_split(fault_5_files, test_size = 20, random_state = 54321)"
   ]
  },
  {
   "cell_type": "code",
   "execution_count": 24,
   "metadata": {
    "id": "ifkQxWOenqdW"
   },
   "outputs": [],
   "source": [
    "fault_1_train, fault_1_val = train_test_split(fault_1_train, test_size = 10, random_state = 1)\n",
    "fault_2_train, fault_2_val = train_test_split(fault_2_train, test_size = 10, random_state = 12)\n",
    "fault_3_train, fault_3_val = train_test_split(fault_3_train, test_size = 10, random_state = 123)\n",
    "fault_4_train, fault_4_val = train_test_split(fault_4_train, test_size = 10, random_state = 1234)\n",
    "fault_5_train, fault_5_val = train_test_split(fault_5_train, test_size = 10, random_state = 12345)"
   ]
  },
  {
   "cell_type": "code",
   "execution_count": 25,
   "metadata": {
    "id": "3NITDSEFnurN"
   },
   "outputs": [],
   "source": [
    "train_file_names = fault_1_train + fault_2_train + fault_3_train + fault_4_train + fault_5_train\n",
    "validation_file_names = fault_1_val + fault_2_val + fault_3_val + fault_4_val + fault_5_val\n",
    "test_file_names = fault_1_test + fault_2_test + fault_3_test + fault_4_test + fault_5_test\n",
    "\n",
    "# Shuffle training files (We don't need to shuffle validation and test data)\n",
    "np.random.shuffle(train_file_names)"
   ]
  },
  {
   "cell_type": "code",
   "execution_count": 26,
   "metadata": {
    "colab": {
     "base_uri": "https://localhost:8080/"
    },
    "id": "MU-gob-YnyL_",
    "outputId": "47461950-89be-4981-a10f-a15a8156f1b2"
   },
   "outputs": [
    {
     "name": "stdout",
     "output_type": "stream",
     "text": [
      "Number of train_files: 350\n",
      "Number of validation_files: 50\n",
      "Number of test_files: 100\n"
     ]
    }
   ],
   "source": [
    "print(\"Number of train_files:\" ,len(train_file_names))\n",
    "print(\"Number of validation_files:\" ,len(validation_file_names))\n",
    "print(\"Number of test_files:\" ,len(test_file_names))"
   ]
  },
  {
   "cell_type": "markdown",
   "metadata": {
    "id": "K9xgkEo6n28q"
   },
   "source": [
    "Create sequences for training, validation, and test set."
   ]
  },
  {
   "cell_type": "code",
   "execution_count": 27,
   "metadata": {
    "id": "EQuLb9SyoINu"
   },
   "outputs": [],
   "source": [
    "batch_size = 10\n",
    "train_sequence = CustomSequence(filenames = train_file_names, batch_size = batch_size)\n",
    "val_sequence = CustomSequence(filenames = validation_file_names, batch_size = batch_size)\n",
    "test_sequence = CustomSequence(filenames = test_file_names, batch_size = batch_size)"
   ]
  },
  {
   "cell_type": "code",
   "execution_count": 28,
   "metadata": {
    "colab": {
     "base_uri": "https://localhost:8080/"
    },
    "id": "eTJjqLQtK0I-",
    "outputId": "a65c01e7-c8fe-40eb-f743-0973cd01b530"
   },
   "outputs": [
    {
     "name": "stdout",
     "output_type": "stream",
     "text": [
      "Model: \"sequential\"\n",
      "_________________________________________________________________\n",
      "Layer (type)                 Output Shape              Param #   \n",
      "=================================================================\n",
      "conv2d (Conv2D)              (None, 30, 30, 16)        160       \n",
      "_________________________________________________________________\n",
      "max_pooling2d (MaxPooling2D) (None, 15, 15, 16)        0         \n",
      "_________________________________________________________________\n",
      "conv2d_1 (Conv2D)            (None, 13, 13, 32)        4640      \n",
      "_________________________________________________________________\n",
      "max_pooling2d_1 (MaxPooling2 (None, 6, 6, 32)          0         \n",
      "_________________________________________________________________\n",
      "flatten (Flatten)            (None, 1152)              0         \n",
      "_________________________________________________________________\n",
      "dense (Dense)                (None, 16)                18448     \n",
      "_________________________________________________________________\n",
      "dense_1 (Dense)              (None, 5)                 85        \n",
      "=================================================================\n",
      "Total params: 23,333\n",
      "Trainable params: 23,333\n",
      "Non-trainable params: 0\n",
      "_________________________________________________________________\n"
     ]
    }
   ],
   "source": [
    "from tensorflow.keras import layers\n",
    "model = tf.keras.Sequential([\n",
    "    layers.Conv2D(16, 3, activation = \"relu\", input_shape = (32,32,1)),\n",
    "    layers.MaxPool2D(2),\n",
    "    layers.Conv2D(32, 3, activation = \"relu\"),\n",
    "    layers.MaxPool2D(2),\n",
    "    layers.Flatten(),\n",
    "    layers.Dense(16, activation = \"relu\"),\n",
    "    layers.Dense(5, activation = \"softmax\")\n",
    "])\n",
    "model.summary()"
   ]
  },
  {
   "cell_type": "markdown",
   "metadata": {
    "id": "7QZQPOGbq0pf"
   },
   "source": [
    "Compile the model."
   ]
  },
  {
   "cell_type": "code",
   "execution_count": 29,
   "metadata": {
    "id": "u0VFckJmMJiq"
   },
   "outputs": [],
   "source": [
    "model.compile(loss = \"sparse_categorical_crossentropy\", optimizer = \"adam\", metrics = [\"accuracy\"])"
   ]
  },
  {
   "cell_type": "markdown",
   "metadata": {
    "id": "3pSspNPyq44v"
   },
   "source": [
    "Fit the model using sequence."
   ]
  },
  {
   "cell_type": "code",
   "execution_count": 30,
   "metadata": {
    "colab": {
     "base_uri": "https://localhost:8080/"
    },
    "id": "RLFnRLqdq9GG",
    "outputId": "e182ab7c-6adc-4e6c-ed0c-cb05599dcaab"
   },
   "outputs": [
    {
     "name": "stdout",
     "output_type": "stream",
     "text": [
      "Epoch 1/10\n",
      "35/35 [==============================] - 2s 38ms/step - loss: 1.6305 - accuracy: 0.1788 - val_loss: 1.6095 - val_accuracy: 0.1800\n",
      "Epoch 2/10\n",
      "35/35 [==============================] - 1s 17ms/step - loss: 1.6086 - accuracy: 0.2212 - val_loss: 1.6093 - val_accuracy: 0.2200\n",
      "Epoch 3/10\n",
      "35/35 [==============================] - 1s 16ms/step - loss: 1.6089 - accuracy: 0.2057 - val_loss: 1.6094 - val_accuracy: 0.2200\n",
      "Epoch 4/10\n",
      "35/35 [==============================] - 1s 17ms/step - loss: 1.6092 - accuracy: 0.1987 - val_loss: 1.6100 - val_accuracy: 0.2000\n",
      "Epoch 5/10\n",
      "35/35 [==============================] - 1s 17ms/step - loss: 1.6105 - accuracy: 0.1173 - val_loss: 1.6095 - val_accuracy: 0.2000\n",
      "Epoch 6/10\n",
      "35/35 [==============================] - 1s 17ms/step - loss: 1.6069 - accuracy: 0.2062 - val_loss: 1.6098 - val_accuracy: 0.2000\n",
      "Epoch 7/10\n",
      "35/35 [==============================] - 1s 17ms/step - loss: 1.6070 - accuracy: 0.2332 - val_loss: 1.6097 - val_accuracy: 0.2200\n",
      "Epoch 8/10\n",
      "35/35 [==============================] - 1s 17ms/step - loss: 1.6067 - accuracy: 0.2255 - val_loss: 1.6100 - val_accuracy: 0.2200\n",
      "Epoch 9/10\n",
      "35/35 [==============================] - 1s 19ms/step - loss: 1.6044 - accuracy: 0.2510 - val_loss: 1.6090 - val_accuracy: 0.2400\n",
      "Epoch 10/10\n",
      "35/35 [==============================] - 1s 20ms/step - loss: 1.5998 - accuracy: 0.3180 - val_loss: 1.6094 - val_accuracy: 0.2400\n"
     ]
    },
    {
     "data": {
      "text/plain": [
       "<tensorflow.python.keras.callbacks.History at 0x24f86841b80>"
      ]
     },
     "execution_count": 30,
     "metadata": {},
     "output_type": "execute_result"
    }
   ],
   "source": [
    "model.fit(train_sequence, validation_data = val_sequence, epochs = 10)"
   ]
  },
  {
   "cell_type": "code",
   "execution_count": 31,
   "metadata": {
    "colab": {
     "base_uri": "https://localhost:8080/"
    },
    "id": "25YZrCDUr9ry",
    "outputId": "98827119-2995-4f4b-fafc-4ae2bfbb7d1e"
   },
   "outputs": [
    {
     "name": "stdout",
     "output_type": "stream",
     "text": [
      "10/10 [==============================] - 0s 14ms/step - loss: 1.6097 - accuracy: 0.2000\n"
     ]
    }
   ],
   "source": [
    "test_loss, test_accuracy = model.evaluate(test_sequence, steps = 10)"
   ]
  },
  {
   "cell_type": "code",
   "execution_count": 32,
   "metadata": {
    "colab": {
     "base_uri": "https://localhost:8080/"
    },
    "id": "IJhCCu8SsE4q",
    "outputId": "8353da3b-9fde-4b95-de3b-387637d5485a"
   },
   "outputs": [
    {
     "name": "stdout",
     "output_type": "stream",
     "text": [
      "Test loss:  1.609706997871399\n",
      "Test accuracy: 0.20000000298023224\n"
     ]
    }
   ],
   "source": [
    "print(\"Test loss: \", test_loss)\n",
    "print(\"Test accuracy:\", test_accuracy)"
   ]
  },
  {
   "cell_type": "markdown",
   "metadata": {
    "id": "UURLtWhUsFvT"
   },
   "source": [
    "As expected, model performs terribly."
   ]
  },
  {
   "cell_type": "markdown",
   "metadata": {
    "id": "iPsPZ8kic7wc"
   },
   "source": [
    "## 4. How to make predictions?\n",
    "\n",
    "Until now, we have evaluated our model on a kept out test set. For our test set, both data and labels were known. So we evaluated its performance. But oftentimes, for test set, we don’t have access to true labels. Rather, we have to make predictions on the data available. This is the case in online competitions where we have to submit our predictions on a test set for which we don’t know the labels. We will call this set (without any labels) the prediction set. This naming convention is arbitrary but we will stick with it.\n",
    "\n",
    "If the whole of our prediction set fits into memory, we can just make prediction on this data by calling `model.evaluate()` and then use np.argmax() to obtain predicted class labels. Otherwise, we can read files in prediction set in chunks, make predictions on the chunks and finally append our result.\n",
    "\n",
    "Yet another pedantic way of doing this is to write a separate `Sequence` to read files from the prediction set in chunks and make predictions on it. We will show how this approach works. As we don’t have a prediction set yet, we will first create some files and save it to the prediction set."
   ]
  },
  {
   "cell_type": "code",
   "execution_count": 33,
   "metadata": {
    "id": "KCEjJyj-nSwf"
   },
   "outputs": [],
   "source": [
    "def create_prediction_set(num_files = 20):\n",
    "    os.mkdir(\"./random_data/prediction_set\")\n",
    "    for i in range(num_files):\n",
    "        data = np.random.randn(1024,)\n",
    "        file_name = \"./random_data/prediction_set/\"  + \"file_\" + \"{0:03}\".format(i+1) + \".csv\" # This creates file_name\n",
    "        np.savetxt(eval(\"file_name\"), data, delimiter = \",\", header = \"V1\", comments = \"\")\n",
    "    print(str(eval(\"num_files\")) + \" \"+ \" files created in prediction set.\")"
   ]
  },
  {
   "cell_type": "markdown",
   "metadata": {
    "id": "h9jwaREmnmy2"
   },
   "source": [
    "Create some files for prediction set."
   ]
  },
  {
   "cell_type": "code",
   "execution_count": 34,
   "metadata": {
    "colab": {
     "base_uri": "https://localhost:8080/"
    },
    "id": "Prwf9950nbFg",
    "outputId": "a4a1432a-f267-4e3e-8079-9383ecfc275c"
   },
   "outputs": [
    {
     "name": "stdout",
     "output_type": "stream",
     "text": [
      "55  files created in prediction set.\n"
     ]
    }
   ],
   "source": [
    "create_prediction_set(num_files = 55)"
   ]
  },
  {
   "cell_type": "code",
   "execution_count": 35,
   "metadata": {
    "colab": {
     "base_uri": "https://localhost:8080/"
    },
    "id": "ycocwr8TnwiI",
    "outputId": "1338e2d4-0b40-4e34-e349-2e826dcafa7f"
   },
   "outputs": [
    {
     "name": "stdout",
     "output_type": "stream",
     "text": [
      "Total number of files:  55\n",
      "Showing first 10 files...\n"
     ]
    },
    {
     "data": {
      "text/plain": [
       "['./random_data/prediction_set\\\\file_001.csv',\n",
       " './random_data/prediction_set\\\\file_002.csv',\n",
       " './random_data/prediction_set\\\\file_003.csv',\n",
       " './random_data/prediction_set\\\\file_004.csv',\n",
       " './random_data/prediction_set\\\\file_005.csv',\n",
       " './random_data/prediction_set\\\\file_006.csv',\n",
       " './random_data/prediction_set\\\\file_007.csv',\n",
       " './random_data/prediction_set\\\\file_008.csv',\n",
       " './random_data/prediction_set\\\\file_009.csv',\n",
       " './random_data/prediction_set\\\\file_010.csv']"
      ]
     },
     "execution_count": 35,
     "metadata": {},
     "output_type": "execute_result"
    }
   ],
   "source": [
    "prediction_files = glob.glob(\"./random_data/prediction_set/*\")\n",
    "print(\"Total number of files: \", len(prediction_files))\n",
    "print(\"Showing first 10 files...\")\n",
    "prediction_files[:10]"
   ]
  },
  {
   "cell_type": "markdown",
   "metadata": {
    "id": "7kMkmiX9nxdH"
   },
   "source": [
    "The prediction sequence will be slightly different from our previous custom dataset class. We only need to return data in this case."
   ]
  },
  {
   "cell_type": "code",
   "execution_count": 36,
   "metadata": {
    "id": "6W1imhaXoKiw"
   },
   "outputs": [],
   "source": [
    "class PredictionSequence(tf.keras.utils.Sequence):\n",
    "  def __init__(self, filenames, batch_size):\n",
    "        self.filenames= filenames\n",
    "        self.batch_size = batch_size\n",
    "  def __len__(self):\n",
    "        return int(np.ceil(len(self.filenames) / float(self.batch_size)))\n",
    "  def __getitem__(self, idx):\n",
    "        batch_x = self.filenames[idx * self.batch_size:(idx + 1) * self.batch_size]\n",
    "        data = []\n",
    "        labels = []\n",
    "        label_classes = [\"Fault_1\", \"Fault_2\", \"Fault_3\", \"Fault_4\", \"Fault_5\"]\n",
    "        for file in batch_x:\n",
    "            temp = pd.read_csv(open(file,'r')) \n",
    "            data.append(temp.values.reshape(32,32,1)) \n",
    "        data = np.asarray(data).reshape(-1,32,32,1)\n",
    "        return data"
   ]
  },
  {
   "cell_type": "markdown",
   "metadata": {
    "id": "JtvL8pdKowb3"
   },
   "source": [
    "Check whether the generator sequence works or not. First we will check its length."
   ]
  },
  {
   "cell_type": "code",
   "execution_count": 37,
   "metadata": {
    "colab": {
     "base_uri": "https://localhost:8080/"
    },
    "id": "mH4M-d2ro6oP",
    "outputId": "3f1f341d-e0ae-4693-cf6e-350ad4c5c8a7"
   },
   "outputs": [
    {
     "name": "stdout",
     "output_type": "stream",
     "text": [
      "6\n"
     ]
    }
   ],
   "source": [
    "prediction_seq = PredictionSequence(filenames = prediction_files, batch_size=10)\n",
    "print(prediction_seq.__len__())"
   ]
  },
  {
   "cell_type": "code",
   "execution_count": 38,
   "metadata": {
    "colab": {
     "base_uri": "https://localhost:8080/"
    },
    "id": "1Bmk7dvJpVBO",
    "outputId": "c3aba2d6-d46c-4bfe-ef56-8eb6b6d70826"
   },
   "outputs": [
    {
     "name": "stdout",
     "output_type": "stream",
     "text": [
      "(10, 32, 32, 1)\n",
      "(10, 32, 32, 1)\n",
      "(10, 32, 32, 1)\n",
      "(10, 32, 32, 1)\n",
      "(10, 32, 32, 1)\n",
      "(5, 32, 32, 1)\n"
     ]
    }
   ],
   "source": [
    "for data in prediction_seq:\n",
    "    print(data.shape)"
   ]
  },
  {
   "cell_type": "code",
   "execution_count": 39,
   "metadata": {
    "id": "FsfU4s1Fpba-"
   },
   "outputs": [],
   "source": [
    "predictions = model.predict(prediction_seq)"
   ]
  },
  {
   "cell_type": "code",
   "execution_count": 40,
   "metadata": {
    "colab": {
     "base_uri": "https://localhost:8080/"
    },
    "id": "4WBHjFm7qHoK",
    "outputId": "a99c60e3-1544-443c-e503-2af7207552c2"
   },
   "outputs": [
    {
     "name": "stdout",
     "output_type": "stream",
     "text": [
      "Shape of prediction array:  (55, 5)\n"
     ]
    },
    {
     "data": {
      "text/plain": [
       "array([[0.1673972 , 0.24178548, 0.21493195, 0.14968236, 0.22620301],\n",
       "       [0.17025462, 0.23611873, 0.21584883, 0.15583281, 0.22194503],\n",
       "       [0.16997598, 0.23636353, 0.2160589 , 0.15556051, 0.22204101],\n",
       "       [0.17808239, 0.23929793, 0.20060928, 0.15217312, 0.22983731],\n",
       "       [0.16749388, 0.24041025, 0.21612632, 0.15114665, 0.22482291],\n",
       "       [0.16648369, 0.24155213, 0.21663304, 0.14991023, 0.22542089],\n",
       "       [0.16956756, 0.24306948, 0.21019061, 0.14832966, 0.2288426 ],\n",
       "       [0.16461462, 0.23314428, 0.22771336, 0.15880677, 0.21572094],\n",
       "       [0.16099085, 0.24614859, 0.22101355, 0.14492905, 0.22691788],\n",
       "       [0.16029194, 0.23579895, 0.2323411 , 0.15559815, 0.21596995],\n",
       "       [0.15644614, 0.24322459, 0.23156258, 0.14755438, 0.22121225],\n",
       "       [0.16045825, 0.23727809, 0.23065342, 0.1540593 , 0.2175509 ],\n",
       "       [0.18453611, 0.2363899 , 0.19367108, 0.1549771 , 0.23042585],\n",
       "       [0.16539477, 0.23163731, 0.22783667, 0.16050129, 0.21463   ],\n",
       "       [0.16019677, 0.2387398 , 0.22967993, 0.15250796, 0.21887548],\n",
       "       [0.164585  , 0.241522  , 0.2197408 , 0.14987943, 0.22427279],\n",
       "       [0.1423634 , 0.2492775 , 0.25001773, 0.13962528, 0.21871613],\n",
       "       [0.1685916 , 0.23507524, 0.21948369, 0.15692794, 0.21992151],\n",
       "       [0.1899035 , 0.23893598, 0.18335396, 0.15139207, 0.23641457],\n",
       "       [0.16065492, 0.2413149 , 0.2264044 , 0.14987133, 0.22175437],\n",
       "       [0.17529766, 0.24322936, 0.20103565, 0.14799424, 0.23244311],\n",
       "       [0.16809338, 0.24051304, 0.2150641 , 0.15104856, 0.22528093],\n",
       "       [0.17161693, 0.23075785, 0.21867743, 0.16179037, 0.21715748],\n",
       "       [0.16884513, 0.23852658, 0.21579023, 0.15319362, 0.22364433],\n",
       "       [0.17458686, 0.2428582 , 0.20250764, 0.14843197, 0.23161522],\n",
       "       [0.1646341 , 0.2297526 , 0.23079726, 0.16249931, 0.21231675],\n",
       "       [0.15729222, 0.23233345, 0.24062563, 0.15889668, 0.210852  ],\n",
       "       [0.14776482, 0.23704691, 0.2526417 , 0.15245639, 0.21009028],\n",
       "       [0.16680573, 0.23577859, 0.22168827, 0.15609236, 0.21963505],\n",
       "       [0.17260087, 0.24030833, 0.20811835, 0.15126604, 0.22770639],\n",
       "       [0.13550763, 0.24409433, 0.26797664, 0.1427981 , 0.20962337],\n",
       "       [0.15663186, 0.23662733, 0.23769669, 0.15432158, 0.21472257],\n",
       "       [0.1549199 , 0.23210286, 0.24487424, 0.15878738, 0.20931558],\n",
       "       [0.1547824 , 0.24484529, 0.23276137, 0.14575545, 0.22185549],\n",
       "       [0.1587394 , 0.23657197, 0.23419838, 0.15462619, 0.21586415],\n",
       "       [0.16478752, 0.24151964, 0.21941346, 0.14988995, 0.22438939],\n",
       "       [0.16816008, 0.23736185, 0.21800458, 0.15443383, 0.22203967],\n",
       "       [0.16076393, 0.24149327, 0.22604792, 0.14969479, 0.22200012],\n",
       "       [0.17530249, 0.23095778, 0.21273129, 0.16161412, 0.21939443],\n",
       "       [0.15688972, 0.2358581 , 0.23799387, 0.15515216, 0.21410616],\n",
       "       [0.16600947, 0.23382592, 0.22481105, 0.15816282, 0.21719065],\n",
       "       [0.14932008, 0.24364983, 0.24340245, 0.14621353, 0.21741422],\n",
       "       [0.17864552, 0.22986974, 0.20857714, 0.16281399, 0.22009356],\n",
       "       [0.1659024 , 0.22970615, 0.2287755 , 0.1626553 , 0.21296065],\n",
       "       [0.17181188, 0.24148299, 0.2082077 , 0.15000671, 0.22849073],\n",
       "       [0.17638905, 0.23389527, 0.20834343, 0.15828574, 0.22308654],\n",
       "       [0.15240492, 0.24294852, 0.23874305, 0.14735675, 0.21854681],\n",
       "       [0.18557529, 0.2407352 , 0.18793964, 0.14989276, 0.23585702],\n",
       "       [0.13773988, 0.2396555 , 0.2682667 , 0.14754502, 0.20679286],\n",
       "       [0.15072912, 0.24018031, 0.2443891 , 0.1498653 , 0.21483612],\n",
       "       [0.15102535, 0.24379413, 0.24028388, 0.14632827, 0.2185683 ],\n",
       "       [0.17316325, 0.23940398, 0.20811678, 0.1522415 , 0.22707452],\n",
       "       [0.14266515, 0.24046816, 0.25842705, 0.14801402, 0.21042569],\n",
       "       [0.16398384, 0.23465969, 0.22732665, 0.1571278 , 0.21690205],\n",
       "       [0.16170275, 0.23673837, 0.22910713, 0.15473619, 0.2177155 ]],\n",
       "      dtype=float32)"
      ]
     },
     "execution_count": 40,
     "metadata": {},
     "output_type": "execute_result"
    }
   ],
   "source": [
    "print(\"Shape of prediction array: \", predictions.shape)\n",
    "predictions"
   ]
  },
  {
   "cell_type": "markdown",
   "metadata": {
    "id": "4R09DooVtQwG"
   },
   "source": [
    "Outputs of prediction are 5 dimensional vector. This is so because we have used 5 neurons in the output layer and our activation function is softmax. The 5 dimensional output vector for an input add to 1. So it can be interpreted as probability. Thus we should classify the input to a class, for which prediction probability is maximum. To get the class corresponding to maximum probability, we can use np.argmax() command."
   ]
  },
  {
   "cell_type": "code",
   "execution_count": 41,
   "metadata": {
    "colab": {
     "base_uri": "https://localhost:8080/"
    },
    "id": "m2E1zLPNtSHM",
    "outputId": "06b1c33f-ecc9-4959-c4f3-477744bbf26b"
   },
   "outputs": [
    {
     "data": {
      "text/plain": [
       "array([1, 1, 1, 1, 1, 1, 1, 1, 1, 1, 1, 1, 1, 1, 1, 1, 2, 1, 1, 1, 1, 1,\n",
       "       1, 1, 1, 2, 2, 2, 1, 1, 2, 2, 2, 1, 1, 1, 1, 1, 1, 2, 1, 1, 1, 1,\n",
       "       1, 1, 1, 1, 2, 2, 1, 1, 2, 1, 1], dtype=int64)"
      ]
     },
     "execution_count": 41,
     "metadata": {},
     "output_type": "execute_result"
    }
   ],
   "source": [
    "np.argmax(predictions, axis = 1)"
   ]
  },
  {
   "cell_type": "markdown",
   "metadata": {
    "id": "ubG6b7eNqIfM"
   },
   "source": [
    "Remember that our data are randomly generated. So we should not be surprised by this result.\n",
    "\n",
    "This brings us to the end of the blog. As we had planned in the beginning, we have created random data files, a custom sequence, trained a model using that sequence, and made predictions on new data. The above code can be tweaked slightly to read any type of files other than .csv. And now we can train our model without worrying about the data size. Whether the data size is 10GB or 750GB, our approach will work for both.\n",
    "\n",
    "## Is this method efficient? Will it work at a reasobable speed if we have many complex preprocessing steps to do before training the model?\n",
    "\n",
    "In this blog, we have mentioned nothing about the ways to speed up the data loading process. Tensorflow prefers sequences over generators as sequences are a safer way to do multiprocessing ([see this](https://www.tensorflow.org/api_docs/python/tf/keras/utils/Sequence)). Sequences can be passed to `model.fit()` along with parameters like `max_queue_size`, `workers`, and `use_multiprocessing` ([see this](https://www.tensorflow.org/api_docs/python/tf/keras/Model#fit)). To efficiently load data, we have to choose suitable values for `max_queue_size`, `workers`, and `use_multiprocessing`. The next obvious question is: How do we choose suitable values for the parameters for our particular system architecture? The best approach, that this author can suggest, is to try different values and choose the ones that work best for your system architecture. Even when we are using complex preprocessing steps, suitable choice of above parameters will, hopefully, speedup our training process.\n",
    "\n",
    "As a final note, I want to stress that, this is not the only approach to do the task. As I have mentioned previously, in `Tensorflow`, you can do the same thing in several different ways. The approach I have chosen seemed natural to me. I have neither strived for efficiency nor elegance. If readers have any better idea, I would be happy to know of it.\n",
    "\n",
    "I hope, this blog will be of help to readers. Please bring any errors or omissions to my notice."
   ]
  }
 ],
 "metadata": {
  "accelerator": "GPU",
  "colab": {
   "collapsed_sections": [],
   "name": "Reading_mulitple_files_using_sequence.ipynb",
   "provenance": []
  },
  "kernelspec": {
   "display_name": "tf_24_env_cpu",
   "language": "python",
   "name": "tf_24_env_cpu"
  },
  "language_info": {
   "codemirror_mode": {
    "name": "ipython",
    "version": 3
   },
   "file_extension": ".py",
   "mimetype": "text/x-python",
   "name": "python",
   "nbconvert_exporter": "python",
   "pygments_lexer": "ipython3",
   "version": "3.8.5"
  }
 },
 "nbformat": 4,
 "nbformat_minor": 1
}
